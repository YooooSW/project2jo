{
 "cells": [
  {
   "cell_type": "code",
   "execution_count": 1,
   "metadata": {},
   "outputs": [],
   "source": [
    "import matplotlib.pyplot as plt\n",
    "import seaborn as sns\n",
    "import pandas as pd\n",
    "import numpy as np\n",
    "\n",
    "import warnings\n",
    "warnings.filterwarnings('ignore')"
   ]
  },
  {
   "cell_type": "code",
   "execution_count": 2,
   "metadata": {},
   "outputs": [
    {
     "data": {
      "text/html": [
       "<div>\n",
       "<style scoped>\n",
       "    .dataframe tbody tr th:only-of-type {\n",
       "        vertical-align: middle;\n",
       "    }\n",
       "\n",
       "    .dataframe tbody tr th {\n",
       "        vertical-align: top;\n",
       "    }\n",
       "\n",
       "    .dataframe thead th {\n",
       "        text-align: right;\n",
       "    }\n",
       "</style>\n",
       "<table border=\"1\" class=\"dataframe\">\n",
       "  <thead>\n",
       "    <tr style=\"text-align: right;\">\n",
       "      <th></th>\n",
       "      <th>본부</th>\n",
       "      <th>사업소</th>\n",
       "      <th>충전소명</th>\n",
       "      <th>충전기</th>\n",
       "      <th>충전기ID</th>\n",
       "      <th>주소</th>\n",
       "      <th>충전기구분</th>\n",
       "      <th>충전용량</th>\n",
       "      <th>충전량</th>\n",
       "      <th>충전시간</th>\n",
       "      <th>충전분</th>\n",
       "      <th>충전종료일자</th>\n",
       "      <th>충전시작시각</th>\n",
       "      <th>충전종료시각</th>\n",
       "    </tr>\n",
       "  </thead>\n",
       "  <tbody>\n",
       "    <tr>\n",
       "      <th>0</th>\n",
       "      <td>인천</td>\n",
       "      <td>김포</td>\n",
       "      <td>운양동 전원마을월드2단지</td>\n",
       "      <td>급속01</td>\n",
       "      <td>1547</td>\n",
       "      <td>경기도 김포시 전원로 44</td>\n",
       "      <td>급속</td>\n",
       "      <td>50.0</td>\n",
       "      <td>28.92</td>\n",
       "      <td>0</td>\n",
       "      <td>49</td>\n",
       "      <td>2021-01-01</td>\n",
       "      <td>2021-01-01 21:34:13</td>\n",
       "      <td>2021-01-01 22:23:44</td>\n",
       "    </tr>\n",
       "    <tr>\n",
       "      <th>1</th>\n",
       "      <td>인천</td>\n",
       "      <td>시흥</td>\n",
       "      <td>LH퍼스트리움 아파트</td>\n",
       "      <td>완속03</td>\n",
       "      <td>3143</td>\n",
       "      <td>경기도 시흥시 동서로 1068 (조남동)</td>\n",
       "      <td>완속</td>\n",
       "      <td>7.0</td>\n",
       "      <td>12.51</td>\n",
       "      <td>3</td>\n",
       "      <td>55</td>\n",
       "      <td>2021-01-01</td>\n",
       "      <td>2021-01-01 18:28:55</td>\n",
       "      <td>2021-01-01 22:24:38</td>\n",
       "    </tr>\n",
       "    <tr>\n",
       "      <th>2</th>\n",
       "      <td>남서울</td>\n",
       "      <td>강남</td>\n",
       "      <td>LH강남힐스테이트</td>\n",
       "      <td>급속01</td>\n",
       "      <td>6452</td>\n",
       "      <td>서울특별시 강남구 자곡동 자곡로3길 21</td>\n",
       "      <td>급속</td>\n",
       "      <td>50.0</td>\n",
       "      <td>26.37</td>\n",
       "      <td>0</td>\n",
       "      <td>38</td>\n",
       "      <td>2021-01-01</td>\n",
       "      <td>2021-01-01 21:46:05</td>\n",
       "      <td>2021-01-01 22:24:33</td>\n",
       "    </tr>\n",
       "    <tr>\n",
       "      <th>3</th>\n",
       "      <td>강원</td>\n",
       "      <td>강릉</td>\n",
       "      <td>알펜시아리조트</td>\n",
       "      <td>급속02</td>\n",
       "      <td>6681</td>\n",
       "      <td>강원도 평창군 대관령면 솔봉로 325</td>\n",
       "      <td>급속</td>\n",
       "      <td>50.0</td>\n",
       "      <td>39.12</td>\n",
       "      <td>0</td>\n",
       "      <td>53</td>\n",
       "      <td>2021-01-01</td>\n",
       "      <td>2021-01-01 16:12:09</td>\n",
       "      <td>2021-01-01 17:05:27</td>\n",
       "    </tr>\n",
       "    <tr>\n",
       "      <th>4</th>\n",
       "      <td>대전세종충남</td>\n",
       "      <td>서대전</td>\n",
       "      <td>대전시립연정국악원 주차장</td>\n",
       "      <td>급속02</td>\n",
       "      <td>6175</td>\n",
       "      <td>대전광역시 서구 둔산대로 181</td>\n",
       "      <td>급속</td>\n",
       "      <td>50.0</td>\n",
       "      <td>30.42</td>\n",
       "      <td>0</td>\n",
       "      <td>42</td>\n",
       "      <td>2021-01-01</td>\n",
       "      <td>2021-01-01 23:14:50</td>\n",
       "      <td>2021-01-01 23:57:44</td>\n",
       "    </tr>\n",
       "    <tr>\n",
       "      <th>...</th>\n",
       "      <td>...</td>\n",
       "      <td>...</td>\n",
       "      <td>...</td>\n",
       "      <td>...</td>\n",
       "      <td>...</td>\n",
       "      <td>...</td>\n",
       "      <td>...</td>\n",
       "      <td>...</td>\n",
       "      <td>...</td>\n",
       "      <td>...</td>\n",
       "      <td>...</td>\n",
       "      <td>...</td>\n",
       "      <td>...</td>\n",
       "      <td>...</td>\n",
       "    </tr>\n",
       "    <tr>\n",
       "      <th>2097145</th>\n",
       "      <td>인천</td>\n",
       "      <td>부천</td>\n",
       "      <td>행복한마을 서해아파트</td>\n",
       "      <td>완속02</td>\n",
       "      <td>8628</td>\n",
       "      <td>경기도 부천시 상동로 57 (상동, 행복한마을 서해그랑블)</td>\n",
       "      <td>완속</td>\n",
       "      <td>7.0</td>\n",
       "      <td>9.59</td>\n",
       "      <td>2</td>\n",
       "      <td>4</td>\n",
       "      <td>2021-10-17</td>\n",
       "      <td>2021-10-17 18:37:16</td>\n",
       "      <td>2021-10-17 20:41:57</td>\n",
       "    </tr>\n",
       "    <tr>\n",
       "      <th>2097146</th>\n",
       "      <td>제주</td>\n",
       "      <td>서귀포</td>\n",
       "      <td>서귀포지사</td>\n",
       "      <td>급속02</td>\n",
       "      <td>8819</td>\n",
       "      <td>제주특별자치도 서귀포시 신중로 56</td>\n",
       "      <td>급속</td>\n",
       "      <td>50.0</td>\n",
       "      <td>67.99</td>\n",
       "      <td>2</td>\n",
       "      <td>18</td>\n",
       "      <td>2021-10-17</td>\n",
       "      <td>2021-10-17 18:24:50</td>\n",
       "      <td>2021-10-17 20:43:29</td>\n",
       "    </tr>\n",
       "    <tr>\n",
       "      <th>2097147</th>\n",
       "      <td>경기북부</td>\n",
       "      <td>고양</td>\n",
       "      <td>홈플러스 고양터미널점</td>\n",
       "      <td>급속01</td>\n",
       "      <td>5886</td>\n",
       "      <td>경기도 고양시 일산동구 중앙로 1036</td>\n",
       "      <td>급속</td>\n",
       "      <td>50.0</td>\n",
       "      <td>0.17</td>\n",
       "      <td>0</td>\n",
       "      <td>1</td>\n",
       "      <td>2021-10-17</td>\n",
       "      <td>2021-10-17 13:25:21</td>\n",
       "      <td>2021-10-17 13:26:55</td>\n",
       "    </tr>\n",
       "    <tr>\n",
       "      <th>2097148</th>\n",
       "      <td>강원</td>\n",
       "      <td>강원직할</td>\n",
       "      <td>롯데캐슬 스카이클래스</td>\n",
       "      <td>완속03</td>\n",
       "      <td>6163</td>\n",
       "      <td>강원도 춘천시 방송길 70</td>\n",
       "      <td>완속</td>\n",
       "      <td>7.0</td>\n",
       "      <td>5.90</td>\n",
       "      <td>1</td>\n",
       "      <td>47</td>\n",
       "      <td>2021-10-17</td>\n",
       "      <td>2021-10-17 11:38:47</td>\n",
       "      <td>2021-10-17 13:26:19</td>\n",
       "    </tr>\n",
       "    <tr>\n",
       "      <th>2097149</th>\n",
       "      <td>전북</td>\n",
       "      <td>군산</td>\n",
       "      <td>지곡동현대엠코타운</td>\n",
       "      <td>완속03</td>\n",
       "      <td>9195</td>\n",
       "      <td>전라북도 군산시 계산로 90 (지곡동, 지곡동 엠코타운)</td>\n",
       "      <td>완속</td>\n",
       "      <td>7.0</td>\n",
       "      <td>17.50</td>\n",
       "      <td>3</td>\n",
       "      <td>4</td>\n",
       "      <td>2021-10-17</td>\n",
       "      <td>2021-10-17 10:21:02</td>\n",
       "      <td>2021-10-17 13:25:56</td>\n",
       "    </tr>\n",
       "  </tbody>\n",
       "</table>\n",
       "<p>2097150 rows × 14 columns</p>\n",
       "</div>"
      ],
      "text/plain": [
       "             본부   사업소           충전소명   충전기  충전기ID  \\\n",
       "0            인천    김포  운양동 전원마을월드2단지  급속01   1547   \n",
       "1            인천    시흥    LH퍼스트리움 아파트  완속03   3143   \n",
       "2           남서울    강남      LH강남힐스테이트  급속01   6452   \n",
       "3            강원    강릉        알펜시아리조트  급속02   6681   \n",
       "4        대전세종충남   서대전  대전시립연정국악원 주차장  급속02   6175   \n",
       "...         ...   ...            ...   ...    ...   \n",
       "2097145      인천    부천    행복한마을 서해아파트  완속02   8628   \n",
       "2097146      제주   서귀포          서귀포지사  급속02   8819   \n",
       "2097147    경기북부    고양    홈플러스 고양터미널점  급속01   5886   \n",
       "2097148      강원  강원직할    롯데캐슬 스카이클래스  완속03   6163   \n",
       "2097149      전북    군산      지곡동현대엠코타운  완속03   9195   \n",
       "\n",
       "                                       주소 충전기구분  충전용량    충전량  충전시간  충전분  \\\n",
       "0                          경기도 김포시 전원로 44    급속  50.0  28.92     0   49   \n",
       "1                  경기도 시흥시 동서로 1068 (조남동)    완속   7.0  12.51     3   55   \n",
       "2                  서울특별시 강남구 자곡동 자곡로3길 21    급속  50.0  26.37     0   38   \n",
       "3                    강원도 평창군 대관령면 솔봉로 325    급속  50.0  39.12     0   53   \n",
       "4                       대전광역시 서구 둔산대로 181    급속  50.0  30.42     0   42   \n",
       "...                                   ...   ...   ...    ...   ...  ...   \n",
       "2097145  경기도 부천시 상동로 57 (상동, 행복한마을 서해그랑블)    완속   7.0   9.59     2    4   \n",
       "2097146               제주특별자치도 서귀포시 신중로 56    급속  50.0  67.99     2   18   \n",
       "2097147             경기도 고양시 일산동구 중앙로 1036    급속  50.0   0.17     0    1   \n",
       "2097148                    강원도 춘천시 방송길 70    완속   7.0   5.90     1   47   \n",
       "2097149   전라북도 군산시 계산로 90 (지곡동, 지곡동 엠코타운)    완속   7.0  17.50     3    4   \n",
       "\n",
       "             충전종료일자               충전시작시각               충전종료시각  \n",
       "0        2021-01-01  2021-01-01 21:34:13  2021-01-01 22:23:44  \n",
       "1        2021-01-01  2021-01-01 18:28:55  2021-01-01 22:24:38  \n",
       "2        2021-01-01  2021-01-01 21:46:05  2021-01-01 22:24:33  \n",
       "3        2021-01-01  2021-01-01 16:12:09  2021-01-01 17:05:27  \n",
       "4        2021-01-01  2021-01-01 23:14:50  2021-01-01 23:57:44  \n",
       "...             ...                  ...                  ...  \n",
       "2097145  2021-10-17  2021-10-17 18:37:16  2021-10-17 20:41:57  \n",
       "2097146  2021-10-17  2021-10-17 18:24:50  2021-10-17 20:43:29  \n",
       "2097147  2021-10-17  2021-10-17 13:25:21  2021-10-17 13:26:55  \n",
       "2097148  2021-10-17  2021-10-17 11:38:47  2021-10-17 13:26:19  \n",
       "2097149  2021-10-17  2021-10-17 10:21:02  2021-10-17 13:25:56  \n",
       "\n",
       "[2097150 rows x 14 columns]"
      ]
     },
     "execution_count": 2,
     "metadata": {},
     "output_type": "execute_result"
    }
   ],
   "source": [
    "# 2021년 1월부터 6월까지 데이터\n",
    "df1 = pd.read_csv('data/한국전력공사_전기차충전소충전량(202101_202106).csv', encoding='cp949')\n",
    "\n",
    "# 2021년 7월부터 12월까지 데이터\n",
    "df2 = pd.read_csv('data/한국전력공사_전기차충전소충전량(202107_202112).csv', encoding='cp949')\n",
    "\n",
    "# 두 데이터프레임을 병합\n",
    "df = pd.concat([df1, df2], ignore_index=True)\n",
    "\n",
    "# 병합된 데이터프레임 출력\n",
    "df"
   ]
  },
  {
   "cell_type": "code",
   "execution_count": 3,
   "metadata": {},
   "outputs": [
    {
     "data": {
      "text/html": [
       "<div>\n",
       "<style scoped>\n",
       "    .dataframe tbody tr th:only-of-type {\n",
       "        vertical-align: middle;\n",
       "    }\n",
       "\n",
       "    .dataframe tbody tr th {\n",
       "        vertical-align: top;\n",
       "    }\n",
       "\n",
       "    .dataframe thead th {\n",
       "        text-align: right;\n",
       "    }\n",
       "</style>\n",
       "<table border=\"1\" class=\"dataframe\">\n",
       "  <thead>\n",
       "    <tr style=\"text-align: right;\">\n",
       "      <th></th>\n",
       "      <th>본부</th>\n",
       "      <th>사업소</th>\n",
       "      <th>충전소명</th>\n",
       "      <th>충전기</th>\n",
       "      <th>주소</th>\n",
       "      <th>충전기구분</th>\n",
       "      <th>충전용량</th>\n",
       "      <th>충전량</th>\n",
       "      <th>충전시간</th>\n",
       "      <th>충전분</th>\n",
       "      <th>충전종료일자</th>\n",
       "      <th>충전시작시각</th>\n",
       "      <th>충전종료시각</th>\n",
       "      <th>시</th>\n",
       "      <th>구</th>\n",
       "      <th>도로명주소</th>\n",
       "    </tr>\n",
       "  </thead>\n",
       "  <tbody>\n",
       "    <tr>\n",
       "      <th>0</th>\n",
       "      <td>인천</td>\n",
       "      <td>김포</td>\n",
       "      <td>운양동 전원마을월드2단지</td>\n",
       "      <td>급속01</td>\n",
       "      <td>경기도 김포시 전원로 44</td>\n",
       "      <td>급속</td>\n",
       "      <td>50.0</td>\n",
       "      <td>28.92</td>\n",
       "      <td>0</td>\n",
       "      <td>49</td>\n",
       "      <td>2021-01-01</td>\n",
       "      <td>2021-01-01 21:34:13</td>\n",
       "      <td>2021-01-01 22:23:44</td>\n",
       "      <td>경기도</td>\n",
       "      <td>김포시</td>\n",
       "      <td>전원로 44</td>\n",
       "    </tr>\n",
       "    <tr>\n",
       "      <th>1</th>\n",
       "      <td>인천</td>\n",
       "      <td>시흥</td>\n",
       "      <td>LH퍼스트리움 아파트</td>\n",
       "      <td>완속03</td>\n",
       "      <td>경기도 시흥시 동서로 1068 (조남동)</td>\n",
       "      <td>완속</td>\n",
       "      <td>7.0</td>\n",
       "      <td>12.51</td>\n",
       "      <td>3</td>\n",
       "      <td>55</td>\n",
       "      <td>2021-01-01</td>\n",
       "      <td>2021-01-01 18:28:55</td>\n",
       "      <td>2021-01-01 22:24:38</td>\n",
       "      <td>경기도</td>\n",
       "      <td>시흥시</td>\n",
       "      <td>동서로 1068 (조남동)</td>\n",
       "    </tr>\n",
       "    <tr>\n",
       "      <th>2</th>\n",
       "      <td>남서울</td>\n",
       "      <td>강남</td>\n",
       "      <td>LH강남힐스테이트</td>\n",
       "      <td>급속01</td>\n",
       "      <td>서울특별시 강남구 자곡동 자곡로3길 21</td>\n",
       "      <td>급속</td>\n",
       "      <td>50.0</td>\n",
       "      <td>26.37</td>\n",
       "      <td>0</td>\n",
       "      <td>38</td>\n",
       "      <td>2021-01-01</td>\n",
       "      <td>2021-01-01 21:46:05</td>\n",
       "      <td>2021-01-01 22:24:33</td>\n",
       "      <td>서울특별시</td>\n",
       "      <td>강남구</td>\n",
       "      <td>자곡동 자곡로3길 21</td>\n",
       "    </tr>\n",
       "  </tbody>\n",
       "</table>\n",
       "</div>"
      ],
      "text/plain": [
       "    본부 사업소           충전소명   충전기                      주소 충전기구분  충전용량    충전량  \\\n",
       "0   인천  김포  운양동 전원마을월드2단지  급속01          경기도 김포시 전원로 44    급속  50.0  28.92   \n",
       "1   인천  시흥    LH퍼스트리움 아파트  완속03  경기도 시흥시 동서로 1068 (조남동)    완속   7.0  12.51   \n",
       "2  남서울  강남      LH강남힐스테이트  급속01  서울특별시 강남구 자곡동 자곡로3길 21    급속  50.0  26.37   \n",
       "\n",
       "   충전시간  충전분      충전종료일자               충전시작시각               충전종료시각      시  \\\n",
       "0     0   49  2021-01-01  2021-01-01 21:34:13  2021-01-01 22:23:44    경기도   \n",
       "1     3   55  2021-01-01  2021-01-01 18:28:55  2021-01-01 22:24:38    경기도   \n",
       "2     0   38  2021-01-01  2021-01-01 21:46:05  2021-01-01 22:24:33  서울특별시   \n",
       "\n",
       "     구           도로명주소  \n",
       "0  김포시          전원로 44  \n",
       "1  시흥시  동서로 1068 (조남동)  \n",
       "2  강남구    자곡동 자곡로3길 21  "
      ]
     },
     "execution_count": 3,
     "metadata": {},
     "output_type": "execute_result"
    }
   ],
   "source": [
    "df = df.drop('충전기ID', axis=1)\n",
    "df[['시', '구', '도로명주소']] = df['주소'].str.split(' ', n=2, expand=True)\n",
    "df.head(3)"
   ]
  },
  {
   "cell_type": "code",
   "execution_count": 4,
   "metadata": {},
   "outputs": [
    {
     "data": {
      "text/html": [
       "<div>\n",
       "<style scoped>\n",
       "    .dataframe tbody tr th:only-of-type {\n",
       "        vertical-align: middle;\n",
       "    }\n",
       "\n",
       "    .dataframe tbody tr th {\n",
       "        vertical-align: top;\n",
       "    }\n",
       "\n",
       "    .dataframe thead th {\n",
       "        text-align: right;\n",
       "    }\n",
       "</style>\n",
       "<table border=\"1\" class=\"dataframe\">\n",
       "  <thead>\n",
       "    <tr style=\"text-align: right;\">\n",
       "      <th></th>\n",
       "      <th>본부</th>\n",
       "      <th>사업소</th>\n",
       "      <th>충전소명</th>\n",
       "      <th>충전기</th>\n",
       "      <th>주소</th>\n",
       "      <th>충전기구분</th>\n",
       "      <th>충전용량</th>\n",
       "      <th>충전량</th>\n",
       "      <th>충전시간</th>\n",
       "      <th>충전분</th>\n",
       "      <th>충전종료일자</th>\n",
       "      <th>충전시작시각</th>\n",
       "      <th>충전종료시각</th>\n",
       "      <th>시</th>\n",
       "      <th>구</th>\n",
       "      <th>도로명주소</th>\n",
       "    </tr>\n",
       "  </thead>\n",
       "  <tbody>\n",
       "    <tr>\n",
       "      <th>0</th>\n",
       "      <td>광주전남</td>\n",
       "      <td>광산</td>\n",
       "      <td>수완 우미린 1차아파트</td>\n",
       "      <td>완속02</td>\n",
       "      <td>광주광역시 광산구 수완로33번길 22 (수완동, 수완1차우미린아파트)</td>\n",
       "      <td>완속</td>\n",
       "      <td>7.0</td>\n",
       "      <td>29.9500</td>\n",
       "      <td>5</td>\n",
       "      <td>10</td>\n",
       "      <td>2021-01-01</td>\n",
       "      <td>2021-01-01 18:44:57</td>\n",
       "      <td>2021-01-01 23:54:58</td>\n",
       "      <td>광주광역시</td>\n",
       "      <td>광산구</td>\n",
       "      <td>수완로33번길 22 (수완동, 수완1차우미린아파트)</td>\n",
       "    </tr>\n",
       "    <tr>\n",
       "      <th>1</th>\n",
       "      <td>광주전남</td>\n",
       "      <td>광주전남직할</td>\n",
       "      <td>장등공용차고지</td>\n",
       "      <td>급속03</td>\n",
       "      <td>광주광역시 북구 장운길 55 (장등동)</td>\n",
       "      <td>급속</td>\n",
       "      <td>200.0</td>\n",
       "      <td>14.3105</td>\n",
       "      <td>0</td>\n",
       "      <td>17</td>\n",
       "      <td>2021-01-01</td>\n",
       "      <td>2021-01-01 22:05:59</td>\n",
       "      <td>2021-01-01 22:23:37</td>\n",
       "      <td>광주광역시</td>\n",
       "      <td>북구</td>\n",
       "      <td>장운길 55 (장등동)</td>\n",
       "    </tr>\n",
       "    <tr>\n",
       "      <th>2</th>\n",
       "      <td>광주전남</td>\n",
       "      <td>서광주</td>\n",
       "      <td>보훈병원 주차장</td>\n",
       "      <td>급속01</td>\n",
       "      <td>광주광역시 남구 서문대로824번길 10 (주월동, (구)광주보훈병원)</td>\n",
       "      <td>급속</td>\n",
       "      <td>50.0</td>\n",
       "      <td>27.3800</td>\n",
       "      <td>1</td>\n",
       "      <td>41</td>\n",
       "      <td>2021-01-01</td>\n",
       "      <td>2021-01-01 18:42:59</td>\n",
       "      <td>2021-01-01 20:24:58</td>\n",
       "      <td>광주광역시</td>\n",
       "      <td>남구</td>\n",
       "      <td>서문대로824번길 10 (주월동, (구)광주보훈병원)</td>\n",
       "    </tr>\n",
       "    <tr>\n",
       "      <th>3</th>\n",
       "      <td>광주전남</td>\n",
       "      <td>광주전남직할</td>\n",
       "      <td>장등공용차고지</td>\n",
       "      <td>급속04</td>\n",
       "      <td>광주광역시 북구 장운길 55 (장등동)</td>\n",
       "      <td>급속</td>\n",
       "      <td>200.0</td>\n",
       "      <td>65.2295</td>\n",
       "      <td>0</td>\n",
       "      <td>40</td>\n",
       "      <td>2021-01-01</td>\n",
       "      <td>2021-01-01 21:46:13</td>\n",
       "      <td>2021-01-01 22:26:25</td>\n",
       "      <td>광주광역시</td>\n",
       "      <td>북구</td>\n",
       "      <td>장운길 55 (장등동)</td>\n",
       "    </tr>\n",
       "    <tr>\n",
       "      <th>4</th>\n",
       "      <td>광주전남</td>\n",
       "      <td>광주전남직할</td>\n",
       "      <td>일곡롯데아파트</td>\n",
       "      <td>완속02</td>\n",
       "      <td>광주광역시 북구 설죽로 595 (일곡동, 롯데아파트)</td>\n",
       "      <td>완속</td>\n",
       "      <td>7.0</td>\n",
       "      <td>20.4300</td>\n",
       "      <td>3</td>\n",
       "      <td>46</td>\n",
       "      <td>2021-01-01</td>\n",
       "      <td>2021-01-01 19:52:29</td>\n",
       "      <td>2021-01-01 23:38:58</td>\n",
       "      <td>광주광역시</td>\n",
       "      <td>북구</td>\n",
       "      <td>설죽로 595 (일곡동, 롯데아파트)</td>\n",
       "    </tr>\n",
       "    <tr>\n",
       "      <th>...</th>\n",
       "      <td>...</td>\n",
       "      <td>...</td>\n",
       "      <td>...</td>\n",
       "      <td>...</td>\n",
       "      <td>...</td>\n",
       "      <td>...</td>\n",
       "      <td>...</td>\n",
       "      <td>...</td>\n",
       "      <td>...</td>\n",
       "      <td>...</td>\n",
       "      <td>...</td>\n",
       "      <td>...</td>\n",
       "      <td>...</td>\n",
       "      <td>...</td>\n",
       "      <td>...</td>\n",
       "      <td>...</td>\n",
       "    </tr>\n",
       "    <tr>\n",
       "      <th>78656</th>\n",
       "      <td>광주전남</td>\n",
       "      <td>서광주</td>\n",
       "      <td>매월동 전기버스 충전소</td>\n",
       "      <td>급속02</td>\n",
       "      <td>광주광역시 서구 불암길 154 (매월동)</td>\n",
       "      <td>급속</td>\n",
       "      <td>200.0</td>\n",
       "      <td>35.5500</td>\n",
       "      <td>0</td>\n",
       "      <td>40</td>\n",
       "      <td>2021-10-17</td>\n",
       "      <td>2021-10-17 11:22:58</td>\n",
       "      <td>2021-10-17 12:03:47</td>\n",
       "      <td>광주광역시</td>\n",
       "      <td>서구</td>\n",
       "      <td>불암길 154 (매월동)</td>\n",
       "    </tr>\n",
       "    <tr>\n",
       "      <th>78657</th>\n",
       "      <td>광주전남</td>\n",
       "      <td>광주전남직할</td>\n",
       "      <td>장등공용차고지</td>\n",
       "      <td>급속02</td>\n",
       "      <td>광주광역시 북구 장운길 55 (장등동)</td>\n",
       "      <td>급속</td>\n",
       "      <td>200.0</td>\n",
       "      <td>28.4900</td>\n",
       "      <td>0</td>\n",
       "      <td>17</td>\n",
       "      <td>2021-10-17</td>\n",
       "      <td>2021-10-17 11:55:10</td>\n",
       "      <td>2021-10-17 12:12:11</td>\n",
       "      <td>광주광역시</td>\n",
       "      <td>북구</td>\n",
       "      <td>장운길 55 (장등동)</td>\n",
       "    </tr>\n",
       "    <tr>\n",
       "      <th>78658</th>\n",
       "      <td>광주전남</td>\n",
       "      <td>광산</td>\n",
       "      <td>수완동 행정복지센터</td>\n",
       "      <td>급속01</td>\n",
       "      <td>광주광역시 광산구 장덕로 158 (수완동, 수완동행정복지센터/수완보건지소)</td>\n",
       "      <td>급속</td>\n",
       "      <td>50.0</td>\n",
       "      <td>68.7800</td>\n",
       "      <td>2</td>\n",
       "      <td>14</td>\n",
       "      <td>2021-10-17</td>\n",
       "      <td>2021-10-17 10:19:13</td>\n",
       "      <td>2021-10-17 12:33:33</td>\n",
       "      <td>광주광역시</td>\n",
       "      <td>광산구</td>\n",
       "      <td>장덕로 158 (수완동, 수완동행정복지센터/수완보건지소)</td>\n",
       "    </tr>\n",
       "    <tr>\n",
       "      <th>78659</th>\n",
       "      <td>광주전남</td>\n",
       "      <td>서광주</td>\n",
       "      <td>매월동 전기버스 충전소</td>\n",
       "      <td>급속02</td>\n",
       "      <td>광주광역시 서구 불암길 154 (매월동)</td>\n",
       "      <td>급속</td>\n",
       "      <td>200.0</td>\n",
       "      <td>50.9900</td>\n",
       "      <td>0</td>\n",
       "      <td>59</td>\n",
       "      <td>2021-10-17</td>\n",
       "      <td>2021-10-17 07:22:48</td>\n",
       "      <td>2021-10-17 08:22:10</td>\n",
       "      <td>광주광역시</td>\n",
       "      <td>서구</td>\n",
       "      <td>불암길 154 (매월동)</td>\n",
       "    </tr>\n",
       "    <tr>\n",
       "      <th>78660</th>\n",
       "      <td>광주전남</td>\n",
       "      <td>광주전남직할</td>\n",
       "      <td>장등공용차고지</td>\n",
       "      <td>급속02</td>\n",
       "      <td>광주광역시 북구 장운길 55 (장등동)</td>\n",
       "      <td>급속</td>\n",
       "      <td>200.0</td>\n",
       "      <td>51.2500</td>\n",
       "      <td>0</td>\n",
       "      <td>30</td>\n",
       "      <td>2021-10-17</td>\n",
       "      <td>2021-10-17 11:17:48</td>\n",
       "      <td>2021-10-17 11:48:06</td>\n",
       "      <td>광주광역시</td>\n",
       "      <td>북구</td>\n",
       "      <td>장운길 55 (장등동)</td>\n",
       "    </tr>\n",
       "  </tbody>\n",
       "</table>\n",
       "<p>78661 rows × 16 columns</p>\n",
       "</div>"
      ],
      "text/plain": [
       "         본부     사업소          충전소명   충전기  \\\n",
       "0      광주전남      광산  수완 우미린 1차아파트  완속02   \n",
       "1      광주전남  광주전남직할       장등공용차고지  급속03   \n",
       "2      광주전남     서광주      보훈병원 주차장  급속01   \n",
       "3      광주전남  광주전남직할       장등공용차고지  급속04   \n",
       "4      광주전남  광주전남직할       일곡롯데아파트  완속02   \n",
       "...     ...     ...           ...   ...   \n",
       "78656  광주전남     서광주  매월동 전기버스 충전소  급속02   \n",
       "78657  광주전남  광주전남직할       장등공용차고지  급속02   \n",
       "78658  광주전남      광산    수완동 행정복지센터  급속01   \n",
       "78659  광주전남     서광주  매월동 전기버스 충전소  급속02   \n",
       "78660  광주전남  광주전남직할       장등공용차고지  급속02   \n",
       "\n",
       "                                              주소 충전기구분   충전용량      충전량  충전시간  \\\n",
       "0         광주광역시 광산구 수완로33번길 22 (수완동, 수완1차우미린아파트)    완속    7.0  29.9500     5   \n",
       "1                          광주광역시 북구 장운길 55 (장등동)    급속  200.0  14.3105     0   \n",
       "2         광주광역시 남구 서문대로824번길 10 (주월동, (구)광주보훈병원)    급속   50.0  27.3800     1   \n",
       "3                          광주광역시 북구 장운길 55 (장등동)    급속  200.0  65.2295     0   \n",
       "4                  광주광역시 북구 설죽로 595 (일곡동, 롯데아파트)    완속    7.0  20.4300     3   \n",
       "...                                          ...   ...    ...      ...   ...   \n",
       "78656                     광주광역시 서구 불암길 154 (매월동)    급속  200.0  35.5500     0   \n",
       "78657                      광주광역시 북구 장운길 55 (장등동)    급속  200.0  28.4900     0   \n",
       "78658  광주광역시 광산구 장덕로 158 (수완동, 수완동행정복지센터/수완보건지소)    급속   50.0  68.7800     2   \n",
       "78659                     광주광역시 서구 불암길 154 (매월동)    급속  200.0  50.9900     0   \n",
       "78660                      광주광역시 북구 장운길 55 (장등동)    급속  200.0  51.2500     0   \n",
       "\n",
       "       충전분      충전종료일자               충전시작시각               충전종료시각      시    구  \\\n",
       "0       10  2021-01-01  2021-01-01 18:44:57  2021-01-01 23:54:58  광주광역시  광산구   \n",
       "1       17  2021-01-01  2021-01-01 22:05:59  2021-01-01 22:23:37  광주광역시   북구   \n",
       "2       41  2021-01-01  2021-01-01 18:42:59  2021-01-01 20:24:58  광주광역시   남구   \n",
       "3       40  2021-01-01  2021-01-01 21:46:13  2021-01-01 22:26:25  광주광역시   북구   \n",
       "4       46  2021-01-01  2021-01-01 19:52:29  2021-01-01 23:38:58  광주광역시   북구   \n",
       "...    ...         ...                  ...                  ...    ...  ...   \n",
       "78656   40  2021-10-17  2021-10-17 11:22:58  2021-10-17 12:03:47  광주광역시   서구   \n",
       "78657   17  2021-10-17  2021-10-17 11:55:10  2021-10-17 12:12:11  광주광역시   북구   \n",
       "78658   14  2021-10-17  2021-10-17 10:19:13  2021-10-17 12:33:33  광주광역시  광산구   \n",
       "78659   59  2021-10-17  2021-10-17 07:22:48  2021-10-17 08:22:10  광주광역시   서구   \n",
       "78660   30  2021-10-17  2021-10-17 11:17:48  2021-10-17 11:48:06  광주광역시   북구   \n",
       "\n",
       "                                 도로명주소  \n",
       "0         수완로33번길 22 (수완동, 수완1차우미린아파트)  \n",
       "1                         장운길 55 (장등동)  \n",
       "2        서문대로824번길 10 (주월동, (구)광주보훈병원)  \n",
       "3                         장운길 55 (장등동)  \n",
       "4                 설죽로 595 (일곡동, 롯데아파트)  \n",
       "...                                ...  \n",
       "78656                    불암길 154 (매월동)  \n",
       "78657                     장운길 55 (장등동)  \n",
       "78658  장덕로 158 (수완동, 수완동행정복지센터/수완보건지소)  \n",
       "78659                    불암길 154 (매월동)  \n",
       "78660                     장운길 55 (장등동)  \n",
       "\n",
       "[78661 rows x 16 columns]"
      ]
     },
     "execution_count": 4,
     "metadata": {},
     "output_type": "execute_result"
    }
   ],
   "source": [
    "gwangju = df[df['시'] == '광주광역시']\n",
    "gwangju = gwangju.drop_duplicates().reset_index(drop=True)\n",
    "gwangju"
   ]
  },
  {
   "cell_type": "code",
   "execution_count": 7,
   "metadata": {},
   "outputs": [
    {
     "data": {
      "text/html": [
       "<div>\n",
       "<style scoped>\n",
       "    .dataframe tbody tr th:only-of-type {\n",
       "        vertical-align: middle;\n",
       "    }\n",
       "\n",
       "    .dataframe tbody tr th {\n",
       "        vertical-align: top;\n",
       "    }\n",
       "\n",
       "    .dataframe thead th {\n",
       "        text-align: right;\n",
       "    }\n",
       "</style>\n",
       "<table border=\"1\" class=\"dataframe\">\n",
       "  <thead>\n",
       "    <tr style=\"text-align: right;\">\n",
       "      <th></th>\n",
       "      <th>시간</th>\n",
       "      <th>구</th>\n",
       "      <th>충전량</th>\n",
       "    </tr>\n",
       "  </thead>\n",
       "  <tbody>\n",
       "    <tr>\n",
       "      <th>0</th>\n",
       "      <td>0</td>\n",
       "      <td>광산구</td>\n",
       "      <td>7683.4170</td>\n",
       "    </tr>\n",
       "    <tr>\n",
       "      <th>1</th>\n",
       "      <td>0</td>\n",
       "      <td>남구</td>\n",
       "      <td>3031.3700</td>\n",
       "    </tr>\n",
       "    <tr>\n",
       "      <th>2</th>\n",
       "      <td>0</td>\n",
       "      <td>동구</td>\n",
       "      <td>1123.4200</td>\n",
       "    </tr>\n",
       "    <tr>\n",
       "      <th>3</th>\n",
       "      <td>0</td>\n",
       "      <td>북구</td>\n",
       "      <td>4641.7784</td>\n",
       "    </tr>\n",
       "    <tr>\n",
       "      <th>4</th>\n",
       "      <td>0</td>\n",
       "      <td>서구</td>\n",
       "      <td>3689.7190</td>\n",
       "    </tr>\n",
       "    <tr>\n",
       "      <th>...</th>\n",
       "      <td>...</td>\n",
       "      <td>...</td>\n",
       "      <td>...</td>\n",
       "    </tr>\n",
       "    <tr>\n",
       "      <th>115</th>\n",
       "      <td>23</td>\n",
       "      <td>광산구</td>\n",
       "      <td>14745.2238</td>\n",
       "    </tr>\n",
       "    <tr>\n",
       "      <th>116</th>\n",
       "      <td>23</td>\n",
       "      <td>남구</td>\n",
       "      <td>10170.0600</td>\n",
       "    </tr>\n",
       "    <tr>\n",
       "      <th>117</th>\n",
       "      <td>23</td>\n",
       "      <td>동구</td>\n",
       "      <td>2388.6500</td>\n",
       "    </tr>\n",
       "    <tr>\n",
       "      <th>118</th>\n",
       "      <td>23</td>\n",
       "      <td>북구</td>\n",
       "      <td>67200.2110</td>\n",
       "    </tr>\n",
       "    <tr>\n",
       "      <th>119</th>\n",
       "      <td>23</td>\n",
       "      <td>서구</td>\n",
       "      <td>4843.8240</td>\n",
       "    </tr>\n",
       "  </tbody>\n",
       "</table>\n",
       "<p>120 rows × 3 columns</p>\n",
       "</div>"
      ],
      "text/plain": [
       "     시간    구         충전량\n",
       "0     0  광산구   7683.4170\n",
       "1     0   남구   3031.3700\n",
       "2     0   동구   1123.4200\n",
       "3     0   북구   4641.7784\n",
       "4     0   서구   3689.7190\n",
       "..   ..  ...         ...\n",
       "115  23  광산구  14745.2238\n",
       "116  23   남구  10170.0600\n",
       "117  23   동구   2388.6500\n",
       "118  23   북구  67200.2110\n",
       "119  23   서구   4843.8240\n",
       "\n",
       "[120 rows x 3 columns]"
      ]
     },
     "execution_count": 7,
     "metadata": {},
     "output_type": "execute_result"
    }
   ],
   "source": [
    "# 시간별 구별 총충전량\n",
    "gwangju['충전시작시각'] = pd.to_datetime(gwangju['충전시작시각'])\n",
    "\n",
    "# 시간별, 구별 충전량 계산\n",
    "hourcharge = gwangju.groupby([gwangju['충전시작시각'].dt.hour, gwangju['구']])['충전량'].sum()\n",
    "\n",
    "hourcharge_df = pd.DataFrame({'시간': [i[0] for i in hourcharge.index],\n",
    "                                       '구': [i[1] for i in hourcharge.index],\n",
    "                                       '충전량': hourcharge.values})\n",
    "hourcharge_df"
   ]
  },
  {
   "cell_type": "code",
   "execution_count": 8,
   "metadata": {},
   "outputs": [
    {
     "data": {
      "image/png": "[encoded data removed]",
      "text/plain": [
       "<Figure size 1200x600 with 1 Axes>"
      ]
     },
     "metadata": {},
     "output_type": "display_data"
    }
   ],
   "source": [
    "mart_hourly_pivot = hourcharge_df.pivot_table(values='충전량', index='시간', columns='구', aggfunc='sum')\n",
    "\n",
    "mart_hourly_pivot.plot(kind='line', figsize=(12,6))\n",
    "plt.xlabel('시간')\n",
    "plt.ylabel('충전량')\n",
    "plt.title('구별 시간대별 충전량')\n",
    "plt.show()"
   ]
  },
  {
   "cell_type": "code",
   "execution_count": 17,
   "metadata": {},
   "outputs": [
    {
     "data": {
      "text/html": [
       "<div>\n",
       "<style scoped>\n",
       "    .dataframe tbody tr th:only-of-type {\n",
       "        vertical-align: middle;\n",
       "    }\n",
       "\n",
       "    .dataframe tbody tr th {\n",
       "        vertical-align: top;\n",
       "    }\n",
       "\n",
       "    .dataframe thead th {\n",
       "        text-align: right;\n",
       "    }\n",
       "</style>\n",
       "<table border=\"1\" class=\"dataframe\">\n",
       "  <thead>\n",
       "    <tr style=\"text-align: right;\">\n",
       "      <th>구</th>\n",
       "      <th>광산구</th>\n",
       "      <th>남구</th>\n",
       "      <th>동구</th>\n",
       "      <th>북구</th>\n",
       "      <th>서구</th>\n",
       "    </tr>\n",
       "    <tr>\n",
       "      <th>월</th>\n",
       "      <th></th>\n",
       "      <th></th>\n",
       "      <th></th>\n",
       "      <th></th>\n",
       "      <th></th>\n",
       "    </tr>\n",
       "  </thead>\n",
       "  <tbody>\n",
       "    <tr>\n",
       "      <th>1</th>\n",
       "      <td>78534.2958</td>\n",
       "      <td>13575.390</td>\n",
       "      <td>42836.75330</td>\n",
       "      <td>209974.4091</td>\n",
       "      <td>56789.5800</td>\n",
       "    </tr>\n",
       "    <tr>\n",
       "      <th>2</th>\n",
       "      <td>57345.3260</td>\n",
       "      <td>13108.250</td>\n",
       "      <td>37168.42400</td>\n",
       "      <td>177832.5147</td>\n",
       "      <td>50526.0300</td>\n",
       "    </tr>\n",
       "    <tr>\n",
       "      <th>3</th>\n",
       "      <td>61967.6272</td>\n",
       "      <td>15268.890</td>\n",
       "      <td>35947.33210</td>\n",
       "      <td>186133.9058</td>\n",
       "      <td>54902.2920</td>\n",
       "    </tr>\n",
       "    <tr>\n",
       "      <th>4</th>\n",
       "      <td>61060.8065</td>\n",
       "      <td>13780.050</td>\n",
       "      <td>30558.79240</td>\n",
       "      <td>169055.4662</td>\n",
       "      <td>49813.8400</td>\n",
       "    </tr>\n",
       "    <tr>\n",
       "      <th>5</th>\n",
       "      <td>29575.8884</td>\n",
       "      <td>5260.190</td>\n",
       "      <td>15064.45840</td>\n",
       "      <td>81796.5595</td>\n",
       "      <td>24457.5600</td>\n",
       "    </tr>\n",
       "    <tr>\n",
       "      <th>6</th>\n",
       "      <td>55943.6985</td>\n",
       "      <td>11901.885</td>\n",
       "      <td>26393.10415</td>\n",
       "      <td>147279.9239</td>\n",
       "      <td>41648.6885</td>\n",
       "    </tr>\n",
       "    <tr>\n",
       "      <th>7</th>\n",
       "      <td>82311.5086</td>\n",
       "      <td>18543.580</td>\n",
       "      <td>37721.74990</td>\n",
       "      <td>212763.2883</td>\n",
       "      <td>58839.8170</td>\n",
       "    </tr>\n",
       "    <tr>\n",
       "      <th>8</th>\n",
       "      <td>83149.7335</td>\n",
       "      <td>15974.560</td>\n",
       "      <td>35708.20000</td>\n",
       "      <td>198688.1689</td>\n",
       "      <td>57510.3430</td>\n",
       "    </tr>\n",
       "    <tr>\n",
       "      <th>9</th>\n",
       "      <td>80935.2428</td>\n",
       "      <td>12257.410</td>\n",
       "      <td>32595.43750</td>\n",
       "      <td>182617.3693</td>\n",
       "      <td>53021.3890</td>\n",
       "    </tr>\n",
       "    <tr>\n",
       "      <th>10</th>\n",
       "      <td>47088.8510</td>\n",
       "      <td>7525.880</td>\n",
       "      <td>19389.13000</td>\n",
       "      <td>101491.0970</td>\n",
       "      <td>31629.8930</td>\n",
       "    </tr>\n",
       "  </tbody>\n",
       "</table>\n",
       "</div>"
      ],
      "text/plain": [
       "구          광산구         남구           동구           북구          서구\n",
       "월                                                              \n",
       "1   78534.2958  13575.390  42836.75330  209974.4091  56789.5800\n",
       "2   57345.3260  13108.250  37168.42400  177832.5147  50526.0300\n",
       "3   61967.6272  15268.890  35947.33210  186133.9058  54902.2920\n",
       "4   61060.8065  13780.050  30558.79240  169055.4662  49813.8400\n",
       "5   29575.8884   5260.190  15064.45840   81796.5595  24457.5600\n",
       "6   55943.6985  11901.885  26393.10415  147279.9239  41648.6885\n",
       "7   82311.5086  18543.580  37721.74990  212763.2883  58839.8170\n",
       "8   83149.7335  15974.560  35708.20000  198688.1689  57510.3430\n",
       "9   80935.2428  12257.410  32595.43750  182617.3693  53021.3890\n",
       "10  47088.8510   7525.880  19389.13000  101491.0970  31629.8930"
      ]
     },
     "execution_count": 17,
     "metadata": {},
     "output_type": "execute_result"
    }
   ],
   "source": [
    "# 일자별 총충전량\n",
    "gwangju['충전종료일자'] = pd.to_datetime(gwangju['충전종료일자'])\n",
    "\n",
    "# 일자별, 구별 충전량 계산\n",
    "daily_charge = gwangju.groupby([gwangju['충전종료일자'].dt.date, gwangju['구']])['충전량'].sum()\n",
    "\n",
    "# 일자 컬럼 추가\n",
    "daily_charge_df = pd.DataFrame({'일자': [i[0] for i in daily_charge.index],\n",
    "                                '구': [i[1] for i in daily_charge.index],\n",
    "                                '충전량': daily_charge.values})\n",
    "\n",
    "# 월별 컬럼 추가\n",
    "daily_charge_df['월'] = daily_charge_df['일자'].apply(lambda x: x.month)\n",
    "\n",
    "# 월별 컬럼에 일자별 충전량 매핑\n",
    "monthly_charge = daily_charge_df.groupby(['월', '구'])['충전량'].sum().unstack()\n",
    "\n",
    "\n",
    "# 인접한 월 (5월 및 7월)의 평균 값을 사용하여 6월의 데이터를 계산\n",
    "estimated_june = ((monthly_charge.loc[5] + monthly_charge.loc[7]) / 2)\n",
    "\n",
    "# 6월 데이터를 원래 데이터프레임에 추가\n",
    "monthly_charge.loc[6] = estimated_june\n",
    "\n",
    "# 월별 인덱스를 정렬\n",
    "monthly_charge = monthly_charge.sort_index()\n",
    "\n",
    "monthly_charge\n",
    "# 월별 구별 총충전량"
   ]
  },
  {
   "cell_type": "code",
   "execution_count": 18,
   "metadata": {},
   "outputs": [
    {
     "data": {
      "text/html": [
       "<div>\n",
       "<style scoped>\n",
       "    .dataframe tbody tr th:only-of-type {\n",
       "        vertical-align: middle;\n",
       "    }\n",
       "\n",
       "    .dataframe tbody tr th {\n",
       "        vertical-align: top;\n",
       "    }\n",
       "\n",
       "    .dataframe thead th {\n",
       "        text-align: right;\n",
       "    }\n",
       "</style>\n",
       "<table border=\"1\" class=\"dataframe\">\n",
       "  <thead>\n",
       "    <tr style=\"text-align: right;\">\n",
       "      <th></th>\n",
       "      <th>구</th>\n",
       "      <th>광산구</th>\n",
       "      <th>남구</th>\n",
       "      <th>동구</th>\n",
       "      <th>북구</th>\n",
       "      <th>서구</th>\n",
       "    </tr>\n",
       "    <tr>\n",
       "      <th>년</th>\n",
       "      <th>월</th>\n",
       "      <th></th>\n",
       "      <th></th>\n",
       "      <th></th>\n",
       "      <th></th>\n",
       "      <th></th>\n",
       "    </tr>\n",
       "  </thead>\n",
       "  <tbody>\n",
       "    <tr>\n",
       "      <th rowspan=\"10\" valign=\"top\">2021</th>\n",
       "      <th>1</th>\n",
       "      <td>78534.2958</td>\n",
       "      <td>13575.390</td>\n",
       "      <td>42836.75330</td>\n",
       "      <td>209974.4091</td>\n",
       "      <td>56789.5800</td>\n",
       "    </tr>\n",
       "    <tr>\n",
       "      <th>2</th>\n",
       "      <td>57345.3260</td>\n",
       "      <td>13108.250</td>\n",
       "      <td>37168.42400</td>\n",
       "      <td>177832.5147</td>\n",
       "      <td>50526.0300</td>\n",
       "    </tr>\n",
       "    <tr>\n",
       "      <th>3</th>\n",
       "      <td>61967.6272</td>\n",
       "      <td>15268.890</td>\n",
       "      <td>35947.33210</td>\n",
       "      <td>186133.9058</td>\n",
       "      <td>54902.2920</td>\n",
       "    </tr>\n",
       "    <tr>\n",
       "      <th>4</th>\n",
       "      <td>61060.8065</td>\n",
       "      <td>13780.050</td>\n",
       "      <td>30558.79240</td>\n",
       "      <td>169055.4662</td>\n",
       "      <td>49813.8400</td>\n",
       "    </tr>\n",
       "    <tr>\n",
       "      <th>5</th>\n",
       "      <td>29575.8884</td>\n",
       "      <td>5260.190</td>\n",
       "      <td>15064.45840</td>\n",
       "      <td>81796.5595</td>\n",
       "      <td>24457.5600</td>\n",
       "    </tr>\n",
       "    <tr>\n",
       "      <th>6</th>\n",
       "      <td>55943.6985</td>\n",
       "      <td>11901.885</td>\n",
       "      <td>26393.10415</td>\n",
       "      <td>147279.9239</td>\n",
       "      <td>41648.6885</td>\n",
       "    </tr>\n",
       "    <tr>\n",
       "      <th>7</th>\n",
       "      <td>82311.5086</td>\n",
       "      <td>18543.580</td>\n",
       "      <td>37721.74990</td>\n",
       "      <td>212763.2883</td>\n",
       "      <td>58839.8170</td>\n",
       "    </tr>\n",
       "    <tr>\n",
       "      <th>8</th>\n",
       "      <td>83149.7335</td>\n",
       "      <td>15974.560</td>\n",
       "      <td>35708.20000</td>\n",
       "      <td>198688.1689</td>\n",
       "      <td>57510.3430</td>\n",
       "    </tr>\n",
       "    <tr>\n",
       "      <th>9</th>\n",
       "      <td>80935.2428</td>\n",
       "      <td>12257.410</td>\n",
       "      <td>32595.43750</td>\n",
       "      <td>182617.3693</td>\n",
       "      <td>53021.3890</td>\n",
       "    </tr>\n",
       "    <tr>\n",
       "      <th>10</th>\n",
       "      <td>47088.8510</td>\n",
       "      <td>7525.880</td>\n",
       "      <td>19389.13000</td>\n",
       "      <td>101491.0970</td>\n",
       "      <td>31629.8930</td>\n",
       "    </tr>\n",
       "  </tbody>\n",
       "</table>\n",
       "</div>"
      ],
      "text/plain": [
       "구               광산구         남구           동구           북구          서구\n",
       "년    월                                                              \n",
       "2021 1   78534.2958  13575.390  42836.75330  209974.4091  56789.5800\n",
       "     2   57345.3260  13108.250  37168.42400  177832.5147  50526.0300\n",
       "     3   61967.6272  15268.890  35947.33210  186133.9058  54902.2920\n",
       "     4   61060.8065  13780.050  30558.79240  169055.4662  49813.8400\n",
       "     5   29575.8884   5260.190  15064.45840   81796.5595  24457.5600\n",
       "     6   55943.6985  11901.885  26393.10415  147279.9239  41648.6885\n",
       "     7   82311.5086  18543.580  37721.74990  212763.2883  58839.8170\n",
       "     8   83149.7335  15974.560  35708.20000  198688.1689  57510.3430\n",
       "     9   80935.2428  12257.410  32595.43750  182617.3693  53021.3890\n",
       "     10  47088.8510   7525.880  19389.13000  101491.0970  31629.8930"
      ]
     },
     "execution_count": 18,
     "metadata": {},
     "output_type": "execute_result"
    }
   ],
   "source": [
    "monthly_charge_2021 = pd.read_csv('광주광역시_전기차_충전소_월별_충전량_20210914.csv', index_col=0, encoding='cp949')\n",
    "monthly_charge_2021.columns.name = '구'\n",
    "monthly_charge_2021.index.name = '월'\n",
    "\n",
    "monthly_charge_2021['년'] = 2021\n",
    "monthly_charge_2021 = monthly_charge_2021.reset_index().set_index(['년', '월'])\n",
    "\n",
    "monthly_charge_2021"
   ]
  },
  {
   "cell_type": "code",
   "execution_count": 20,
   "metadata": {},
   "outputs": [
    {
     "data": {
      "image/png": "[encoded data removed]",
      "text/plain": [
       "<Figure size 1000x600 with 1 Axes>"
      ]
     },
     "metadata": {},
     "output_type": "display_data"
    }
   ],
   "source": [
    "monthly_charge_2021.plot(kind='bar', figsize=(10, 6))\n",
    "plt.title('월별 구별 총충전량')\n",
    "plt.xlabel('월')\n",
    "plt.ylabel('충전량')\n",
    "plt.legend(loc='best')\n",
    "plt.show()"
   ]
  },
  {
   "cell_type": "code",
   "execution_count": 26,
   "metadata": {},
   "outputs": [
    {
     "data": {
      "image/png": "[encoded data removed]",
      "text/plain": [
       "<Figure size 1000x600 with 1 Axes>"
      ]
     },
     "metadata": {},
     "output_type": "display_data"
    }
   ],
   "source": [
    "monthly_charge_2021.plot(kind='line', figsize=(10, 6))\n",
    "plt.title('월별 구별 총충전량')\n",
    "plt.xlabel('월')\n",
    "plt.ylabel('충전량')\n",
    "plt.legend(loc='best')\n",
    "plt.show()"
   ]
  },
  {
   "cell_type": "code",
   "execution_count": 21,
   "metadata": {},
   "outputs": [
    {
     "data": {
      "text/plain": [
       "<AxesSubplot:xlabel='구', ylabel='충전량'>"
      ]
     },
     "execution_count": 21,
     "metadata": {},
     "output_type": "execute_result"
    },
    {
     "data": {
      "image/png": "[encoded data removed]",
      "text/plain": [
       "<Figure size 1000x300 with 1 Axes>"
      ]
     },
     "metadata": {},
     "output_type": "display_data"
    }
   ],
   "source": [
    "# 구별 충전량\n",
    "gwangju_gu = gwangju.groupby('구')['충전량'].sum().sort_values(ascending=False)\n",
    "gwangju_gu = gwangju_gu.reset_index()\n",
    "gwangju_gu\n",
    "plt.figure(figsize=(10,3))\n",
    "sns.barplot(data=gwangju_gu,x='구',y='충전량')"
   ]
  },
  {
   "cell_type": "code",
   "execution_count": 22,
   "metadata": {},
   "outputs": [
    {
     "data": {
      "image/png": "[encoded data removed]",
      "text/plain": [
       "<Figure size 800x800 with 1 Axes>"
      ]
     },
     "metadata": {},
     "output_type": "display_data"
    }
   ],
   "source": [
    "# 구별 충전량 비율\n",
    "df_charge = gwangju[['구', '충전량']]\n",
    "df_charge_sum = df_charge.groupby('구').sum()\n",
    "\n",
    "df_charge_sum.plot(kind='pie', y='충전량', legend=False, autopct='%1.1f%%', figsize=(8,8))\n",
    "plt.title('구별 충전소별 충전량 비율')\n",
    "plt.ylabel('')\n",
    "plt.show()"
   ]
  },
  {
   "cell_type": "code",
   "execution_count": 23,
   "metadata": {},
   "outputs": [
    {
     "data": {
      "application/vnd.plotly.v1+json": {
       "config": {
        "plotlyServerURL": "https://plot.ly"
       },
       "data": [
        {
         "domain": {
          "x": [
           0,
           0.45
          ],
          "y": [
           0,
           1
          ]
         },
         "labels": [
          "북구",
          "광산구",
          "서구",
          "동구",
          "남구"
         ],
         "showlegend": true,
         "type": "pie",
         "values": [
          1520352.7788,
          581969.2798,
          437490.744,
          286990.2776,
          115294.2
         ]
        },
        {
         "marker": {
          "color": [
           "#636EFA",
           "#EF553B",
           "#00CC96",
           "#AB63FA",
           "#FFA15A"
          ]
         },
         "showlegend": false,
         "type": "bar",
         "x": [
          "북구",
          "광산구",
          "서구",
          "동구",
          "남구"
         ],
         "xaxis": "x",
         "y": [
          1520352.7788,
          581969.2798,
          437490.744,
          286990.2776,
          115294.2
         ],
         "yaxis": "y"
        }
       ],
       "layout": {
        "annotations": [
         {
          "font": {
           "size": 16
          },
          "showarrow": false,
          "text": "구별 총 충전량 비율",
          "x": 0.225,
          "xanchor": "center",
          "xref": "paper",
          "y": 1,
          "yanchor": "bottom",
          "yref": "paper"
         },
         {
          "font": {
           "size": 16
          },
          "showarrow": false,
          "text": "구별 총 충전량",
          "x": 0.775,
          "xanchor": "center",
          "xref": "paper",
          "y": 1,
          "yanchor": "bottom",
          "yref": "paper"
         }
        ],
        "template": {
         "data": {
          "bar": [
           {
            "error_x": {
             "color": "#f2f5fa"
            },
            "error_y": {
             "color": "#f2f5fa"
            },
            "marker": {
             "line": {
              "color": "rgb(17,17,17)",
              "width": 0.5
             },
             "pattern": {
              "fillmode": "overlay",
              "size": 10,
              "solidity": 0.2
             }
            },
            "type": "bar"
           }
          ],
          "barpolar": [
           {
            "marker": {
             "line": {
              "color": "rgb(17,17,17)",
              "width": 0.5
             },
             "pattern": {
              "fillmode": "overlay",
              "size": 10,
              "solidity": 0.2
             }
            },
            "type": "barpolar"
           }
          ],
          "carpet": [
           {
            "aaxis": {
             "endlinecolor": "#A2B1C6",
             "gridcolor": "#506784",
             "linecolor": "#506784",
             "minorgridcolor": "#506784",
             "startlinecolor": "#A2B1C6"
            },
            "baxis": {
             "endlinecolor": "#A2B1C6",
             "gridcolor": "#506784",
             "linecolor": "#506784",
             "minorgridcolor": "#506784",
             "startlinecolor": "#A2B1C6"
            },
            "type": "carpet"
           }
          ],
          "choropleth": [
           {
            "colorbar": {
             "outlinewidth": 0,
             "ticks": ""
            },
            "type": "choropleth"
           }
          ],
          "contour": [
           {
            "colorbar": {
             "outlinewidth": 0,
             "ticks": ""
            },
            "colorscale": [
             [
              0,
              "#0d0887"
             ],
             [
              0.1111111111111111,
              "#46039f"
             ],
             [
              0.2222222222222222,
              "#7201a8"
             ],
             [
              0.3333333333333333,
              "#9c179e"
             ],
             [
              0.4444444444444444,
              "#bd3786"
             ],
             [
              0.5555555555555556,
              "#d8576b"
             ],
             [
              0.6666666666666666,
              "#ed7953"
             ],
             [
              0.7777777777777778,
              "#fb9f3a"
             ],
             [
              0.8888888888888888,
              "#fdca26"
             ],
             [
              1,
              "#f0f921"
             ]
            ],
            "type": "contour"
           }
          ],
          "contourcarpet": [
           {
            "colorbar": {
             "outlinewidth": 0,
             "ticks": ""
            },
            "type": "contourcarpet"
           }
          ],
          "heatmap": [
           {
            "colorbar": {
             "outlinewidth": 0,
             "ticks": ""
            },
            "colorscale": [
             [
              0,
              "#0d0887"
             ],
             [
              0.1111111111111111,
              "#46039f"
             ],
             [
              0.2222222222222222,
              "#7201a8"
             ],
             [
              0.3333333333333333,
              "#9c179e"
             ],
             [
              0.4444444444444444,
              "#bd3786"
             ],
             [
              0.5555555555555556,
              "#d8576b"
             ],
             [
              0.6666666666666666,
              "#ed7953"
             ],
             [
              0.7777777777777778,
              "#fb9f3a"
             ],
             [
              0.8888888888888888,
              "#fdca26"
             ],
             [
              1,
              "#f0f921"
             ]
            ],
            "type": "heatmap"
           }
          ],
          "heatmapgl": [
           {
            "colorbar": {
             "outlinewidth": 0,
             "ticks": ""
            },
            "colorscale": [
             [
              0,
              "#0d0887"
             ],
             [
              0.1111111111111111,
              "#46039f"
             ],
             [
              0.2222222222222222,
              "#7201a8"
             ],
             [
              0.3333333333333333,
              "#9c179e"
             ],
             [
              0.4444444444444444,
              "#bd3786"
             ],
             [
              0.5555555555555556,
              "#d8576b"
             ],
             [
              0.6666666666666666,
              "#ed7953"
             ],
             [
              0.7777777777777778,
              "#fb9f3a"
             ],
             [
              0.8888888888888888,
              "#fdca26"
             ],
             [
              1,
              "#f0f921"
             ]
            ],
            "type": "heatmapgl"
           }
          ],
          "histogram": [
           {
            "marker": {
             "pattern": {
              "fillmode": "overlay",
              "size": 10,
              "solidity": 0.2
             }
            },
            "type": "histogram"
           }
          ],
          "histogram2d": [
           {
            "colorbar": {
             "outlinewidth": 0,
             "ticks": ""
            },
            "colorscale": [
             [
              0,
              "#0d0887"
             ],
             [
              0.1111111111111111,
              "#46039f"
             ],
             [
              0.2222222222222222,
              "#7201a8"
             ],
             [
              0.3333333333333333,
              "#9c179e"
             ],
             [
              0.4444444444444444,
              "#bd3786"
             ],
             [
              0.5555555555555556,
              "#d8576b"
             ],
             [
              0.6666666666666666,
              "#ed7953"
             ],
             [
              0.7777777777777778,
              "#fb9f3a"
             ],
             [
              0.8888888888888888,
              "#fdca26"
             ],
             [
              1,
              "#f0f921"
             ]
            ],
            "type": "histogram2d"
           }
          ],
          "histogram2dcontour": [
           {
            "colorbar": {
             "outlinewidth": 0,
             "ticks": ""
            },
            "colorscale": [
             [
              0,
              "#0d0887"
             ],
             [
              0.1111111111111111,
              "#46039f"
             ],
             [
              0.2222222222222222,
              "#7201a8"
             ],
             [
              0.3333333333333333,
              "#9c179e"
             ],
             [
              0.4444444444444444,
              "#bd3786"
             ],
             [
              0.5555555555555556,
              "#d8576b"
             ],
             [
              0.6666666666666666,
              "#ed7953"
             ],
             [
              0.7777777777777778,
              "#fb9f3a"
             ],
             [
              0.8888888888888888,
              "#fdca26"
             ],
             [
              1,
              "#f0f921"
             ]
            ],
            "type": "histogram2dcontour"
           }
          ],
          "mesh3d": [
           {
            "colorbar": {
             "outlinewidth": 0,
             "ticks": ""
            },
            "type": "mesh3d"
           }
          ],
          "parcoords": [
           {
            "line": {
             "colorbar": {
              "outlinewidth": 0,
              "ticks": ""
             }
            },
            "type": "parcoords"
           }
          ],
          "pie": [
           {
            "automargin": true,
            "type": "pie"
           }
          ],
          "scatter": [
           {
            "marker": {
             "line": {
              "color": "#283442"
             }
            },
            "type": "scatter"
           }
          ],
          "scatter3d": [
           {
            "line": {
             "colorbar": {
              "outlinewidth": 0,
              "ticks": ""
             }
            },
            "marker": {
             "colorbar": {
              "outlinewidth": 0,
              "ticks": ""
             }
            },
            "type": "scatter3d"
           }
          ],
          "scattercarpet": [
           {
            "marker": {
             "colorbar": {
              "outlinewidth": 0,
              "ticks": ""
             }
            },
            "type": "scattercarpet"
           }
          ],
          "scattergeo": [
           {
            "marker": {
             "colorbar": {
              "outlinewidth": 0,
              "ticks": ""
             }
            },
            "type": "scattergeo"
           }
          ],
          "scattergl": [
           {
            "marker": {
             "line": {
              "color": "#283442"
             }
            },
            "type": "scattergl"
           }
          ],
          "scattermapbox": [
           {
            "marker": {
             "colorbar": {
              "outlinewidth": 0,
              "ticks": ""
             }
            },
            "type": "scattermapbox"
           }
          ],
          "scatterpolar": [
           {
            "marker": {
             "colorbar": {
              "outlinewidth": 0,
              "ticks": ""
             }
            },
            "type": "scatterpolar"
           }
          ],
          "scatterpolargl": [
           {
            "marker": {
             "colorbar": {
              "outlinewidth": 0,
              "ticks": ""
             }
            },
            "type": "scatterpolargl"
           }
          ],
          "scatterternary": [
           {
            "marker": {
             "colorbar": {
              "outlinewidth": 0,
              "ticks": ""
             }
            },
            "type": "scatterternary"
           }
          ],
          "surface": [
           {
            "colorbar": {
             "outlinewidth": 0,
             "ticks": ""
            },
            "colorscale": [
             [
              0,
              "#0d0887"
             ],
             [
              0.1111111111111111,
              "#46039f"
             ],
             [
              0.2222222222222222,
              "#7201a8"
             ],
             [
              0.3333333333333333,
              "#9c179e"
             ],
             [
              0.4444444444444444,
              "#bd3786"
             ],
             [
              0.5555555555555556,
              "#d8576b"
             ],
             [
              0.6666666666666666,
              "#ed7953"
             ],
             [
              0.7777777777777778,
              "#fb9f3a"
             ],
             [
              0.8888888888888888,
              "#fdca26"
             ],
             [
              1,
              "#f0f921"
             ]
            ],
            "type": "surface"
           }
          ],
          "table": [
           {
            "cells": {
             "fill": {
              "color": "#506784"
             },
             "line": {
              "color": "rgb(17,17,17)"
             }
            },
            "header": {
             "fill": {
              "color": "#2a3f5f"
             },
             "line": {
              "color": "rgb(17,17,17)"
             }
            },
            "type": "table"
           }
          ]
         },
         "layout": {
          "annotationdefaults": {
           "arrowcolor": "#f2f5fa",
           "arrowhead": 0,
           "arrowwidth": 1
          },
          "autotypenumbers": "strict",
          "coloraxis": {
           "colorbar": {
            "outlinewidth": 0,
            "ticks": ""
           }
          },
          "colorscale": {
           "diverging": [
            [
             0,
             "#8e0152"
            ],
            [
             0.1,
             "#c51b7d"
            ],
            [
             0.2,
             "#de77ae"
            ],
            [
             0.3,
             "#f1b6da"
            ],
            [
             0.4,
             "#fde0ef"
            ],
            [
             0.5,
             "#f7f7f7"
            ],
            [
             0.6,
             "#e6f5d0"
            ],
            [
             0.7,
             "#b8e186"
            ],
            [
             0.8,
             "#7fbc41"
            ],
            [
             0.9,
             "#4d9221"
            ],
            [
             1,
             "#276419"
            ]
           ],
           "sequential": [
            [
             0,
             "#0d0887"
            ],
            [
             0.1111111111111111,
             "#46039f"
            ],
            [
             0.2222222222222222,
             "#7201a8"
            ],
            [
             0.3333333333333333,
             "#9c179e"
            ],
            [
             0.4444444444444444,
             "#bd3786"
            ],
            [
             0.5555555555555556,
             "#d8576b"
            ],
            [
             0.6666666666666666,
             "#ed7953"
            ],
            [
             0.7777777777777778,
             "#fb9f3a"
            ],
            [
             0.8888888888888888,
             "#fdca26"
            ],
            [
             1,
             "#f0f921"
            ]
           ],
           "sequentialminus": [
            [
             0,
             "#0d0887"
            ],
            [
             0.1111111111111111,
             "#46039f"
            ],
            [
             0.2222222222222222,
             "#7201a8"
            ],
            [
             0.3333333333333333,
             "#9c179e"
            ],
            [
             0.4444444444444444,
             "#bd3786"
            ],
            [
             0.5555555555555556,
             "#d8576b"
            ],
            [
             0.6666666666666666,
             "#ed7953"
            ],
            [
             0.7777777777777778,
             "#fb9f3a"
            ],
            [
             0.8888888888888888,
             "#fdca26"
            ],
            [
             1,
             "#f0f921"
            ]
           ]
          },
          "colorway": [
           "#636efa",
           "#EF553B",
           "#00cc96",
           "#ab63fa",
           "#FFA15A",
           "#19d3f3",
           "#FF6692",
           "#B6E880",
           "#FF97FF",
           "#FECB52"
          ],
          "font": {
           "color": "#f2f5fa"
          },
          "geo": {
           "bgcolor": "rgb(17,17,17)",
           "lakecolor": "rgb(17,17,17)",
           "landcolor": "rgb(17,17,17)",
           "showlakes": true,
           "showland": true,
           "subunitcolor": "#506784"
          },
          "hoverlabel": {
           "align": "left"
          },
          "hovermode": "closest",
          "mapbox": {
           "style": "dark"
          },
          "paper_bgcolor": "rgb(17,17,17)",
          "plot_bgcolor": "rgb(17,17,17)",
          "polar": {
           "angularaxis": {
            "gridcolor": "#506784",
            "linecolor": "#506784",
            "ticks": ""
           },
           "bgcolor": "rgb(17,17,17)",
           "radialaxis": {
            "gridcolor": "#506784",
            "linecolor": "#506784",
            "ticks": ""
           }
          },
          "scene": {
           "xaxis": {
            "backgroundcolor": "rgb(17,17,17)",
            "gridcolor": "#506784",
            "gridwidth": 2,
            "linecolor": "#506784",
            "showbackground": true,
            "ticks": "",
            "zerolinecolor": "#C8D4E3"
           },
           "yaxis": {
            "backgroundcolor": "rgb(17,17,17)",
            "gridcolor": "#506784",
            "gridwidth": 2,
            "linecolor": "#506784",
            "showbackground": true,
            "ticks": "",
            "zerolinecolor": "#C8D4E3"
           },
           "zaxis": {
            "backgroundcolor": "rgb(17,17,17)",
            "gridcolor": "#506784",
            "gridwidth": 2,
            "linecolor": "#506784",
            "showbackground": true,
            "ticks": "",
            "zerolinecolor": "#C8D4E3"
           }
          },
          "shapedefaults": {
           "line": {
            "color": "#f2f5fa"
           }
          },
          "sliderdefaults": {
           "bgcolor": "#C8D4E3",
           "bordercolor": "rgb(17,17,17)",
           "borderwidth": 1,
           "tickwidth": 0
          },
          "ternary": {
           "aaxis": {
            "gridcolor": "#506784",
            "linecolor": "#506784",
            "ticks": ""
           },
           "baxis": {
            "gridcolor": "#506784",
            "linecolor": "#506784",
            "ticks": ""
           },
           "bgcolor": "rgb(17,17,17)",
           "caxis": {
            "gridcolor": "#506784",
            "linecolor": "#506784",
            "ticks": ""
           }
          },
          "title": {
           "x": 0.05
          },
          "updatemenudefaults": {
           "bgcolor": "#506784",
           "borderwidth": 0
          },
          "xaxis": {
           "automargin": true,
           "gridcolor": "#283442",
           "linecolor": "#506784",
           "ticks": "",
           "title": {
            "standoff": 15
           },
           "zerolinecolor": "#283442",
           "zerolinewidth": 2
          },
          "yaxis": {
           "automargin": true,
           "gridcolor": "#283442",
           "linecolor": "#506784",
           "ticks": "",
           "title": {
            "standoff": 15
           },
           "zerolinecolor": "#283442",
           "zerolinewidth": 2
          }
         }
        },
        "title": {
         "text": "2021년 구별 총 충전량"
        },
        "xaxis": {
         "anchor": "y",
         "domain": [
          0.55,
          1
         ]
        },
        "yaxis": {
         "anchor": "x",
         "domain": [
          0,
          1
         ]
        }
       }
      }
     },
     "metadata": {},
     "output_type": "display_data"
    }
   ],
   "source": [
    "import plotly.graph_objects as go\n",
    "from plotly.subplots import make_subplots\n",
    "\n",
    "subfig = make_subplots(\n",
    "    rows=1, cols=2,\n",
    "    column_widths=[10, 10],\n",
    "    row_heights=[10],\n",
    "    subplot_titles=(\"구별 총 충전량 비율\", \"구별 총 충전량\"),\n",
    "    specs=[[{\"type\": \"pie\"}, {\"type\": \"bar\"}]])\n",
    "\n",
    "# 'gwangju' 데이터프레임에서 '구'별 '충전량' 합계를 계산합니다.\n",
    "gwangju_gu = gwangju.groupby('구')['충전량'].sum().sort_values(ascending=False)\n",
    "\n",
    "# 'gwangju_gu' 데이터프레임을 subfig에 추가합니다.\n",
    "subfig.add_trace(\n",
    "    go.Pie(labels=gwangju_gu.index, values=gwangju_gu.values, showlegend=True), 1, 1)\n",
    "\n",
    "bar_trace = go.Bar(x=gwangju_gu.index, y=gwangju_gu.values, showlegend=False,\n",
    "                   marker=dict(color=['#636EFA', '#EF553B', '#00CC96', '#AB63FA', '#FFA15A']))\n",
    "subfig.add_trace(bar_trace, 1, 2)\n",
    "\n",
    "subfig.update_layout(template=\"plotly_dark\", title='2021년 구별 총 충전량')\n",
    "subfig.show()"
   ]
  },
  {
   "cell_type": "code",
   "execution_count": null,
   "metadata": {},
   "outputs": [],
   "source": []
  }
 ],
 "metadata": {
  "kernelspec": {
   "display_name": "base",
   "language": "python",
   "name": "python3"
  },
  "language_info": {
   "codemirror_mode": {
    "name": "ipython",
    "version": 3
   },
   "file_extension": ".py",
   "mimetype": "text/x-python",
   "name": "python",
   "nbconvert_exporter": "python",
   "pygments_lexer": "ipython3",
   "version": "3.9.13"
  },
  "orig_nbformat": 4
 },
 "nbformat": 4,
 "nbformat_minor": 2
}
