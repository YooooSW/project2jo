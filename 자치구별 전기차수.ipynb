{
 "cells": [
  {
   "cell_type": "code",
   "execution_count": 218,
   "id": "b1b09e60-3a52-49a0-98b8-1630964d8ff7",
   "metadata": {},
   "outputs": [],
   "source": [
    "import pandas as pd"
   ]
  },
  {
   "cell_type": "code",
   "execution_count": 219,
   "id": "78dae18d-a8d8-4182-910f-47e717f81b43",
   "metadata": {},
   "outputs": [],
   "source": [
    "data2001 = pd.read_csv('한국전력공사_전기차충전소충전량(202001_202006).csv',encoding='cp949')"
   ]
  },
  {
   "cell_type": "code",
   "execution_count": 220,
   "id": "ab1695c4-db17-4628-8cff-2b00d2ca0fe0",
   "metadata": {},
   "outputs": [],
   "source": [
    "from matplotlib import font_manager,rc\n",
    "import matplotlib.pyplot as plt\n",
    "import seaborn as sns\n",
    "import pandas as pd\n",
    "import numpy as np\n",
    "import platform"
   ]
  },
  {
   "cell_type": "code",
   "execution_count": 221,
   "id": "2d27093e-c038-4ccb-9dbd-a35c3df40490",
   "metadata": {},
   "outputs": [],
   "source": [
    "# data_gj2001 = data2001.loc[(data2001['본부'] == '광주전남')]"
   ]
  },
  {
   "cell_type": "code",
   "execution_count": 222,
   "id": "ca89e157-bccd-449e-9faf-5f8175051a06",
   "metadata": {},
   "outputs": [],
   "source": [
    "# chargegj2001 = data_gj2001.loc[data_gj2001['주소'].str.contains('광주광역시')]"
   ]
  },
  {
   "cell_type": "code",
   "execution_count": 223,
   "id": "9365934d-f356-4bdb-8552-6a1987570e22",
   "metadata": {},
   "outputs": [],
   "source": [
    "# data_gu1 = chargegj2001['주소'].str.split(\" \").apply(lambda x: pd.Series(x)).rename(columns={0:\"주소\"})\n",
    "# chargegj2001 = pd.concat([chargegj2001, data_gu1], axis=1)"
   ]
  },
  {
   "cell_type": "code",
   "execution_count": 224,
   "id": "1d471301-e93b-41d4-8f77-b7a4e92adbee",
   "metadata": {},
   "outputs": [],
   "source": [
    "# data_gu1.head()"
   ]
  },
  {
   "cell_type": "code",
   "execution_count": 225,
   "id": "5440f959-191f-4608-a3de-c97be64fbe11",
   "metadata": {},
   "outputs": [],
   "source": [
    "# charge = data_gu1.sort_values(by=1)\n",
    "# charge"
   ]
  },
  {
   "cell_type": "code",
   "execution_count": 226,
   "id": "3656ff90-f9e2-49d6-97f5-50c66e54f4d1",
   "metadata": {},
   "outputs": [],
   "source": [
    "# charge.columns = ['시','구','길','번호','동','상세주소','상세주소2','상세주소3','상세주소4','상세주소5']\n",
    "# charge"
   ]
  },
  {
   "cell_type": "code",
   "execution_count": 227,
   "id": "4568c0a2-06cd-407c-9aef-24da2030e0be",
   "metadata": {},
   "outputs": [],
   "source": [
    "data_gs = pd.read_csv('광주광역시 광산구_전기차 등록현황(연도별)_20211231.csv',encoding='cp949')"
   ]
  },
  {
   "cell_type": "code",
   "execution_count": 228,
   "id": "a77ff3a9-756b-4769-a437-e547727f24d4",
   "metadata": {
    "tags": []
   },
   "outputs": [
    {
     "data": {
      "text/html": [
       "<div>\n",
       "<style scoped>\n",
       "    .dataframe tbody tr th:only-of-type {\n",
       "        vertical-align: middle;\n",
       "    }\n",
       "\n",
       "    .dataframe tbody tr th {\n",
       "        vertical-align: top;\n",
       "    }\n",
       "\n",
       "    .dataframe thead th {\n",
       "        text-align: right;\n",
       "    }\n",
       "</style>\n",
       "<table border=\"1\" class=\"dataframe\">\n",
       "  <thead>\n",
       "    <tr style=\"text-align: right;\">\n",
       "      <th></th>\n",
       "      <th>연번</th>\n",
       "      <th>시도명</th>\n",
       "      <th>자치구명</th>\n",
       "      <th>연도</th>\n",
       "      <th>전기차 등록대수</th>\n",
       "      <th>데이터기준일자</th>\n",
       "    </tr>\n",
       "  </thead>\n",
       "  <tbody>\n",
       "    <tr>\n",
       "      <th>0</th>\n",
       "      <td>1</td>\n",
       "      <td>광주광역시</td>\n",
       "      <td>광산구</td>\n",
       "      <td>2011</td>\n",
       "      <td>1</td>\n",
       "      <td>2021-12-31</td>\n",
       "    </tr>\n",
       "    <tr>\n",
       "      <th>1</th>\n",
       "      <td>2</td>\n",
       "      <td>광주광역시</td>\n",
       "      <td>광산구</td>\n",
       "      <td>2012</td>\n",
       "      <td>1</td>\n",
       "      <td>2021-12-31</td>\n",
       "    </tr>\n",
       "    <tr>\n",
       "      <th>2</th>\n",
       "      <td>3</td>\n",
       "      <td>광주광역시</td>\n",
       "      <td>광산구</td>\n",
       "      <td>2013</td>\n",
       "      <td>1</td>\n",
       "      <td>2021-12-31</td>\n",
       "    </tr>\n",
       "    <tr>\n",
       "      <th>3</th>\n",
       "      <td>4</td>\n",
       "      <td>광주광역시</td>\n",
       "      <td>광산구</td>\n",
       "      <td>2014</td>\n",
       "      <td>22</td>\n",
       "      <td>2021-12-31</td>\n",
       "    </tr>\n",
       "    <tr>\n",
       "      <th>4</th>\n",
       "      <td>5</td>\n",
       "      <td>광주광역시</td>\n",
       "      <td>광산구</td>\n",
       "      <td>2015</td>\n",
       "      <td>59</td>\n",
       "      <td>2021-12-31</td>\n",
       "    </tr>\n",
       "    <tr>\n",
       "      <th>5</th>\n",
       "      <td>6</td>\n",
       "      <td>광주광역시</td>\n",
       "      <td>광산구</td>\n",
       "      <td>2016</td>\n",
       "      <td>73</td>\n",
       "      <td>2021-12-31</td>\n",
       "    </tr>\n",
       "    <tr>\n",
       "      <th>6</th>\n",
       "      <td>7</td>\n",
       "      <td>광주광역시</td>\n",
       "      <td>광산구</td>\n",
       "      <td>2017</td>\n",
       "      <td>146</td>\n",
       "      <td>2021-12-31</td>\n",
       "    </tr>\n",
       "    <tr>\n",
       "      <th>7</th>\n",
       "      <td>8</td>\n",
       "      <td>광주광역시</td>\n",
       "      <td>광산구</td>\n",
       "      <td>2018</td>\n",
       "      <td>351</td>\n",
       "      <td>2021-12-31</td>\n",
       "    </tr>\n",
       "    <tr>\n",
       "      <th>8</th>\n",
       "      <td>9</td>\n",
       "      <td>광주광역시</td>\n",
       "      <td>광산구</td>\n",
       "      <td>2019</td>\n",
       "      <td>630</td>\n",
       "      <td>2021-12-31</td>\n",
       "    </tr>\n",
       "    <tr>\n",
       "      <th>9</th>\n",
       "      <td>10</td>\n",
       "      <td>광주광역시</td>\n",
       "      <td>광산구</td>\n",
       "      <td>2020</td>\n",
       "      <td>846</td>\n",
       "      <td>2021-12-31</td>\n",
       "    </tr>\n",
       "    <tr>\n",
       "      <th>10</th>\n",
       "      <td>11</td>\n",
       "      <td>광주광역시</td>\n",
       "      <td>광산구</td>\n",
       "      <td>2021</td>\n",
       "      <td>1382</td>\n",
       "      <td>2021-12-31</td>\n",
       "    </tr>\n",
       "  </tbody>\n",
       "</table>\n",
       "</div>"
      ],
      "text/plain": [
       "    연번    시도명 자치구명    연도  전기차 등록대수     데이터기준일자\n",
       "0    1  광주광역시  광산구  2011         1  2021-12-31\n",
       "1    2  광주광역시  광산구  2012         1  2021-12-31\n",
       "2    3  광주광역시  광산구  2013         1  2021-12-31\n",
       "3    4  광주광역시  광산구  2014        22  2021-12-31\n",
       "4    5  광주광역시  광산구  2015        59  2021-12-31\n",
       "5    6  광주광역시  광산구  2016        73  2021-12-31\n",
       "6    7  광주광역시  광산구  2017       146  2021-12-31\n",
       "7    8  광주광역시  광산구  2018       351  2021-12-31\n",
       "8    9  광주광역시  광산구  2019       630  2021-12-31\n",
       "9   10  광주광역시  광산구  2020       846  2021-12-31\n",
       "10  11  광주광역시  광산구  2021      1382  2021-12-31"
      ]
     },
     "execution_count": 228,
     "metadata": {},
     "output_type": "execute_result"
    }
   ],
   "source": [
    "data_gs"
   ]
  },
  {
   "cell_type": "code",
   "execution_count": 229,
   "id": "e7df6a1e-4c1d-442d-a755-f58749d66833",
   "metadata": {},
   "outputs": [
    {
     "data": {
      "text/html": [
       "<div>\n",
       "<style scoped>\n",
       "    .dataframe tbody tr th:only-of-type {\n",
       "        vertical-align: middle;\n",
       "    }\n",
       "\n",
       "    .dataframe tbody tr th {\n",
       "        vertical-align: top;\n",
       "    }\n",
       "\n",
       "    .dataframe thead th {\n",
       "        text-align: right;\n",
       "    }\n",
       "</style>\n",
       "<table border=\"1\" class=\"dataframe\">\n",
       "  <thead>\n",
       "    <tr style=\"text-align: right;\">\n",
       "      <th></th>\n",
       "      <th>자치구명</th>\n",
       "      <th>연도</th>\n",
       "      <th>전기차 등록대수</th>\n",
       "    </tr>\n",
       "  </thead>\n",
       "  <tbody>\n",
       "    <tr>\n",
       "      <th>0</th>\n",
       "      <td>광산구</td>\n",
       "      <td>2011</td>\n",
       "      <td>1</td>\n",
       "    </tr>\n",
       "    <tr>\n",
       "      <th>1</th>\n",
       "      <td>광산구</td>\n",
       "      <td>2012</td>\n",
       "      <td>1</td>\n",
       "    </tr>\n",
       "    <tr>\n",
       "      <th>2</th>\n",
       "      <td>광산구</td>\n",
       "      <td>2013</td>\n",
       "      <td>1</td>\n",
       "    </tr>\n",
       "    <tr>\n",
       "      <th>3</th>\n",
       "      <td>광산구</td>\n",
       "      <td>2014</td>\n",
       "      <td>22</td>\n",
       "    </tr>\n",
       "    <tr>\n",
       "      <th>4</th>\n",
       "      <td>광산구</td>\n",
       "      <td>2015</td>\n",
       "      <td>59</td>\n",
       "    </tr>\n",
       "    <tr>\n",
       "      <th>5</th>\n",
       "      <td>광산구</td>\n",
       "      <td>2016</td>\n",
       "      <td>73</td>\n",
       "    </tr>\n",
       "    <tr>\n",
       "      <th>6</th>\n",
       "      <td>광산구</td>\n",
       "      <td>2017</td>\n",
       "      <td>146</td>\n",
       "    </tr>\n",
       "    <tr>\n",
       "      <th>7</th>\n",
       "      <td>광산구</td>\n",
       "      <td>2018</td>\n",
       "      <td>351</td>\n",
       "    </tr>\n",
       "    <tr>\n",
       "      <th>8</th>\n",
       "      <td>광산구</td>\n",
       "      <td>2019</td>\n",
       "      <td>630</td>\n",
       "    </tr>\n",
       "    <tr>\n",
       "      <th>9</th>\n",
       "      <td>광산구</td>\n",
       "      <td>2020</td>\n",
       "      <td>846</td>\n",
       "    </tr>\n",
       "    <tr>\n",
       "      <th>10</th>\n",
       "      <td>광산구</td>\n",
       "      <td>2021</td>\n",
       "      <td>1382</td>\n",
       "    </tr>\n",
       "  </tbody>\n",
       "</table>\n",
       "</div>"
      ],
      "text/plain": [
       "   자치구명    연도  전기차 등록대수\n",
       "0   광산구  2011         1\n",
       "1   광산구  2012         1\n",
       "2   광산구  2013         1\n",
       "3   광산구  2014        22\n",
       "4   광산구  2015        59\n",
       "5   광산구  2016        73\n",
       "6   광산구  2017       146\n",
       "7   광산구  2018       351\n",
       "8   광산구  2019       630\n",
       "9   광산구  2020       846\n",
       "10  광산구  2021      1382"
      ]
     },
     "execution_count": 229,
     "metadata": {},
     "output_type": "execute_result"
    }
   ],
   "source": [
    "data_gs1 = data_gs.drop(['연번','시도명','데이터기준일자'],axis = 1)\n",
    "data_gs1"
   ]
  },
  {
   "cell_type": "code",
   "execution_count": 230,
   "id": "6dc9385c-d133-43b8-ba15-05d40dce4f2d",
   "metadata": {},
   "outputs": [],
   "source": [
    "data_south = pd.read_csv('광주광역시 남구_전기차 등록대수_20220512.csv',encoding='cp949')"
   ]
  },
  {
   "cell_type": "code",
   "execution_count": 231,
   "id": "f43eec39-0f32-444a-8153-580d038eb17b",
   "metadata": {},
   "outputs": [],
   "source": [
    "data_south1 = data_south.drop(['연번','시도명','데이터기준일자'],axis = 1)"
   ]
  },
  {
   "cell_type": "code",
   "execution_count": 232,
   "id": "ea37ae7b-c84d-463a-9f27-4935ec53679f",
   "metadata": {
    "tags": []
   },
   "outputs": [
    {
     "data": {
      "text/html": [
       "<div>\n",
       "<style scoped>\n",
       "    .dataframe tbody tr th:only-of-type {\n",
       "        vertical-align: middle;\n",
       "    }\n",
       "\n",
       "    .dataframe tbody tr th {\n",
       "        vertical-align: top;\n",
       "    }\n",
       "\n",
       "    .dataframe thead th {\n",
       "        text-align: right;\n",
       "    }\n",
       "</style>\n",
       "<table border=\"1\" class=\"dataframe\">\n",
       "  <thead>\n",
       "    <tr style=\"text-align: right;\">\n",
       "      <th></th>\n",
       "      <th>자치구명</th>\n",
       "      <th>연도</th>\n",
       "      <th>전기차 등록대수</th>\n",
       "    </tr>\n",
       "  </thead>\n",
       "  <tbody>\n",
       "    <tr>\n",
       "      <th>0</th>\n",
       "      <td>남구</td>\n",
       "      <td>2012</td>\n",
       "      <td>1</td>\n",
       "    </tr>\n",
       "    <tr>\n",
       "      <th>1</th>\n",
       "      <td>남구</td>\n",
       "      <td>2013</td>\n",
       "      <td>1</td>\n",
       "    </tr>\n",
       "    <tr>\n",
       "      <th>2</th>\n",
       "      <td>남구</td>\n",
       "      <td>2014</td>\n",
       "      <td>6</td>\n",
       "    </tr>\n",
       "    <tr>\n",
       "      <th>3</th>\n",
       "      <td>남구</td>\n",
       "      <td>2015</td>\n",
       "      <td>6</td>\n",
       "    </tr>\n",
       "    <tr>\n",
       "      <th>4</th>\n",
       "      <td>남구</td>\n",
       "      <td>2016</td>\n",
       "      <td>17</td>\n",
       "    </tr>\n",
       "    <tr>\n",
       "      <th>5</th>\n",
       "      <td>남구</td>\n",
       "      <td>2017</td>\n",
       "      <td>39</td>\n",
       "    </tr>\n",
       "    <tr>\n",
       "      <th>6</th>\n",
       "      <td>남구</td>\n",
       "      <td>2018</td>\n",
       "      <td>152</td>\n",
       "    </tr>\n",
       "    <tr>\n",
       "      <th>7</th>\n",
       "      <td>남구</td>\n",
       "      <td>2019</td>\n",
       "      <td>184</td>\n",
       "    </tr>\n",
       "    <tr>\n",
       "      <th>8</th>\n",
       "      <td>남구</td>\n",
       "      <td>2020</td>\n",
       "      <td>113</td>\n",
       "    </tr>\n",
       "    <tr>\n",
       "      <th>9</th>\n",
       "      <td>남구</td>\n",
       "      <td>2021</td>\n",
       "      <td>207</td>\n",
       "    </tr>\n",
       "    <tr>\n",
       "      <th>10</th>\n",
       "      <td>남구</td>\n",
       "      <td>2022</td>\n",
       "      <td>122</td>\n",
       "    </tr>\n",
       "  </tbody>\n",
       "</table>\n",
       "</div>"
      ],
      "text/plain": [
       "   자치구명    연도  전기차 등록대수\n",
       "0    남구  2012         1\n",
       "1    남구  2013         1\n",
       "2    남구  2014         6\n",
       "3    남구  2015         6\n",
       "4    남구  2016        17\n",
       "5    남구  2017        39\n",
       "6    남구  2018       152\n",
       "7    남구  2019       184\n",
       "8    남구  2020       113\n",
       "9    남구  2021       207\n",
       "10   남구  2022       122"
      ]
     },
     "execution_count": 232,
     "metadata": {},
     "output_type": "execute_result"
    }
   ],
   "source": [
    "data_south1"
   ]
  },
  {
   "cell_type": "code",
   "execution_count": 233,
   "id": "4174e701-638f-4a38-805c-6bbfb28f361d",
   "metadata": {},
   "outputs": [],
   "source": [
    "data_east = pd.read_csv('광주광역시 동구_연도별전기차등록현황_20220411.csv',encoding='cp949')"
   ]
  },
  {
   "cell_type": "code",
   "execution_count": 234,
   "id": "6fb501aa-bc33-439e-8829-498cd8eaca20",
   "metadata": {
    "tags": []
   },
   "outputs": [
    {
     "data": {
      "text/html": [
       "<div>\n",
       "<style scoped>\n",
       "    .dataframe tbody tr th:only-of-type {\n",
       "        vertical-align: middle;\n",
       "    }\n",
       "\n",
       "    .dataframe tbody tr th {\n",
       "        vertical-align: top;\n",
       "    }\n",
       "\n",
       "    .dataframe thead th {\n",
       "        text-align: right;\n",
       "    }\n",
       "</style>\n",
       "<table border=\"1\" class=\"dataframe\">\n",
       "  <thead>\n",
       "    <tr style=\"text-align: right;\">\n",
       "      <th></th>\n",
       "      <th>시도명</th>\n",
       "      <th>자치구명</th>\n",
       "      <th>연도</th>\n",
       "      <th>전기차등록대수</th>\n",
       "      <th>데이터기준일자</th>\n",
       "    </tr>\n",
       "  </thead>\n",
       "  <tbody>\n",
       "    <tr>\n",
       "      <th>0</th>\n",
       "      <td>광주광역시</td>\n",
       "      <td>동구</td>\n",
       "      <td>2015</td>\n",
       "      <td>13</td>\n",
       "      <td>2022-04-11</td>\n",
       "    </tr>\n",
       "    <tr>\n",
       "      <th>1</th>\n",
       "      <td>광주광역시</td>\n",
       "      <td>동구</td>\n",
       "      <td>2016</td>\n",
       "      <td>10</td>\n",
       "      <td>2022-04-11</td>\n",
       "    </tr>\n",
       "    <tr>\n",
       "      <th>2</th>\n",
       "      <td>광주광역시</td>\n",
       "      <td>동구</td>\n",
       "      <td>2017</td>\n",
       "      <td>29</td>\n",
       "      <td>2022-04-11</td>\n",
       "    </tr>\n",
       "    <tr>\n",
       "      <th>3</th>\n",
       "      <td>광주광역시</td>\n",
       "      <td>동구</td>\n",
       "      <td>2018</td>\n",
       "      <td>93</td>\n",
       "      <td>2022-04-11</td>\n",
       "    </tr>\n",
       "    <tr>\n",
       "      <th>4</th>\n",
       "      <td>광주광역시</td>\n",
       "      <td>동구</td>\n",
       "      <td>2019</td>\n",
       "      <td>199</td>\n",
       "      <td>2022-04-11</td>\n",
       "    </tr>\n",
       "    <tr>\n",
       "      <th>5</th>\n",
       "      <td>광주광역시</td>\n",
       "      <td>동구</td>\n",
       "      <td>2020</td>\n",
       "      <td>263</td>\n",
       "      <td>2022-04-11</td>\n",
       "    </tr>\n",
       "    <tr>\n",
       "      <th>6</th>\n",
       "      <td>광주광역시</td>\n",
       "      <td>동구</td>\n",
       "      <td>2021</td>\n",
       "      <td>384</td>\n",
       "      <td>2022-04-11</td>\n",
       "    </tr>\n",
       "  </tbody>\n",
       "</table>\n",
       "</div>"
      ],
      "text/plain": [
       "     시도명 자치구명    연도  전기차등록대수     데이터기준일자\n",
       "0  광주광역시   동구  2015       13  2022-04-11\n",
       "1  광주광역시   동구  2016       10  2022-04-11\n",
       "2  광주광역시   동구  2017       29  2022-04-11\n",
       "3  광주광역시   동구  2018       93  2022-04-11\n",
       "4  광주광역시   동구  2019      199  2022-04-11\n",
       "5  광주광역시   동구  2020      263  2022-04-11\n",
       "6  광주광역시   동구  2021      384  2022-04-11"
      ]
     },
     "execution_count": 234,
     "metadata": {},
     "output_type": "execute_result"
    }
   ],
   "source": [
    "data_east"
   ]
  },
  {
   "cell_type": "code",
   "execution_count": 235,
   "id": "1125ec6f-5915-4dd9-8ad7-3f4d334a1a8d",
   "metadata": {},
   "outputs": [],
   "source": [
    "data_east1 = data_east.drop(['시도명','데이터기준일자'],axis = 1)"
   ]
  },
  {
   "cell_type": "code",
   "execution_count": 236,
   "id": "fccabc36-a70e-4127-a0af-e72c8bdf822c",
   "metadata": {
    "tags": []
   },
   "outputs": [
    {
     "data": {
      "text/html": [
       "<div>\n",
       "<style scoped>\n",
       "    .dataframe tbody tr th:only-of-type {\n",
       "        vertical-align: middle;\n",
       "    }\n",
       "\n",
       "    .dataframe tbody tr th {\n",
       "        vertical-align: top;\n",
       "    }\n",
       "\n",
       "    .dataframe thead th {\n",
       "        text-align: right;\n",
       "    }\n",
       "</style>\n",
       "<table border=\"1\" class=\"dataframe\">\n",
       "  <thead>\n",
       "    <tr style=\"text-align: right;\">\n",
       "      <th></th>\n",
       "      <th>자치구명</th>\n",
       "      <th>연도</th>\n",
       "      <th>전기차등록대수</th>\n",
       "    </tr>\n",
       "  </thead>\n",
       "  <tbody>\n",
       "    <tr>\n",
       "      <th>0</th>\n",
       "      <td>동구</td>\n",
       "      <td>2015</td>\n",
       "      <td>13</td>\n",
       "    </tr>\n",
       "    <tr>\n",
       "      <th>1</th>\n",
       "      <td>동구</td>\n",
       "      <td>2016</td>\n",
       "      <td>10</td>\n",
       "    </tr>\n",
       "    <tr>\n",
       "      <th>2</th>\n",
       "      <td>동구</td>\n",
       "      <td>2017</td>\n",
       "      <td>29</td>\n",
       "    </tr>\n",
       "    <tr>\n",
       "      <th>3</th>\n",
       "      <td>동구</td>\n",
       "      <td>2018</td>\n",
       "      <td>93</td>\n",
       "    </tr>\n",
       "    <tr>\n",
       "      <th>4</th>\n",
       "      <td>동구</td>\n",
       "      <td>2019</td>\n",
       "      <td>199</td>\n",
       "    </tr>\n",
       "    <tr>\n",
       "      <th>5</th>\n",
       "      <td>동구</td>\n",
       "      <td>2020</td>\n",
       "      <td>263</td>\n",
       "    </tr>\n",
       "    <tr>\n",
       "      <th>6</th>\n",
       "      <td>동구</td>\n",
       "      <td>2021</td>\n",
       "      <td>384</td>\n",
       "    </tr>\n",
       "  </tbody>\n",
       "</table>\n",
       "</div>"
      ],
      "text/plain": [
       "  자치구명    연도  전기차등록대수\n",
       "0   동구  2015       13\n",
       "1   동구  2016       10\n",
       "2   동구  2017       29\n",
       "3   동구  2018       93\n",
       "4   동구  2019      199\n",
       "5   동구  2020      263\n",
       "6   동구  2021      384"
      ]
     },
     "execution_count": 236,
     "metadata": {},
     "output_type": "execute_result"
    }
   ],
   "source": [
    "data_east1"
   ]
  },
  {
   "cell_type": "code",
   "execution_count": 237,
   "id": "87e7f510-a52d-430b-9da6-fa43135f4184",
   "metadata": {},
   "outputs": [],
   "source": [
    "data_north = pd.read_csv('광주광역시 북구_연도별 전기차 등록 현황_20220402.csv',encoding='cp949')"
   ]
  },
  {
   "cell_type": "code",
   "execution_count": 238,
   "id": "32607cc3-e8f3-470e-bf24-68129cf15db4",
   "metadata": {
    "tags": []
   },
   "outputs": [
    {
     "data": {
      "text/html": [
       "<div>\n",
       "<style scoped>\n",
       "    .dataframe tbody tr th:only-of-type {\n",
       "        vertical-align: middle;\n",
       "    }\n",
       "\n",
       "    .dataframe tbody tr th {\n",
       "        vertical-align: top;\n",
       "    }\n",
       "\n",
       "    .dataframe thead th {\n",
       "        text-align: right;\n",
       "    }\n",
       "</style>\n",
       "<table border=\"1\" class=\"dataframe\">\n",
       "  <thead>\n",
       "    <tr style=\"text-align: right;\">\n",
       "      <th></th>\n",
       "      <th>시도명</th>\n",
       "      <th>자치구명</th>\n",
       "      <th>연도</th>\n",
       "      <th>전기차 등록 대수(누계)</th>\n",
       "      <th>데이터 기준일</th>\n",
       "    </tr>\n",
       "  </thead>\n",
       "  <tbody>\n",
       "    <tr>\n",
       "      <th>0</th>\n",
       "      <td>광주광역시</td>\n",
       "      <td>북구</td>\n",
       "      <td>2015</td>\n",
       "      <td>36</td>\n",
       "      <td>2022-04-02</td>\n",
       "    </tr>\n",
       "    <tr>\n",
       "      <th>1</th>\n",
       "      <td>광주광역시</td>\n",
       "      <td>북구</td>\n",
       "      <td>2016</td>\n",
       "      <td>46</td>\n",
       "      <td>2022-04-02</td>\n",
       "    </tr>\n",
       "    <tr>\n",
       "      <th>2</th>\n",
       "      <td>광주광역시</td>\n",
       "      <td>북구</td>\n",
       "      <td>2017</td>\n",
       "      <td>157</td>\n",
       "      <td>2022-04-02</td>\n",
       "    </tr>\n",
       "    <tr>\n",
       "      <th>3</th>\n",
       "      <td>광주광역시</td>\n",
       "      <td>북구</td>\n",
       "      <td>2018</td>\n",
       "      <td>476</td>\n",
       "      <td>2022-04-02</td>\n",
       "    </tr>\n",
       "    <tr>\n",
       "      <th>4</th>\n",
       "      <td>광주광역시</td>\n",
       "      <td>북구</td>\n",
       "      <td>2019</td>\n",
       "      <td>716</td>\n",
       "      <td>2022-04-02</td>\n",
       "    </tr>\n",
       "    <tr>\n",
       "      <th>5</th>\n",
       "      <td>광주광역시</td>\n",
       "      <td>북구</td>\n",
       "      <td>2020</td>\n",
       "      <td>898</td>\n",
       "      <td>2022-04-02</td>\n",
       "    </tr>\n",
       "    <tr>\n",
       "      <th>6</th>\n",
       "      <td>광주광역시</td>\n",
       "      <td>북구</td>\n",
       "      <td>2021</td>\n",
       "      <td>1529</td>\n",
       "      <td>2022-04-02</td>\n",
       "    </tr>\n",
       "  </tbody>\n",
       "</table>\n",
       "</div>"
      ],
      "text/plain": [
       "     시도명 자치구명    연도  전기차 등록 대수(누계)     데이터 기준일\n",
       "0  광주광역시   북구  2015             36  2022-04-02\n",
       "1  광주광역시   북구  2016             46  2022-04-02\n",
       "2  광주광역시   북구  2017            157  2022-04-02\n",
       "3  광주광역시   북구  2018            476  2022-04-02\n",
       "4  광주광역시   북구  2019            716  2022-04-02\n",
       "5  광주광역시   북구  2020            898  2022-04-02\n",
       "6  광주광역시   북구  2021           1529  2022-04-02"
      ]
     },
     "execution_count": 238,
     "metadata": {},
     "output_type": "execute_result"
    }
   ],
   "source": [
    "data_north"
   ]
  },
  {
   "cell_type": "code",
   "execution_count": 239,
   "id": "b93c636e-2381-4c46-8a6c-460b99a8fb56",
   "metadata": {},
   "outputs": [],
   "source": [
    "data_north1 = data_north.drop(['시도명','데이터 기준일'],axis = 1)"
   ]
  },
  {
   "cell_type": "code",
   "execution_count": 240,
   "id": "5031dbda-9e65-4e7f-8ac9-11d99b88df4f",
   "metadata": {
    "tags": []
   },
   "outputs": [
    {
     "data": {
      "text/html": [
       "<div>\n",
       "<style scoped>\n",
       "    .dataframe tbody tr th:only-of-type {\n",
       "        vertical-align: middle;\n",
       "    }\n",
       "\n",
       "    .dataframe tbody tr th {\n",
       "        vertical-align: top;\n",
       "    }\n",
       "\n",
       "    .dataframe thead th {\n",
       "        text-align: right;\n",
       "    }\n",
       "</style>\n",
       "<table border=\"1\" class=\"dataframe\">\n",
       "  <thead>\n",
       "    <tr style=\"text-align: right;\">\n",
       "      <th></th>\n",
       "      <th>자치구명</th>\n",
       "      <th>연도</th>\n",
       "      <th>전기차 등록 대수(누계)</th>\n",
       "    </tr>\n",
       "  </thead>\n",
       "  <tbody>\n",
       "    <tr>\n",
       "      <th>0</th>\n",
       "      <td>북구</td>\n",
       "      <td>2015</td>\n",
       "      <td>36</td>\n",
       "    </tr>\n",
       "    <tr>\n",
       "      <th>1</th>\n",
       "      <td>북구</td>\n",
       "      <td>2016</td>\n",
       "      <td>46</td>\n",
       "    </tr>\n",
       "    <tr>\n",
       "      <th>2</th>\n",
       "      <td>북구</td>\n",
       "      <td>2017</td>\n",
       "      <td>157</td>\n",
       "    </tr>\n",
       "    <tr>\n",
       "      <th>3</th>\n",
       "      <td>북구</td>\n",
       "      <td>2018</td>\n",
       "      <td>476</td>\n",
       "    </tr>\n",
       "    <tr>\n",
       "      <th>4</th>\n",
       "      <td>북구</td>\n",
       "      <td>2019</td>\n",
       "      <td>716</td>\n",
       "    </tr>\n",
       "    <tr>\n",
       "      <th>5</th>\n",
       "      <td>북구</td>\n",
       "      <td>2020</td>\n",
       "      <td>898</td>\n",
       "    </tr>\n",
       "    <tr>\n",
       "      <th>6</th>\n",
       "      <td>북구</td>\n",
       "      <td>2021</td>\n",
       "      <td>1529</td>\n",
       "    </tr>\n",
       "  </tbody>\n",
       "</table>\n",
       "</div>"
      ],
      "text/plain": [
       "  자치구명    연도  전기차 등록 대수(누계)\n",
       "0   북구  2015             36\n",
       "1   북구  2016             46\n",
       "2   북구  2017            157\n",
       "3   북구  2018            476\n",
       "4   북구  2019            716\n",
       "5   북구  2020            898\n",
       "6   북구  2021           1529"
      ]
     },
     "execution_count": 240,
     "metadata": {},
     "output_type": "execute_result"
    }
   ],
   "source": [
    "data_north1"
   ]
  },
  {
   "cell_type": "code",
   "execution_count": 241,
   "id": "4697e49c-7928-405f-b029-928db0c34628",
   "metadata": {},
   "outputs": [],
   "source": [
    "data_north2 = data_north1.columns=['자치구명', '연도','전기차등록대수']"
   ]
  },
  {
   "cell_type": "code",
   "execution_count": 242,
   "id": "990ec7bd-9fae-4b47-b14a-c37992f3da9f",
   "metadata": {
    "tags": []
   },
   "outputs": [
    {
     "data": {
      "text/html": [
       "<div>\n",
       "<style scoped>\n",
       "    .dataframe tbody tr th:only-of-type {\n",
       "        vertical-align: middle;\n",
       "    }\n",
       "\n",
       "    .dataframe tbody tr th {\n",
       "        vertical-align: top;\n",
       "    }\n",
       "\n",
       "    .dataframe thead th {\n",
       "        text-align: right;\n",
       "    }\n",
       "</style>\n",
       "<table border=\"1\" class=\"dataframe\">\n",
       "  <thead>\n",
       "    <tr style=\"text-align: right;\">\n",
       "      <th></th>\n",
       "      <th>자치구명</th>\n",
       "      <th>연도</th>\n",
       "      <th>전기차등록대수</th>\n",
       "    </tr>\n",
       "  </thead>\n",
       "  <tbody>\n",
       "    <tr>\n",
       "      <th>0</th>\n",
       "      <td>북구</td>\n",
       "      <td>2015</td>\n",
       "      <td>36</td>\n",
       "    </tr>\n",
       "    <tr>\n",
       "      <th>1</th>\n",
       "      <td>북구</td>\n",
       "      <td>2016</td>\n",
       "      <td>46</td>\n",
       "    </tr>\n",
       "    <tr>\n",
       "      <th>2</th>\n",
       "      <td>북구</td>\n",
       "      <td>2017</td>\n",
       "      <td>157</td>\n",
       "    </tr>\n",
       "    <tr>\n",
       "      <th>3</th>\n",
       "      <td>북구</td>\n",
       "      <td>2018</td>\n",
       "      <td>476</td>\n",
       "    </tr>\n",
       "    <tr>\n",
       "      <th>4</th>\n",
       "      <td>북구</td>\n",
       "      <td>2019</td>\n",
       "      <td>716</td>\n",
       "    </tr>\n",
       "    <tr>\n",
       "      <th>5</th>\n",
       "      <td>북구</td>\n",
       "      <td>2020</td>\n",
       "      <td>898</td>\n",
       "    </tr>\n",
       "    <tr>\n",
       "      <th>6</th>\n",
       "      <td>북구</td>\n",
       "      <td>2021</td>\n",
       "      <td>1529</td>\n",
       "    </tr>\n",
       "  </tbody>\n",
       "</table>\n",
       "</div>"
      ],
      "text/plain": [
       "  자치구명    연도  전기차등록대수\n",
       "0   북구  2015       36\n",
       "1   북구  2016       46\n",
       "2   북구  2017      157\n",
       "3   북구  2018      476\n",
       "4   북구  2019      716\n",
       "5   북구  2020      898\n",
       "6   북구  2021     1529"
      ]
     },
     "execution_count": 242,
     "metadata": {},
     "output_type": "execute_result"
    }
   ],
   "source": [
    "data_north1"
   ]
  },
  {
   "cell_type": "code",
   "execution_count": 243,
   "id": "e482a04f-7f72-4bc1-a638-e869d554634a",
   "metadata": {},
   "outputs": [],
   "source": [
    "data_west = pd.read_csv('광주광역시 서구_전기차등록현황_20221231.csv',encoding='cp949')"
   ]
  },
  {
   "cell_type": "code",
   "execution_count": 244,
   "id": "e64837a7-47ae-43db-bc44-5d6eb5e14f19",
   "metadata": {},
   "outputs": [
    {
     "data": {
      "text/html": [
       "<div>\n",
       "<style scoped>\n",
       "    .dataframe tbody tr th:only-of-type {\n",
       "        vertical-align: middle;\n",
       "    }\n",
       "\n",
       "    .dataframe tbody tr th {\n",
       "        vertical-align: top;\n",
       "    }\n",
       "\n",
       "    .dataframe thead th {\n",
       "        text-align: right;\n",
       "    }\n",
       "</style>\n",
       "<table border=\"1\" class=\"dataframe\">\n",
       "  <thead>\n",
       "    <tr style=\"text-align: right;\">\n",
       "      <th></th>\n",
       "      <th>차종</th>\n",
       "      <th>2014년</th>\n",
       "      <th>2015년</th>\n",
       "      <th>2016년</th>\n",
       "      <th>2017년</th>\n",
       "      <th>2018년</th>\n",
       "      <th>2019년</th>\n",
       "      <th>2020년</th>\n",
       "      <th>2021년</th>\n",
       "      <th>2022년</th>\n",
       "    </tr>\n",
       "  </thead>\n",
       "  <tbody>\n",
       "    <tr>\n",
       "      <th>0</th>\n",
       "      <td>승용일반형 전기차</td>\n",
       "      <td>32</td>\n",
       "      <td>36</td>\n",
       "      <td>38</td>\n",
       "      <td>60</td>\n",
       "      <td>111</td>\n",
       "      <td>174</td>\n",
       "      <td>224</td>\n",
       "      <td>440</td>\n",
       "      <td>638</td>\n",
       "    </tr>\n",
       "    <tr>\n",
       "      <th>1</th>\n",
       "      <td>승용다목적형 전기차</td>\n",
       "      <td>0</td>\n",
       "      <td>0</td>\n",
       "      <td>0</td>\n",
       "      <td>0</td>\n",
       "      <td>104</td>\n",
       "      <td>285</td>\n",
       "      <td>370</td>\n",
       "      <td>595</td>\n",
       "      <td>1041</td>\n",
       "    </tr>\n",
       "    <tr>\n",
       "      <th>2</th>\n",
       "      <td>승용기타형 전기차</td>\n",
       "      <td>0</td>\n",
       "      <td>0</td>\n",
       "      <td>0</td>\n",
       "      <td>0</td>\n",
       "      <td>34</td>\n",
       "      <td>74</td>\n",
       "      <td>78</td>\n",
       "      <td>86</td>\n",
       "      <td>124</td>\n",
       "    </tr>\n",
       "  </tbody>\n",
       "</table>\n",
       "</div>"
      ],
      "text/plain": [
       "           차종  2014년  2015년  2016년  2017년  2018년  2019년  2020년  2021년  2022년\n",
       "0   승용일반형 전기차     32     36     38     60    111    174    224    440    638\n",
       "1  승용다목적형 전기차      0      0      0      0    104    285    370    595   1041\n",
       "2   승용기타형 전기차      0      0      0      0     34     74     78     86    124"
      ]
     },
     "execution_count": 244,
     "metadata": {},
     "output_type": "execute_result"
    }
   ],
   "source": [
    "data_west"
   ]
  },
  {
   "cell_type": "code",
   "execution_count": 245,
   "id": "abda8831-ff25-4a9d-acf8-8a681d1d4782",
   "metadata": {},
   "outputs": [],
   "source": [
    "data_sum1 = data_west.sum(axis=0) #각 칼럼값 더하기."
   ]
  },
  {
   "cell_type": "code",
   "execution_count": 246,
   "id": "264f987a-f256-4015-9405-88c66f6c851c",
   "metadata": {
    "tags": []
   },
   "outputs": [
    {
     "data": {
      "text/plain": [
       "차종       승용일반형 전기차승용다목적형 전기차승용기타형 전기차\n",
       "2014년                              32\n",
       "2015년                              36\n",
       "2016년                              38\n",
       "2017년                              60\n",
       "2018년                             249\n",
       "2019년                             533\n",
       "2020년                             672\n",
       "2021년                            1121\n",
       "2022년                            1803\n",
       "dtype: object"
      ]
     },
     "execution_count": 246,
     "metadata": {},
     "output_type": "execute_result"
    }
   ],
   "source": [
    "data_sum1"
   ]
  },
  {
   "cell_type": "code",
   "execution_count": 247,
   "id": "253b31a5-e4ca-405b-9efb-3982168138fd",
   "metadata": {},
   "outputs": [],
   "source": [
    "data_sum2 = data_sum1.reset_index() # 인덱스 초기화해서 새로운 번호 부여."
   ]
  },
  {
   "cell_type": "code",
   "execution_count": 248,
   "id": "6f9b7700-0879-4c84-8f00-fba8ac8a0598",
   "metadata": {
    "tags": []
   },
   "outputs": [
    {
     "data": {
      "text/html": [
       "<div>\n",
       "<style scoped>\n",
       "    .dataframe tbody tr th:only-of-type {\n",
       "        vertical-align: middle;\n",
       "    }\n",
       "\n",
       "    .dataframe tbody tr th {\n",
       "        vertical-align: top;\n",
       "    }\n",
       "\n",
       "    .dataframe thead th {\n",
       "        text-align: right;\n",
       "    }\n",
       "</style>\n",
       "<table border=\"1\" class=\"dataframe\">\n",
       "  <thead>\n",
       "    <tr style=\"text-align: right;\">\n",
       "      <th></th>\n",
       "      <th>index</th>\n",
       "      <th>0</th>\n",
       "    </tr>\n",
       "  </thead>\n",
       "  <tbody>\n",
       "    <tr>\n",
       "      <th>0</th>\n",
       "      <td>차종</td>\n",
       "      <td>승용일반형 전기차승용다목적형 전기차승용기타형 전기차</td>\n",
       "    </tr>\n",
       "    <tr>\n",
       "      <th>1</th>\n",
       "      <td>2014년</td>\n",
       "      <td>32</td>\n",
       "    </tr>\n",
       "    <tr>\n",
       "      <th>2</th>\n",
       "      <td>2015년</td>\n",
       "      <td>36</td>\n",
       "    </tr>\n",
       "    <tr>\n",
       "      <th>3</th>\n",
       "      <td>2016년</td>\n",
       "      <td>38</td>\n",
       "    </tr>\n",
       "    <tr>\n",
       "      <th>4</th>\n",
       "      <td>2017년</td>\n",
       "      <td>60</td>\n",
       "    </tr>\n",
       "    <tr>\n",
       "      <th>5</th>\n",
       "      <td>2018년</td>\n",
       "      <td>249</td>\n",
       "    </tr>\n",
       "    <tr>\n",
       "      <th>6</th>\n",
       "      <td>2019년</td>\n",
       "      <td>533</td>\n",
       "    </tr>\n",
       "    <tr>\n",
       "      <th>7</th>\n",
       "      <td>2020년</td>\n",
       "      <td>672</td>\n",
       "    </tr>\n",
       "    <tr>\n",
       "      <th>8</th>\n",
       "      <td>2021년</td>\n",
       "      <td>1121</td>\n",
       "    </tr>\n",
       "    <tr>\n",
       "      <th>9</th>\n",
       "      <td>2022년</td>\n",
       "      <td>1803</td>\n",
       "    </tr>\n",
       "  </tbody>\n",
       "</table>\n",
       "</div>"
      ],
      "text/plain": [
       "   index                             0\n",
       "0     차종  승용일반형 전기차승용다목적형 전기차승용기타형 전기차\n",
       "1  2014년                            32\n",
       "2  2015년                            36\n",
       "3  2016년                            38\n",
       "4  2017년                            60\n",
       "5  2018년                           249\n",
       "6  2019년                           533\n",
       "7  2020년                           672\n",
       "8  2021년                          1121\n",
       "9  2022년                          1803"
      ]
     },
     "execution_count": 248,
     "metadata": {},
     "output_type": "execute_result"
    }
   ],
   "source": [
    "data_sum2"
   ]
  },
  {
   "cell_type": "code",
   "execution_count": 249,
   "id": "4e32658f-241e-4111-b399-3acd22361e51",
   "metadata": {},
   "outputs": [],
   "source": [
    "data_sum3 = data_sum2.drop([0]) # 0번 인덱스 삭제."
   ]
  },
  {
   "cell_type": "code",
   "execution_count": 250,
   "id": "4ed2fc23-55f9-4efd-acf2-ef29b14e7e14",
   "metadata": {},
   "outputs": [],
   "source": [
    "data_sum3.columns = ['연도','전기차등록대수'] #새로운 칼럼이름 부여."
   ]
  },
  {
   "cell_type": "code",
   "execution_count": 251,
   "id": "01d45d2a-6b34-45d1-9e82-5ff1d740a321",
   "metadata": {
    "tags": []
   },
   "outputs": [
    {
     "data": {
      "text/html": [
       "<div>\n",
       "<style scoped>\n",
       "    .dataframe tbody tr th:only-of-type {\n",
       "        vertical-align: middle;\n",
       "    }\n",
       "\n",
       "    .dataframe tbody tr th {\n",
       "        vertical-align: top;\n",
       "    }\n",
       "\n",
       "    .dataframe thead th {\n",
       "        text-align: right;\n",
       "    }\n",
       "</style>\n",
       "<table border=\"1\" class=\"dataframe\">\n",
       "  <thead>\n",
       "    <tr style=\"text-align: right;\">\n",
       "      <th></th>\n",
       "      <th>연도</th>\n",
       "      <th>전기차등록대수</th>\n",
       "    </tr>\n",
       "  </thead>\n",
       "  <tbody>\n",
       "    <tr>\n",
       "      <th>1</th>\n",
       "      <td>2014년</td>\n",
       "      <td>32</td>\n",
       "    </tr>\n",
       "    <tr>\n",
       "      <th>2</th>\n",
       "      <td>2015년</td>\n",
       "      <td>36</td>\n",
       "    </tr>\n",
       "    <tr>\n",
       "      <th>3</th>\n",
       "      <td>2016년</td>\n",
       "      <td>38</td>\n",
       "    </tr>\n",
       "    <tr>\n",
       "      <th>4</th>\n",
       "      <td>2017년</td>\n",
       "      <td>60</td>\n",
       "    </tr>\n",
       "    <tr>\n",
       "      <th>5</th>\n",
       "      <td>2018년</td>\n",
       "      <td>249</td>\n",
       "    </tr>\n",
       "    <tr>\n",
       "      <th>6</th>\n",
       "      <td>2019년</td>\n",
       "      <td>533</td>\n",
       "    </tr>\n",
       "    <tr>\n",
       "      <th>7</th>\n",
       "      <td>2020년</td>\n",
       "      <td>672</td>\n",
       "    </tr>\n",
       "    <tr>\n",
       "      <th>8</th>\n",
       "      <td>2021년</td>\n",
       "      <td>1121</td>\n",
       "    </tr>\n",
       "    <tr>\n",
       "      <th>9</th>\n",
       "      <td>2022년</td>\n",
       "      <td>1803</td>\n",
       "    </tr>\n",
       "  </tbody>\n",
       "</table>\n",
       "</div>"
      ],
      "text/plain": [
       "      연도 전기차등록대수\n",
       "1  2014년      32\n",
       "2  2015년      36\n",
       "3  2016년      38\n",
       "4  2017년      60\n",
       "5  2018년     249\n",
       "6  2019년     533\n",
       "7  2020년     672\n",
       "8  2021년    1121\n",
       "9  2022년    1803"
      ]
     },
     "execution_count": 251,
     "metadata": {},
     "output_type": "execute_result"
    }
   ],
   "source": [
    "data_sum3"
   ]
  },
  {
   "cell_type": "code",
   "execution_count": 252,
   "id": "ff938cea-4785-41a8-b51c-b56b1ebc95a4",
   "metadata": {},
   "outputs": [],
   "source": [
    "data_sum3['자치구'] = '서구' # 새로운 칼럼 추가하고 내용 채우기."
   ]
  },
  {
   "cell_type": "code",
   "execution_count": 253,
   "id": "25f56380-2744-4999-97a6-09ee6f5977e2",
   "metadata": {
    "tags": []
   },
   "outputs": [
    {
     "data": {
      "text/html": [
       "<div>\n",
       "<style scoped>\n",
       "    .dataframe tbody tr th:only-of-type {\n",
       "        vertical-align: middle;\n",
       "    }\n",
       "\n",
       "    .dataframe tbody tr th {\n",
       "        vertical-align: top;\n",
       "    }\n",
       "\n",
       "    .dataframe thead th {\n",
       "        text-align: right;\n",
       "    }\n",
       "</style>\n",
       "<table border=\"1\" class=\"dataframe\">\n",
       "  <thead>\n",
       "    <tr style=\"text-align: right;\">\n",
       "      <th></th>\n",
       "      <th>연도</th>\n",
       "      <th>전기차등록대수</th>\n",
       "      <th>자치구</th>\n",
       "    </tr>\n",
       "  </thead>\n",
       "  <tbody>\n",
       "    <tr>\n",
       "      <th>1</th>\n",
       "      <td>2014년</td>\n",
       "      <td>32</td>\n",
       "      <td>서구</td>\n",
       "    </tr>\n",
       "    <tr>\n",
       "      <th>2</th>\n",
       "      <td>2015년</td>\n",
       "      <td>36</td>\n",
       "      <td>서구</td>\n",
       "    </tr>\n",
       "    <tr>\n",
       "      <th>3</th>\n",
       "      <td>2016년</td>\n",
       "      <td>38</td>\n",
       "      <td>서구</td>\n",
       "    </tr>\n",
       "    <tr>\n",
       "      <th>4</th>\n",
       "      <td>2017년</td>\n",
       "      <td>60</td>\n",
       "      <td>서구</td>\n",
       "    </tr>\n",
       "    <tr>\n",
       "      <th>5</th>\n",
       "      <td>2018년</td>\n",
       "      <td>249</td>\n",
       "      <td>서구</td>\n",
       "    </tr>\n",
       "    <tr>\n",
       "      <th>6</th>\n",
       "      <td>2019년</td>\n",
       "      <td>533</td>\n",
       "      <td>서구</td>\n",
       "    </tr>\n",
       "    <tr>\n",
       "      <th>7</th>\n",
       "      <td>2020년</td>\n",
       "      <td>672</td>\n",
       "      <td>서구</td>\n",
       "    </tr>\n",
       "    <tr>\n",
       "      <th>8</th>\n",
       "      <td>2021년</td>\n",
       "      <td>1121</td>\n",
       "      <td>서구</td>\n",
       "    </tr>\n",
       "    <tr>\n",
       "      <th>9</th>\n",
       "      <td>2022년</td>\n",
       "      <td>1803</td>\n",
       "      <td>서구</td>\n",
       "    </tr>\n",
       "  </tbody>\n",
       "</table>\n",
       "</div>"
      ],
      "text/plain": [
       "      연도 전기차등록대수 자치구\n",
       "1  2014년      32  서구\n",
       "2  2015년      36  서구\n",
       "3  2016년      38  서구\n",
       "4  2017년      60  서구\n",
       "5  2018년     249  서구\n",
       "6  2019년     533  서구\n",
       "7  2020년     672  서구\n",
       "8  2021년    1121  서구\n",
       "9  2022년    1803  서구"
      ]
     },
     "execution_count": 253,
     "metadata": {},
     "output_type": "execute_result"
    }
   ],
   "source": [
    "data_sum3"
   ]
  },
  {
   "cell_type": "code",
   "execution_count": 254,
   "id": "a99fd6c8-c56b-457f-8c67-b7279ee0454c",
   "metadata": {
    "tags": []
   },
   "outputs": [],
   "source": [
    "# data_sum3.describe()"
   ]
  },
  {
   "cell_type": "code",
   "execution_count": 255,
   "id": "5e5ac6b9-087b-4faa-b5dc-09236c5e0ece",
   "metadata": {
    "tags": []
   },
   "outputs": [],
   "source": [
    "# plt.figure(figsize=(2,3))\n",
    "# plt.subplot(1,1,1)\n",
    "# ax = sns.barplot(data=data_gs1,\n",
    "#                 x='자치구명',\n",
    "#                 y='전기차 등록대수')\n",
    "\n",
    "\n",
    "\n",
    "# plt.figure(figsize=(2,3))\n",
    "# plt.subplot(1,1,1)\n",
    "# ax = sns.barplot(data=data_south1,\n",
    "#                 x='자치구명',\n",
    "#                 y='전기차 등록대수')\n",
    "\n",
    "# plt.figure(figsize=(2,3))\n",
    "# plt.subplot(1,1,1)\n",
    "# ax = sns.barplot(data=data_east1,\n",
    "#                 x='자치구명',\n",
    "#                 y='전기차등록대수')\n",
    "\n",
    "# plt.figure(figsize=(2,3))\n",
    "# plt.subplot(1,1,1)\n",
    "# ax = sns.barplot(data=data_north1,\n",
    "#                 x='자치구명',\n",
    "#                 y='전기차등록대수')\n",
    "\n",
    "# plt.figure(figsize=(2,3))\n",
    "# plt.subplot(1,1,1)\n",
    "# ax = sns.barplot(data=data_sum3,\n",
    "#                 x='자치구',\n",
    "#                 y='전기차등록대수')\n",
    "# plt.show()"
   ]
  },
  {
   "cell_type": "code",
   "execution_count": null,
   "id": "e5eff7ec-c0e2-4ed8-90cb-319bf529dbb4",
   "metadata": {},
   "outputs": [],
   "source": []
  },
  {
   "cell_type": "code",
   "execution_count": 256,
   "id": "3f96c2fc-7c74-4a06-8a45-dce6d9b11ecd",
   "metadata": {
    "tags": []
   },
   "outputs": [],
   "source": [
    "# data_gs1\n",
    "# data_south1\n",
    "# data_east1\n",
    "# data_north1\n",
    "# data_sum3"
   ]
  },
  {
   "cell_type": "code",
   "execution_count": 257,
   "id": "2461cf16-3446-403c-84c5-b9135cc22a95",
   "metadata": {},
   "outputs": [
    {
     "data": {
      "text/html": [
       "<div>\n",
       "<style scoped>\n",
       "    .dataframe tbody tr th:only-of-type {\n",
       "        vertical-align: middle;\n",
       "    }\n",
       "\n",
       "    .dataframe tbody tr th {\n",
       "        vertical-align: top;\n",
       "    }\n",
       "\n",
       "    .dataframe thead th {\n",
       "        text-align: right;\n",
       "    }\n",
       "</style>\n",
       "<table border=\"1\" class=\"dataframe\">\n",
       "  <thead>\n",
       "    <tr style=\"text-align: right;\">\n",
       "      <th></th>\n",
       "      <th>자치구명</th>\n",
       "      <th>연도</th>\n",
       "      <th>전기차 등록대수</th>\n",
       "    </tr>\n",
       "  </thead>\n",
       "  <tbody>\n",
       "    <tr>\n",
       "      <th>9</th>\n",
       "      <td>광산구</td>\n",
       "      <td>2020</td>\n",
       "      <td>846</td>\n",
       "    </tr>\n",
       "    <tr>\n",
       "      <th>10</th>\n",
       "      <td>광산구</td>\n",
       "      <td>2021</td>\n",
       "      <td>1382</td>\n",
       "    </tr>\n",
       "  </tbody>\n",
       "</table>\n",
       "</div>"
      ],
      "text/plain": [
       "   자치구명    연도  전기차 등록대수\n",
       "9   광산구  2020       846\n",
       "10  광산구  2021      1382"
      ]
     },
     "execution_count": 257,
     "metadata": {},
     "output_type": "execute_result"
    }
   ],
   "source": [
    "data_gs2 = data_gs1.loc[[9,10]]\n",
    "data_gs2"
   ]
  },
  {
   "cell_type": "code",
   "execution_count": 258,
   "id": "0fe116ec-d4ce-4ad4-ae69-82ab5bee6442",
   "metadata": {},
   "outputs": [
    {
     "data": {
      "text/html": [
       "<div>\n",
       "<style scoped>\n",
       "    .dataframe tbody tr th:only-of-type {\n",
       "        vertical-align: middle;\n",
       "    }\n",
       "\n",
       "    .dataframe tbody tr th {\n",
       "        vertical-align: top;\n",
       "    }\n",
       "\n",
       "    .dataframe thead th {\n",
       "        text-align: right;\n",
       "    }\n",
       "</style>\n",
       "<table border=\"1\" class=\"dataframe\">\n",
       "  <thead>\n",
       "    <tr style=\"text-align: right;\">\n",
       "      <th></th>\n",
       "      <th>index</th>\n",
       "      <th>자치구명</th>\n",
       "      <th>연도</th>\n",
       "      <th>전기차 등록대수</th>\n",
       "    </tr>\n",
       "  </thead>\n",
       "  <tbody>\n",
       "    <tr>\n",
       "      <th>0</th>\n",
       "      <td>9</td>\n",
       "      <td>광산구</td>\n",
       "      <td>2020</td>\n",
       "      <td>846</td>\n",
       "    </tr>\n",
       "    <tr>\n",
       "      <th>1</th>\n",
       "      <td>10</td>\n",
       "      <td>광산구</td>\n",
       "      <td>2021</td>\n",
       "      <td>1382</td>\n",
       "    </tr>\n",
       "  </tbody>\n",
       "</table>\n",
       "</div>"
      ],
      "text/plain": [
       "   index 자치구명    연도  전기차 등록대수\n",
       "0      9  광산구  2020       846\n",
       "1     10  광산구  2021      1382"
      ]
     },
     "execution_count": 258,
     "metadata": {},
     "output_type": "execute_result"
    }
   ],
   "source": [
    "data_gs3 = data_gs2.reset_index()\n",
    "data_gs3"
   ]
  },
  {
   "cell_type": "code",
   "execution_count": 259,
   "id": "aacaf6b2-9beb-4078-9cac-35e7ec03aa97",
   "metadata": {},
   "outputs": [
    {
     "data": {
      "text/html": [
       "<div>\n",
       "<style scoped>\n",
       "    .dataframe tbody tr th:only-of-type {\n",
       "        vertical-align: middle;\n",
       "    }\n",
       "\n",
       "    .dataframe tbody tr th {\n",
       "        vertical-align: top;\n",
       "    }\n",
       "\n",
       "    .dataframe thead th {\n",
       "        text-align: right;\n",
       "    }\n",
       "</style>\n",
       "<table border=\"1\" class=\"dataframe\">\n",
       "  <thead>\n",
       "    <tr style=\"text-align: right;\">\n",
       "      <th></th>\n",
       "      <th>자치구명</th>\n",
       "      <th>연도</th>\n",
       "      <th>전기차 등록대수</th>\n",
       "    </tr>\n",
       "  </thead>\n",
       "  <tbody>\n",
       "    <tr>\n",
       "      <th>8</th>\n",
       "      <td>남구</td>\n",
       "      <td>2020</td>\n",
       "      <td>113</td>\n",
       "    </tr>\n",
       "    <tr>\n",
       "      <th>9</th>\n",
       "      <td>남구</td>\n",
       "      <td>2021</td>\n",
       "      <td>207</td>\n",
       "    </tr>\n",
       "  </tbody>\n",
       "</table>\n",
       "</div>"
      ],
      "text/plain": [
       "  자치구명    연도  전기차 등록대수\n",
       "8   남구  2020       113\n",
       "9   남구  2021       207"
      ]
     },
     "execution_count": 259,
     "metadata": {},
     "output_type": "execute_result"
    }
   ],
   "source": [
    "data_south2 = data_south1.loc[[8,9]]\n",
    "data_south2"
   ]
  },
  {
   "cell_type": "code",
   "execution_count": 260,
   "id": "10c2d065-75db-49f8-a86c-9b746e08498a",
   "metadata": {},
   "outputs": [
    {
     "data": {
      "text/html": [
       "<div>\n",
       "<style scoped>\n",
       "    .dataframe tbody tr th:only-of-type {\n",
       "        vertical-align: middle;\n",
       "    }\n",
       "\n",
       "    .dataframe tbody tr th {\n",
       "        vertical-align: top;\n",
       "    }\n",
       "\n",
       "    .dataframe thead th {\n",
       "        text-align: right;\n",
       "    }\n",
       "</style>\n",
       "<table border=\"1\" class=\"dataframe\">\n",
       "  <thead>\n",
       "    <tr style=\"text-align: right;\">\n",
       "      <th></th>\n",
       "      <th>index</th>\n",
       "      <th>자치구명</th>\n",
       "      <th>연도</th>\n",
       "      <th>전기차 등록대수</th>\n",
       "    </tr>\n",
       "  </thead>\n",
       "  <tbody>\n",
       "    <tr>\n",
       "      <th>0</th>\n",
       "      <td>8</td>\n",
       "      <td>남구</td>\n",
       "      <td>2020</td>\n",
       "      <td>113</td>\n",
       "    </tr>\n",
       "    <tr>\n",
       "      <th>1</th>\n",
       "      <td>9</td>\n",
       "      <td>남구</td>\n",
       "      <td>2021</td>\n",
       "      <td>207</td>\n",
       "    </tr>\n",
       "  </tbody>\n",
       "</table>\n",
       "</div>"
      ],
      "text/plain": [
       "   index 자치구명    연도  전기차 등록대수\n",
       "0      8   남구  2020       113\n",
       "1      9   남구  2021       207"
      ]
     },
     "execution_count": 260,
     "metadata": {},
     "output_type": "execute_result"
    }
   ],
   "source": [
    "data_south3 = data_south2.reset_index()\n",
    "data_south3"
   ]
  },
  {
   "cell_type": "code",
   "execution_count": 261,
   "id": "075cd672-cf1a-4b55-b0cf-538dee310800",
   "metadata": {},
   "outputs": [
    {
     "data": {
      "text/html": [
       "<div>\n",
       "<style scoped>\n",
       "    .dataframe tbody tr th:only-of-type {\n",
       "        vertical-align: middle;\n",
       "    }\n",
       "\n",
       "    .dataframe tbody tr th {\n",
       "        vertical-align: top;\n",
       "    }\n",
       "\n",
       "    .dataframe thead th {\n",
       "        text-align: right;\n",
       "    }\n",
       "</style>\n",
       "<table border=\"1\" class=\"dataframe\">\n",
       "  <thead>\n",
       "    <tr style=\"text-align: right;\">\n",
       "      <th></th>\n",
       "      <th>자치구명</th>\n",
       "      <th>연도</th>\n",
       "      <th>전기차등록대수</th>\n",
       "    </tr>\n",
       "  </thead>\n",
       "  <tbody>\n",
       "    <tr>\n",
       "      <th>5</th>\n",
       "      <td>동구</td>\n",
       "      <td>2020</td>\n",
       "      <td>263</td>\n",
       "    </tr>\n",
       "    <tr>\n",
       "      <th>6</th>\n",
       "      <td>동구</td>\n",
       "      <td>2021</td>\n",
       "      <td>384</td>\n",
       "    </tr>\n",
       "  </tbody>\n",
       "</table>\n",
       "</div>"
      ],
      "text/plain": [
       "  자치구명    연도  전기차등록대수\n",
       "5   동구  2020      263\n",
       "6   동구  2021      384"
      ]
     },
     "execution_count": 261,
     "metadata": {},
     "output_type": "execute_result"
    }
   ],
   "source": [
    "data_east2 = data_east1.loc[[5,6]]\n",
    "data_east2"
   ]
  },
  {
   "cell_type": "code",
   "execution_count": 262,
   "id": "cdbee3c4-8d94-42bb-bbb6-46488d9c61ec",
   "metadata": {},
   "outputs": [
    {
     "data": {
      "text/html": [
       "<div>\n",
       "<style scoped>\n",
       "    .dataframe tbody tr th:only-of-type {\n",
       "        vertical-align: middle;\n",
       "    }\n",
       "\n",
       "    .dataframe tbody tr th {\n",
       "        vertical-align: top;\n",
       "    }\n",
       "\n",
       "    .dataframe thead th {\n",
       "        text-align: right;\n",
       "    }\n",
       "</style>\n",
       "<table border=\"1\" class=\"dataframe\">\n",
       "  <thead>\n",
       "    <tr style=\"text-align: right;\">\n",
       "      <th></th>\n",
       "      <th>index</th>\n",
       "      <th>자치구명</th>\n",
       "      <th>연도</th>\n",
       "      <th>전기차등록대수</th>\n",
       "    </tr>\n",
       "  </thead>\n",
       "  <tbody>\n",
       "    <tr>\n",
       "      <th>0</th>\n",
       "      <td>5</td>\n",
       "      <td>동구</td>\n",
       "      <td>2020</td>\n",
       "      <td>263</td>\n",
       "    </tr>\n",
       "    <tr>\n",
       "      <th>1</th>\n",
       "      <td>6</td>\n",
       "      <td>동구</td>\n",
       "      <td>2021</td>\n",
       "      <td>384</td>\n",
       "    </tr>\n",
       "  </tbody>\n",
       "</table>\n",
       "</div>"
      ],
      "text/plain": [
       "   index 자치구명    연도  전기차등록대수\n",
       "0      5   동구  2020      263\n",
       "1      6   동구  2021      384"
      ]
     },
     "execution_count": 262,
     "metadata": {},
     "output_type": "execute_result"
    }
   ],
   "source": [
    "data_east3 = data_east2.reset_index()\n",
    "data_east3"
   ]
  },
  {
   "cell_type": "code",
   "execution_count": 263,
   "id": "81d62bb4-4279-41f4-bfd1-3b95ba358d5d",
   "metadata": {},
   "outputs": [
    {
     "data": {
      "text/html": [
       "<div>\n",
       "<style scoped>\n",
       "    .dataframe tbody tr th:only-of-type {\n",
       "        vertical-align: middle;\n",
       "    }\n",
       "\n",
       "    .dataframe tbody tr th {\n",
       "        vertical-align: top;\n",
       "    }\n",
       "\n",
       "    .dataframe thead th {\n",
       "        text-align: right;\n",
       "    }\n",
       "</style>\n",
       "<table border=\"1\" class=\"dataframe\">\n",
       "  <thead>\n",
       "    <tr style=\"text-align: right;\">\n",
       "      <th></th>\n",
       "      <th>자치구명</th>\n",
       "      <th>연도</th>\n",
       "      <th>전기차등록대수</th>\n",
       "    </tr>\n",
       "  </thead>\n",
       "  <tbody>\n",
       "    <tr>\n",
       "      <th>5</th>\n",
       "      <td>북구</td>\n",
       "      <td>2020</td>\n",
       "      <td>898</td>\n",
       "    </tr>\n",
       "    <tr>\n",
       "      <th>6</th>\n",
       "      <td>북구</td>\n",
       "      <td>2021</td>\n",
       "      <td>1529</td>\n",
       "    </tr>\n",
       "  </tbody>\n",
       "</table>\n",
       "</div>"
      ],
      "text/plain": [
       "  자치구명    연도  전기차등록대수\n",
       "5   북구  2020      898\n",
       "6   북구  2021     1529"
      ]
     },
     "execution_count": 263,
     "metadata": {},
     "output_type": "execute_result"
    }
   ],
   "source": [
    "data_north2 = data_north1.loc[[5,6]]\n",
    "data_north2"
   ]
  },
  {
   "cell_type": "code",
   "execution_count": 264,
   "id": "6a735b13-3ae6-4284-b3b5-cb63869c7050",
   "metadata": {},
   "outputs": [
    {
     "data": {
      "text/html": [
       "<div>\n",
       "<style scoped>\n",
       "    .dataframe tbody tr th:only-of-type {\n",
       "        vertical-align: middle;\n",
       "    }\n",
       "\n",
       "    .dataframe tbody tr th {\n",
       "        vertical-align: top;\n",
       "    }\n",
       "\n",
       "    .dataframe thead th {\n",
       "        text-align: right;\n",
       "    }\n",
       "</style>\n",
       "<table border=\"1\" class=\"dataframe\">\n",
       "  <thead>\n",
       "    <tr style=\"text-align: right;\">\n",
       "      <th></th>\n",
       "      <th>index</th>\n",
       "      <th>자치구명</th>\n",
       "      <th>연도</th>\n",
       "      <th>전기차등록대수</th>\n",
       "    </tr>\n",
       "  </thead>\n",
       "  <tbody>\n",
       "    <tr>\n",
       "      <th>0</th>\n",
       "      <td>5</td>\n",
       "      <td>북구</td>\n",
       "      <td>2020</td>\n",
       "      <td>898</td>\n",
       "    </tr>\n",
       "    <tr>\n",
       "      <th>1</th>\n",
       "      <td>6</td>\n",
       "      <td>북구</td>\n",
       "      <td>2021</td>\n",
       "      <td>1529</td>\n",
       "    </tr>\n",
       "  </tbody>\n",
       "</table>\n",
       "</div>"
      ],
      "text/plain": [
       "   index 자치구명    연도  전기차등록대수\n",
       "0      5   북구  2020      898\n",
       "1      6   북구  2021     1529"
      ]
     },
     "execution_count": 264,
     "metadata": {},
     "output_type": "execute_result"
    }
   ],
   "source": [
    "data_north3 = data_north2.reset_index()\n",
    "data_north3"
   ]
  },
  {
   "cell_type": "code",
   "execution_count": 265,
   "id": "514777d3-279a-40af-aa77-ebd465223a7d",
   "metadata": {},
   "outputs": [
    {
     "data": {
      "text/html": [
       "<div>\n",
       "<style scoped>\n",
       "    .dataframe tbody tr th:only-of-type {\n",
       "        vertical-align: middle;\n",
       "    }\n",
       "\n",
       "    .dataframe tbody tr th {\n",
       "        vertical-align: top;\n",
       "    }\n",
       "\n",
       "    .dataframe thead th {\n",
       "        text-align: right;\n",
       "    }\n",
       "</style>\n",
       "<table border=\"1\" class=\"dataframe\">\n",
       "  <thead>\n",
       "    <tr style=\"text-align: right;\">\n",
       "      <th></th>\n",
       "      <th>연도</th>\n",
       "      <th>전기차등록대수</th>\n",
       "      <th>자치구</th>\n",
       "    </tr>\n",
       "  </thead>\n",
       "  <tbody>\n",
       "    <tr>\n",
       "      <th>7</th>\n",
       "      <td>2020년</td>\n",
       "      <td>672</td>\n",
       "      <td>서구</td>\n",
       "    </tr>\n",
       "    <tr>\n",
       "      <th>8</th>\n",
       "      <td>2021년</td>\n",
       "      <td>1121</td>\n",
       "      <td>서구</td>\n",
       "    </tr>\n",
       "  </tbody>\n",
       "</table>\n",
       "</div>"
      ],
      "text/plain": [
       "      연도 전기차등록대수 자치구\n",
       "7  2020년     672  서구\n",
       "8  2021년    1121  서구"
      ]
     },
     "execution_count": 265,
     "metadata": {},
     "output_type": "execute_result"
    }
   ],
   "source": [
    "data_sum4 = data_sum3.loc[[7,8]]\n",
    "data_sum4"
   ]
  },
  {
   "cell_type": "code",
   "execution_count": 266,
   "id": "61887022-9fab-47d1-8d21-c273e6a4209c",
   "metadata": {},
   "outputs": [
    {
     "data": {
      "text/html": [
       "<div>\n",
       "<style scoped>\n",
       "    .dataframe tbody tr th:only-of-type {\n",
       "        vertical-align: middle;\n",
       "    }\n",
       "\n",
       "    .dataframe tbody tr th {\n",
       "        vertical-align: top;\n",
       "    }\n",
       "\n",
       "    .dataframe thead th {\n",
       "        text-align: right;\n",
       "    }\n",
       "</style>\n",
       "<table border=\"1\" class=\"dataframe\">\n",
       "  <thead>\n",
       "    <tr style=\"text-align: right;\">\n",
       "      <th></th>\n",
       "      <th>index</th>\n",
       "      <th>연도</th>\n",
       "      <th>전기차등록대수</th>\n",
       "      <th>자치구</th>\n",
       "    </tr>\n",
       "  </thead>\n",
       "  <tbody>\n",
       "    <tr>\n",
       "      <th>0</th>\n",
       "      <td>7</td>\n",
       "      <td>2020년</td>\n",
       "      <td>672</td>\n",
       "      <td>서구</td>\n",
       "    </tr>\n",
       "    <tr>\n",
       "      <th>1</th>\n",
       "      <td>8</td>\n",
       "      <td>2021년</td>\n",
       "      <td>1121</td>\n",
       "      <td>서구</td>\n",
       "    </tr>\n",
       "  </tbody>\n",
       "</table>\n",
       "</div>"
      ],
      "text/plain": [
       "   index     연도 전기차등록대수 자치구\n",
       "0      7  2020년     672  서구\n",
       "1      8  2021년    1121  서구"
      ]
     },
     "execution_count": 266,
     "metadata": {},
     "output_type": "execute_result"
    }
   ],
   "source": [
    "data_sum5 = data_sum4.reset_index()\n",
    "data_sum5"
   ]
  },
  {
   "cell_type": "code",
   "execution_count": 267,
   "id": "b1866e88-e5fc-43cc-865b-bd45c7ff9fd0",
   "metadata": {},
   "outputs": [],
   "source": [
    "data_car1 = pd.concat([data_gs3, data_south3], axis=1)"
   ]
  },
  {
   "cell_type": "code",
   "execution_count": 268,
   "id": "92e9a8c4-9525-4b03-9988-d5ef932f9180",
   "metadata": {},
   "outputs": [
    {
     "data": {
      "text/html": [
       "<div>\n",
       "<style scoped>\n",
       "    .dataframe tbody tr th:only-of-type {\n",
       "        vertical-align: middle;\n",
       "    }\n",
       "\n",
       "    .dataframe tbody tr th {\n",
       "        vertical-align: top;\n",
       "    }\n",
       "\n",
       "    .dataframe thead th {\n",
       "        text-align: right;\n",
       "    }\n",
       "</style>\n",
       "<table border=\"1\" class=\"dataframe\">\n",
       "  <thead>\n",
       "    <tr style=\"text-align: right;\">\n",
       "      <th></th>\n",
       "      <th>index</th>\n",
       "      <th>자치구명</th>\n",
       "      <th>연도</th>\n",
       "      <th>전기차 등록대수</th>\n",
       "      <th>index</th>\n",
       "      <th>자치구명</th>\n",
       "      <th>연도</th>\n",
       "      <th>전기차 등록대수</th>\n",
       "    </tr>\n",
       "  </thead>\n",
       "  <tbody>\n",
       "    <tr>\n",
       "      <th>0</th>\n",
       "      <td>9</td>\n",
       "      <td>광산구</td>\n",
       "      <td>2020</td>\n",
       "      <td>846</td>\n",
       "      <td>8</td>\n",
       "      <td>남구</td>\n",
       "      <td>2020</td>\n",
       "      <td>113</td>\n",
       "    </tr>\n",
       "    <tr>\n",
       "      <th>1</th>\n",
       "      <td>10</td>\n",
       "      <td>광산구</td>\n",
       "      <td>2021</td>\n",
       "      <td>1382</td>\n",
       "      <td>9</td>\n",
       "      <td>남구</td>\n",
       "      <td>2021</td>\n",
       "      <td>207</td>\n",
       "    </tr>\n",
       "  </tbody>\n",
       "</table>\n",
       "</div>"
      ],
      "text/plain": [
       "   index 자치구명    연도  전기차 등록대수  index 자치구명    연도  전기차 등록대수\n",
       "0      9  광산구  2020       846      8   남구  2020       113\n",
       "1     10  광산구  2021      1382      9   남구  2021       207"
      ]
     },
     "execution_count": 268,
     "metadata": {},
     "output_type": "execute_result"
    }
   ],
   "source": [
    "data_car1"
   ]
  },
  {
   "cell_type": "code",
   "execution_count": 269,
   "id": "31614e05-b2d9-4972-8b10-3add09d1387d",
   "metadata": {},
   "outputs": [
    {
     "data": {
      "text/html": [
       "<div>\n",
       "<style scoped>\n",
       "    .dataframe tbody tr th:only-of-type {\n",
       "        vertical-align: middle;\n",
       "    }\n",
       "\n",
       "    .dataframe tbody tr th {\n",
       "        vertical-align: top;\n",
       "    }\n",
       "\n",
       "    .dataframe thead th {\n",
       "        text-align: right;\n",
       "    }\n",
       "</style>\n",
       "<table border=\"1\" class=\"dataframe\">\n",
       "  <thead>\n",
       "    <tr style=\"text-align: right;\">\n",
       "      <th></th>\n",
       "      <th>index</th>\n",
       "      <th>자치구명</th>\n",
       "      <th>연도</th>\n",
       "      <th>전기차등록대수</th>\n",
       "      <th>index</th>\n",
       "      <th>자치구명</th>\n",
       "      <th>연도</th>\n",
       "      <th>전기차등록대수</th>\n",
       "    </tr>\n",
       "  </thead>\n",
       "  <tbody>\n",
       "    <tr>\n",
       "      <th>0</th>\n",
       "      <td>5</td>\n",
       "      <td>동구</td>\n",
       "      <td>2020</td>\n",
       "      <td>263</td>\n",
       "      <td>5</td>\n",
       "      <td>북구</td>\n",
       "      <td>2020</td>\n",
       "      <td>898</td>\n",
       "    </tr>\n",
       "    <tr>\n",
       "      <th>1</th>\n",
       "      <td>6</td>\n",
       "      <td>동구</td>\n",
       "      <td>2021</td>\n",
       "      <td>384</td>\n",
       "      <td>6</td>\n",
       "      <td>북구</td>\n",
       "      <td>2021</td>\n",
       "      <td>1529</td>\n",
       "    </tr>\n",
       "  </tbody>\n",
       "</table>\n",
       "</div>"
      ],
      "text/plain": [
       "   index 자치구명    연도  전기차등록대수  index 자치구명    연도  전기차등록대수\n",
       "0      5   동구  2020      263      5   북구  2020      898\n",
       "1      6   동구  2021      384      6   북구  2021     1529"
      ]
     },
     "execution_count": 269,
     "metadata": {},
     "output_type": "execute_result"
    }
   ],
   "source": [
    "data_car2 = pd.concat([data_east3, data_north3], axis=1)\n",
    "data_car2"
   ]
  },
  {
   "cell_type": "code",
   "execution_count": 270,
   "id": "43355740-62b0-4312-a7de-848598ea1b20",
   "metadata": {},
   "outputs": [
    {
     "data": {
      "text/html": [
       "<div>\n",
       "<style scoped>\n",
       "    .dataframe tbody tr th:only-of-type {\n",
       "        vertical-align: middle;\n",
       "    }\n",
       "\n",
       "    .dataframe tbody tr th {\n",
       "        vertical-align: top;\n",
       "    }\n",
       "\n",
       "    .dataframe thead th {\n",
       "        text-align: right;\n",
       "    }\n",
       "</style>\n",
       "<table border=\"1\" class=\"dataframe\">\n",
       "  <thead>\n",
       "    <tr style=\"text-align: right;\">\n",
       "      <th></th>\n",
       "      <th>index</th>\n",
       "      <th>자치구명</th>\n",
       "      <th>연도</th>\n",
       "      <th>전기차 등록대수</th>\n",
       "      <th>index</th>\n",
       "      <th>자치구명</th>\n",
       "      <th>연도</th>\n",
       "      <th>전기차 등록대수</th>\n",
       "      <th>index</th>\n",
       "      <th>자치구명</th>\n",
       "      <th>연도</th>\n",
       "      <th>전기차등록대수</th>\n",
       "      <th>index</th>\n",
       "      <th>자치구명</th>\n",
       "      <th>연도</th>\n",
       "      <th>전기차등록대수</th>\n",
       "    </tr>\n",
       "  </thead>\n",
       "  <tbody>\n",
       "    <tr>\n",
       "      <th>0</th>\n",
       "      <td>9</td>\n",
       "      <td>광산구</td>\n",
       "      <td>2020</td>\n",
       "      <td>846</td>\n",
       "      <td>8</td>\n",
       "      <td>남구</td>\n",
       "      <td>2020</td>\n",
       "      <td>113</td>\n",
       "      <td>5</td>\n",
       "      <td>동구</td>\n",
       "      <td>2020</td>\n",
       "      <td>263</td>\n",
       "      <td>5</td>\n",
       "      <td>북구</td>\n",
       "      <td>2020</td>\n",
       "      <td>898</td>\n",
       "    </tr>\n",
       "    <tr>\n",
       "      <th>1</th>\n",
       "      <td>10</td>\n",
       "      <td>광산구</td>\n",
       "      <td>2021</td>\n",
       "      <td>1382</td>\n",
       "      <td>9</td>\n",
       "      <td>남구</td>\n",
       "      <td>2021</td>\n",
       "      <td>207</td>\n",
       "      <td>6</td>\n",
       "      <td>동구</td>\n",
       "      <td>2021</td>\n",
       "      <td>384</td>\n",
       "      <td>6</td>\n",
       "      <td>북구</td>\n",
       "      <td>2021</td>\n",
       "      <td>1529</td>\n",
       "    </tr>\n",
       "  </tbody>\n",
       "</table>\n",
       "</div>"
      ],
      "text/plain": [
       "   index 자치구명    연도  전기차 등록대수  index 자치구명    연도  전기차 등록대수  index 자치구명    연도  \\\n",
       "0      9  광산구  2020       846      8   남구  2020       113      5   동구  2020   \n",
       "1     10  광산구  2021      1382      9   남구  2021       207      6   동구  2021   \n",
       "\n",
       "   전기차등록대수  index 자치구명    연도  전기차등록대수  \n",
       "0      263      5   북구  2020      898  \n",
       "1      384      6   북구  2021     1529  "
      ]
     },
     "execution_count": 270,
     "metadata": {},
     "output_type": "execute_result"
    }
   ],
   "source": [
    "data_car3 = pd.concat([data_car1, data_car2], axis=1)\n",
    "data_car3"
   ]
  },
  {
   "cell_type": "code",
   "execution_count": 271,
   "id": "40568f69-e806-44da-af0a-13ab6f9176f2",
   "metadata": {},
   "outputs": [
    {
     "data": {
      "text/html": [
       "<div>\n",
       "<style scoped>\n",
       "    .dataframe tbody tr th:only-of-type {\n",
       "        vertical-align: middle;\n",
       "    }\n",
       "\n",
       "    .dataframe tbody tr th {\n",
       "        vertical-align: top;\n",
       "    }\n",
       "\n",
       "    .dataframe thead th {\n",
       "        text-align: right;\n",
       "    }\n",
       "</style>\n",
       "<table border=\"1\" class=\"dataframe\">\n",
       "  <thead>\n",
       "    <tr style=\"text-align: right;\">\n",
       "      <th></th>\n",
       "      <th>index</th>\n",
       "      <th>자치구명</th>\n",
       "      <th>연도</th>\n",
       "      <th>전기차 등록대수</th>\n",
       "      <th>index</th>\n",
       "      <th>자치구명</th>\n",
       "      <th>연도</th>\n",
       "      <th>전기차 등록대수</th>\n",
       "      <th>index</th>\n",
       "      <th>자치구명</th>\n",
       "      <th>연도</th>\n",
       "      <th>전기차등록대수</th>\n",
       "      <th>index</th>\n",
       "      <th>자치구명</th>\n",
       "      <th>연도</th>\n",
       "      <th>전기차등록대수</th>\n",
       "      <th>index</th>\n",
       "      <th>연도</th>\n",
       "      <th>전기차등록대수</th>\n",
       "      <th>자치구</th>\n",
       "    </tr>\n",
       "  </thead>\n",
       "  <tbody>\n",
       "    <tr>\n",
       "      <th>0</th>\n",
       "      <td>9</td>\n",
       "      <td>광산구</td>\n",
       "      <td>2020</td>\n",
       "      <td>846</td>\n",
       "      <td>8</td>\n",
       "      <td>남구</td>\n",
       "      <td>2020</td>\n",
       "      <td>113</td>\n",
       "      <td>5</td>\n",
       "      <td>동구</td>\n",
       "      <td>2020</td>\n",
       "      <td>263</td>\n",
       "      <td>5</td>\n",
       "      <td>북구</td>\n",
       "      <td>2020</td>\n",
       "      <td>898</td>\n",
       "      <td>7</td>\n",
       "      <td>2020년</td>\n",
       "      <td>672</td>\n",
       "      <td>서구</td>\n",
       "    </tr>\n",
       "    <tr>\n",
       "      <th>1</th>\n",
       "      <td>10</td>\n",
       "      <td>광산구</td>\n",
       "      <td>2021</td>\n",
       "      <td>1382</td>\n",
       "      <td>9</td>\n",
       "      <td>남구</td>\n",
       "      <td>2021</td>\n",
       "      <td>207</td>\n",
       "      <td>6</td>\n",
       "      <td>동구</td>\n",
       "      <td>2021</td>\n",
       "      <td>384</td>\n",
       "      <td>6</td>\n",
       "      <td>북구</td>\n",
       "      <td>2021</td>\n",
       "      <td>1529</td>\n",
       "      <td>8</td>\n",
       "      <td>2021년</td>\n",
       "      <td>1121</td>\n",
       "      <td>서구</td>\n",
       "    </tr>\n",
       "  </tbody>\n",
       "</table>\n",
       "</div>"
      ],
      "text/plain": [
       "   index 자치구명    연도  전기차 등록대수  index 자치구명    연도  전기차 등록대수  index 자치구명    연도  \\\n",
       "0      9  광산구  2020       846      8   남구  2020       113      5   동구  2020   \n",
       "1     10  광산구  2021      1382      9   남구  2021       207      6   동구  2021   \n",
       "\n",
       "  전기차등록대수  index 자치구명    연도 전기차등록대수  index     연도 전기차등록대수 자치구  \n",
       "0     263      5   북구  2020     898      7  2020년     672  서구  \n",
       "1     384      6   북구  2021    1529      8  2021년    1121  서구  "
      ]
     },
     "execution_count": 271,
     "metadata": {},
     "output_type": "execute_result"
    }
   ],
   "source": [
    "data_car4 = pd.concat([data_car3, data_sum5], axis=1)\n",
    "data_car4"
   ]
  },
  {
   "cell_type": "code",
   "execution_count": 272,
   "id": "c43d88f0-23db-49a3-90e3-83ccc3b63e8f",
   "metadata": {},
   "outputs": [
    {
     "data": {
      "text/html": [
       "<div>\n",
       "<style scoped>\n",
       "    .dataframe tbody tr th:only-of-type {\n",
       "        vertical-align: middle;\n",
       "    }\n",
       "\n",
       "    .dataframe tbody tr th {\n",
       "        vertical-align: top;\n",
       "    }\n",
       "\n",
       "    .dataframe thead th {\n",
       "        text-align: right;\n",
       "    }\n",
       "</style>\n",
       "<table border=\"1\" class=\"dataframe\">\n",
       "  <thead>\n",
       "    <tr style=\"text-align: right;\">\n",
       "      <th></th>\n",
       "      <th>자치구명</th>\n",
       "      <th>연도</th>\n",
       "      <th>전기차 등록대수</th>\n",
       "      <th>자치구명</th>\n",
       "      <th>연도</th>\n",
       "      <th>전기차 등록대수</th>\n",
       "      <th>자치구명</th>\n",
       "      <th>연도</th>\n",
       "      <th>전기차등록대수</th>\n",
       "      <th>자치구명</th>\n",
       "      <th>연도</th>\n",
       "      <th>전기차등록대수</th>\n",
       "      <th>연도</th>\n",
       "      <th>전기차등록대수</th>\n",
       "      <th>자치구</th>\n",
       "    </tr>\n",
       "  </thead>\n",
       "  <tbody>\n",
       "    <tr>\n",
       "      <th>0</th>\n",
       "      <td>광산구</td>\n",
       "      <td>2020</td>\n",
       "      <td>846</td>\n",
       "      <td>남구</td>\n",
       "      <td>2020</td>\n",
       "      <td>113</td>\n",
       "      <td>동구</td>\n",
       "      <td>2020</td>\n",
       "      <td>263</td>\n",
       "      <td>북구</td>\n",
       "      <td>2020</td>\n",
       "      <td>898</td>\n",
       "      <td>2020년</td>\n",
       "      <td>672</td>\n",
       "      <td>서구</td>\n",
       "    </tr>\n",
       "    <tr>\n",
       "      <th>1</th>\n",
       "      <td>광산구</td>\n",
       "      <td>2021</td>\n",
       "      <td>1382</td>\n",
       "      <td>남구</td>\n",
       "      <td>2021</td>\n",
       "      <td>207</td>\n",
       "      <td>동구</td>\n",
       "      <td>2021</td>\n",
       "      <td>384</td>\n",
       "      <td>북구</td>\n",
       "      <td>2021</td>\n",
       "      <td>1529</td>\n",
       "      <td>2021년</td>\n",
       "      <td>1121</td>\n",
       "      <td>서구</td>\n",
       "    </tr>\n",
       "  </tbody>\n",
       "</table>\n",
       "</div>"
      ],
      "text/plain": [
       "  자치구명    연도  전기차 등록대수 자치구명    연도  전기차 등록대수 자치구명    연도 전기차등록대수 자치구명    연도  \\\n",
       "0  광산구  2020       846   남구  2020       113   동구  2020     263   북구  2020   \n",
       "1  광산구  2021      1382   남구  2021       207   동구  2021     384   북구  2021   \n",
       "\n",
       "  전기차등록대수     연도 전기차등록대수 자치구  \n",
       "0     898  2020년     672  서구  \n",
       "1    1529  2021년    1121  서구  "
      ]
     },
     "execution_count": 272,
     "metadata": {},
     "output_type": "execute_result"
    }
   ],
   "source": [
    "data_car5 = data_car4.drop(['index'],axis=1)\n",
    "data_car5"
   ]
  },
  {
   "cell_type": "code",
   "execution_count": 273,
   "id": "030a5eaa-0b88-4ea5-bf89-2bf8808959f3",
   "metadata": {},
   "outputs": [
    {
     "data": {
      "text/html": [
       "<div>\n",
       "<style scoped>\n",
       "    .dataframe tbody tr th:only-of-type {\n",
       "        vertical-align: middle;\n",
       "    }\n",
       "\n",
       "    .dataframe tbody tr th {\n",
       "        vertical-align: top;\n",
       "    }\n",
       "\n",
       "    .dataframe thead th {\n",
       "        text-align: right;\n",
       "    }\n",
       "</style>\n",
       "<table border=\"1\" class=\"dataframe\">\n",
       "  <thead>\n",
       "    <tr style=\"text-align: right;\">\n",
       "      <th></th>\n",
       "      <th>자치구명</th>\n",
       "      <th>전기차 등록대수</th>\n",
       "      <th>자치구명</th>\n",
       "      <th>전기차 등록대수</th>\n",
       "      <th>자치구명</th>\n",
       "      <th>전기차등록대수</th>\n",
       "      <th>자치구명</th>\n",
       "      <th>전기차등록대수</th>\n",
       "      <th>전기차등록대수</th>\n",
       "      <th>자치구</th>\n",
       "    </tr>\n",
       "  </thead>\n",
       "  <tbody>\n",
       "    <tr>\n",
       "      <th>0</th>\n",
       "      <td>광산구</td>\n",
       "      <td>846</td>\n",
       "      <td>남구</td>\n",
       "      <td>113</td>\n",
       "      <td>동구</td>\n",
       "      <td>263</td>\n",
       "      <td>북구</td>\n",
       "      <td>898</td>\n",
       "      <td>672</td>\n",
       "      <td>서구</td>\n",
       "    </tr>\n",
       "    <tr>\n",
       "      <th>1</th>\n",
       "      <td>광산구</td>\n",
       "      <td>1382</td>\n",
       "      <td>남구</td>\n",
       "      <td>207</td>\n",
       "      <td>동구</td>\n",
       "      <td>384</td>\n",
       "      <td>북구</td>\n",
       "      <td>1529</td>\n",
       "      <td>1121</td>\n",
       "      <td>서구</td>\n",
       "    </tr>\n",
       "  </tbody>\n",
       "</table>\n",
       "</div>"
      ],
      "text/plain": [
       "  자치구명  전기차 등록대수 자치구명  전기차 등록대수 자치구명 전기차등록대수 자치구명 전기차등록대수 전기차등록대수 자치구\n",
       "0  광산구       846   남구       113   동구     263   북구     898     672  서구\n",
       "1  광산구      1382   남구       207   동구     384   북구    1529    1121  서구"
      ]
     },
     "execution_count": 273,
     "metadata": {},
     "output_type": "execute_result"
    }
   ],
   "source": [
    "datacar = data_car5.drop(['연도'],axis=1)\n",
    "datacar"
   ]
  },
  {
   "cell_type": "code",
   "execution_count": 274,
   "id": "ca420ba8-8785-401b-b6bc-fb193df0ede6",
   "metadata": {},
   "outputs": [
    {
     "data": {
      "text/html": [
       "<div>\n",
       "<style scoped>\n",
       "    .dataframe tbody tr th:only-of-type {\n",
       "        vertical-align: middle;\n",
       "    }\n",
       "\n",
       "    .dataframe tbody tr th {\n",
       "        vertical-align: top;\n",
       "    }\n",
       "\n",
       "    .dataframe thead th {\n",
       "        text-align: right;\n",
       "    }\n",
       "</style>\n",
       "<table border=\"1\" class=\"dataframe\">\n",
       "  <thead>\n",
       "    <tr style=\"text-align: right;\">\n",
       "      <th></th>\n",
       "      <th>자치구명</th>\n",
       "      <th>전기차 등록대수</th>\n",
       "      <th>자치구명</th>\n",
       "      <th>전기차 등록대수</th>\n",
       "      <th>자치구명</th>\n",
       "      <th>전기차등록대수</th>\n",
       "      <th>자치구명</th>\n",
       "      <th>전기차등록대수</th>\n",
       "      <th>전기차등록대수</th>\n",
       "      <th>자치구</th>\n",
       "    </tr>\n",
       "  </thead>\n",
       "  <tbody>\n",
       "    <tr>\n",
       "      <th>0</th>\n",
       "      <td>광산구</td>\n",
       "      <td>846</td>\n",
       "      <td>남구</td>\n",
       "      <td>113</td>\n",
       "      <td>동구</td>\n",
       "      <td>263</td>\n",
       "      <td>북구</td>\n",
       "      <td>898</td>\n",
       "      <td>672</td>\n",
       "      <td>서구</td>\n",
       "    </tr>\n",
       "    <tr>\n",
       "      <th>1</th>\n",
       "      <td>광산구</td>\n",
       "      <td>1382</td>\n",
       "      <td>남구</td>\n",
       "      <td>207</td>\n",
       "      <td>동구</td>\n",
       "      <td>384</td>\n",
       "      <td>북구</td>\n",
       "      <td>1529</td>\n",
       "      <td>1121</td>\n",
       "      <td>서구</td>\n",
       "    </tr>\n",
       "  </tbody>\n",
       "</table>\n",
       "</div>"
      ],
      "text/plain": [
       "  자치구명  전기차 등록대수 자치구명  전기차 등록대수 자치구명 전기차등록대수 자치구명 전기차등록대수 전기차등록대수 자치구\n",
       "0  광산구       846   남구       113   동구     263   북구     898     672  서구\n",
       "1  광산구      1382   남구       207   동구     384   북구    1529    1121  서구"
      ]
     },
     "execution_count": 274,
     "metadata": {},
     "output_type": "execute_result"
    }
   ],
   "source": [
    "datacar"
   ]
  },
  {
   "cell_type": "code",
   "execution_count": 275,
   "id": "c149477c-ac78-4ff3-9864-f8279aed0bb1",
   "metadata": {},
   "outputs": [
    {
     "data": {
      "text/plain": [
       "['자치구명',\n",
       " '전기차등록대수',\n",
       " '자치구명',\n",
       " '전기차등록대수',\n",
       " '자치구명',\n",
       " '전기차등록대수',\n",
       " '자치구명',\n",
       " '전기차등록대수',\n",
       " '전기차등록대수',\n",
       " '자치구명']"
      ]
     },
     "execution_count": 275,
     "metadata": {},
     "output_type": "execute_result"
    }
   ],
   "source": [
    "datacar1 = datacar.columns = ['자치구명','전기차등록대수','자치구명','전기차등록대수','자치구명','전기차등록대수','자치구명','전기차등록대수','전기차등록대수','자치구명']\n",
    "datacar1"
   ]
  },
  {
   "cell_type": "code",
   "execution_count": 276,
   "id": "24d83867-f486-4d95-9c5c-3c5b55aa4ddb",
   "metadata": {
    "tags": []
   },
   "outputs": [],
   "source": [
    "# charger2002_df= chargegj2002_diststat_df[['구', '충전기구분']]\n",
    "# acountsch2002d = charger2002_df.groupby([\"구\", \"충전기구분\"]).size() #, as_index= False).size()\n",
    "# pd.DataFrame(acountsch2002d)\n",
    "\n"
   ]
  },
  {
   "cell_type": "code",
   "execution_count": 277,
   "id": "3b43b14f-2fa6-40ed-ae0e-99b0b5ce2782",
   "metadata": {},
   "outputs": [
    {
     "data": {
      "text/html": [
       "<div>\n",
       "<style scoped>\n",
       "    .dataframe tbody tr th:only-of-type {\n",
       "        vertical-align: middle;\n",
       "    }\n",
       "\n",
       "    .dataframe tbody tr th {\n",
       "        vertical-align: top;\n",
       "    }\n",
       "\n",
       "    .dataframe thead th {\n",
       "        text-align: right;\n",
       "    }\n",
       "</style>\n",
       "<table border=\"1\" class=\"dataframe\">\n",
       "  <thead>\n",
       "    <tr style=\"text-align: right;\">\n",
       "      <th></th>\n",
       "      <th>자치구명</th>\n",
       "      <th>전기차등록대수</th>\n",
       "      <th>자치구명</th>\n",
       "      <th>전기차등록대수</th>\n",
       "      <th>자치구명</th>\n",
       "      <th>전기차등록대수</th>\n",
       "      <th>자치구명</th>\n",
       "      <th>전기차등록대수</th>\n",
       "      <th>전기차등록대수</th>\n",
       "      <th>자치구명</th>\n",
       "    </tr>\n",
       "  </thead>\n",
       "  <tbody>\n",
       "    <tr>\n",
       "      <th>0</th>\n",
       "      <td>광산구</td>\n",
       "      <td>846</td>\n",
       "      <td>남구</td>\n",
       "      <td>113</td>\n",
       "      <td>동구</td>\n",
       "      <td>263</td>\n",
       "      <td>북구</td>\n",
       "      <td>898</td>\n",
       "      <td>672</td>\n",
       "      <td>서구</td>\n",
       "    </tr>\n",
       "    <tr>\n",
       "      <th>1</th>\n",
       "      <td>광산구</td>\n",
       "      <td>1382</td>\n",
       "      <td>남구</td>\n",
       "      <td>207</td>\n",
       "      <td>동구</td>\n",
       "      <td>384</td>\n",
       "      <td>북구</td>\n",
       "      <td>1529</td>\n",
       "      <td>1121</td>\n",
       "      <td>서구</td>\n",
       "    </tr>\n",
       "  </tbody>\n",
       "</table>\n",
       "</div>"
      ],
      "text/plain": [
       "  자치구명 전기차등록대수 자치구명 전기차등록대수 자치구명 전기차등록대수 자치구명 전기차등록대수 전기차등록대수 자치구명\n",
       "0  광산구     846   남구     113   동구     263   북구     898     672   서구\n",
       "1  광산구    1382   남구     207   동구     384   북구    1529    1121   서구"
      ]
     },
     "execution_count": 277,
     "metadata": {},
     "output_type": "execute_result"
    }
   ],
   "source": [
    "datacar"
   ]
  },
  {
   "cell_type": "code",
   "execution_count": 278,
   "id": "f2caa5c4-74c3-4e19-8cef-4243c6379b09",
   "metadata": {},
   "outputs": [],
   "source": [
    "datacar2 = datacar.drop(['자치구명'],axis = 1)"
   ]
  },
  {
   "cell_type": "code",
   "execution_count": 279,
   "id": "734c69ac-9ad4-426d-950c-d0d8a7b17106",
   "metadata": {},
   "outputs": [
    {
     "data": {
      "text/html": [
       "<div>\n",
       "<style scoped>\n",
       "    .dataframe tbody tr th:only-of-type {\n",
       "        vertical-align: middle;\n",
       "    }\n",
       "\n",
       "    .dataframe tbody tr th {\n",
       "        vertical-align: top;\n",
       "    }\n",
       "\n",
       "    .dataframe thead th {\n",
       "        text-align: right;\n",
       "    }\n",
       "</style>\n",
       "<table border=\"1\" class=\"dataframe\">\n",
       "  <thead>\n",
       "    <tr style=\"text-align: right;\">\n",
       "      <th></th>\n",
       "      <th>전기차등록대수</th>\n",
       "      <th>전기차등록대수</th>\n",
       "      <th>전기차등록대수</th>\n",
       "      <th>전기차등록대수</th>\n",
       "      <th>전기차등록대수</th>\n",
       "    </tr>\n",
       "  </thead>\n",
       "  <tbody>\n",
       "    <tr>\n",
       "      <th>0</th>\n",
       "      <td>846</td>\n",
       "      <td>113</td>\n",
       "      <td>263</td>\n",
       "      <td>898</td>\n",
       "      <td>672</td>\n",
       "    </tr>\n",
       "    <tr>\n",
       "      <th>1</th>\n",
       "      <td>1382</td>\n",
       "      <td>207</td>\n",
       "      <td>384</td>\n",
       "      <td>1529</td>\n",
       "      <td>1121</td>\n",
       "    </tr>\n",
       "  </tbody>\n",
       "</table>\n",
       "</div>"
      ],
      "text/plain": [
       "  전기차등록대수 전기차등록대수 전기차등록대수 전기차등록대수 전기차등록대수\n",
       "0     846     113     263     898     672\n",
       "1    1382     207     384    1529    1121"
      ]
     },
     "execution_count": 279,
     "metadata": {},
     "output_type": "execute_result"
    }
   ],
   "source": [
    "datacar2"
   ]
  },
  {
   "cell_type": "code",
   "execution_count": 280,
   "id": "76d7c787-b48f-442c-aead-24101be8c4be",
   "metadata": {},
   "outputs": [],
   "source": [
    "datacar3 = datacar2.columns = ['광산구','남구','동구','북구','서구']"
   ]
  },
  {
   "cell_type": "code",
   "execution_count": 281,
   "id": "8e9af1b1-8bac-446a-8f34-4d5f9ddffd12",
   "metadata": {},
   "outputs": [
    {
     "data": {
      "text/plain": [
       "['광산구', '남구', '동구', '북구', '서구']"
      ]
     },
     "execution_count": 281,
     "metadata": {},
     "output_type": "execute_result"
    }
   ],
   "source": [
    "datacar3"
   ]
  },
  {
   "cell_type": "code",
   "execution_count": 282,
   "id": "ba2f7c63-4edf-4de3-87b2-2d15ed5f5d49",
   "metadata": {},
   "outputs": [
    {
     "name": "stdout",
     "output_type": "stream",
     "text": [
      "<class 'pandas.core.frame.DataFrame'>\n",
      "RangeIndex: 2 entries, 0 to 1\n",
      "Data columns (total 5 columns):\n",
      " #   Column  Non-Null Count  Dtype \n",
      "---  ------  --------------  ----- \n",
      " 0   광산구     2 non-null      int64 \n",
      " 1   남구      2 non-null      int64 \n",
      " 2   동구      2 non-null      int64 \n",
      " 3   북구      2 non-null      int64 \n",
      " 4   서구      2 non-null      object\n",
      "dtypes: int64(4), object(1)\n",
      "memory usage: 208.0+ bytes\n"
     ]
    }
   ],
   "source": [
    "datacar2.info()"
   ]
  },
  {
   "cell_type": "code",
   "execution_count": 283,
   "id": "1eeb7220-2eed-49a0-831f-9f4f0654d808",
   "metadata": {},
   "outputs": [],
   "source": [
    "datacar2.index = ['2020','2021']"
   ]
  },
  {
   "cell_type": "code",
   "execution_count": 284,
   "id": "109422c2-f14c-4add-a73c-274d3e90166b",
   "metadata": {},
   "outputs": [
    {
     "data": {
      "text/html": [
       "<div>\n",
       "<style scoped>\n",
       "    .dataframe tbody tr th:only-of-type {\n",
       "        vertical-align: middle;\n",
       "    }\n",
       "\n",
       "    .dataframe tbody tr th {\n",
       "        vertical-align: top;\n",
       "    }\n",
       "\n",
       "    .dataframe thead th {\n",
       "        text-align: right;\n",
       "    }\n",
       "</style>\n",
       "<table border=\"1\" class=\"dataframe\">\n",
       "  <thead>\n",
       "    <tr style=\"text-align: right;\">\n",
       "      <th></th>\n",
       "      <th>2020</th>\n",
       "      <th>2021</th>\n",
       "    </tr>\n",
       "  </thead>\n",
       "  <tbody>\n",
       "    <tr>\n",
       "      <th>광산구</th>\n",
       "      <td>846</td>\n",
       "      <td>1382</td>\n",
       "    </tr>\n",
       "    <tr>\n",
       "      <th>남구</th>\n",
       "      <td>113</td>\n",
       "      <td>207</td>\n",
       "    </tr>\n",
       "    <tr>\n",
       "      <th>동구</th>\n",
       "      <td>263</td>\n",
       "      <td>384</td>\n",
       "    </tr>\n",
       "    <tr>\n",
       "      <th>북구</th>\n",
       "      <td>898</td>\n",
       "      <td>1529</td>\n",
       "    </tr>\n",
       "    <tr>\n",
       "      <th>서구</th>\n",
       "      <td>672</td>\n",
       "      <td>1121</td>\n",
       "    </tr>\n",
       "  </tbody>\n",
       "</table>\n",
       "</div>"
      ],
      "text/plain": [
       "    2020  2021\n",
       "광산구  846  1382\n",
       "남구   113   207\n",
       "동구   263   384\n",
       "북구   898  1529\n",
       "서구   672  1121"
      ]
     },
     "execution_count": 284,
     "metadata": {},
     "output_type": "execute_result"
    }
   ],
   "source": [
    "datacar2.T"
   ]
  },
  {
   "cell_type": "code",
   "execution_count": 285,
   "id": "bf76f9d2-311c-426d-8c34-f1686aa2fa83",
   "metadata": {},
   "outputs": [],
   "source": [
    "# datacar2['자치구'] = datacar2[['광산구 전기차 등록대수','남구 전기차 등록대수','동구 전기차 등록대수','북구 전기차 등록대수','서구 전기차 등록대수']].apply(\n",
    "#     lambda x : str(x).split('구')[1])"
   ]
  },
  {
   "cell_type": "code",
   "execution_count": null,
   "id": "74a3e130-6c9c-4da4-8ee7-6620e0626699",
   "metadata": {},
   "outputs": [],
   "source": []
  },
  {
   "cell_type": "code",
   "execution_count": 286,
   "id": "2f411f94-d8ab-4c85-84aa-79da63d75dcc",
   "metadata": {},
   "outputs": [
    {
     "data": {
      "text/html": [
       "<div>\n",
       "<style scoped>\n",
       "    .dataframe tbody tr th:only-of-type {\n",
       "        vertical-align: middle;\n",
       "    }\n",
       "\n",
       "    .dataframe tbody tr th {\n",
       "        vertical-align: top;\n",
       "    }\n",
       "\n",
       "    .dataframe thead th {\n",
       "        text-align: right;\n",
       "    }\n",
       "</style>\n",
       "<table border=\"1\" class=\"dataframe\">\n",
       "  <thead>\n",
       "    <tr style=\"text-align: right;\">\n",
       "      <th></th>\n",
       "      <th>2020</th>\n",
       "      <th>2021</th>\n",
       "    </tr>\n",
       "  </thead>\n",
       "  <tbody>\n",
       "    <tr>\n",
       "      <th>광산구</th>\n",
       "      <td>846</td>\n",
       "      <td>1382</td>\n",
       "    </tr>\n",
       "    <tr>\n",
       "      <th>남구</th>\n",
       "      <td>113</td>\n",
       "      <td>207</td>\n",
       "    </tr>\n",
       "    <tr>\n",
       "      <th>동구</th>\n",
       "      <td>263</td>\n",
       "      <td>384</td>\n",
       "    </tr>\n",
       "    <tr>\n",
       "      <th>북구</th>\n",
       "      <td>898</td>\n",
       "      <td>1529</td>\n",
       "    </tr>\n",
       "    <tr>\n",
       "      <th>서구</th>\n",
       "      <td>672</td>\n",
       "      <td>1121</td>\n",
       "    </tr>\n",
       "  </tbody>\n",
       "</table>\n",
       "</div>"
      ],
      "text/plain": [
       "    2020  2021\n",
       "광산구  846  1382\n",
       "남구   113   207\n",
       "동구   263   384\n",
       "북구   898  1529\n",
       "서구   672  1121"
      ]
     },
     "execution_count": 286,
     "metadata": {},
     "output_type": "execute_result"
    }
   ],
   "source": [
    "datacar2.T"
   ]
  },
  {
   "cell_type": "code",
   "execution_count": 287,
   "id": "9c75443c-f832-44bc-9ab7-eebca46a472a",
   "metadata": {},
   "outputs": [],
   "source": [
    "# datacar4 = datacar3.reset_index()"
   ]
  },
  {
   "cell_type": "code",
   "execution_count": 288,
   "id": "fbd662d6-0d87-4ef9-8971-1b8385fd0f62",
   "metadata": {},
   "outputs": [],
   "source": [
    "# datacar4"
   ]
  },
  {
   "cell_type": "code",
   "execution_count": 289,
   "id": "8b463fb8-92b5-49c5-a88a-f9e6b8c8856a",
   "metadata": {},
   "outputs": [],
   "source": [
    "# datacar = datacar4.columns = ['자치구별 전기차 등록대수','2020','2021']"
   ]
  },
  {
   "cell_type": "code",
   "execution_count": 290,
   "id": "df54b583-a98a-448b-90a3-0eba3860e370",
   "metadata": {},
   "outputs": [],
   "source": [
    "# datacar"
   ]
  },
  {
   "cell_type": "code",
   "execution_count": 291,
   "id": "4df1fa60-92db-4b0d-854e-c411c6477635",
   "metadata": {},
   "outputs": [],
   "source": [
    "datacar3 = datacar2.T"
   ]
  },
  {
   "cell_type": "code",
   "execution_count": 292,
   "id": "e1eca5a7-4ad2-42ca-aff0-3f258630e696",
   "metadata": {},
   "outputs": [
    {
     "data": {
      "text/html": [
       "<div>\n",
       "<style scoped>\n",
       "    .dataframe tbody tr th:only-of-type {\n",
       "        vertical-align: middle;\n",
       "    }\n",
       "\n",
       "    .dataframe tbody tr th {\n",
       "        vertical-align: top;\n",
       "    }\n",
       "\n",
       "    .dataframe thead th {\n",
       "        text-align: right;\n",
       "    }\n",
       "</style>\n",
       "<table border=\"1\" class=\"dataframe\">\n",
       "  <thead>\n",
       "    <tr style=\"text-align: right;\">\n",
       "      <th></th>\n",
       "      <th>2020</th>\n",
       "      <th>2021</th>\n",
       "    </tr>\n",
       "  </thead>\n",
       "  <tbody>\n",
       "    <tr>\n",
       "      <th>광산구</th>\n",
       "      <td>846</td>\n",
       "      <td>1382</td>\n",
       "    </tr>\n",
       "    <tr>\n",
       "      <th>남구</th>\n",
       "      <td>113</td>\n",
       "      <td>207</td>\n",
       "    </tr>\n",
       "    <tr>\n",
       "      <th>동구</th>\n",
       "      <td>263</td>\n",
       "      <td>384</td>\n",
       "    </tr>\n",
       "    <tr>\n",
       "      <th>북구</th>\n",
       "      <td>898</td>\n",
       "      <td>1529</td>\n",
       "    </tr>\n",
       "    <tr>\n",
       "      <th>서구</th>\n",
       "      <td>672</td>\n",
       "      <td>1121</td>\n",
       "    </tr>\n",
       "  </tbody>\n",
       "</table>\n",
       "</div>"
      ],
      "text/plain": [
       "    2020  2021\n",
       "광산구  846  1382\n",
       "남구   113   207\n",
       "동구   263   384\n",
       "북구   898  1529\n",
       "서구   672  1121"
      ]
     },
     "execution_count": 292,
     "metadata": {},
     "output_type": "execute_result"
    }
   ],
   "source": [
    "datacar3"
   ]
  },
  {
   "cell_type": "code",
   "execution_count": 293,
   "id": "65a260e0-2925-4369-8b18-ff82af7fe6f8",
   "metadata": {
    "tags": []
   },
   "outputs": [],
   "source": [
    "# datacar4 = datacar3.drop([''], axis=0, inplace=True)"
   ]
  },
  {
   "cell_type": "code",
   "execution_count": 294,
   "id": "021913f8-d0a3-4a16-bb3b-481fd64f3283",
   "metadata": {},
   "outputs": [
    {
     "data": {
      "text/html": [
       "<div>\n",
       "<style scoped>\n",
       "    .dataframe tbody tr th:only-of-type {\n",
       "        vertical-align: middle;\n",
       "    }\n",
       "\n",
       "    .dataframe tbody tr th {\n",
       "        vertical-align: top;\n",
       "    }\n",
       "\n",
       "    .dataframe thead th {\n",
       "        text-align: right;\n",
       "    }\n",
       "</style>\n",
       "<table border=\"1\" class=\"dataframe\">\n",
       "  <thead>\n",
       "    <tr style=\"text-align: right;\">\n",
       "      <th></th>\n",
       "      <th>2020</th>\n",
       "      <th>2021</th>\n",
       "    </tr>\n",
       "  </thead>\n",
       "  <tbody>\n",
       "    <tr>\n",
       "      <th>광산구</th>\n",
       "      <td>846</td>\n",
       "      <td>1382</td>\n",
       "    </tr>\n",
       "    <tr>\n",
       "      <th>남구</th>\n",
       "      <td>113</td>\n",
       "      <td>207</td>\n",
       "    </tr>\n",
       "    <tr>\n",
       "      <th>동구</th>\n",
       "      <td>263</td>\n",
       "      <td>384</td>\n",
       "    </tr>\n",
       "    <tr>\n",
       "      <th>북구</th>\n",
       "      <td>898</td>\n",
       "      <td>1529</td>\n",
       "    </tr>\n",
       "    <tr>\n",
       "      <th>서구</th>\n",
       "      <td>672</td>\n",
       "      <td>1121</td>\n",
       "    </tr>\n",
       "  </tbody>\n",
       "</table>\n",
       "</div>"
      ],
      "text/plain": [
       "    2020  2021\n",
       "광산구  846  1382\n",
       "남구   113   207\n",
       "동구   263   384\n",
       "북구   898  1529\n",
       "서구   672  1121"
      ]
     },
     "execution_count": 294,
     "metadata": {},
     "output_type": "execute_result"
    }
   ],
   "source": [
    "datacar3"
   ]
  },
  {
   "cell_type": "code",
   "execution_count": 295,
   "id": "f9c7bdbc-5646-4b6f-9e29-0cb5730367d8",
   "metadata": {},
   "outputs": [],
   "source": [
    "# datacar1 = datacar3.loc[5] = ['2792','4623']\n",
    "# datacar1"
   ]
  },
  {
   "cell_type": "code",
   "execution_count": 296,
   "id": "cff0246c-86a8-4861-a6d5-61beb8d3db4c",
   "metadata": {},
   "outputs": [],
   "source": [
    "# datacar4 = datacar3.T"
   ]
  },
  {
   "cell_type": "code",
   "execution_count": 297,
   "id": "da4fc4bd-6c99-4c02-9031-13e31c62b010",
   "metadata": {},
   "outputs": [],
   "source": [
    "# datacar4.columns = ['광산구','남구','동구','북구','서구','총수']"
   ]
  },
  {
   "cell_type": "code",
   "execution_count": 298,
   "id": "bf6b080f-8c7b-41ed-a8b8-129e8cbae2f4",
   "metadata": {
    "tags": []
   },
   "outputs": [],
   "source": [
    "# datacar5 = datacar4.T\n",
    "# datacar5"
   ]
  },
  {
   "cell_type": "code",
   "execution_count": 299,
   "id": "acbcd8ac-6daa-4e7a-a65e-1b07136af628",
   "metadata": {},
   "outputs": [],
   "source": [
    "# datacar4.drop([5], axis=0, inplace=True)\n",
    "# datacar4"
   ]
  },
  {
   "cell_type": "code",
   "execution_count": 300,
   "id": "f3a7063d-fdb1-44b5-9fae-b8ae9271b570",
   "metadata": {},
   "outputs": [],
   "source": [
    "# datacar4.drop([5], axis=0, inplace=True)\n",
    "# datacar4"
   ]
  },
  {
   "cell_type": "code",
   "execution_count": 301,
   "id": "7463420c-8374-4ae2-8124-5ad47add9fc5",
   "metadata": {},
   "outputs": [],
   "source": [
    "# datacar4"
   ]
  },
  {
   "cell_type": "code",
   "execution_count": 302,
   "id": "9061a53e-7aa3-4511-8f79-22d9a76345c4",
   "metadata": {},
   "outputs": [],
   "source": [
    "# datacar4['2020'].sum()"
   ]
  },
  {
   "cell_type": "code",
   "execution_count": 303,
   "id": "1a6b4d0c-05ff-475d-b858-0cfbd5c2a79a",
   "metadata": {},
   "outputs": [],
   "source": [
    "# datacar4['2021'].sum()"
   ]
  },
  {
   "cell_type": "code",
   "execution_count": 304,
   "id": "5021334a-b563-46a3-bb04-f4466232cf14",
   "metadata": {
    "tags": []
   },
   "outputs": [],
   "source": [
    "# datacar4.drop([4], axis=0, inplace=True)"
   ]
  },
  {
   "cell_type": "code",
   "execution_count": 305,
   "id": "0cab2f7b-0e63-495c-b839-2378365dd30b",
   "metadata": {},
   "outputs": [],
   "source": [
    "# datacar4"
   ]
  },
  {
   "cell_type": "code",
   "execution_count": 306,
   "id": "77ad9056-89fc-4b41-bbc5-61c2d79afe28",
   "metadata": {},
   "outputs": [],
   "source": [
    "# datacar4.reset_index()"
   ]
  },
  {
   "cell_type": "code",
   "execution_count": 307,
   "id": "eff1d5ed-1f17-4a53-8d9b-3b1e94b0bd2a",
   "metadata": {},
   "outputs": [],
   "source": [
    "data_car = datacar3.reset_index()"
   ]
  },
  {
   "cell_type": "code",
   "execution_count": 308,
   "id": "724281c2-8930-4fd2-a8dc-29afb6758a79",
   "metadata": {},
   "outputs": [
    {
     "data": {
      "text/html": [
       "<div>\n",
       "<style scoped>\n",
       "    .dataframe tbody tr th:only-of-type {\n",
       "        vertical-align: middle;\n",
       "    }\n",
       "\n",
       "    .dataframe tbody tr th {\n",
       "        vertical-align: top;\n",
       "    }\n",
       "\n",
       "    .dataframe thead th {\n",
       "        text-align: right;\n",
       "    }\n",
       "</style>\n",
       "<table border=\"1\" class=\"dataframe\">\n",
       "  <thead>\n",
       "    <tr style=\"text-align: right;\">\n",
       "      <th></th>\n",
       "      <th>index</th>\n",
       "      <th>2020</th>\n",
       "      <th>2021</th>\n",
       "    </tr>\n",
       "  </thead>\n",
       "  <tbody>\n",
       "    <tr>\n",
       "      <th>0</th>\n",
       "      <td>광산구</td>\n",
       "      <td>846</td>\n",
       "      <td>1382</td>\n",
       "    </tr>\n",
       "    <tr>\n",
       "      <th>1</th>\n",
       "      <td>남구</td>\n",
       "      <td>113</td>\n",
       "      <td>207</td>\n",
       "    </tr>\n",
       "    <tr>\n",
       "      <th>2</th>\n",
       "      <td>동구</td>\n",
       "      <td>263</td>\n",
       "      <td>384</td>\n",
       "    </tr>\n",
       "    <tr>\n",
       "      <th>3</th>\n",
       "      <td>북구</td>\n",
       "      <td>898</td>\n",
       "      <td>1529</td>\n",
       "    </tr>\n",
       "    <tr>\n",
       "      <th>4</th>\n",
       "      <td>서구</td>\n",
       "      <td>672</td>\n",
       "      <td>1121</td>\n",
       "    </tr>\n",
       "  </tbody>\n",
       "</table>\n",
       "</div>"
      ],
      "text/plain": [
       "  index 2020  2021\n",
       "0   광산구  846  1382\n",
       "1    남구  113   207\n",
       "2    동구  263   384\n",
       "3    북구  898  1529\n",
       "4    서구  672  1121"
      ]
     },
     "execution_count": 308,
     "metadata": {},
     "output_type": "execute_result"
    }
   ],
   "source": [
    "data_car"
   ]
  },
  {
   "cell_type": "code",
   "execution_count": 309,
   "id": "f2b7d6fe-a3a0-49bc-80f6-0ed2fc72519f",
   "metadata": {},
   "outputs": [],
   "source": [
    "data_car1 = data_car.columns = ['자치구','2020','2021']"
   ]
  },
  {
   "cell_type": "code",
   "execution_count": 310,
   "id": "86db4654-97fc-4dd1-a47f-d5ce9666c2c8",
   "metadata": {},
   "outputs": [
    {
     "data": {
      "text/html": [
       "<div>\n",
       "<style scoped>\n",
       "    .dataframe tbody tr th:only-of-type {\n",
       "        vertical-align: middle;\n",
       "    }\n",
       "\n",
       "    .dataframe tbody tr th {\n",
       "        vertical-align: top;\n",
       "    }\n",
       "\n",
       "    .dataframe thead th {\n",
       "        text-align: right;\n",
       "    }\n",
       "</style>\n",
       "<table border=\"1\" class=\"dataframe\">\n",
       "  <thead>\n",
       "    <tr style=\"text-align: right;\">\n",
       "      <th></th>\n",
       "      <th>자치구</th>\n",
       "      <th>2020</th>\n",
       "      <th>2021</th>\n",
       "    </tr>\n",
       "  </thead>\n",
       "  <tbody>\n",
       "    <tr>\n",
       "      <th>0</th>\n",
       "      <td>광산구</td>\n",
       "      <td>846</td>\n",
       "      <td>1382</td>\n",
       "    </tr>\n",
       "    <tr>\n",
       "      <th>1</th>\n",
       "      <td>남구</td>\n",
       "      <td>113</td>\n",
       "      <td>207</td>\n",
       "    </tr>\n",
       "    <tr>\n",
       "      <th>2</th>\n",
       "      <td>동구</td>\n",
       "      <td>263</td>\n",
       "      <td>384</td>\n",
       "    </tr>\n",
       "    <tr>\n",
       "      <th>3</th>\n",
       "      <td>북구</td>\n",
       "      <td>898</td>\n",
       "      <td>1529</td>\n",
       "    </tr>\n",
       "    <tr>\n",
       "      <th>4</th>\n",
       "      <td>서구</td>\n",
       "      <td>672</td>\n",
       "      <td>1121</td>\n",
       "    </tr>\n",
       "  </tbody>\n",
       "</table>\n",
       "</div>"
      ],
      "text/plain": [
       "   자치구 2020  2021\n",
       "0  광산구  846  1382\n",
       "1   남구  113   207\n",
       "2   동구  263   384\n",
       "3   북구  898  1529\n",
       "4   서구  672  1121"
      ]
     },
     "execution_count": 310,
     "metadata": {},
     "output_type": "execute_result"
    }
   ],
   "source": [
    "data_car"
   ]
  },
  {
   "cell_type": "code",
   "execution_count": 311,
   "id": "4d814f70-85cc-4c2b-a65c-12fa17f451c7",
   "metadata": {},
   "outputs": [],
   "source": [
    "# datacar2 = data_car.drop([5],axis = 0)"
   ]
  },
  {
   "cell_type": "code",
   "execution_count": 316,
   "id": "8ee73337-3023-4b7e-938a-e81676799a7a",
   "metadata": {},
   "outputs": [
    {
     "data": {
      "image/png": "[encoded data removed]",
      "text/plain": [
       "<Figure size 640x480 with 1 Axes>"
      ]
     },
     "metadata": {},
     "output_type": "display_data"
    },
    {
     "data": {
      "image/png": "[encoded data removed]",
      "text/plain": [
       "<Figure size 1200x300 with 1 Axes>"
      ]
     },
     "metadata": {},
     "output_type": "display_data"
    }
   ],
   "source": [
    "import matplotlib.pyplot as plt\n",
    "\n",
    "\n",
    "plt.title('2020 자치구별 전기차 등록비율',size=10)\n",
    "ratio = [30, 4.5, 9.5, 32, 24]\n",
    "labels = ['광산구', '남구', '동구', '북구','서구']\n",
    "explode = [0, 0.10, 0.05, 0.10, 0.05]\n",
    "plt.pie(ratio, labels=labels, autopct='%.1f%%', startangle=260, counterclock=False, explode=explode)\n",
    "\n",
    "\n",
    "plt.figure(figsize=(12,3))\n",
    "sns.barplot(data=data_car,x='자치구',y='2020')\n",
    "\n",
    "plt.show()"
   ]
  },
  {
   "cell_type": "code",
   "execution_count": 317,
   "id": "e8e97266-e616-4a5b-9843-38a4336daaca",
   "metadata": {},
   "outputs": [
    {
     "data": {
      "image/png": "[encoded data removed]",
      "text/plain": [
       "<Figure size 640x480 with 1 Axes>"
      ]
     },
     "metadata": {},
     "output_type": "display_data"
    },
    {
     "data": {
      "image/png": "[encoded data removed]",
      "text/plain": [
       "<Figure size 1200x300 with 1 Axes>"
      ]
     },
     "metadata": {},
     "output_type": "display_data"
    }
   ],
   "source": [
    "import matplotlib.pyplot as plt\n",
    "\n",
    "\n",
    "plt.title('2021 자치구별 전기차 등록비율',size=10)\n",
    "ratio = [30, 4.5, 8.3, 33, 24.2]\n",
    "labels = ['광산구', '남구', '동구', '북구','서구']\n",
    "explode = [0, 0.10, 0.05, 0.10, 0.05]\n",
    "plt.pie(ratio, labels=labels, autopct='%.1f%%', startangle=260, counterclock=False, explode=explode)\n",
    "\n",
    "\n",
    "plt.figure(figsize=(12,3))\n",
    "sns.barplot(data=data_car,x='자치구',y='2021')\n",
    "\n",
    "\n",
    "plt.show()"
   ]
  },
  {
   "cell_type": "code",
   "execution_count": null,
   "id": "1f62e6e3-c001-4a49-a4e3-2133e91411e2",
   "metadata": {},
   "outputs": [],
   "source": []
  }
 ],
 "metadata": {
  "kernelspec": {
   "display_name": "Python 3 (ipykernel)",
   "language": "python",
   "name": "python3"
  },
  "language_info": {
   "codemirror_mode": {
    "name": "ipython",
    "version": 3
   },
   "file_extension": ".py",
   "mimetype": "text/x-python",
   "name": "python",
   "nbconvert_exporter": "python",
   "pygments_lexer": "ipython3",
   "version": "3.9.13"
  }
 },
 "nbformat": 4,
 "nbformat_minor": 5
}
