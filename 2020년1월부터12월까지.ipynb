{
 "cells": [
  {
   "cell_type": "code",
   "execution_count": 1,
   "id": "8862e73b-b3fc-48a6-a0f8-bc570b04c72f",
   "metadata": {},
   "outputs": [],
   "source": [
    "import matplotlib.pyplot as plt\n",
    "import seaborn as sns\n",
    "import pandas as pd\n",
    "import numpy as np\n",
    "\n",
    "import warnings\n",
    "warnings.filterwarnings('ignore')"
   ]
  },
  {
   "cell_type": "code",
   "execution_count": 2,
   "id": "b35c1ded-0041-453e-9441-119de5de0045",
   "metadata": {},
   "outputs": [
    {
     "ename": "FileNotFoundError",
     "evalue": "[Errno 2] No such file or directory: 'data/한국전력공사_전기차충전소충전량(202001_202006).csv'",
     "output_type": "error",
     "traceback": [
      "\u001b[1;31m---------------------------------------------------------------------------\u001b[0m",
      "\u001b[1;31mFileNotFoundError\u001b[0m                         Traceback (most recent call last)",
      "\u001b[1;32m~\\AppData\\Local\\Temp\\ipykernel_16228\\2580189711.py\u001b[0m in \u001b[0;36m<module>\u001b[1;34m\u001b[0m\n\u001b[0;32m      1\u001b[0m \u001b[1;31m# 2020년 1월부터 6월까지 데이터\u001b[0m\u001b[1;33m\u001b[0m\u001b[1;33m\u001b[0m\u001b[0m\n\u001b[1;32m----> 2\u001b[1;33m \u001b[0mdf1\u001b[0m \u001b[1;33m=\u001b[0m \u001b[0mpd\u001b[0m\u001b[1;33m.\u001b[0m\u001b[0mread_csv\u001b[0m\u001b[1;33m(\u001b[0m\u001b[1;34m'data/한국전력공사_전기차충전소충전량(202001_202006).csv'\u001b[0m\u001b[1;33m,\u001b[0m \u001b[0mencoding\u001b[0m\u001b[1;33m=\u001b[0m\u001b[1;34m'cp949'\u001b[0m\u001b[1;33m)\u001b[0m\u001b[1;33m\u001b[0m\u001b[1;33m\u001b[0m\u001b[0m\n\u001b[0m\u001b[0;32m      3\u001b[0m \u001b[1;33m\u001b[0m\u001b[0m\n\u001b[0;32m      4\u001b[0m \u001b[1;31m# 2020년 7월부터 12월까지 데이터\u001b[0m\u001b[1;33m\u001b[0m\u001b[1;33m\u001b[0m\u001b[0m\n\u001b[0;32m      5\u001b[0m \u001b[0mdf2\u001b[0m \u001b[1;33m=\u001b[0m \u001b[0mpd\u001b[0m\u001b[1;33m.\u001b[0m\u001b[0mread_csv\u001b[0m\u001b[1;33m(\u001b[0m\u001b[1;34m'data/한국전력공사_전기차충전소충전량(202007_202012).csv'\u001b[0m\u001b[1;33m,\u001b[0m \u001b[0mencoding\u001b[0m\u001b[1;33m=\u001b[0m\u001b[1;34m'cp949'\u001b[0m\u001b[1;33m)\u001b[0m\u001b[1;33m\u001b[0m\u001b[1;33m\u001b[0m\u001b[0m\n",
      "\u001b[1;32mc:\\Users\\admin\\anaconda3\\lib\\site-packages\\pandas\\util\\_decorators.py\u001b[0m in \u001b[0;36mwrapper\u001b[1;34m(*args, **kwargs)\u001b[0m\n\u001b[0;32m    309\u001b[0m                     \u001b[0mstacklevel\u001b[0m\u001b[1;33m=\u001b[0m\u001b[0mstacklevel\u001b[0m\u001b[1;33m,\u001b[0m\u001b[1;33m\u001b[0m\u001b[1;33m\u001b[0m\u001b[0m\n\u001b[0;32m    310\u001b[0m                 )\n\u001b[1;32m--> 311\u001b[1;33m             \u001b[1;32mreturn\u001b[0m \u001b[0mfunc\u001b[0m\u001b[1;33m(\u001b[0m\u001b[1;33m*\u001b[0m\u001b[0margs\u001b[0m\u001b[1;33m,\u001b[0m \u001b[1;33m**\u001b[0m\u001b[0mkwargs\u001b[0m\u001b[1;33m)\u001b[0m\u001b[1;33m\u001b[0m\u001b[1;33m\u001b[0m\u001b[0m\n\u001b[0m\u001b[0;32m    312\u001b[0m \u001b[1;33m\u001b[0m\u001b[0m\n\u001b[0;32m    313\u001b[0m         \u001b[1;32mreturn\u001b[0m \u001b[0mwrapper\u001b[0m\u001b[1;33m\u001b[0m\u001b[1;33m\u001b[0m\u001b[0m\n",
      "\u001b[1;32mc:\\Users\\admin\\anaconda3\\lib\\site-packages\\pandas\\io\\parsers\\readers.py\u001b[0m in \u001b[0;36mread_csv\u001b[1;34m(filepath_or_buffer, sep, delimiter, header, names, index_col, usecols, squeeze, prefix, mangle_dupe_cols, dtype, engine, converters, true_values, false_values, skipinitialspace, skiprows, skipfooter, nrows, na_values, keep_default_na, na_filter, verbose, skip_blank_lines, parse_dates, infer_datetime_format, keep_date_col, date_parser, dayfirst, cache_dates, iterator, chunksize, compression, thousands, decimal, lineterminator, quotechar, quoting, doublequote, escapechar, comment, encoding, encoding_errors, dialect, error_bad_lines, warn_bad_lines, on_bad_lines, delim_whitespace, low_memory, memory_map, float_precision, storage_options)\u001b[0m\n\u001b[0;32m    676\u001b[0m     \u001b[0mkwds\u001b[0m\u001b[1;33m.\u001b[0m\u001b[0mupdate\u001b[0m\u001b[1;33m(\u001b[0m\u001b[0mkwds_defaults\u001b[0m\u001b[1;33m)\u001b[0m\u001b[1;33m\u001b[0m\u001b[1;33m\u001b[0m\u001b[0m\n\u001b[0;32m    677\u001b[0m \u001b[1;33m\u001b[0m\u001b[0m\n\u001b[1;32m--> 678\u001b[1;33m     \u001b[1;32mreturn\u001b[0m \u001b[0m_read\u001b[0m\u001b[1;33m(\u001b[0m\u001b[0mfilepath_or_buffer\u001b[0m\u001b[1;33m,\u001b[0m \u001b[0mkwds\u001b[0m\u001b[1;33m)\u001b[0m\u001b[1;33m\u001b[0m\u001b[1;33m\u001b[0m\u001b[0m\n\u001b[0m\u001b[0;32m    679\u001b[0m \u001b[1;33m\u001b[0m\u001b[0m\n\u001b[0;32m    680\u001b[0m \u001b[1;33m\u001b[0m\u001b[0m\n",
      "\u001b[1;32mc:\\Users\\admin\\anaconda3\\lib\\site-packages\\pandas\\io\\parsers\\readers.py\u001b[0m in \u001b[0;36m_read\u001b[1;34m(filepath_or_buffer, kwds)\u001b[0m\n\u001b[0;32m    573\u001b[0m \u001b[1;33m\u001b[0m\u001b[0m\n\u001b[0;32m    574\u001b[0m     \u001b[1;31m# Create the parser.\u001b[0m\u001b[1;33m\u001b[0m\u001b[1;33m\u001b[0m\u001b[0m\n\u001b[1;32m--> 575\u001b[1;33m     \u001b[0mparser\u001b[0m \u001b[1;33m=\u001b[0m \u001b[0mTextFileReader\u001b[0m\u001b[1;33m(\u001b[0m\u001b[0mfilepath_or_buffer\u001b[0m\u001b[1;33m,\u001b[0m \u001b[1;33m**\u001b[0m\u001b[0mkwds\u001b[0m\u001b[1;33m)\u001b[0m\u001b[1;33m\u001b[0m\u001b[1;33m\u001b[0m\u001b[0m\n\u001b[0m\u001b[0;32m    576\u001b[0m \u001b[1;33m\u001b[0m\u001b[0m\n\u001b[0;32m    577\u001b[0m     \u001b[1;32mif\u001b[0m \u001b[0mchunksize\u001b[0m \u001b[1;32mor\u001b[0m \u001b[0miterator\u001b[0m\u001b[1;33m:\u001b[0m\u001b[1;33m\u001b[0m\u001b[1;33m\u001b[0m\u001b[0m\n",
      "\u001b[1;32mc:\\Users\\admin\\anaconda3\\lib\\site-packages\\pandas\\io\\parsers\\readers.py\u001b[0m in \u001b[0;36m__init__\u001b[1;34m(self, f, engine, **kwds)\u001b[0m\n\u001b[0;32m    930\u001b[0m \u001b[1;33m\u001b[0m\u001b[0m\n\u001b[0;32m    931\u001b[0m         \u001b[0mself\u001b[0m\u001b[1;33m.\u001b[0m\u001b[0mhandles\u001b[0m\u001b[1;33m:\u001b[0m \u001b[0mIOHandles\u001b[0m \u001b[1;33m|\u001b[0m \u001b[1;32mNone\u001b[0m \u001b[1;33m=\u001b[0m \u001b[1;32mNone\u001b[0m\u001b[1;33m\u001b[0m\u001b[1;33m\u001b[0m\u001b[0m\n\u001b[1;32m--> 932\u001b[1;33m         \u001b[0mself\u001b[0m\u001b[1;33m.\u001b[0m\u001b[0m_engine\u001b[0m \u001b[1;33m=\u001b[0m \u001b[0mself\u001b[0m\u001b[1;33m.\u001b[0m\u001b[0m_make_engine\u001b[0m\u001b[1;33m(\u001b[0m\u001b[0mf\u001b[0m\u001b[1;33m,\u001b[0m \u001b[0mself\u001b[0m\u001b[1;33m.\u001b[0m\u001b[0mengine\u001b[0m\u001b[1;33m)\u001b[0m\u001b[1;33m\u001b[0m\u001b[1;33m\u001b[0m\u001b[0m\n\u001b[0m\u001b[0;32m    933\u001b[0m \u001b[1;33m\u001b[0m\u001b[0m\n\u001b[0;32m    934\u001b[0m     \u001b[1;32mdef\u001b[0m \u001b[0mclose\u001b[0m\u001b[1;33m(\u001b[0m\u001b[0mself\u001b[0m\u001b[1;33m)\u001b[0m\u001b[1;33m:\u001b[0m\u001b[1;33m\u001b[0m\u001b[1;33m\u001b[0m\u001b[0m\n",
      "\u001b[1;32mc:\\Users\\admin\\anaconda3\\lib\\site-packages\\pandas\\io\\parsers\\readers.py\u001b[0m in \u001b[0;36m_make_engine\u001b[1;34m(self, f, engine)\u001b[0m\n\u001b[0;32m   1214\u001b[0m             \u001b[1;31m# \"Union[str, PathLike[str], ReadCsvBuffer[bytes], ReadCsvBuffer[str]]\"\u001b[0m\u001b[1;33m\u001b[0m\u001b[1;33m\u001b[0m\u001b[0m\n\u001b[0;32m   1215\u001b[0m             \u001b[1;31m# , \"str\", \"bool\", \"Any\", \"Any\", \"Any\", \"Any\", \"Any\"\u001b[0m\u001b[1;33m\u001b[0m\u001b[1;33m\u001b[0m\u001b[0m\n\u001b[1;32m-> 1216\u001b[1;33m             self.handles = get_handle(  # type: ignore[call-overload]\n\u001b[0m\u001b[0;32m   1217\u001b[0m                 \u001b[0mf\u001b[0m\u001b[1;33m,\u001b[0m\u001b[1;33m\u001b[0m\u001b[1;33m\u001b[0m\u001b[0m\n\u001b[0;32m   1218\u001b[0m                 \u001b[0mmode\u001b[0m\u001b[1;33m,\u001b[0m\u001b[1;33m\u001b[0m\u001b[1;33m\u001b[0m\u001b[0m\n",
      "\u001b[1;32mc:\\Users\\admin\\anaconda3\\lib\\site-packages\\pandas\\io\\common.py\u001b[0m in \u001b[0;36mget_handle\u001b[1;34m(path_or_buf, mode, encoding, compression, memory_map, is_text, errors, storage_options)\u001b[0m\n\u001b[0;32m    784\u001b[0m         \u001b[1;32mif\u001b[0m \u001b[0mioargs\u001b[0m\u001b[1;33m.\u001b[0m\u001b[0mencoding\u001b[0m \u001b[1;32mand\u001b[0m \u001b[1;34m\"b\"\u001b[0m \u001b[1;32mnot\u001b[0m \u001b[1;32min\u001b[0m \u001b[0mioargs\u001b[0m\u001b[1;33m.\u001b[0m\u001b[0mmode\u001b[0m\u001b[1;33m:\u001b[0m\u001b[1;33m\u001b[0m\u001b[1;33m\u001b[0m\u001b[0m\n\u001b[0;32m    785\u001b[0m             \u001b[1;31m# Encoding\u001b[0m\u001b[1;33m\u001b[0m\u001b[1;33m\u001b[0m\u001b[0m\n\u001b[1;32m--> 786\u001b[1;33m             handle = open(\n\u001b[0m\u001b[0;32m    787\u001b[0m                 \u001b[0mhandle\u001b[0m\u001b[1;33m,\u001b[0m\u001b[1;33m\u001b[0m\u001b[1;33m\u001b[0m\u001b[0m\n\u001b[0;32m    788\u001b[0m                 \u001b[0mioargs\u001b[0m\u001b[1;33m.\u001b[0m\u001b[0mmode\u001b[0m\u001b[1;33m,\u001b[0m\u001b[1;33m\u001b[0m\u001b[1;33m\u001b[0m\u001b[0m\n",
      "\u001b[1;31mFileNotFoundError\u001b[0m: [Errno 2] No such file or directory: 'data/한국전력공사_전기차충전소충전량(202001_202006).csv'"
     ]
    }
   ],
   "source": [
    "# 2020년 1월부터 6월까지 데이터\n",
    "df1 = pd.read_csv('data/한국전력공사_전기차충전소충전량(202001_202006).csv', encoding='cp949')\n",
    "\n",
    "# 2020년 7월부터 12월까지 데이터\n",
    "df2 = pd.read_csv('data/한국전력공사_전기차충전소충전량(202007_202012).csv', encoding='cp949')\n",
    "\n",
    "# 두 데이터프레임을 병합\n",
    "df = pd.concat([df1, df2], ignore_index=True)\n",
    "\n",
    "# 병합된 데이터프레임 출력\n",
    "print(df)"
   ]
  },
  {
   "cell_type": "code",
   "execution_count": null,
   "id": "a888eaba-d241-4e7e-ade9-b38c3ec12b1b",
   "metadata": {},
   "outputs": [
    {
     "data": {
      "text/html": [
       "<div>\n",
       "<style scoped>\n",
       "    .dataframe tbody tr th:only-of-type {\n",
       "        vertical-align: middle;\n",
       "    }\n",
       "\n",
       "    .dataframe tbody tr th {\n",
       "        vertical-align: top;\n",
       "    }\n",
       "\n",
       "    .dataframe thead th {\n",
       "        text-align: right;\n",
       "    }\n",
       "</style>\n",
       "<table border=\"1\" class=\"dataframe\">\n",
       "  <thead>\n",
       "    <tr style=\"text-align: right;\">\n",
       "      <th></th>\n",
       "      <th>본부</th>\n",
       "      <th>사업소</th>\n",
       "      <th>충전소명</th>\n",
       "      <th>충전기</th>\n",
       "      <th>주소</th>\n",
       "      <th>충전기구분</th>\n",
       "      <th>충전용량</th>\n",
       "      <th>충전량</th>\n",
       "      <th>충전시간</th>\n",
       "      <th>충전분</th>\n",
       "      <th>충전종료일자</th>\n",
       "      <th>충전시작시각</th>\n",
       "      <th>충전종료시각</th>\n",
       "    </tr>\n",
       "  </thead>\n",
       "  <tbody>\n",
       "    <tr>\n",
       "      <th>0</th>\n",
       "      <td>서울</td>\n",
       "      <td>마포용산</td>\n",
       "      <td>용산역 아이파크몰</td>\n",
       "      <td>급속04</td>\n",
       "      <td>서울특별시 용산구 한강대로23길 55 (한강로3가, 용산역)</td>\n",
       "      <td>급속</td>\n",
       "      <td>50.0</td>\n",
       "      <td>22.31</td>\n",
       "      <td>0</td>\n",
       "      <td>34</td>\n",
       "      <td>2020-01-01</td>\n",
       "      <td>2020-01-01 21:33:00</td>\n",
       "      <td>2020-01-01 22:07:00</td>\n",
       "    </tr>\n",
       "    <tr>\n",
       "      <th>1</th>\n",
       "      <td>경기</td>\n",
       "      <td>경기직할</td>\n",
       "      <td>영통공영주차장</td>\n",
       "      <td>급속02</td>\n",
       "      <td>경기도 수원시 영통구 봉영로 1598</td>\n",
       "      <td>급속</td>\n",
       "      <td>50.0</td>\n",
       "      <td>32.85</td>\n",
       "      <td>1</td>\n",
       "      <td>31</td>\n",
       "      <td>2020-01-01</td>\n",
       "      <td>2020-01-01 20:40:00</td>\n",
       "      <td>2020-01-01 22:11:00</td>\n",
       "    </tr>\n",
       "    <tr>\n",
       "      <th>2</th>\n",
       "      <td>광주전남</td>\n",
       "      <td>서광주</td>\n",
       "      <td>효천2지구 중흥S클래스</td>\n",
       "      <td>급속01</td>\n",
       "      <td>광주광역시 남구 효우로 332-11 (행암동, 효천2지구 중흥S-클래스 아파트)</td>\n",
       "      <td>급속</td>\n",
       "      <td>50.0</td>\n",
       "      <td>17.65</td>\n",
       "      <td>0</td>\n",
       "      <td>31</td>\n",
       "      <td>2020-01-01</td>\n",
       "      <td>2020-01-01 21:39:00</td>\n",
       "      <td>2020-01-01 22:11:00</td>\n",
       "    </tr>\n",
       "    <tr>\n",
       "      <th>3</th>\n",
       "      <td>경기북부</td>\n",
       "      <td>경기북부직할</td>\n",
       "      <td>양주자이2단지 아파트</td>\n",
       "      <td>완속02</td>\n",
       "      <td>경기도 양주시 삼숭동 삼숭로38번길 78-12</td>\n",
       "      <td>완속</td>\n",
       "      <td>7.0</td>\n",
       "      <td>8.50</td>\n",
       "      <td>2</td>\n",
       "      <td>41</td>\n",
       "      <td>2020-01-01</td>\n",
       "      <td>2020-01-01 20:05:00</td>\n",
       "      <td>2020-01-01 22:46:00</td>\n",
       "    </tr>\n",
       "    <tr>\n",
       "      <th>4</th>\n",
       "      <td>인천</td>\n",
       "      <td>남인천</td>\n",
       "      <td>서창LH6단지</td>\n",
       "      <td>완속01</td>\n",
       "      <td>인천광역시 남동구 서창남순환로 190-100</td>\n",
       "      <td>완속</td>\n",
       "      <td>7.0</td>\n",
       "      <td>12.70</td>\n",
       "      <td>2</td>\n",
       "      <td>51</td>\n",
       "      <td>2020-01-01</td>\n",
       "      <td>2020-01-01 16:17:00</td>\n",
       "      <td>2020-01-01 19:09:00</td>\n",
       "    </tr>\n",
       "    <tr>\n",
       "      <th>...</th>\n",
       "      <td>...</td>\n",
       "      <td>...</td>\n",
       "      <td>...</td>\n",
       "      <td>...</td>\n",
       "      <td>...</td>\n",
       "      <td>...</td>\n",
       "      <td>...</td>\n",
       "      <td>...</td>\n",
       "      <td>...</td>\n",
       "      <td>...</td>\n",
       "      <td>...</td>\n",
       "      <td>...</td>\n",
       "      <td>...</td>\n",
       "    </tr>\n",
       "    <tr>\n",
       "      <th>2056633</th>\n",
       "      <td>경기</td>\n",
       "      <td>서수원</td>\n",
       "      <td>동탄신일유토빌</td>\n",
       "      <td>완속03</td>\n",
       "      <td>경기도 화성시 동탄반석로 232</td>\n",
       "      <td>완속</td>\n",
       "      <td>7.0</td>\n",
       "      <td>18.96</td>\n",
       "      <td>6</td>\n",
       "      <td>10</td>\n",
       "      <td>2020-12-03</td>\n",
       "      <td>2020-12-02 23:04</td>\n",
       "      <td>2020-12-03 5:14</td>\n",
       "    </tr>\n",
       "    <tr>\n",
       "      <th>2056634</th>\n",
       "      <td>인천</td>\n",
       "      <td>서인천</td>\n",
       "      <td>청라롯데캐슬 아파트</td>\n",
       "      <td>완속03</td>\n",
       "      <td>인천광역시 서구 청라커낼로 252</td>\n",
       "      <td>완속</td>\n",
       "      <td>7.0</td>\n",
       "      <td>37.80</td>\n",
       "      <td>5</td>\n",
       "      <td>44</td>\n",
       "      <td>2020-12-03</td>\n",
       "      <td>2020-12-02 23:31</td>\n",
       "      <td>2020-12-03 5:16</td>\n",
       "    </tr>\n",
       "    <tr>\n",
       "      <th>2056635</th>\n",
       "      <td>남서울</td>\n",
       "      <td>강남</td>\n",
       "      <td>타워팰리스G동</td>\n",
       "      <td>완속02</td>\n",
       "      <td>서울특별시 강남구 도곡동 언주로30길 26</td>\n",
       "      <td>완속</td>\n",
       "      <td>7.0</td>\n",
       "      <td>52.16</td>\n",
       "      <td>9</td>\n",
       "      <td>37</td>\n",
       "      <td>2020-12-03</td>\n",
       "      <td>2020-12-02 19:40</td>\n",
       "      <td>2020-12-03 5:17</td>\n",
       "    </tr>\n",
       "    <tr>\n",
       "      <th>2056636</th>\n",
       "      <td>대구</td>\n",
       "      <td>남대구</td>\n",
       "      <td>상인역e편한세상2단지 아파트</td>\n",
       "      <td>완속01</td>\n",
       "      <td>대구광역시 달서구 상인동 월서로3길 15</td>\n",
       "      <td>완속</td>\n",
       "      <td>7.0</td>\n",
       "      <td>39.77</td>\n",
       "      <td>6</td>\n",
       "      <td>22</td>\n",
       "      <td>2020-12-03</td>\n",
       "      <td>2020-12-02 23:02</td>\n",
       "      <td>2020-12-03 5:25</td>\n",
       "    </tr>\n",
       "    <tr>\n",
       "      <th>2056637</th>\n",
       "      <td>경기북부</td>\n",
       "      <td>고양</td>\n",
       "      <td>식사동 일산자이2단지 아파트</td>\n",
       "      <td>완속04</td>\n",
       "      <td>경기도 고양시 일산동구 식사동 350</td>\n",
       "      <td>완속</td>\n",
       "      <td>7.0</td>\n",
       "      <td>47.60</td>\n",
       "      <td>7</td>\n",
       "      <td>31</td>\n",
       "      <td>2020-12-03</td>\n",
       "      <td>2020-12-02 23:05</td>\n",
       "      <td>2020-12-03 6:36</td>\n",
       "    </tr>\n",
       "  </tbody>\n",
       "</table>\n",
       "<p>2056638 rows × 13 columns</p>\n",
       "</div>"
      ],
      "text/plain": [
       "           본부     사업소             충전소명   충전기  \\\n",
       "0          서울    마포용산        용산역 아이파크몰  급속04   \n",
       "1          경기    경기직할          영통공영주차장  급속02   \n",
       "2        광주전남     서광주     효천2지구 중흥S클래스  급속01   \n",
       "3        경기북부  경기북부직할      양주자이2단지 아파트  완속02   \n",
       "4          인천     남인천          서창LH6단지  완속01   \n",
       "...       ...     ...              ...   ...   \n",
       "2056633    경기     서수원          동탄신일유토빌  완속03   \n",
       "2056634    인천     서인천       청라롯데캐슬 아파트  완속03   \n",
       "2056635   남서울      강남          타워팰리스G동  완속02   \n",
       "2056636    대구     남대구  상인역e편한세상2단지 아파트  완속01   \n",
       "2056637  경기북부      고양  식사동 일산자이2단지 아파트  완속04   \n",
       "\n",
       "                                                   주소 충전기구분  충전용량    충전량  \\\n",
       "0                   서울특별시 용산구 한강대로23길 55 (한강로3가, 용산역)    급속  50.0  22.31   \n",
       "1                                경기도 수원시 영통구 봉영로 1598    급속  50.0  32.85   \n",
       "2        광주광역시 남구 효우로 332-11 (행암동, 효천2지구 중흥S-클래스 아파트)    급속  50.0  17.65   \n",
       "3                           경기도 양주시 삼숭동 삼숭로38번길 78-12    완속   7.0   8.50   \n",
       "4                            인천광역시 남동구 서창남순환로 190-100    완속   7.0  12.70   \n",
       "...                                               ...   ...   ...    ...   \n",
       "2056633                             경기도 화성시 동탄반석로 232    완속   7.0  18.96   \n",
       "2056634                            인천광역시 서구 청라커낼로 252    완속   7.0  37.80   \n",
       "2056635                       서울특별시 강남구 도곡동 언주로30길 26    완속   7.0  52.16   \n",
       "2056636                        대구광역시 달서구 상인동 월서로3길 15    완속   7.0  39.77   \n",
       "2056637                          경기도 고양시 일산동구 식사동 350    완속   7.0  47.60   \n",
       "\n",
       "         충전시간  충전분      충전종료일자               충전시작시각               충전종료시각  \n",
       "0           0   34  2020-01-01  2020-01-01 21:33:00  2020-01-01 22:07:00  \n",
       "1           1   31  2020-01-01  2020-01-01 20:40:00  2020-01-01 22:11:00  \n",
       "2           0   31  2020-01-01  2020-01-01 21:39:00  2020-01-01 22:11:00  \n",
       "3           2   41  2020-01-01  2020-01-01 20:05:00  2020-01-01 22:46:00  \n",
       "4           2   51  2020-01-01  2020-01-01 16:17:00  2020-01-01 19:09:00  \n",
       "...       ...  ...         ...                  ...                  ...  \n",
       "2056633     6   10  2020-12-03     2020-12-02 23:04      2020-12-03 5:14  \n",
       "2056634     5   44  2020-12-03     2020-12-02 23:31      2020-12-03 5:16  \n",
       "2056635     9   37  2020-12-03     2020-12-02 19:40      2020-12-03 5:17  \n",
       "2056636     6   22  2020-12-03     2020-12-02 23:02      2020-12-03 5:25  \n",
       "2056637     7   31  2020-12-03     2020-12-02 23:05      2020-12-03 6:36  \n",
       "\n",
       "[2056638 rows x 13 columns]"
      ]
     },
     "execution_count": 36,
     "metadata": {},
     "output_type": "execute_result"
    }
   ],
   "source": [
    "df = df.drop('충전기ID', axis=1)\n",
    "df"
   ]
  },
  {
   "cell_type": "code",
   "execution_count": null,
   "id": "dc3a94ec-4933-4ebf-b1ab-ce542b49fc76",
   "metadata": {},
   "outputs": [
    {
     "data": {
      "text/html": [
       "<div>\n",
       "<style scoped>\n",
       "    .dataframe tbody tr th:only-of-type {\n",
       "        vertical-align: middle;\n",
       "    }\n",
       "\n",
       "    .dataframe tbody tr th {\n",
       "        vertical-align: top;\n",
       "    }\n",
       "\n",
       "    .dataframe thead th {\n",
       "        text-align: right;\n",
       "    }\n",
       "</style>\n",
       "<table border=\"1\" class=\"dataframe\">\n",
       "  <thead>\n",
       "    <tr style=\"text-align: right;\">\n",
       "      <th></th>\n",
       "      <th>본부</th>\n",
       "      <th>사업소</th>\n",
       "      <th>충전소명</th>\n",
       "      <th>충전기</th>\n",
       "      <th>주소</th>\n",
       "      <th>충전기구분</th>\n",
       "      <th>충전용량</th>\n",
       "      <th>충전량</th>\n",
       "      <th>충전시간</th>\n",
       "      <th>충전분</th>\n",
       "      <th>충전종료일자</th>\n",
       "      <th>충전시작시각</th>\n",
       "      <th>충전종료시각</th>\n",
       "      <th>시</th>\n",
       "      <th>구</th>\n",
       "      <th>도로명주소</th>\n",
       "    </tr>\n",
       "  </thead>\n",
       "  <tbody>\n",
       "    <tr>\n",
       "      <th>0</th>\n",
       "      <td>서울</td>\n",
       "      <td>마포용산</td>\n",
       "      <td>용산역 아이파크몰</td>\n",
       "      <td>급속04</td>\n",
       "      <td>서울특별시 용산구 한강대로23길 55 (한강로3가, 용산역)</td>\n",
       "      <td>급속</td>\n",
       "      <td>50.0</td>\n",
       "      <td>22.31</td>\n",
       "      <td>0</td>\n",
       "      <td>34</td>\n",
       "      <td>2020-01-01</td>\n",
       "      <td>2020-01-01 21:33:00</td>\n",
       "      <td>2020-01-01 22:07:00</td>\n",
       "      <td>서울특별시</td>\n",
       "      <td>용산구</td>\n",
       "      <td>한강대로23길 55 (한강로3가, 용산역)</td>\n",
       "    </tr>\n",
       "    <tr>\n",
       "      <th>1</th>\n",
       "      <td>경기</td>\n",
       "      <td>경기직할</td>\n",
       "      <td>영통공영주차장</td>\n",
       "      <td>급속02</td>\n",
       "      <td>경기도 수원시 영통구 봉영로 1598</td>\n",
       "      <td>급속</td>\n",
       "      <td>50.0</td>\n",
       "      <td>32.85</td>\n",
       "      <td>1</td>\n",
       "      <td>31</td>\n",
       "      <td>2020-01-01</td>\n",
       "      <td>2020-01-01 20:40:00</td>\n",
       "      <td>2020-01-01 22:11:00</td>\n",
       "      <td>경기도</td>\n",
       "      <td>수원시</td>\n",
       "      <td>영통구 봉영로 1598</td>\n",
       "    </tr>\n",
       "    <tr>\n",
       "      <th>2</th>\n",
       "      <td>광주전남</td>\n",
       "      <td>서광주</td>\n",
       "      <td>효천2지구 중흥S클래스</td>\n",
       "      <td>급속01</td>\n",
       "      <td>광주광역시 남구 효우로 332-11 (행암동, 효천2지구 중흥S-클래스 아파트)</td>\n",
       "      <td>급속</td>\n",
       "      <td>50.0</td>\n",
       "      <td>17.65</td>\n",
       "      <td>0</td>\n",
       "      <td>31</td>\n",
       "      <td>2020-01-01</td>\n",
       "      <td>2020-01-01 21:39:00</td>\n",
       "      <td>2020-01-01 22:11:00</td>\n",
       "      <td>광주광역시</td>\n",
       "      <td>남구</td>\n",
       "      <td>효우로 332-11 (행암동, 효천2지구 중흥S-클래스 아파트)</td>\n",
       "    </tr>\n",
       "  </tbody>\n",
       "</table>\n",
       "</div>"
      ],
      "text/plain": [
       "     본부   사업소          충전소명   충전기  \\\n",
       "0    서울  마포용산     용산역 아이파크몰  급속04   \n",
       "1    경기  경기직할       영통공영주차장  급속02   \n",
       "2  광주전남   서광주  효천2지구 중흥S클래스  급속01   \n",
       "\n",
       "                                             주소 충전기구분  충전용량    충전량  충전시간  충전분  \\\n",
       "0             서울특별시 용산구 한강대로23길 55 (한강로3가, 용산역)    급속  50.0  22.31     0   34   \n",
       "1                          경기도 수원시 영통구 봉영로 1598    급속  50.0  32.85     1   31   \n",
       "2  광주광역시 남구 효우로 332-11 (행암동, 효천2지구 중흥S-클래스 아파트)    급속  50.0  17.65     0   31   \n",
       "\n",
       "       충전종료일자               충전시작시각               충전종료시각      시    구  \\\n",
       "0  2020-01-01  2020-01-01 21:33:00  2020-01-01 22:07:00  서울특별시  용산구   \n",
       "1  2020-01-01  2020-01-01 20:40:00  2020-01-01 22:11:00    경기도  수원시   \n",
       "2  2020-01-01  2020-01-01 21:39:00  2020-01-01 22:11:00  광주광역시   남구   \n",
       "\n",
       "                                 도로명주소  \n",
       "0              한강대로23길 55 (한강로3가, 용산역)  \n",
       "1                         영통구 봉영로 1598  \n",
       "2  효우로 332-11 (행암동, 효천2지구 중흥S-클래스 아파트)  "
      ]
     },
     "execution_count": 37,
     "metadata": {},
     "output_type": "execute_result"
    }
   ],
   "source": [
    "df[['시', '구', '도로명주소']] = df['주소'].str.split(' ', n=2, expand=True)\n",
    "df.head(3)"
   ]
  },
  {
   "cell_type": "code",
   "execution_count": null,
   "id": "504bcaae-2e7f-4ea7-8420-2e327a116e81",
   "metadata": {},
   "outputs": [
    {
     "data": {
      "text/html": [
       "<div>\n",
       "<style scoped>\n",
       "    .dataframe tbody tr th:only-of-type {\n",
       "        vertical-align: middle;\n",
       "    }\n",
       "\n",
       "    .dataframe tbody tr th {\n",
       "        vertical-align: top;\n",
       "    }\n",
       "\n",
       "    .dataframe thead th {\n",
       "        text-align: right;\n",
       "    }\n",
       "</style>\n",
       "<table border=\"1\" class=\"dataframe\">\n",
       "  <thead>\n",
       "    <tr style=\"text-align: right;\">\n",
       "      <th></th>\n",
       "      <th>본부</th>\n",
       "      <th>사업소</th>\n",
       "      <th>충전소명</th>\n",
       "      <th>충전기</th>\n",
       "      <th>주소</th>\n",
       "      <th>충전기구분</th>\n",
       "      <th>충전용량</th>\n",
       "      <th>충전량</th>\n",
       "      <th>충전시간</th>\n",
       "      <th>충전분</th>\n",
       "      <th>충전종료일자</th>\n",
       "      <th>충전시작시각</th>\n",
       "      <th>충전종료시각</th>\n",
       "      <th>시</th>\n",
       "      <th>구</th>\n",
       "      <th>도로명주소</th>\n",
       "    </tr>\n",
       "  </thead>\n",
       "  <tbody>\n",
       "    <tr>\n",
       "      <th>2</th>\n",
       "      <td>광주전남</td>\n",
       "      <td>서광주</td>\n",
       "      <td>효천2지구 중흥S클래스</td>\n",
       "      <td>급속01</td>\n",
       "      <td>광주광역시 남구 효우로 332-11 (행암동, 효천2지구 중흥S-클래스 아파트)</td>\n",
       "      <td>급속</td>\n",
       "      <td>50.0</td>\n",
       "      <td>17.65</td>\n",
       "      <td>0</td>\n",
       "      <td>31</td>\n",
       "      <td>2020-01-01</td>\n",
       "      <td>2020-01-01 21:39:00</td>\n",
       "      <td>2020-01-01 22:11:00</td>\n",
       "      <td>광주광역시</td>\n",
       "      <td>남구</td>\n",
       "      <td>효우로 332-11 (행암동, 효천2지구 중흥S-클래스 아파트)</td>\n",
       "    </tr>\n",
       "    <tr>\n",
       "      <th>38</th>\n",
       "      <td>광주전남</td>\n",
       "      <td>광산</td>\n",
       "      <td>선운이지더원1단지</td>\n",
       "      <td>완속01</td>\n",
       "      <td>광주광역시 광산구 선운로20번길 47 (선암동, 광주 선운지구 EG the1 1단지)</td>\n",
       "      <td>완속</td>\n",
       "      <td>7.0</td>\n",
       "      <td>26.83</td>\n",
       "      <td>4</td>\n",
       "      <td>31</td>\n",
       "      <td>2020-01-01</td>\n",
       "      <td>2020-01-01 18:12:00</td>\n",
       "      <td>2020-01-01 22:43:00</td>\n",
       "      <td>광주광역시</td>\n",
       "      <td>광산구</td>\n",
       "      <td>선운로20번길 47 (선암동, 광주 선운지구 EG the1 1단지)</td>\n",
       "    </tr>\n",
       "    <tr>\n",
       "      <th>41</th>\n",
       "      <td>광주전남</td>\n",
       "      <td>광산</td>\n",
       "      <td>하남2지구 중흥S-클래스</td>\n",
       "      <td>완속02</td>\n",
       "      <td>광주광역시 광산구 목련로21번길 20 (산정동, 하남2지구 중흥S-클래스)</td>\n",
       "      <td>완속</td>\n",
       "      <td>7.0</td>\n",
       "      <td>11.91</td>\n",
       "      <td>1</td>\n",
       "      <td>56</td>\n",
       "      <td>2020-01-01</td>\n",
       "      <td>2020-01-01 21:08:00</td>\n",
       "      <td>2020-01-01 23:05:00</td>\n",
       "      <td>광주광역시</td>\n",
       "      <td>광산구</td>\n",
       "      <td>목련로21번길 20 (산정동, 하남2지구 중흥S-클래스)</td>\n",
       "    </tr>\n",
       "    <tr>\n",
       "      <th>58</th>\n",
       "      <td>광주전남</td>\n",
       "      <td>광주전남직할</td>\n",
       "      <td>월남 호반베르디움2차</td>\n",
       "      <td>완속01</td>\n",
       "      <td>광주광역시 동구 남문로 307 (월남동, 월남호반베르디움 2차)</td>\n",
       "      <td>완속</td>\n",
       "      <td>7.0</td>\n",
       "      <td>11.76</td>\n",
       "      <td>3</td>\n",
       "      <td>54</td>\n",
       "      <td>2020-01-01</td>\n",
       "      <td>2020-01-01 20:00:00</td>\n",
       "      <td>2020-01-01 23:54:00</td>\n",
       "      <td>광주광역시</td>\n",
       "      <td>동구</td>\n",
       "      <td>남문로 307 (월남동, 월남호반베르디움 2차)</td>\n",
       "    </tr>\n",
       "    <tr>\n",
       "      <th>100</th>\n",
       "      <td>광주전남</td>\n",
       "      <td>광산</td>\n",
       "      <td>수완대방노블랜드3차아파트</td>\n",
       "      <td>완속02</td>\n",
       "      <td>광주광역시 광산구 풍영로170번길 39-10 (장덕동, 성덕마을 대방노블랜드3차)</td>\n",
       "      <td>완속</td>\n",
       "      <td>7.0</td>\n",
       "      <td>12.33</td>\n",
       "      <td>4</td>\n",
       "      <td>9</td>\n",
       "      <td>2020-01-01</td>\n",
       "      <td>2020-01-01 18:13:00</td>\n",
       "      <td>2020-01-01 22:23:00</td>\n",
       "      <td>광주광역시</td>\n",
       "      <td>광산구</td>\n",
       "      <td>풍영로170번길 39-10 (장덕동, 성덕마을 대방노블랜드3차)</td>\n",
       "    </tr>\n",
       "    <tr>\n",
       "      <th>...</th>\n",
       "      <td>...</td>\n",
       "      <td>...</td>\n",
       "      <td>...</td>\n",
       "      <td>...</td>\n",
       "      <td>...</td>\n",
       "      <td>...</td>\n",
       "      <td>...</td>\n",
       "      <td>...</td>\n",
       "      <td>...</td>\n",
       "      <td>...</td>\n",
       "      <td>...</td>\n",
       "      <td>...</td>\n",
       "      <td>...</td>\n",
       "      <td>...</td>\n",
       "      <td>...</td>\n",
       "      <td>...</td>\n",
       "    </tr>\n",
       "    <tr>\n",
       "      <th>2056457</th>\n",
       "      <td>광주전남</td>\n",
       "      <td>서광주</td>\n",
       "      <td>상무버들1단지</td>\n",
       "      <td>완속01</td>\n",
       "      <td>광주광역시 서구 상무버들로40번길 14 (유촌동, 상무버들마을1주공아파트)</td>\n",
       "      <td>완속</td>\n",
       "      <td>7.0</td>\n",
       "      <td>49.80</td>\n",
       "      <td>8</td>\n",
       "      <td>0</td>\n",
       "      <td>2020-12-03</td>\n",
       "      <td>2020-12-02 18:41</td>\n",
       "      <td>2020-12-03 2:42</td>\n",
       "      <td>광주광역시</td>\n",
       "      <td>서구</td>\n",
       "      <td>상무버들로40번길 14 (유촌동, 상무버들마을1주공아파트)</td>\n",
       "    </tr>\n",
       "    <tr>\n",
       "      <th>2056471</th>\n",
       "      <td>광주전남</td>\n",
       "      <td>서광주</td>\n",
       "      <td>광천e편한세상아파트</td>\n",
       "      <td>급속01</td>\n",
       "      <td>광주광역시 서구 화운로 278 (광천동, 광천 e편한세상)</td>\n",
       "      <td>급속</td>\n",
       "      <td>50.0</td>\n",
       "      <td>40.96</td>\n",
       "      <td>9</td>\n",
       "      <td>39</td>\n",
       "      <td>2020-12-03</td>\n",
       "      <td>2020-12-02 23:09</td>\n",
       "      <td>2020-12-03 8:49</td>\n",
       "      <td>광주광역시</td>\n",
       "      <td>서구</td>\n",
       "      <td>화운로 278 (광천동, 광천 e편한세상)</td>\n",
       "    </tr>\n",
       "    <tr>\n",
       "      <th>2056507</th>\n",
       "      <td>광주전남</td>\n",
       "      <td>광주전남직할</td>\n",
       "      <td>무등파크맨션3차</td>\n",
       "      <td>완속01</td>\n",
       "      <td>광주광역시 동구 의재로 123 (운림동, 무등파크맨션)</td>\n",
       "      <td>완속</td>\n",
       "      <td>7.0</td>\n",
       "      <td>25.19</td>\n",
       "      <td>4</td>\n",
       "      <td>26</td>\n",
       "      <td>2020-12-03</td>\n",
       "      <td>2020-12-02 23:50</td>\n",
       "      <td>2020-12-03 4:16</td>\n",
       "      <td>광주광역시</td>\n",
       "      <td>동구</td>\n",
       "      <td>의재로 123 (운림동, 무등파크맨션)</td>\n",
       "    </tr>\n",
       "    <tr>\n",
       "      <th>2056551</th>\n",
       "      <td>광주전남</td>\n",
       "      <td>광산</td>\n",
       "      <td>우산국제미소래아파트</td>\n",
       "      <td>완속01</td>\n",
       "      <td>광주광역시 광산구 용아로 175 (우산동, 국제미소래아파트)</td>\n",
       "      <td>완속</td>\n",
       "      <td>7.0</td>\n",
       "      <td>49.19</td>\n",
       "      <td>7</td>\n",
       "      <td>47</td>\n",
       "      <td>2020-12-03</td>\n",
       "      <td>2020-12-02 21:05</td>\n",
       "      <td>2020-12-03 4:52</td>\n",
       "      <td>광주광역시</td>\n",
       "      <td>광산구</td>\n",
       "      <td>용아로 175 (우산동, 국제미소래아파트)</td>\n",
       "    </tr>\n",
       "    <tr>\n",
       "      <th>2056624</th>\n",
       "      <td>광주전남</td>\n",
       "      <td>서광주</td>\n",
       "      <td>광천e편한세상아파트</td>\n",
       "      <td>완속02</td>\n",
       "      <td>광주광역시 서구 화운로 278 (광천동, 광천 e편한세상)</td>\n",
       "      <td>완속</td>\n",
       "      <td>7.0</td>\n",
       "      <td>14.76</td>\n",
       "      <td>5</td>\n",
       "      <td>29</td>\n",
       "      <td>2020-12-03</td>\n",
       "      <td>2020-12-02 18:41</td>\n",
       "      <td>2020-12-03 0:11</td>\n",
       "      <td>광주광역시</td>\n",
       "      <td>서구</td>\n",
       "      <td>화운로 278 (광천동, 광천 e편한세상)</td>\n",
       "    </tr>\n",
       "  </tbody>\n",
       "</table>\n",
       "<p>57272 rows × 16 columns</p>\n",
       "</div>"
      ],
      "text/plain": [
       "           본부     사업소           충전소명   충전기  \\\n",
       "2        광주전남     서광주   효천2지구 중흥S클래스  급속01   \n",
       "38       광주전남      광산      선운이지더원1단지  완속01   \n",
       "41       광주전남      광산  하남2지구 중흥S-클래스  완속02   \n",
       "58       광주전남  광주전남직할    월남 호반베르디움2차  완속01   \n",
       "100      광주전남      광산  수완대방노블랜드3차아파트  완속02   \n",
       "...       ...     ...            ...   ...   \n",
       "2056457  광주전남     서광주        상무버들1단지  완속01   \n",
       "2056471  광주전남     서광주     광천e편한세상아파트  급속01   \n",
       "2056507  광주전남  광주전남직할       무등파크맨션3차  완속01   \n",
       "2056551  광주전남      광산     우산국제미소래아파트  완속01   \n",
       "2056624  광주전남     서광주     광천e편한세상아파트  완속02   \n",
       "\n",
       "                                                      주소 충전기구분  충전용량    충전량  \\\n",
       "2           광주광역시 남구 효우로 332-11 (행암동, 효천2지구 중흥S-클래스 아파트)    급속  50.0  17.65   \n",
       "38       광주광역시 광산구 선운로20번길 47 (선암동, 광주 선운지구 EG the1 1단지)    완속   7.0  26.83   \n",
       "41             광주광역시 광산구 목련로21번길 20 (산정동, 하남2지구 중흥S-클래스)    완속   7.0  11.91   \n",
       "58                   광주광역시 동구 남문로 307 (월남동, 월남호반베르디움 2차)    완속   7.0  11.76   \n",
       "100        광주광역시 광산구 풍영로170번길 39-10 (장덕동, 성덕마을 대방노블랜드3차)    완속   7.0  12.33   \n",
       "...                                                  ...   ...   ...    ...   \n",
       "2056457        광주광역시 서구 상무버들로40번길 14 (유촌동, 상무버들마을1주공아파트)    완속   7.0  49.80   \n",
       "2056471                 광주광역시 서구 화운로 278 (광천동, 광천 e편한세상)    급속  50.0  40.96   \n",
       "2056507                   광주광역시 동구 의재로 123 (운림동, 무등파크맨션)    완속   7.0  25.19   \n",
       "2056551                광주광역시 광산구 용아로 175 (우산동, 국제미소래아파트)    완속   7.0  49.19   \n",
       "2056624                 광주광역시 서구 화운로 278 (광천동, 광천 e편한세상)    완속   7.0  14.76   \n",
       "\n",
       "         충전시간  충전분      충전종료일자               충전시작시각               충전종료시각  \\\n",
       "2           0   31  2020-01-01  2020-01-01 21:39:00  2020-01-01 22:11:00   \n",
       "38          4   31  2020-01-01  2020-01-01 18:12:00  2020-01-01 22:43:00   \n",
       "41          1   56  2020-01-01  2020-01-01 21:08:00  2020-01-01 23:05:00   \n",
       "58          3   54  2020-01-01  2020-01-01 20:00:00  2020-01-01 23:54:00   \n",
       "100         4    9  2020-01-01  2020-01-01 18:13:00  2020-01-01 22:23:00   \n",
       "...       ...  ...         ...                  ...                  ...   \n",
       "2056457     8    0  2020-12-03     2020-12-02 18:41      2020-12-03 2:42   \n",
       "2056471     9   39  2020-12-03     2020-12-02 23:09      2020-12-03 8:49   \n",
       "2056507     4   26  2020-12-03     2020-12-02 23:50      2020-12-03 4:16   \n",
       "2056551     7   47  2020-12-03     2020-12-02 21:05      2020-12-03 4:52   \n",
       "2056624     5   29  2020-12-03     2020-12-02 18:41      2020-12-03 0:11   \n",
       "\n",
       "             시    구                                  도로명주소  \n",
       "2        광주광역시   남구    효우로 332-11 (행암동, 효천2지구 중흥S-클래스 아파트)  \n",
       "38       광주광역시  광산구  선운로20번길 47 (선암동, 광주 선운지구 EG the1 1단지)  \n",
       "41       광주광역시  광산구        목련로21번길 20 (산정동, 하남2지구 중흥S-클래스)  \n",
       "58       광주광역시   동구             남문로 307 (월남동, 월남호반베르디움 2차)  \n",
       "100      광주광역시  광산구    풍영로170번길 39-10 (장덕동, 성덕마을 대방노블랜드3차)  \n",
       "...        ...  ...                                    ...  \n",
       "2056457  광주광역시   서구       상무버들로40번길 14 (유촌동, 상무버들마을1주공아파트)  \n",
       "2056471  광주광역시   서구                화운로 278 (광천동, 광천 e편한세상)  \n",
       "2056507  광주광역시   동구                  의재로 123 (운림동, 무등파크맨션)  \n",
       "2056551  광주광역시  광산구                용아로 175 (우산동, 국제미소래아파트)  \n",
       "2056624  광주광역시   서구                화운로 278 (광천동, 광천 e편한세상)  \n",
       "\n",
       "[57272 rows x 16 columns]"
      ]
     },
     "execution_count": 38,
     "metadata": {},
     "output_type": "execute_result"
    }
   ],
   "source": [
    "gwangju = df[df['시'] == '광주광역시']\n",
    "gwangju"
   ]
  },
  {
   "cell_type": "code",
   "execution_count": null,
   "id": "2737bf13-903f-4da5-979a-96d4be3f1a1d",
   "metadata": {},
   "outputs": [
    {
     "data": {
      "text/html": [
       "<div>\n",
       "<style scoped>\n",
       "    .dataframe tbody tr th:only-of-type {\n",
       "        vertical-align: middle;\n",
       "    }\n",
       "\n",
       "    .dataframe tbody tr th {\n",
       "        vertical-align: top;\n",
       "    }\n",
       "\n",
       "    .dataframe thead th {\n",
       "        text-align: right;\n",
       "    }\n",
       "</style>\n",
       "<table border=\"1\" class=\"dataframe\">\n",
       "  <thead>\n",
       "    <tr style=\"text-align: right;\">\n",
       "      <th></th>\n",
       "      <th>본부</th>\n",
       "      <th>사업소</th>\n",
       "      <th>충전소명</th>\n",
       "      <th>충전기</th>\n",
       "      <th>주소</th>\n",
       "      <th>충전기구분</th>\n",
       "      <th>충전용량</th>\n",
       "      <th>충전량</th>\n",
       "      <th>충전시간</th>\n",
       "      <th>충전분</th>\n",
       "      <th>충전종료일자</th>\n",
       "      <th>충전시작시각</th>\n",
       "      <th>충전종료시각</th>\n",
       "      <th>시</th>\n",
       "      <th>구</th>\n",
       "      <th>도로명주소</th>\n",
       "    </tr>\n",
       "  </thead>\n",
       "  <tbody>\n",
       "    <tr>\n",
       "      <th>0</th>\n",
       "      <td>광주전남</td>\n",
       "      <td>서광주</td>\n",
       "      <td>효천2지구 중흥S클래스</td>\n",
       "      <td>급속01</td>\n",
       "      <td>광주광역시 남구 효우로 332-11 (행암동, 효천2지구 중흥S-클래스 아파트)</td>\n",
       "      <td>급속</td>\n",
       "      <td>50.0</td>\n",
       "      <td>17.65</td>\n",
       "      <td>0</td>\n",
       "      <td>31</td>\n",
       "      <td>2020-01-01</td>\n",
       "      <td>2020-01-01 21:39:00</td>\n",
       "      <td>2020-01-01 22:11:00</td>\n",
       "      <td>광주광역시</td>\n",
       "      <td>남구</td>\n",
       "      <td>효우로 332-11 (행암동, 효천2지구 중흥S-클래스 아파트)</td>\n",
       "    </tr>\n",
       "    <tr>\n",
       "      <th>1</th>\n",
       "      <td>광주전남</td>\n",
       "      <td>광산</td>\n",
       "      <td>선운이지더원1단지</td>\n",
       "      <td>완속01</td>\n",
       "      <td>광주광역시 광산구 선운로20번길 47 (선암동, 광주 선운지구 EG the1 1단지)</td>\n",
       "      <td>완속</td>\n",
       "      <td>7.0</td>\n",
       "      <td>26.83</td>\n",
       "      <td>4</td>\n",
       "      <td>31</td>\n",
       "      <td>2020-01-01</td>\n",
       "      <td>2020-01-01 18:12:00</td>\n",
       "      <td>2020-01-01 22:43:00</td>\n",
       "      <td>광주광역시</td>\n",
       "      <td>광산구</td>\n",
       "      <td>선운로20번길 47 (선암동, 광주 선운지구 EG the1 1단지)</td>\n",
       "    </tr>\n",
       "    <tr>\n",
       "      <th>2</th>\n",
       "      <td>광주전남</td>\n",
       "      <td>광산</td>\n",
       "      <td>하남2지구 중흥S-클래스</td>\n",
       "      <td>완속02</td>\n",
       "      <td>광주광역시 광산구 목련로21번길 20 (산정동, 하남2지구 중흥S-클래스)</td>\n",
       "      <td>완속</td>\n",
       "      <td>7.0</td>\n",
       "      <td>11.91</td>\n",
       "      <td>1</td>\n",
       "      <td>56</td>\n",
       "      <td>2020-01-01</td>\n",
       "      <td>2020-01-01 21:08:00</td>\n",
       "      <td>2020-01-01 23:05:00</td>\n",
       "      <td>광주광역시</td>\n",
       "      <td>광산구</td>\n",
       "      <td>목련로21번길 20 (산정동, 하남2지구 중흥S-클래스)</td>\n",
       "    </tr>\n",
       "    <tr>\n",
       "      <th>3</th>\n",
       "      <td>광주전남</td>\n",
       "      <td>광주전남직할</td>\n",
       "      <td>월남 호반베르디움2차</td>\n",
       "      <td>완속01</td>\n",
       "      <td>광주광역시 동구 남문로 307 (월남동, 월남호반베르디움 2차)</td>\n",
       "      <td>완속</td>\n",
       "      <td>7.0</td>\n",
       "      <td>11.76</td>\n",
       "      <td>3</td>\n",
       "      <td>54</td>\n",
       "      <td>2020-01-01</td>\n",
       "      <td>2020-01-01 20:00:00</td>\n",
       "      <td>2020-01-01 23:54:00</td>\n",
       "      <td>광주광역시</td>\n",
       "      <td>동구</td>\n",
       "      <td>남문로 307 (월남동, 월남호반베르디움 2차)</td>\n",
       "    </tr>\n",
       "    <tr>\n",
       "      <th>4</th>\n",
       "      <td>광주전남</td>\n",
       "      <td>광산</td>\n",
       "      <td>수완대방노블랜드3차아파트</td>\n",
       "      <td>완속02</td>\n",
       "      <td>광주광역시 광산구 풍영로170번길 39-10 (장덕동, 성덕마을 대방노블랜드3차)</td>\n",
       "      <td>완속</td>\n",
       "      <td>7.0</td>\n",
       "      <td>12.33</td>\n",
       "      <td>4</td>\n",
       "      <td>9</td>\n",
       "      <td>2020-01-01</td>\n",
       "      <td>2020-01-01 18:13:00</td>\n",
       "      <td>2020-01-01 22:23:00</td>\n",
       "      <td>광주광역시</td>\n",
       "      <td>광산구</td>\n",
       "      <td>풍영로170번길 39-10 (장덕동, 성덕마을 대방노블랜드3차)</td>\n",
       "    </tr>\n",
       "    <tr>\n",
       "      <th>...</th>\n",
       "      <td>...</td>\n",
       "      <td>...</td>\n",
       "      <td>...</td>\n",
       "      <td>...</td>\n",
       "      <td>...</td>\n",
       "      <td>...</td>\n",
       "      <td>...</td>\n",
       "      <td>...</td>\n",
       "      <td>...</td>\n",
       "      <td>...</td>\n",
       "      <td>...</td>\n",
       "      <td>...</td>\n",
       "      <td>...</td>\n",
       "      <td>...</td>\n",
       "      <td>...</td>\n",
       "      <td>...</td>\n",
       "    </tr>\n",
       "    <tr>\n",
       "      <th>57267</th>\n",
       "      <td>광주전남</td>\n",
       "      <td>서광주</td>\n",
       "      <td>상무버들1단지</td>\n",
       "      <td>완속01</td>\n",
       "      <td>광주광역시 서구 상무버들로40번길 14 (유촌동, 상무버들마을1주공아파트)</td>\n",
       "      <td>완속</td>\n",
       "      <td>7.0</td>\n",
       "      <td>49.80</td>\n",
       "      <td>8</td>\n",
       "      <td>0</td>\n",
       "      <td>2020-12-03</td>\n",
       "      <td>2020-12-02 18:41</td>\n",
       "      <td>2020-12-03 2:42</td>\n",
       "      <td>광주광역시</td>\n",
       "      <td>서구</td>\n",
       "      <td>상무버들로40번길 14 (유촌동, 상무버들마을1주공아파트)</td>\n",
       "    </tr>\n",
       "    <tr>\n",
       "      <th>57268</th>\n",
       "      <td>광주전남</td>\n",
       "      <td>서광주</td>\n",
       "      <td>광천e편한세상아파트</td>\n",
       "      <td>급속01</td>\n",
       "      <td>광주광역시 서구 화운로 278 (광천동, 광천 e편한세상)</td>\n",
       "      <td>급속</td>\n",
       "      <td>50.0</td>\n",
       "      <td>40.96</td>\n",
       "      <td>9</td>\n",
       "      <td>39</td>\n",
       "      <td>2020-12-03</td>\n",
       "      <td>2020-12-02 23:09</td>\n",
       "      <td>2020-12-03 8:49</td>\n",
       "      <td>광주광역시</td>\n",
       "      <td>서구</td>\n",
       "      <td>화운로 278 (광천동, 광천 e편한세상)</td>\n",
       "    </tr>\n",
       "    <tr>\n",
       "      <th>57269</th>\n",
       "      <td>광주전남</td>\n",
       "      <td>광주전남직할</td>\n",
       "      <td>무등파크맨션3차</td>\n",
       "      <td>완속01</td>\n",
       "      <td>광주광역시 동구 의재로 123 (운림동, 무등파크맨션)</td>\n",
       "      <td>완속</td>\n",
       "      <td>7.0</td>\n",
       "      <td>25.19</td>\n",
       "      <td>4</td>\n",
       "      <td>26</td>\n",
       "      <td>2020-12-03</td>\n",
       "      <td>2020-12-02 23:50</td>\n",
       "      <td>2020-12-03 4:16</td>\n",
       "      <td>광주광역시</td>\n",
       "      <td>동구</td>\n",
       "      <td>의재로 123 (운림동, 무등파크맨션)</td>\n",
       "    </tr>\n",
       "    <tr>\n",
       "      <th>57270</th>\n",
       "      <td>광주전남</td>\n",
       "      <td>광산</td>\n",
       "      <td>우산국제미소래아파트</td>\n",
       "      <td>완속01</td>\n",
       "      <td>광주광역시 광산구 용아로 175 (우산동, 국제미소래아파트)</td>\n",
       "      <td>완속</td>\n",
       "      <td>7.0</td>\n",
       "      <td>49.19</td>\n",
       "      <td>7</td>\n",
       "      <td>47</td>\n",
       "      <td>2020-12-03</td>\n",
       "      <td>2020-12-02 21:05</td>\n",
       "      <td>2020-12-03 4:52</td>\n",
       "      <td>광주광역시</td>\n",
       "      <td>광산구</td>\n",
       "      <td>용아로 175 (우산동, 국제미소래아파트)</td>\n",
       "    </tr>\n",
       "    <tr>\n",
       "      <th>57271</th>\n",
       "      <td>광주전남</td>\n",
       "      <td>서광주</td>\n",
       "      <td>광천e편한세상아파트</td>\n",
       "      <td>완속02</td>\n",
       "      <td>광주광역시 서구 화운로 278 (광천동, 광천 e편한세상)</td>\n",
       "      <td>완속</td>\n",
       "      <td>7.0</td>\n",
       "      <td>14.76</td>\n",
       "      <td>5</td>\n",
       "      <td>29</td>\n",
       "      <td>2020-12-03</td>\n",
       "      <td>2020-12-02 18:41</td>\n",
       "      <td>2020-12-03 0:11</td>\n",
       "      <td>광주광역시</td>\n",
       "      <td>서구</td>\n",
       "      <td>화운로 278 (광천동, 광천 e편한세상)</td>\n",
       "    </tr>\n",
       "  </tbody>\n",
       "</table>\n",
       "<p>57272 rows × 16 columns</p>\n",
       "</div>"
      ],
      "text/plain": [
       "         본부     사업소           충전소명   충전기  \\\n",
       "0      광주전남     서광주   효천2지구 중흥S클래스  급속01   \n",
       "1      광주전남      광산      선운이지더원1단지  완속01   \n",
       "2      광주전남      광산  하남2지구 중흥S-클래스  완속02   \n",
       "3      광주전남  광주전남직할    월남 호반베르디움2차  완속01   \n",
       "4      광주전남      광산  수완대방노블랜드3차아파트  완속02   \n",
       "...     ...     ...            ...   ...   \n",
       "57267  광주전남     서광주        상무버들1단지  완속01   \n",
       "57268  광주전남     서광주     광천e편한세상아파트  급속01   \n",
       "57269  광주전남  광주전남직할       무등파크맨션3차  완속01   \n",
       "57270  광주전남      광산     우산국제미소래아파트  완속01   \n",
       "57271  광주전남     서광주     광천e편한세상아파트  완속02   \n",
       "\n",
       "                                                    주소 충전기구분  충전용량    충전량  \\\n",
       "0         광주광역시 남구 효우로 332-11 (행암동, 효천2지구 중흥S-클래스 아파트)    급속  50.0  17.65   \n",
       "1      광주광역시 광산구 선운로20번길 47 (선암동, 광주 선운지구 EG the1 1단지)    완속   7.0  26.83   \n",
       "2            광주광역시 광산구 목련로21번길 20 (산정동, 하남2지구 중흥S-클래스)    완속   7.0  11.91   \n",
       "3                  광주광역시 동구 남문로 307 (월남동, 월남호반베르디움 2차)    완속   7.0  11.76   \n",
       "4        광주광역시 광산구 풍영로170번길 39-10 (장덕동, 성덕마을 대방노블랜드3차)    완속   7.0  12.33   \n",
       "...                                                ...   ...   ...    ...   \n",
       "57267        광주광역시 서구 상무버들로40번길 14 (유촌동, 상무버들마을1주공아파트)    완속   7.0  49.80   \n",
       "57268                 광주광역시 서구 화운로 278 (광천동, 광천 e편한세상)    급속  50.0  40.96   \n",
       "57269                   광주광역시 동구 의재로 123 (운림동, 무등파크맨션)    완속   7.0  25.19   \n",
       "57270                광주광역시 광산구 용아로 175 (우산동, 국제미소래아파트)    완속   7.0  49.19   \n",
       "57271                 광주광역시 서구 화운로 278 (광천동, 광천 e편한세상)    완속   7.0  14.76   \n",
       "\n",
       "       충전시간  충전분      충전종료일자               충전시작시각               충전종료시각      시  \\\n",
       "0         0   31  2020-01-01  2020-01-01 21:39:00  2020-01-01 22:11:00  광주광역시   \n",
       "1         4   31  2020-01-01  2020-01-01 18:12:00  2020-01-01 22:43:00  광주광역시   \n",
       "2         1   56  2020-01-01  2020-01-01 21:08:00  2020-01-01 23:05:00  광주광역시   \n",
       "3         3   54  2020-01-01  2020-01-01 20:00:00  2020-01-01 23:54:00  광주광역시   \n",
       "4         4    9  2020-01-01  2020-01-01 18:13:00  2020-01-01 22:23:00  광주광역시   \n",
       "...     ...  ...         ...                  ...                  ...    ...   \n",
       "57267     8    0  2020-12-03     2020-12-02 18:41      2020-12-03 2:42  광주광역시   \n",
       "57268     9   39  2020-12-03     2020-12-02 23:09      2020-12-03 8:49  광주광역시   \n",
       "57269     4   26  2020-12-03     2020-12-02 23:50      2020-12-03 4:16  광주광역시   \n",
       "57270     7   47  2020-12-03     2020-12-02 21:05      2020-12-03 4:52  광주광역시   \n",
       "57271     5   29  2020-12-03     2020-12-02 18:41      2020-12-03 0:11  광주광역시   \n",
       "\n",
       "         구                                  도로명주소  \n",
       "0       남구    효우로 332-11 (행암동, 효천2지구 중흥S-클래스 아파트)  \n",
       "1      광산구  선운로20번길 47 (선암동, 광주 선운지구 EG the1 1단지)  \n",
       "2      광산구        목련로21번길 20 (산정동, 하남2지구 중흥S-클래스)  \n",
       "3       동구             남문로 307 (월남동, 월남호반베르디움 2차)  \n",
       "4      광산구    풍영로170번길 39-10 (장덕동, 성덕마을 대방노블랜드3차)  \n",
       "...    ...                                    ...  \n",
       "57267   서구       상무버들로40번길 14 (유촌동, 상무버들마을1주공아파트)  \n",
       "57268   서구                화운로 278 (광천동, 광천 e편한세상)  \n",
       "57269   동구                  의재로 123 (운림동, 무등파크맨션)  \n",
       "57270  광산구                용아로 175 (우산동, 국제미소래아파트)  \n",
       "57271   서구                화운로 278 (광천동, 광천 e편한세상)  \n",
       "\n",
       "[57272 rows x 16 columns]"
      ]
     },
     "execution_count": 39,
     "metadata": {},
     "output_type": "execute_result"
    }
   ],
   "source": [
    "gwangju = gwangju.drop_duplicates().reset_index(drop=True)\n",
    "gwangju"
   ]
  },
  {
   "cell_type": "code",
   "execution_count": null,
   "id": "60ee68e1-9c6c-42e5-b0fc-50d020be77fd",
   "metadata": {},
   "outputs": [],
   "source": [
    "# gwangju.to_excel('1월에서12월.xlsx')"
   ]
  },
  {
   "cell_type": "code",
   "execution_count": null,
   "id": "e8a14716-6a96-4cc4-bbce-0977d17d7f47",
   "metadata": {},
   "outputs": [
    {
     "name": "stdout",
     "output_type": "stream",
     "text": [
      "<class 'pandas.core.frame.DataFrame'>\n",
      "RangeIndex: 57272 entries, 0 to 57271\n",
      "Data columns (total 16 columns):\n",
      " #   Column  Non-Null Count  Dtype  \n",
      "---  ------  --------------  -----  \n",
      " 0   본부      57272 non-null  object \n",
      " 1   사업소     57272 non-null  object \n",
      " 2   충전소명    57272 non-null  object \n",
      " 3   충전기     57272 non-null  object \n",
      " 4   주소      57272 non-null  object \n",
      " 5   충전기구분   57272 non-null  object \n",
      " 6   충전용량    56808 non-null  float64\n",
      " 7   충전량     57272 non-null  float64\n",
      " 8   충전시간    57272 non-null  int64  \n",
      " 9   충전분     57272 non-null  int64  \n",
      " 10  충전종료일자  57272 non-null  object \n",
      " 11  충전시작시각  57272 non-null  object \n",
      " 12  충전종료시각  57272 non-null  object \n",
      " 13  시       57272 non-null  object \n",
      " 14  구       57272 non-null  object \n",
      " 15  도로명주소   57272 non-null  object \n",
      "dtypes: float64(2), int64(2), object(12)\n",
      "memory usage: 7.0+ MB\n"
     ]
    }
   ],
   "source": [
    "gwangju.info()"
   ]
  },
  {
   "cell_type": "code",
   "execution_count": null,
   "id": "432f8cfb-fee3-4082-948b-2fdb5548b23c",
   "metadata": {},
   "outputs": [
    {
     "data": {
      "text/plain": [
       "<AxesSubplot:xlabel='구', ylabel='충전량'>"
      ]
     },
     "execution_count": 42,
     "metadata": {},
     "output_type": "execute_result"
    },
    {
     "data": {
      "image/png": "[encoded data removed]",
      "text/plain": [
       "<Figure size 1000x300 with 1 Axes>"
      ]
     },
     "metadata": {},
     "output_type": "display_data"
    }
   ],
   "source": [
    "# 구별 충전량\n",
    "gwangju_gu = gwangju.groupby('구')['충전량'].sum().sort_values(ascending=False)\n",
    "gwangju_gu = gwangju_gu.reset_index()\n",
    "gwangju_gu\n",
    "plt.figure(figsize=(10,3))\n",
    "sns.barplot(data=gwangju_gu,x='구',y='충전량')"
   ]
  },
  {
   "cell_type": "code",
   "execution_count": null,
   "id": "0b10e757-c8c6-44d6-91b1-8462085d80e4",
   "metadata": {},
   "outputs": [
    {
     "data": {
      "image/png": "[encoded data removed]",
      "text/plain": [
       "<Figure size 800x800 with 1 Axes>"
      ]
     },
     "metadata": {},
     "output_type": "display_data"
    }
   ],
   "source": [
    "# 구별 충전량 비율\n",
    "df_charge = gwangju[['구', '충전량']]\n",
    "df_charge_sum = df_charge.groupby('구').sum()\n",
    "\n",
    "df_charge_sum.plot(kind='pie', y='충전량', legend=False, autopct='%1.1f%%', figsize=(8,8))\n",
    "plt.title('구별 충전소별 충전량 비율')\n",
    "plt.ylabel('')\n",
    "plt.show()"
   ]
  },
  {
   "cell_type": "code",
   "execution_count": null,
   "id": "d7a9a58f-5b8d-4a34-ad3f-6f0243f4e7db",
   "metadata": {},
   "outputs": [],
   "source": [
    "# gwangju202001 = gwangju[gwangju['충전종료일자'] == '2020-01-01']\n",
    "# gwangju202002 = gwangju[gwangju['충전종료일자'] == '2020-01-02']\n",
    "# gwangju202003 = gwangju[gwangju['충전종료일자'] == '2020-01-03']\n",
    "# gwangju202004 = gwangju[gwangju['충전종료일자'] == '2020-01-04']\n",
    "# gwangju202005 = gwangju[gwangju['충전종료일자'] == '2020-01-05']\n",
    "# gwangju202006 = gwangju[gwangju['충전종료일자'] == '2020-01-06']"
   ]
  },
  {
   "cell_type": "code",
   "execution_count": null,
   "id": "7c6295fb-e535-4851-8008-1badd997915a",
   "metadata": {},
   "outputs": [
    {
     "data": {
      "text/html": [
       "<div>\n",
       "<style scoped>\n",
       "    .dataframe tbody tr th:only-of-type {\n",
       "        vertical-align: middle;\n",
       "    }\n",
       "\n",
       "    .dataframe tbody tr th {\n",
       "        vertical-align: top;\n",
       "    }\n",
       "\n",
       "    .dataframe thead th {\n",
       "        text-align: right;\n",
       "    }\n",
       "</style>\n",
       "<table border=\"1\" class=\"dataframe\">\n",
       "  <thead>\n",
       "    <tr style=\"text-align: right;\">\n",
       "      <th></th>\n",
       "      <th>시간</th>\n",
       "      <th>구</th>\n",
       "      <th>충전량</th>\n",
       "    </tr>\n",
       "  </thead>\n",
       "  <tbody>\n",
       "    <tr>\n",
       "      <th>0</th>\n",
       "      <td>0</td>\n",
       "      <td>광산구</td>\n",
       "      <td>7200.154</td>\n",
       "    </tr>\n",
       "    <tr>\n",
       "      <th>1</th>\n",
       "      <td>0</td>\n",
       "      <td>남구</td>\n",
       "      <td>2622.400</td>\n",
       "    </tr>\n",
       "    <tr>\n",
       "      <th>2</th>\n",
       "      <td>0</td>\n",
       "      <td>동구</td>\n",
       "      <td>1289.810</td>\n",
       "    </tr>\n",
       "    <tr>\n",
       "      <th>3</th>\n",
       "      <td>0</td>\n",
       "      <td>북구</td>\n",
       "      <td>4389.490</td>\n",
       "    </tr>\n",
       "    <tr>\n",
       "      <th>4</th>\n",
       "      <td>0</td>\n",
       "      <td>서구</td>\n",
       "      <td>2741.128</td>\n",
       "    </tr>\n",
       "    <tr>\n",
       "      <th>...</th>\n",
       "      <td>...</td>\n",
       "      <td>...</td>\n",
       "      <td>...</td>\n",
       "    </tr>\n",
       "    <tr>\n",
       "      <th>115</th>\n",
       "      <td>23</td>\n",
       "      <td>광산구</td>\n",
       "      <td>14803.102</td>\n",
       "    </tr>\n",
       "    <tr>\n",
       "      <th>116</th>\n",
       "      <td>23</td>\n",
       "      <td>남구</td>\n",
       "      <td>9600.440</td>\n",
       "    </tr>\n",
       "    <tr>\n",
       "      <th>117</th>\n",
       "      <td>23</td>\n",
       "      <td>동구</td>\n",
       "      <td>2405.900</td>\n",
       "    </tr>\n",
       "    <tr>\n",
       "      <th>118</th>\n",
       "      <td>23</td>\n",
       "      <td>북구</td>\n",
       "      <td>25760.390</td>\n",
       "    </tr>\n",
       "    <tr>\n",
       "      <th>119</th>\n",
       "      <td>23</td>\n",
       "      <td>서구</td>\n",
       "      <td>6323.116</td>\n",
       "    </tr>\n",
       "  </tbody>\n",
       "</table>\n",
       "<p>120 rows × 3 columns</p>\n",
       "</div>"
      ],
      "text/plain": [
       "     시간    구        충전량\n",
       "0     0  광산구   7200.154\n",
       "1     0   남구   2622.400\n",
       "2     0   동구   1289.810\n",
       "3     0   북구   4389.490\n",
       "4     0   서구   2741.128\n",
       "..   ..  ...        ...\n",
       "115  23  광산구  14803.102\n",
       "116  23   남구   9600.440\n",
       "117  23   동구   2405.900\n",
       "118  23   북구  25760.390\n",
       "119  23   서구   6323.116\n",
       "\n",
       "[120 rows x 3 columns]"
      ]
     },
     "execution_count": 45,
     "metadata": {},
     "output_type": "execute_result"
    }
   ],
   "source": [
    "# 시간별 구별 총충전량\n",
    "gwangju['충전시작시각'] = pd.to_datetime(gwangju['충전시작시각'])\n",
    "\n",
    "# 시간별, 구별 충전량 계산\n",
    "hourcharge = gwangju.groupby([gwangju['충전시작시각'].dt.hour, gwangju['구']])['충전량'].sum()\n",
    "\n",
    "hourcharge_df = pd.DataFrame({'시간': [i[0] for i in hourcharge.index],\n",
    "                                       '구': [i[1] for i in hourcharge.index],\n",
    "                                       '충전량': hourcharge.values})\n",
    "hourcharge_df"
   ]
  },
  {
   "cell_type": "code",
   "execution_count": null,
   "id": "1e2e5299-9641-41b2-a627-7534f68932cb",
   "metadata": {},
   "outputs": [
    {
     "data": {
      "image/png": "[encoded data removed]",
      "text/plain": [
       "<Figure size 1200x600 with 1 Axes>"
      ]
     },
     "metadata": {},
     "output_type": "display_data"
    }
   ],
   "source": [
    "mart_hourly_pivot = hourcharge_df.pivot_table(values='충전량', index='시간', columns='구', aggfunc='sum')\n",
    "\n",
    "mart_hourly_pivot.plot(kind='bar', figsize=(12,6))\n",
    "plt.xlabel('시간')\n",
    "plt.ylabel('충전량')\n",
    "plt.title('구별 시간대별 충전량')\n",
    "plt.show()"
   ]
  },
  {
   "cell_type": "code",
   "execution_count": null,
   "id": "8d7ca4b3-2556-41cb-94a9-7e82badd6eeb",
   "metadata": {},
   "outputs": [
    {
     "data": {
      "text/plain": [
       "충전종료일자      구  \n",
       "2020-01-01  광산구    1475.1540\n",
       "            남구      412.2700\n",
       "            동구      503.6600\n",
       "            북구     1851.5300\n",
       "            서구     2097.3620\n",
       "                     ...    \n",
       "2020-12-03  광산구    1091.0700\n",
       "            남구      272.0900\n",
       "            동구      396.3400\n",
       "            북구     6580.9999\n",
       "            서구     1923.7700\n",
       "Name: 충전량, Length: 1680, dtype: float64"
      ]
     },
     "execution_count": 47,
     "metadata": {},
     "output_type": "execute_result"
    }
   ],
   "source": [
    "# 구별충전량\n",
    "gu_charge = gwangju.groupby([gwangju['충전종료일자'], gwangju['구']])['충전량'].sum()\n",
    "gu_charge"
   ]
  },
  {
   "cell_type": "code",
   "execution_count": null,
   "id": "51bd789f-d8db-4c2b-89a6-b871c0768f82",
   "metadata": {},
   "outputs": [
    {
     "data": {
      "text/html": [
       "<div>\n",
       "<style scoped>\n",
       "    .dataframe tbody tr th:only-of-type {\n",
       "        vertical-align: middle;\n",
       "    }\n",
       "\n",
       "    .dataframe tbody tr th {\n",
       "        vertical-align: top;\n",
       "    }\n",
       "\n",
       "    .dataframe thead th {\n",
       "        text-align: right;\n",
       "    }\n",
       "</style>\n",
       "<table border=\"1\" class=\"dataframe\">\n",
       "  <thead>\n",
       "    <tr style=\"text-align: right;\">\n",
       "      <th></th>\n",
       "      <th>충전종료일자</th>\n",
       "      <th>구</th>\n",
       "      <th>충전량</th>\n",
       "    </tr>\n",
       "  </thead>\n",
       "  <tbody>\n",
       "    <tr>\n",
       "      <th>0</th>\n",
       "      <td>2020-01-01</td>\n",
       "      <td>광산구</td>\n",
       "      <td>1475.1540</td>\n",
       "    </tr>\n",
       "    <tr>\n",
       "      <th>1</th>\n",
       "      <td>2020-01-01</td>\n",
       "      <td>남구</td>\n",
       "      <td>412.2700</td>\n",
       "    </tr>\n",
       "    <tr>\n",
       "      <th>2</th>\n",
       "      <td>2020-01-01</td>\n",
       "      <td>동구</td>\n",
       "      <td>503.6600</td>\n",
       "    </tr>\n",
       "    <tr>\n",
       "      <th>3</th>\n",
       "      <td>2020-01-01</td>\n",
       "      <td>북구</td>\n",
       "      <td>1851.5300</td>\n",
       "    </tr>\n",
       "    <tr>\n",
       "      <th>4</th>\n",
       "      <td>2020-01-01</td>\n",
       "      <td>서구</td>\n",
       "      <td>2097.3620</td>\n",
       "    </tr>\n",
       "    <tr>\n",
       "      <th>...</th>\n",
       "      <td>...</td>\n",
       "      <td>...</td>\n",
       "      <td>...</td>\n",
       "    </tr>\n",
       "    <tr>\n",
       "      <th>1675</th>\n",
       "      <td>2020-12-03</td>\n",
       "      <td>광산구</td>\n",
       "      <td>1091.0700</td>\n",
       "    </tr>\n",
       "    <tr>\n",
       "      <th>1676</th>\n",
       "      <td>2020-12-03</td>\n",
       "      <td>남구</td>\n",
       "      <td>272.0900</td>\n",
       "    </tr>\n",
       "    <tr>\n",
       "      <th>1677</th>\n",
       "      <td>2020-12-03</td>\n",
       "      <td>동구</td>\n",
       "      <td>396.3400</td>\n",
       "    </tr>\n",
       "    <tr>\n",
       "      <th>1678</th>\n",
       "      <td>2020-12-03</td>\n",
       "      <td>북구</td>\n",
       "      <td>6580.9999</td>\n",
       "    </tr>\n",
       "    <tr>\n",
       "      <th>1679</th>\n",
       "      <td>2020-12-03</td>\n",
       "      <td>서구</td>\n",
       "      <td>1923.7700</td>\n",
       "    </tr>\n",
       "  </tbody>\n",
       "</table>\n",
       "<p>1680 rows × 3 columns</p>\n",
       "</div>"
      ],
      "text/plain": [
       "          충전종료일자    구        충전량\n",
       "0     2020-01-01  광산구  1475.1540\n",
       "1     2020-01-01   남구   412.2700\n",
       "2     2020-01-01   동구   503.6600\n",
       "3     2020-01-01   북구  1851.5300\n",
       "4     2020-01-01   서구  2097.3620\n",
       "...          ...  ...        ...\n",
       "1675  2020-12-03  광산구  1091.0700\n",
       "1676  2020-12-03   남구   272.0900\n",
       "1677  2020-12-03   동구   396.3400\n",
       "1678  2020-12-03   북구  6580.9999\n",
       "1679  2020-12-03   서구  1923.7700\n",
       "\n",
       "[1680 rows x 3 columns]"
      ]
     },
     "execution_count": 48,
     "metadata": {},
     "output_type": "execute_result"
    }
   ],
   "source": [
    "# 충전시간별 충전소명 충전량\n",
    "gu_charge_df = pd.DataFrame({'충전종료일자': [i[0] for i in gu_charge.index],\n",
    "                                       '구': [i[1] for i in gu_charge.index],\n",
    "                                       '충전량': gu_charge.values})\n",
    "gu_charge_df"
   ]
  },
  {
   "cell_type": "code",
   "execution_count": null,
   "id": "ee0ad5c5-f6f0-475d-acee-065de1ed638d",
   "metadata": {
    "collapsed": true,
    "jupyter": {
     "outputs_hidden": true
    },
    "tags": []
   },
   "outputs": [
    {
     "data": {
      "text/plain": [
       "[        충전종료일자    구       충전량  월\n",
       " 0   2020-01-01  광산구  1475.154  1\n",
       " 1   2020-01-01   남구   412.270  1\n",
       " 2   2020-01-01   동구   503.660  1\n",
       " 3   2020-01-01   북구  1851.530  1\n",
       " 4   2020-01-01   서구  2097.362  1\n",
       " ..         ...  ...       ... ..\n",
       " 150 2020-01-31  광산구  1053.260  1\n",
       " 151 2020-01-31   남구   426.720  1\n",
       " 152 2020-01-31   동구   216.570  1\n",
       " 153 2020-01-31   북구  1879.750  1\n",
       " 154 2020-01-31   서구  1425.060  1\n",
       " \n",
       " [155 rows x 4 columns],\n",
       "         충전종료일자    구       충전량  월\n",
       " 155 2020-02-01  광산구   888.886  2\n",
       " 156 2020-02-01   남구   391.030  2\n",
       " 157 2020-02-01   동구   199.320  2\n",
       " 158 2020-02-01   북구  1505.760  2\n",
       " 159 2020-02-01   서구  1605.830  2\n",
       " ..         ...  ...       ... ..\n",
       " 295 2020-02-29  광산구   851.978  2\n",
       " 296 2020-02-29   남구   363.160  2\n",
       " 297 2020-02-29   동구   175.940  2\n",
       " 298 2020-02-29   북구  1550.320  2\n",
       " 299 2020-02-29   서구  1461.578  2\n",
       " \n",
       " [145 rows x 4 columns],\n",
       "         충전종료일자    구       충전량  월\n",
       " 300 2020-03-01  광산구   525.684  3\n",
       " 301 2020-03-01   남구   204.360  3\n",
       " 302 2020-03-01   동구   311.860  3\n",
       " 303 2020-03-01   북구  1157.110  3\n",
       " 304 2020-03-01   서구  1231.810  3\n",
       " ..         ...  ...       ... ..\n",
       " 450 2020-03-31  광산구   666.510  3\n",
       " 451 2020-03-31   남구   243.010  3\n",
       " 452 2020-03-31   동구   308.100  3\n",
       " 453 2020-03-31   북구  1367.760  3\n",
       " 454 2020-03-31   서구  1845.276  3\n",
       " \n",
       " [155 rows x 4 columns],\n",
       "         충전종료일자    구       충전량  월\n",
       " 455 2020-04-01  광산구   984.700  4\n",
       " 456 2020-04-01   남구   248.390  4\n",
       " 457 2020-04-01   동구   369.680  4\n",
       " 458 2020-04-01   북구  1283.130  4\n",
       " 459 2020-04-01   서구  1623.480  4\n",
       " ..         ...  ...       ... ..\n",
       " 600 2020-04-30  광산구  1407.112  4\n",
       " 601 2020-04-30   남구   634.690  4\n",
       " 602 2020-04-30   동구   290.770  4\n",
       " 603 2020-04-30   북구  1788.400  4\n",
       " 604 2020-04-30   서구  1808.250  4\n",
       " \n",
       " [150 rows x 4 columns],\n",
       "         충전종료일자    구       충전량  월\n",
       " 605 2020-05-01  광산구   866.096  5\n",
       " 606 2020-05-01   남구   454.290  5\n",
       " 607 2020-05-01   동구   338.100  5\n",
       " 608 2020-05-01   북구  2025.830  5\n",
       " 609 2020-05-01   서구  1502.670  5\n",
       " ..         ...  ...       ... ..\n",
       " 755 2020-05-31  광산구  1137.450  5\n",
       " 756 2020-05-31   남구   354.640  5\n",
       " 757 2020-05-31   동구   348.940  5\n",
       " 758 2020-05-31   북구  1292.720  5\n",
       " 759 2020-05-31   서구  1346.830  5\n",
       " \n",
       " [155 rows x 4 columns],\n",
       "         충전종료일자    구       충전량  월\n",
       " 760 2020-06-01  광산구   817.740  6\n",
       " 761 2020-06-01   남구   183.840  6\n",
       " 762 2020-06-01   동구   231.720  6\n",
       " 763 2020-06-01   북구  1187.430  6\n",
       " 764 2020-06-01   서구  1411.168  6\n",
       " ..         ...  ...       ... ..\n",
       " 895 2020-06-28  광산구   692.220  6\n",
       " 896 2020-06-28   남구   300.840  6\n",
       " 897 2020-06-28   동구   134.410  6\n",
       " 898 2020-06-28   북구  1467.770  6\n",
       " 899 2020-06-28   서구   945.680  6\n",
       " \n",
       " [140 rows x 4 columns],\n",
       "          충전종료일자    구       충전량  월\n",
       " 900  2020-07-01  광산구  1617.942  7\n",
       " 901  2020-07-01   남구   481.190  7\n",
       " 902  2020-07-01   동구   300.980  7\n",
       " 903  2020-07-01   북구  1589.750  7\n",
       " 904  2020-07-01   서구  1912.270  7\n",
       " ...         ...  ...       ... ..\n",
       " 1050 2020-07-31  광산구  1514.012  7\n",
       " 1051 2020-07-31   남구   376.810  7\n",
       " 1052 2020-07-31   동구   308.180  7\n",
       " 1053 2020-07-31   북구  3129.760  7\n",
       " 1054 2020-07-31   서구  1880.720  7\n",
       " \n",
       " [155 rows x 4 columns],\n",
       "          충전종료일자    구       충전량  월\n",
       " 1055 2020-08-01  광산구  1292.930  8\n",
       " 1056 2020-08-01   남구   228.600  8\n",
       " 1057 2020-08-01   동구   577.910  8\n",
       " 1058 2020-08-01   북구  2641.440  8\n",
       " 1059 2020-08-01   서구  1391.890  8\n",
       " ...         ...  ...       ... ..\n",
       " 1205 2020-08-31  광산구  1128.958  8\n",
       " 1206 2020-08-31   남구   267.920  8\n",
       " 1207 2020-08-31   동구   203.380  8\n",
       " 1208 2020-08-31   북구   739.330  8\n",
       " 1209 2020-08-31   서구  1800.060  8\n",
       " \n",
       " [155 rows x 4 columns],\n",
       "          충전종료일자    구       충전량  월\n",
       " 1210 2020-09-01  광산구  1281.092  9\n",
       " 1211 2020-09-01   남구   154.920  9\n",
       " 1212 2020-09-01   동구   269.860  9\n",
       " 1213 2020-09-01   북구   386.570  9\n",
       " 1214 2020-09-01   서구  1848.060  9\n",
       " ...         ...  ...       ... ..\n",
       " 1355 2020-09-30  광산구  1410.760  9\n",
       " 1356 2020-09-30   남구   328.800  9\n",
       " 1357 2020-09-30   동구   557.600  9\n",
       " 1358 2020-09-30   북구  2828.220  9\n",
       " 1359 2020-09-30   서구  1796.560  9\n",
       " \n",
       " [150 rows x 4 columns],\n",
       "          충전종료일자    구       충전량   월\n",
       " 1360 2020-10-01  광산구   979.504  10\n",
       " 1361 2020-10-01   남구   290.360  10\n",
       " 1362 2020-10-01   동구   381.840  10\n",
       " 1363 2020-10-01   북구  2018.350  10\n",
       " 1364 2020-10-01   서구  1171.830  10\n",
       " ...         ...  ...       ...  ..\n",
       " 1510 2020-10-31  광산구  1531.306  10\n",
       " 1511 2020-10-31   남구   435.550  10\n",
       " 1512 2020-10-31   동구   335.160  10\n",
       " 1513 2020-10-31   북구  3016.970  10\n",
       " 1514 2020-10-31   서구  1541.530  10\n",
       " \n",
       " [155 rows x 4 columns],\n",
       "          충전종료일자    구        충전량   월\n",
       " 1515 2020-11-01  광산구  1228.9060  11\n",
       " 1516 2020-11-01   남구   540.7300  11\n",
       " 1517 2020-11-01   동구   436.6800  11\n",
       " 1518 2020-11-01   북구  3474.1600  11\n",
       " 1519 2020-11-01   서구  1509.1520  11\n",
       " ...         ...  ...        ...  ..\n",
       " 1660 2020-11-30  광산구   777.5840  11\n",
       " 1661 2020-11-30   남구   424.3100  11\n",
       " 1662 2020-11-30   동구   460.8300  11\n",
       " 1663 2020-11-30   북구  5902.3803  11\n",
       " 1664 2020-11-30   서구  1915.7800  11\n",
       " \n",
       " [150 rows x 4 columns],\n",
       "          충전종료일자    구        충전량   월\n",
       " 1665 2020-12-01  광산구  1094.0700  12\n",
       " 1666 2020-12-01   남구   278.1100  12\n",
       " 1667 2020-12-01   동구   509.3600  12\n",
       " 1668 2020-12-01   북구  6482.4692  12\n",
       " 1669 2020-12-01   서구  1884.1000  12\n",
       " 1670 2020-12-02  광산구  1441.1820  12\n",
       " 1671 2020-12-02   남구   369.1000  12\n",
       " 1672 2020-12-02   동구   337.9900  12\n",
       " 1673 2020-12-02   북구  7105.2117  12\n",
       " 1674 2020-12-02   서구  2087.3800  12\n",
       " 1675 2020-12-03  광산구  1091.0700  12\n",
       " 1676 2020-12-03   남구   272.0900  12\n",
       " 1677 2020-12-03   동구   396.3400  12\n",
       " 1678 2020-12-03   북구  6580.9999  12\n",
       " 1679 2020-12-03   서구  1923.7700  12]"
      ]
     },
     "execution_count": 49,
     "metadata": {},
     "output_type": "execute_result"
    }
   ],
   "source": [
    "gu_charge_df['충전종료일자'] = pd.to_datetime(gu_charge_df['충전종료일자'])\n",
    "# '월' column 추가\n",
    "gu_charge_df['월'] = gu_charge_df['충전종료일자'].dt.month\n",
    "\n",
    "# 월별로 데이터프레임 분할\n",
    "gu_charge_by_month = [gu_charge_df.loc[gu_charge_df['월'] == i] for i in range(1, 13)]\n",
    "gu_charge_by_month"
   ]
  },
  {
   "cell_type": "code",
   "execution_count": null,
   "id": "4e5a1384-c105-4125-81fe-5789cb5b8f92",
   "metadata": {},
   "outputs": [
    {
     "data": {
      "text/html": [
       "<div>\n",
       "<style scoped>\n",
       "    .dataframe tbody tr th:only-of-type {\n",
       "        vertical-align: middle;\n",
       "    }\n",
       "\n",
       "    .dataframe tbody tr th {\n",
       "        vertical-align: top;\n",
       "    }\n",
       "\n",
       "    .dataframe thead th {\n",
       "        text-align: right;\n",
       "    }\n",
       "</style>\n",
       "<table border=\"1\" class=\"dataframe\">\n",
       "  <thead>\n",
       "    <tr style=\"text-align: right;\">\n",
       "      <th></th>\n",
       "      <th>충전종료일자</th>\n",
       "      <th>구</th>\n",
       "      <th>충전량</th>\n",
       "      <th>월</th>\n",
       "    </tr>\n",
       "  </thead>\n",
       "  <tbody>\n",
       "    <tr>\n",
       "      <th>0</th>\n",
       "      <td>2020-01-01</td>\n",
       "      <td>광산구</td>\n",
       "      <td>1475.154</td>\n",
       "      <td>1</td>\n",
       "    </tr>\n",
       "    <tr>\n",
       "      <th>1</th>\n",
       "      <td>2020-01-01</td>\n",
       "      <td>남구</td>\n",
       "      <td>412.270</td>\n",
       "      <td>1</td>\n",
       "    </tr>\n",
       "    <tr>\n",
       "      <th>2</th>\n",
       "      <td>2020-01-01</td>\n",
       "      <td>동구</td>\n",
       "      <td>503.660</td>\n",
       "      <td>1</td>\n",
       "    </tr>\n",
       "    <tr>\n",
       "      <th>3</th>\n",
       "      <td>2020-01-01</td>\n",
       "      <td>북구</td>\n",
       "      <td>1851.530</td>\n",
       "      <td>1</td>\n",
       "    </tr>\n",
       "    <tr>\n",
       "      <th>4</th>\n",
       "      <td>2020-01-01</td>\n",
       "      <td>서구</td>\n",
       "      <td>2097.362</td>\n",
       "      <td>1</td>\n",
       "    </tr>\n",
       "    <tr>\n",
       "      <th>...</th>\n",
       "      <td>...</td>\n",
       "      <td>...</td>\n",
       "      <td>...</td>\n",
       "      <td>...</td>\n",
       "    </tr>\n",
       "    <tr>\n",
       "      <th>150</th>\n",
       "      <td>2020-01-31</td>\n",
       "      <td>광산구</td>\n",
       "      <td>1053.260</td>\n",
       "      <td>1</td>\n",
       "    </tr>\n",
       "    <tr>\n",
       "      <th>151</th>\n",
       "      <td>2020-01-31</td>\n",
       "      <td>남구</td>\n",
       "      <td>426.720</td>\n",
       "      <td>1</td>\n",
       "    </tr>\n",
       "    <tr>\n",
       "      <th>152</th>\n",
       "      <td>2020-01-31</td>\n",
       "      <td>동구</td>\n",
       "      <td>216.570</td>\n",
       "      <td>1</td>\n",
       "    </tr>\n",
       "    <tr>\n",
       "      <th>153</th>\n",
       "      <td>2020-01-31</td>\n",
       "      <td>북구</td>\n",
       "      <td>1879.750</td>\n",
       "      <td>1</td>\n",
       "    </tr>\n",
       "    <tr>\n",
       "      <th>154</th>\n",
       "      <td>2020-01-31</td>\n",
       "      <td>서구</td>\n",
       "      <td>1425.060</td>\n",
       "      <td>1</td>\n",
       "    </tr>\n",
       "  </tbody>\n",
       "</table>\n",
       "<p>155 rows × 4 columns</p>\n",
       "</div>"
      ],
      "text/plain": [
       "        충전종료일자    구       충전량  월\n",
       "0   2020-01-01  광산구  1475.154  1\n",
       "1   2020-01-01   남구   412.270  1\n",
       "2   2020-01-01   동구   503.660  1\n",
       "3   2020-01-01   북구  1851.530  1\n",
       "4   2020-01-01   서구  2097.362  1\n",
       "..         ...  ...       ... ..\n",
       "150 2020-01-31  광산구  1053.260  1\n",
       "151 2020-01-31   남구   426.720  1\n",
       "152 2020-01-31   동구   216.570  1\n",
       "153 2020-01-31   북구  1879.750  1\n",
       "154 2020-01-31   서구  1425.060  1\n",
       "\n",
       "[155 rows x 4 columns]"
      ]
     },
     "execution_count": 50,
     "metadata": {},
     "output_type": "execute_result"
    }
   ],
   "source": [
    "gu1_charge_df = gu_charge_by_month[0]\n",
    "gu2_charge_df = gu_charge_by_month[1]\n",
    "gu3_charge_df = gu_charge_by_month[2]\n",
    "gu4_charge_df = gu_charge_by_month[3]\n",
    "gu5_charge_df = gu_charge_by_month[4]\n",
    "gu6_charge_df = gu_charge_by_month[5]\n",
    "gu7_charge_df = gu_charge_by_month[6]\n",
    "gu8_charge_df = gu_charge_by_month[7]\n",
    "gu9_charge_df = gu_charge_by_month[8]\n",
    "gu10_charge_df = gu_charge_by_month[9]\n",
    "gu11_charge_df = gu_charge_by_month[10]\n",
    "gu12_charge_df = gu_charge_by_month[11]\n",
    "gu1_charge_df"
   ]
  },
  {
   "cell_type": "code",
   "execution_count": null,
   "id": "24a0f555-2284-48e7-bf5c-d771b5bfe671",
   "metadata": {},
   "outputs": [
    {
     "data": {
      "image/png": "[encoded data removed]",
      "text/plain": [
       "<Figure size 1200x600 with 1 Axes>"
      ]
     },
     "metadata": {},
     "output_type": "display_data"
    }
   ],
   "source": [
    "# 1월 구별 일별 충전량\n",
    "gu1_hourly_pivot = gu1_charge_df.pivot_table(values='충전량', index='충전종료일자', columns='구', aggfunc='sum')\n",
    "\n",
    "gu1_hourly_pivot.plot(kind='bar', figsize=(12,6))\n",
    "plt.xlabel('일자')\n",
    "plt.ylabel('충전량')\n",
    "plt.title('구별 시간대별 충전량 (1월)')\n",
    "plt.show()\n",
    "# 선그래프로"
   ]
  },
  {
   "cell_type": "code",
   "execution_count": null,
   "id": "14aa0a84-a61b-4721-b68a-823c1a61ad2e",
   "metadata": {},
   "outputs": [
    {
     "data": {
      "text/html": [
       "<div>\n",
       "<style scoped>\n",
       "    .dataframe tbody tr th:only-of-type {\n",
       "        vertical-align: middle;\n",
       "    }\n",
       "\n",
       "    .dataframe tbody tr th {\n",
       "        vertical-align: top;\n",
       "    }\n",
       "\n",
       "    .dataframe thead th {\n",
       "        text-align: right;\n",
       "    }\n",
       "</style>\n",
       "<table border=\"1\" class=\"dataframe\">\n",
       "  <thead>\n",
       "    <tr style=\"text-align: right;\">\n",
       "      <th>구</th>\n",
       "      <th>광산구</th>\n",
       "      <th>남구</th>\n",
       "      <th>동구</th>\n",
       "      <th>북구</th>\n",
       "      <th>서구</th>\n",
       "    </tr>\n",
       "    <tr>\n",
       "      <th>월</th>\n",
       "      <th></th>\n",
       "      <th></th>\n",
       "      <th></th>\n",
       "      <th></th>\n",
       "      <th></th>\n",
       "    </tr>\n",
       "  </thead>\n",
       "  <tbody>\n",
       "    <tr>\n",
       "      <th>1</th>\n",
       "      <td>33858.748</td>\n",
       "      <td>10002.04</td>\n",
       "      <td>10188.62</td>\n",
       "      <td>60180.1700</td>\n",
       "      <td>57015.3900</td>\n",
       "    </tr>\n",
       "    <tr>\n",
       "      <th>2</th>\n",
       "      <td>27679.322</td>\n",
       "      <td>8859.74</td>\n",
       "      <td>8290.67</td>\n",
       "      <td>55596.2300</td>\n",
       "      <td>52196.1560</td>\n",
       "    </tr>\n",
       "    <tr>\n",
       "      <th>3</th>\n",
       "      <td>30470.560</td>\n",
       "      <td>8409.33</td>\n",
       "      <td>9245.30</td>\n",
       "      <td>48137.7700</td>\n",
       "      <td>47398.3240</td>\n",
       "    </tr>\n",
       "    <tr>\n",
       "      <th>4</th>\n",
       "      <td>33526.232</td>\n",
       "      <td>8769.49</td>\n",
       "      <td>9157.15</td>\n",
       "      <td>52862.1900</td>\n",
       "      <td>51840.7000</td>\n",
       "    </tr>\n",
       "    <tr>\n",
       "      <th>5</th>\n",
       "      <td>32933.314</td>\n",
       "      <td>9270.69</td>\n",
       "      <td>9233.28</td>\n",
       "      <td>50325.2000</td>\n",
       "      <td>56475.7700</td>\n",
       "    </tr>\n",
       "    <tr>\n",
       "      <th>6</th>\n",
       "      <td>30262.708</td>\n",
       "      <td>8676.86</td>\n",
       "      <td>9470.55</td>\n",
       "      <td>35360.0100</td>\n",
       "      <td>38701.4760</td>\n",
       "    </tr>\n",
       "    <tr>\n",
       "      <th>7</th>\n",
       "      <td>33434.054</td>\n",
       "      <td>8357.87</td>\n",
       "      <td>9611.50</td>\n",
       "      <td>71741.9300</td>\n",
       "      <td>50329.2820</td>\n",
       "    </tr>\n",
       "    <tr>\n",
       "      <th>8</th>\n",
       "      <td>36713.836</td>\n",
       "      <td>9453.40</td>\n",
       "      <td>11165.87</td>\n",
       "      <td>33874.4600</td>\n",
       "      <td>55512.3560</td>\n",
       "    </tr>\n",
       "    <tr>\n",
       "      <th>9</th>\n",
       "      <td>31952.030</td>\n",
       "      <td>8598.93</td>\n",
       "      <td>9993.77</td>\n",
       "      <td>50573.4400</td>\n",
       "      <td>45393.9430</td>\n",
       "    </tr>\n",
       "    <tr>\n",
       "      <th>10</th>\n",
       "      <td>35723.194</td>\n",
       "      <td>10219.07</td>\n",
       "      <td>11197.66</td>\n",
       "      <td>96003.9000</td>\n",
       "      <td>51124.4109</td>\n",
       "    </tr>\n",
       "    <tr>\n",
       "      <th>11</th>\n",
       "      <td>33923.370</td>\n",
       "      <td>10608.68</td>\n",
       "      <td>12150.37</td>\n",
       "      <td>133830.2199</td>\n",
       "      <td>50104.4310</td>\n",
       "    </tr>\n",
       "    <tr>\n",
       "      <th>12</th>\n",
       "      <td>3626.322</td>\n",
       "      <td>919.30</td>\n",
       "      <td>1243.69</td>\n",
       "      <td>20168.6808</td>\n",
       "      <td>5895.2500</td>\n",
       "    </tr>\n",
       "  </tbody>\n",
       "</table>\n",
       "</div>"
      ],
      "text/plain": [
       "구         광산구        남구        동구           북구          서구\n",
       "월                                                         \n",
       "1   33858.748  10002.04  10188.62   60180.1700  57015.3900\n",
       "2   27679.322   8859.74   8290.67   55596.2300  52196.1560\n",
       "3   30470.560   8409.33   9245.30   48137.7700  47398.3240\n",
       "4   33526.232   8769.49   9157.15   52862.1900  51840.7000\n",
       "5   32933.314   9270.69   9233.28   50325.2000  56475.7700\n",
       "6   30262.708   8676.86   9470.55   35360.0100  38701.4760\n",
       "7   33434.054   8357.87   9611.50   71741.9300  50329.2820\n",
       "8   36713.836   9453.40  11165.87   33874.4600  55512.3560\n",
       "9   31952.030   8598.93   9993.77   50573.4400  45393.9430\n",
       "10  35723.194  10219.07  11197.66   96003.9000  51124.4109\n",
       "11  33923.370  10608.68  12150.37  133830.2199  50104.4310\n",
       "12   3626.322    919.30   1243.69   20168.6808   5895.2500"
      ]
     },
     "execution_count": 52,
     "metadata": {},
     "output_type": "execute_result"
    }
   ],
   "source": [
    "# 일자별 총충전량\n",
    "gwangju['충전종료일자'] = pd.to_datetime(gwangju['충전종료일자'])\n",
    "\n",
    "# 일자별, 시간대별 충전량 계산\n",
    "daily_hourly_charge = gwangju.groupby([gwangju['충전종료일자'].dt.date, gwangju['구']])['충전량'].sum()\n",
    "\n",
    "# 일자 컬럼 추가\n",
    "daily_hourly_charge_df = pd.DataFrame({'일자': [i[0] for i in daily_hourly_charge.index],\n",
    "                                       '구': [i[1] for i in daily_hourly_charge.index],\n",
    "                                       '충전량': daily_hourly_charge.values})\n",
    "\n",
    "# 월별 컬럼 추가\n",
    "daily_hourly_charge_df['월'] = daily_hourly_charge_df['일자'].apply(lambda x: x.month)\n",
    "\n",
    "# 월별 컬럼에 일자별 충전량 매핑\n",
    "monthly_charge = daily_hourly_charge_df.groupby(['월', '구'])['충전량'].sum().unstack()\n",
    "\n",
    "monthly_charge\n",
    "# 월별 구별 총충전량"
   ]
  },
  {
   "cell_type": "code",
   "execution_count": null,
   "id": "474bbbe0-58eb-4103-b3cd-f174dbf31a0d",
   "metadata": {},
   "outputs": [
    {
     "data": {
      "image/png": "[encoded data removed]",
      "text/plain": [
       "<Figure size 1000x600 with 1 Axes>"
      ]
     },
     "metadata": {},
     "output_type": "display_data"
    }
   ],
   "source": [
    "monthly_charge.plot(kind='bar', figsize=(10, 6))\n",
    "plt.title('월별 구별 총충전량')\n",
    "plt.xlabel('월')\n",
    "plt.ylabel('충전량')\n",
    "plt.legend(loc='best')\n",
    "plt.show()"
   ]
  },
  {
   "cell_type": "code",
   "execution_count": null,
   "id": "1aa1862c",
   "metadata": {},
   "outputs": [
    {
     "data": {
      "application/vnd.plotly.v1+json": {
       "config": {
        "plotlyServerURL": "https://plot.ly"
       },
       "data": [
        {
         "domain": {
          "x": [
           0,
           0.45
          ],
          "y": [
           0,
           1
          ]
         },
         "labels": [
          "북구",
          "서구",
          "광산구",
          "동구",
          "남구"
         ],
         "showlegend": true,
         "type": "pie",
         "values": [
          708654.2007,
          561987.4889,
          364103.69,
          110948.43,
          102145.4
         ]
        },
        {
         "showlegend": false,
         "type": "bar",
         "x": [
          "북구",
          "서구",
          "광산구",
          "동구",
          "남구"
         ],
         "xaxis": "x",
         "y": [
          708654.2007,
          561987.4889,
          364103.69,
          110948.43,
          102145.4
         ],
         "yaxis": "y"
        }
       ],
       "layout": {
        "annotations": [
         {
          "font": {
           "size": 16
          },
          "showarrow": false,
          "text": "구별 총 충전량 비율",
          "x": 0.225,
          "xanchor": "center",
          "xref": "paper",
          "y": 1,
          "yanchor": "bottom",
          "yref": "paper"
         },
         {
          "font": {
           "size": 16
          },
          "showarrow": false,
          "text": "구별 총 충전량",
          "x": 0.775,
          "xanchor": "center",
          "xref": "paper",
          "y": 1,
          "yanchor": "bottom",
          "yref": "paper"
         }
        ],
        "template": {
         "data": {
          "bar": [
           {
            "error_x": {
             "color": "#f2f5fa"
            },
            "error_y": {
             "color": "#f2f5fa"
            },
            "marker": {
             "line": {
              "color": "rgb(17,17,17)",
              "width": 0.5
             },
             "pattern": {
              "fillmode": "overlay",
              "size": 10,
              "solidity": 0.2
             }
            },
            "type": "bar"
           }
          ],
          "barpolar": [
           {
            "marker": {
             "line": {
              "color": "rgb(17,17,17)",
              "width": 0.5
             },
             "pattern": {
              "fillmode": "overlay",
              "size": 10,
              "solidity": 0.2
             }
            },
            "type": "barpolar"
           }
          ],
          "carpet": [
           {
            "aaxis": {
             "endlinecolor": "#A2B1C6",
             "gridcolor": "#506784",
             "linecolor": "#506784",
             "minorgridcolor": "#506784",
             "startlinecolor": "#A2B1C6"
            },
            "baxis": {
             "endlinecolor": "#A2B1C6",
             "gridcolor": "#506784",
             "linecolor": "#506784",
             "minorgridcolor": "#506784",
             "startlinecolor": "#A2B1C6"
            },
            "type": "carpet"
           }
          ],
          "choropleth": [
           {
            "colorbar": {
             "outlinewidth": 0,
             "ticks": ""
            },
            "type": "choropleth"
           }
          ],
          "contour": [
           {
            "colorbar": {
             "outlinewidth": 0,
             "ticks": ""
            },
            "colorscale": [
             [
              0,
              "#0d0887"
             ],
             [
              0.1111111111111111,
              "#46039f"
             ],
             [
              0.2222222222222222,
              "#7201a8"
             ],
             [
              0.3333333333333333,
              "#9c179e"
             ],
             [
              0.4444444444444444,
              "#bd3786"
             ],
             [
              0.5555555555555556,
              "#d8576b"
             ],
             [
              0.6666666666666666,
              "#ed7953"
             ],
             [
              0.7777777777777778,
              "#fb9f3a"
             ],
             [
              0.8888888888888888,
              "#fdca26"
             ],
             [
              1,
              "#f0f921"
             ]
            ],
            "type": "contour"
           }
          ],
          "contourcarpet": [
           {
            "colorbar": {
             "outlinewidth": 0,
             "ticks": ""
            },
            "type": "contourcarpet"
           }
          ],
          "heatmap": [
           {
            "colorbar": {
             "outlinewidth": 0,
             "ticks": ""
            },
            "colorscale": [
             [
              0,
              "#0d0887"
             ],
             [
              0.1111111111111111,
              "#46039f"
             ],
             [
              0.2222222222222222,
              "#7201a8"
             ],
             [
              0.3333333333333333,
              "#9c179e"
             ],
             [
              0.4444444444444444,
              "#bd3786"
             ],
             [
              0.5555555555555556,
              "#d8576b"
             ],
             [
              0.6666666666666666,
              "#ed7953"
             ],
             [
              0.7777777777777778,
              "#fb9f3a"
             ],
             [
              0.8888888888888888,
              "#fdca26"
             ],
             [
              1,
              "#f0f921"
             ]
            ],
            "type": "heatmap"
           }
          ],
          "heatmapgl": [
           {
            "colorbar": {
             "outlinewidth": 0,
             "ticks": ""
            },
            "colorscale": [
             [
              0,
              "#0d0887"
             ],
             [
              0.1111111111111111,
              "#46039f"
             ],
             [
              0.2222222222222222,
              "#7201a8"
             ],
             [
              0.3333333333333333,
              "#9c179e"
             ],
             [
              0.4444444444444444,
              "#bd3786"
             ],
             [
              0.5555555555555556,
              "#d8576b"
             ],
             [
              0.6666666666666666,
              "#ed7953"
             ],
             [
              0.7777777777777778,
              "#fb9f3a"
             ],
             [
              0.8888888888888888,
              "#fdca26"
             ],
             [
              1,
              "#f0f921"
             ]
            ],
            "type": "heatmapgl"
           }
          ],
          "histogram": [
           {
            "marker": {
             "pattern": {
              "fillmode": "overlay",
              "size": 10,
              "solidity": 0.2
             }
            },
            "type": "histogram"
           }
          ],
          "histogram2d": [
           {
            "colorbar": {
             "outlinewidth": 0,
             "ticks": ""
            },
            "colorscale": [
             [
              0,
              "#0d0887"
             ],
             [
              0.1111111111111111,
              "#46039f"
             ],
             [
              0.2222222222222222,
              "#7201a8"
             ],
             [
              0.3333333333333333,
              "#9c179e"
             ],
             [
              0.4444444444444444,
              "#bd3786"
             ],
             [
              0.5555555555555556,
              "#d8576b"
             ],
             [
              0.6666666666666666,
              "#ed7953"
             ],
             [
              0.7777777777777778,
              "#fb9f3a"
             ],
             [
              0.8888888888888888,
              "#fdca26"
             ],
             [
              1,
              "#f0f921"
             ]
            ],
            "type": "histogram2d"
           }
          ],
          "histogram2dcontour": [
           {
            "colorbar": {
             "outlinewidth": 0,
             "ticks": ""
            },
            "colorscale": [
             [
              0,
              "#0d0887"
             ],
             [
              0.1111111111111111,
              "#46039f"
             ],
             [
              0.2222222222222222,
              "#7201a8"
             ],
             [
              0.3333333333333333,
              "#9c179e"
             ],
             [
              0.4444444444444444,
              "#bd3786"
             ],
             [
              0.5555555555555556,
              "#d8576b"
             ],
             [
              0.6666666666666666,
              "#ed7953"
             ],
             [
              0.7777777777777778,
              "#fb9f3a"
             ],
             [
              0.8888888888888888,
              "#fdca26"
             ],
             [
              1,
              "#f0f921"
             ]
            ],
            "type": "histogram2dcontour"
           }
          ],
          "mesh3d": [
           {
            "colorbar": {
             "outlinewidth": 0,
             "ticks": ""
            },
            "type": "mesh3d"
           }
          ],
          "parcoords": [
           {
            "line": {
             "colorbar": {
              "outlinewidth": 0,
              "ticks": ""
             }
            },
            "type": "parcoords"
           }
          ],
          "pie": [
           {
            "automargin": true,
            "type": "pie"
           }
          ],
          "scatter": [
           {
            "marker": {
             "line": {
              "color": "#283442"
             }
            },
            "type": "scatter"
           }
          ],
          "scatter3d": [
           {
            "line": {
             "colorbar": {
              "outlinewidth": 0,
              "ticks": ""
             }
            },
            "marker": {
             "colorbar": {
              "outlinewidth": 0,
              "ticks": ""
             }
            },
            "type": "scatter3d"
           }
          ],
          "scattercarpet": [
           {
            "marker": {
             "colorbar": {
              "outlinewidth": 0,
              "ticks": ""
             }
            },
            "type": "scattercarpet"
           }
          ],
          "scattergeo": [
           {
            "marker": {
             "colorbar": {
              "outlinewidth": 0,
              "ticks": ""
             }
            },
            "type": "scattergeo"
           }
          ],
          "scattergl": [
           {
            "marker": {
             "line": {
              "color": "#283442"
             }
            },
            "type": "scattergl"
           }
          ],
          "scattermapbox": [
           {
            "marker": {
             "colorbar": {
              "outlinewidth": 0,
              "ticks": ""
             }
            },
            "type": "scattermapbox"
           }
          ],
          "scatterpolar": [
           {
            "marker": {
             "colorbar": {
              "outlinewidth": 0,
              "ticks": ""
             }
            },
            "type": "scatterpolar"
           }
          ],
          "scatterpolargl": [
           {
            "marker": {
             "colorbar": {
              "outlinewidth": 0,
              "ticks": ""
             }
            },
            "type": "scatterpolargl"
           }
          ],
          "scatterternary": [
           {
            "marker": {
             "colorbar": {
              "outlinewidth": 0,
              "ticks": ""
             }
            },
            "type": "scatterternary"
           }
          ],
          "surface": [
           {
            "colorbar": {
             "outlinewidth": 0,
             "ticks": ""
            },
            "colorscale": [
             [
              0,
              "#0d0887"
             ],
             [
              0.1111111111111111,
              "#46039f"
             ],
             [
              0.2222222222222222,
              "#7201a8"
             ],
             [
              0.3333333333333333,
              "#9c179e"
             ],
             [
              0.4444444444444444,
              "#bd3786"
             ],
             [
              0.5555555555555556,
              "#d8576b"
             ],
             [
              0.6666666666666666,
              "#ed7953"
             ],
             [
              0.7777777777777778,
              "#fb9f3a"
             ],
             [
              0.8888888888888888,
              "#fdca26"
             ],
             [
              1,
              "#f0f921"
             ]
            ],
            "type": "surface"
           }
          ],
          "table": [
           {
            "cells": {
             "fill": {
              "color": "#506784"
             },
             "line": {
              "color": "rgb(17,17,17)"
             }
            },
            "header": {
             "fill": {
              "color": "#2a3f5f"
             },
             "line": {
              "color": "rgb(17,17,17)"
             }
            },
            "type": "table"
           }
          ]
         },
         "layout": {
          "annotationdefaults": {
           "arrowcolor": "#f2f5fa",
           "arrowhead": 0,
           "arrowwidth": 1
          },
          "autotypenumbers": "strict",
          "coloraxis": {
           "colorbar": {
            "outlinewidth": 0,
            "ticks": ""
           }
          },
          "colorscale": {
           "diverging": [
            [
             0,
             "#8e0152"
            ],
            [
             0.1,
             "#c51b7d"
            ],
            [
             0.2,
             "#de77ae"
            ],
            [
             0.3,
             "#f1b6da"
            ],
            [
             0.4,
             "#fde0ef"
            ],
            [
             0.5,
             "#f7f7f7"
            ],
            [
             0.6,
             "#e6f5d0"
            ],
            [
             0.7,
             "#b8e186"
            ],
            [
             0.8,
             "#7fbc41"
            ],
            [
             0.9,
             "#4d9221"
            ],
            [
             1,
             "#276419"
            ]
           ],
           "sequential": [
            [
             0,
             "#0d0887"
            ],
            [
             0.1111111111111111,
             "#46039f"
            ],
            [
             0.2222222222222222,
             "#7201a8"
            ],
            [
             0.3333333333333333,
             "#9c179e"
            ],
            [
             0.4444444444444444,
             "#bd3786"
            ],
            [
             0.5555555555555556,
             "#d8576b"
            ],
            [
             0.6666666666666666,
             "#ed7953"
            ],
            [
             0.7777777777777778,
             "#fb9f3a"
            ],
            [
             0.8888888888888888,
             "#fdca26"
            ],
            [
             1,
             "#f0f921"
            ]
           ],
           "sequentialminus": [
            [
             0,
             "#0d0887"
            ],
            [
             0.1111111111111111,
             "#46039f"
            ],
            [
             0.2222222222222222,
             "#7201a8"
            ],
            [
             0.3333333333333333,
             "#9c179e"
            ],
            [
             0.4444444444444444,
             "#bd3786"
            ],
            [
             0.5555555555555556,
             "#d8576b"
            ],
            [
             0.6666666666666666,
             "#ed7953"
            ],
            [
             0.7777777777777778,
             "#fb9f3a"
            ],
            [
             0.8888888888888888,
             "#fdca26"
            ],
            [
             1,
             "#f0f921"
            ]
           ]
          },
          "colorway": [
           "#636efa",
           "#EF553B",
           "#00cc96",
           "#ab63fa",
           "#FFA15A",
           "#19d3f3",
           "#FF6692",
           "#B6E880",
           "#FF97FF",
           "#FECB52"
          ],
          "font": {
           "color": "#f2f5fa"
          },
          "geo": {
           "bgcolor": "rgb(17,17,17)",
           "lakecolor": "rgb(17,17,17)",
           "landcolor": "rgb(17,17,17)",
           "showlakes": true,
           "showland": true,
           "subunitcolor": "#506784"
          },
          "hoverlabel": {
           "align": "left"
          },
          "hovermode": "closest",
          "mapbox": {
           "style": "dark"
          },
          "paper_bgcolor": "rgb(17,17,17)",
          "plot_bgcolor": "rgb(17,17,17)",
          "polar": {
           "angularaxis": {
            "gridcolor": "#506784",
            "linecolor": "#506784",
            "ticks": ""
           },
           "bgcolor": "rgb(17,17,17)",
           "radialaxis": {
            "gridcolor": "#506784",
            "linecolor": "#506784",
            "ticks": ""
           }
          },
          "scene": {
           "xaxis": {
            "backgroundcolor": "rgb(17,17,17)",
            "gridcolor": "#506784",
            "gridwidth": 2,
            "linecolor": "#506784",
            "showbackground": true,
            "ticks": "",
            "zerolinecolor": "#C8D4E3"
           },
           "yaxis": {
            "backgroundcolor": "rgb(17,17,17)",
            "gridcolor": "#506784",
            "gridwidth": 2,
            "linecolor": "#506784",
            "showbackground": true,
            "ticks": "",
            "zerolinecolor": "#C8D4E3"
           },
           "zaxis": {
            "backgroundcolor": "rgb(17,17,17)",
            "gridcolor": "#506784",
            "gridwidth": 2,
            "linecolor": "#506784",
            "showbackground": true,
            "ticks": "",
            "zerolinecolor": "#C8D4E3"
           }
          },
          "shapedefaults": {
           "line": {
            "color": "#f2f5fa"
           }
          },
          "sliderdefaults": {
           "bgcolor": "#C8D4E3",
           "bordercolor": "rgb(17,17,17)",
           "borderwidth": 1,
           "tickwidth": 0
          },
          "ternary": {
           "aaxis": {
            "gridcolor": "#506784",
            "linecolor": "#506784",
            "ticks": ""
           },
           "baxis": {
            "gridcolor": "#506784",
            "linecolor": "#506784",
            "ticks": ""
           },
           "bgcolor": "rgb(17,17,17)",
           "caxis": {
            "gridcolor": "#506784",
            "linecolor": "#506784",
            "ticks": ""
           }
          },
          "title": {
           "x": 0.05
          },
          "updatemenudefaults": {
           "bgcolor": "#506784",
           "borderwidth": 0
          },
          "xaxis": {
           "automargin": true,
           "gridcolor": "#283442",
           "linecolor": "#506784",
           "ticks": "",
           "title": {
            "standoff": 15
           },
           "zerolinecolor": "#283442",
           "zerolinewidth": 2
          },
          "yaxis": {
           "automargin": true,
           "gridcolor": "#283442",
           "linecolor": "#506784",
           "ticks": "",
           "title": {
            "standoff": 15
           },
           "zerolinecolor": "#283442",
           "zerolinewidth": 2
          }
         }
        },
        "title": {
         "text": "구별 총 충전량"
        },
        "xaxis": {
         "anchor": "y",
         "domain": [
          0.55,
          1
         ]
        },
        "yaxis": {
         "anchor": "x",
         "domain": [
          0,
          1
         ]
        }
       }
      }
     },
     "metadata": {},
     "output_type": "display_data"
    }
   ],
   "source": [
    "import plotly.graph_objects as go\n",
    "from plotly.subplots import make_subplots\n",
    "import pandas as pd\n",
    "\n",
    "subfig = make_subplots(\n",
    "    rows=1, cols=2,\n",
    "    column_widths=[10, 10],\n",
    "    row_heights=[10],\n",
    "    subplot_titles=(\"구별 총 충전량 비율\", \"구별 총 충전량\"),\n",
    "    specs=[[{\"type\": \"pie\"}, {\"type\": \"bar\"}]])\n",
    "\n",
    "# 'gwangju' 데이터프레임에서 '구'별 '충전량' 합계를 계산합니다.\n",
    "gwangju_gu = gwangju.groupby('구')['충전량'].sum().sort_values(ascending=False)\n",
    "\n",
    "# 'gwangju_gu' 데이터프레임을 subfig에 추가합니다.\n",
    "subfig.add_trace(\n",
    "    go.Pie(labels=gwangju_gu.index, values=gwangju_gu.values, showlegend=True), 1, 1)\n",
    "subfig.add_trace(\n",
    "    go.Bar(x=gwangju_gu.index, y=gwangju_gu.values, showlegend=False), 1, 2)\n",
    "\n",
    "subfig.update_layout(template=\"plotly_dark\", title='구별 총 충전량')\n",
    "subfig.show()"
   ]
  },
  {
   "cell_type": "code",
   "execution_count": null,
   "id": "1b83b439",
   "metadata": {},
   "outputs": [
    {
     "data": {
      "application/vnd.plotly.v1+json": {
       "config": {
        "plotlyServerURL": "https://plot.ly"
       },
       "data": [
        {
         "domain": {
          "x": [
           0,
           0.45
          ],
          "y": [
           0,
           1
          ]
         },
         "labels": [
          "북구",
          "서구",
          "광산구",
          "동구",
          "남구"
         ],
         "showlegend": true,
         "type": "pie",
         "values": [
          708654.2007,
          561987.4889,
          364103.69,
          110948.43,
          102145.4
         ]
        },
        {
         "marker": {
          "color": [
           "#636EFA",
           "#EF553B",
           "#00CC96",
           "#AB63FA",
           "#FFA15A"
          ]
         },
         "showlegend": false,
         "type": "bar",
         "x": [
          "북구",
          "서구",
          "광산구",
          "동구",
          "남구"
         ],
         "xaxis": "x",
         "y": [
          708654.2007,
          561987.4889,
          364103.69,
          110948.43,
          102145.4
         ],
         "yaxis": "y"
        }
       ],
       "layout": {
        "annotations": [
         {
          "font": {
           "size": 16
          },
          "showarrow": false,
          "text": "구별 총 충전량 비율",
          "x": 0.225,
          "xanchor": "center",
          "xref": "paper",
          "y": 1,
          "yanchor": "bottom",
          "yref": "paper"
         },
         {
          "font": {
           "size": 16
          },
          "showarrow": false,
          "text": "구별 총 충전량",
          "x": 0.775,
          "xanchor": "center",
          "xref": "paper",
          "y": 1,
          "yanchor": "bottom",
          "yref": "paper"
         }
        ],
        "template": {
         "data": {
          "bar": [
           {
            "error_x": {
             "color": "#f2f5fa"
            },
            "error_y": {
             "color": "#f2f5fa"
            },
            "marker": {
             "line": {
              "color": "rgb(17,17,17)",
              "width": 0.5
             },
             "pattern": {
              "fillmode": "overlay",
              "size": 10,
              "solidity": 0.2
             }
            },
            "type": "bar"
           }
          ],
          "barpolar": [
           {
            "marker": {
             "line": {
              "color": "rgb(17,17,17)",
              "width": 0.5
             },
             "pattern": {
              "fillmode": "overlay",
              "size": 10,
              "solidity": 0.2
             }
            },
            "type": "barpolar"
           }
          ],
          "carpet": [
           {
            "aaxis": {
             "endlinecolor": "#A2B1C6",
             "gridcolor": "#506784",
             "linecolor": "#506784",
             "minorgridcolor": "#506784",
             "startlinecolor": "#A2B1C6"
            },
            "baxis": {
             "endlinecolor": "#A2B1C6",
             "gridcolor": "#506784",
             "linecolor": "#506784",
             "minorgridcolor": "#506784",
             "startlinecolor": "#A2B1C6"
            },
            "type": "carpet"
           }
          ],
          "choropleth": [
           {
            "colorbar": {
             "outlinewidth": 0,
             "ticks": ""
            },
            "type": "choropleth"
           }
          ],
          "contour": [
           {
            "colorbar": {
             "outlinewidth": 0,
             "ticks": ""
            },
            "colorscale": [
             [
              0,
              "#0d0887"
             ],
             [
              0.1111111111111111,
              "#46039f"
             ],
             [
              0.2222222222222222,
              "#7201a8"
             ],
             [
              0.3333333333333333,
              "#9c179e"
             ],
             [
              0.4444444444444444,
              "#bd3786"
             ],
             [
              0.5555555555555556,
              "#d8576b"
             ],
             [
              0.6666666666666666,
              "#ed7953"
             ],
             [
              0.7777777777777778,
              "#fb9f3a"
             ],
             [
              0.8888888888888888,
              "#fdca26"
             ],
             [
              1,
              "#f0f921"
             ]
            ],
            "type": "contour"
           }
          ],
          "contourcarpet": [
           {
            "colorbar": {
             "outlinewidth": 0,
             "ticks": ""
            },
            "type": "contourcarpet"
           }
          ],
          "heatmap": [
           {
            "colorbar": {
             "outlinewidth": 0,
             "ticks": ""
            },
            "colorscale": [
             [
              0,
              "#0d0887"
             ],
             [
              0.1111111111111111,
              "#46039f"
             ],
             [
              0.2222222222222222,
              "#7201a8"
             ],
             [
              0.3333333333333333,
              "#9c179e"
             ],
             [
              0.4444444444444444,
              "#bd3786"
             ],
             [
              0.5555555555555556,
              "#d8576b"
             ],
             [
              0.6666666666666666,
              "#ed7953"
             ],
             [
              0.7777777777777778,
              "#fb9f3a"
             ],
             [
              0.8888888888888888,
              "#fdca26"
             ],
             [
              1,
              "#f0f921"
             ]
            ],
            "type": "heatmap"
           }
          ],
          "heatmapgl": [
           {
            "colorbar": {
             "outlinewidth": 0,
             "ticks": ""
            },
            "colorscale": [
             [
              0,
              "#0d0887"
             ],
             [
              0.1111111111111111,
              "#46039f"
             ],
             [
              0.2222222222222222,
              "#7201a8"
             ],
             [
              0.3333333333333333,
              "#9c179e"
             ],
             [
              0.4444444444444444,
              "#bd3786"
             ],
             [
              0.5555555555555556,
              "#d8576b"
             ],
             [
              0.6666666666666666,
              "#ed7953"
             ],
             [
              0.7777777777777778,
              "#fb9f3a"
             ],
             [
              0.8888888888888888,
              "#fdca26"
             ],
             [
              1,
              "#f0f921"
             ]
            ],
            "type": "heatmapgl"
           }
          ],
          "histogram": [
           {
            "marker": {
             "pattern": {
              "fillmode": "overlay",
              "size": 10,
              "solidity": 0.2
             }
            },
            "type": "histogram"
           }
          ],
          "histogram2d": [
           {
            "colorbar": {
             "outlinewidth": 0,
             "ticks": ""
            },
            "colorscale": [
             [
              0,
              "#0d0887"
             ],
             [
              0.1111111111111111,
              "#46039f"
             ],
             [
              0.2222222222222222,
              "#7201a8"
             ],
             [
              0.3333333333333333,
              "#9c179e"
             ],
             [
              0.4444444444444444,
              "#bd3786"
             ],
             [
              0.5555555555555556,
              "#d8576b"
             ],
             [
              0.6666666666666666,
              "#ed7953"
             ],
             [
              0.7777777777777778,
              "#fb9f3a"
             ],
             [
              0.8888888888888888,
              "#fdca26"
             ],
             [
              1,
              "#f0f921"
             ]
            ],
            "type": "histogram2d"
           }
          ],
          "histogram2dcontour": [
           {
            "colorbar": {
             "outlinewidth": 0,
             "ticks": ""
            },
            "colorscale": [
             [
              0,
              "#0d0887"
             ],
             [
              0.1111111111111111,
              "#46039f"
             ],
             [
              0.2222222222222222,
              "#7201a8"
             ],
             [
              0.3333333333333333,
              "#9c179e"
             ],
             [
              0.4444444444444444,
              "#bd3786"
             ],
             [
              0.5555555555555556,
              "#d8576b"
             ],
             [
              0.6666666666666666,
              "#ed7953"
             ],
             [
              0.7777777777777778,
              "#fb9f3a"
             ],
             [
              0.8888888888888888,
              "#fdca26"
             ],
             [
              1,
              "#f0f921"
             ]
            ],
            "type": "histogram2dcontour"
           }
          ],
          "mesh3d": [
           {
            "colorbar": {
             "outlinewidth": 0,
             "ticks": ""
            },
            "type": "mesh3d"
           }
          ],
          "parcoords": [
           {
            "line": {
             "colorbar": {
              "outlinewidth": 0,
              "ticks": ""
             }
            },
            "type": "parcoords"
           }
          ],
          "pie": [
           {
            "automargin": true,
            "type": "pie"
           }
          ],
          "scatter": [
           {
            "marker": {
             "line": {
              "color": "#283442"
             }
            },
            "type": "scatter"
           }
          ],
          "scatter3d": [
           {
            "line": {
             "colorbar": {
              "outlinewidth": 0,
              "ticks": ""
             }
            },
            "marker": {
             "colorbar": {
              "outlinewidth": 0,
              "ticks": ""
             }
            },
            "type": "scatter3d"
           }
          ],
          "scattercarpet": [
           {
            "marker": {
             "colorbar": {
              "outlinewidth": 0,
              "ticks": ""
             }
            },
            "type": "scattercarpet"
           }
          ],
          "scattergeo": [
           {
            "marker": {
             "colorbar": {
              "outlinewidth": 0,
              "ticks": ""
             }
            },
            "type": "scattergeo"
           }
          ],
          "scattergl": [
           {
            "marker": {
             "line": {
              "color": "#283442"
             }
            },
            "type": "scattergl"
           }
          ],
          "scattermapbox": [
           {
            "marker": {
             "colorbar": {
              "outlinewidth": 0,
              "ticks": ""
             }
            },
            "type": "scattermapbox"
           }
          ],
          "scatterpolar": [
           {
            "marker": {
             "colorbar": {
              "outlinewidth": 0,
              "ticks": ""
             }
            },
            "type": "scatterpolar"
           }
          ],
          "scatterpolargl": [
           {
            "marker": {
             "colorbar": {
              "outlinewidth": 0,
              "ticks": ""
             }
            },
            "type": "scatterpolargl"
           }
          ],
          "scatterternary": [
           {
            "marker": {
             "colorbar": {
              "outlinewidth": 0,
              "ticks": ""
             }
            },
            "type": "scatterternary"
           }
          ],
          "surface": [
           {
            "colorbar": {
             "outlinewidth": 0,
             "ticks": ""
            },
            "colorscale": [
             [
              0,
              "#0d0887"
             ],
             [
              0.1111111111111111,
              "#46039f"
             ],
             [
              0.2222222222222222,
              "#7201a8"
             ],
             [
              0.3333333333333333,
              "#9c179e"
             ],
             [
              0.4444444444444444,
              "#bd3786"
             ],
             [
              0.5555555555555556,
              "#d8576b"
             ],
             [
              0.6666666666666666,
              "#ed7953"
             ],
             [
              0.7777777777777778,
              "#fb9f3a"
             ],
             [
              0.8888888888888888,
              "#fdca26"
             ],
             [
              1,
              "#f0f921"
             ]
            ],
            "type": "surface"
           }
          ],
          "table": [
           {
            "cells": {
             "fill": {
              "color": "#506784"
             },
             "line": {
              "color": "rgb(17,17,17)"
             }
            },
            "header": {
             "fill": {
              "color": "#2a3f5f"
             },
             "line": {
              "color": "rgb(17,17,17)"
             }
            },
            "type": "table"
           }
          ]
         },
         "layout": {
          "annotationdefaults": {
           "arrowcolor": "#f2f5fa",
           "arrowhead": 0,
           "arrowwidth": 1
          },
          "autotypenumbers": "strict",
          "coloraxis": {
           "colorbar": {
            "outlinewidth": 0,
            "ticks": ""
           }
          },
          "colorscale": {
           "diverging": [
            [
             0,
             "#8e0152"
            ],
            [
             0.1,
             "#c51b7d"
            ],
            [
             0.2,
             "#de77ae"
            ],
            [
             0.3,
             "#f1b6da"
            ],
            [
             0.4,
             "#fde0ef"
            ],
            [
             0.5,
             "#f7f7f7"
            ],
            [
             0.6,
             "#e6f5d0"
            ],
            [
             0.7,
             "#b8e186"
            ],
            [
             0.8,
             "#7fbc41"
            ],
            [
             0.9,
             "#4d9221"
            ],
            [
             1,
             "#276419"
            ]
           ],
           "sequential": [
            [
             0,
             "#0d0887"
            ],
            [
             0.1111111111111111,
             "#46039f"
            ],
            [
             0.2222222222222222,
             "#7201a8"
            ],
            [
             0.3333333333333333,
             "#9c179e"
            ],
            [
             0.4444444444444444,
             "#bd3786"
            ],
            [
             0.5555555555555556,
             "#d8576b"
            ],
            [
             0.6666666666666666,
             "#ed7953"
            ],
            [
             0.7777777777777778,
             "#fb9f3a"
            ],
            [
             0.8888888888888888,
             "#fdca26"
            ],
            [
             1,
             "#f0f921"
            ]
           ],
           "sequentialminus": [
            [
             0,
             "#0d0887"
            ],
            [
             0.1111111111111111,
             "#46039f"
            ],
            [
             0.2222222222222222,
             "#7201a8"
            ],
            [
             0.3333333333333333,
             "#9c179e"
            ],
            [
             0.4444444444444444,
             "#bd3786"
            ],
            [
             0.5555555555555556,
             "#d8576b"
            ],
            [
             0.6666666666666666,
             "#ed7953"
            ],
            [
             0.7777777777777778,
             "#fb9f3a"
            ],
            [
             0.8888888888888888,
             "#fdca26"
            ],
            [
             1,
             "#f0f921"
            ]
           ]
          },
          "colorway": [
           "#636efa",
           "#EF553B",
           "#00cc96",
           "#ab63fa",
           "#FFA15A",
           "#19d3f3",
           "#FF6692",
           "#B6E880",
           "#FF97FF",
           "#FECB52"
          ],
          "font": {
           "color": "#f2f5fa"
          },
          "geo": {
           "bgcolor": "rgb(17,17,17)",
           "lakecolor": "rgb(17,17,17)",
           "landcolor": "rgb(17,17,17)",
           "showlakes": true,
           "showland": true,
           "subunitcolor": "#506784"
          },
          "hoverlabel": {
           "align": "left"
          },
          "hovermode": "closest",
          "mapbox": {
           "style": "dark"
          },
          "paper_bgcolor": "rgb(17,17,17)",
          "plot_bgcolor": "rgb(17,17,17)",
          "polar": {
           "angularaxis": {
            "gridcolor": "#506784",
            "linecolor": "#506784",
            "ticks": ""
           },
           "bgcolor": "rgb(17,17,17)",
           "radialaxis": {
            "gridcolor": "#506784",
            "linecolor": "#506784",
            "ticks": ""
           }
          },
          "scene": {
           "xaxis": {
            "backgroundcolor": "rgb(17,17,17)",
            "gridcolor": "#506784",
            "gridwidth": 2,
            "linecolor": "#506784",
            "showbackground": true,
            "ticks": "",
            "zerolinecolor": "#C8D4E3"
           },
           "yaxis": {
            "backgroundcolor": "rgb(17,17,17)",
            "gridcolor": "#506784",
            "gridwidth": 2,
            "linecolor": "#506784",
            "showbackground": true,
            "ticks": "",
            "zerolinecolor": "#C8D4E3"
           },
           "zaxis": {
            "backgroundcolor": "rgb(17,17,17)",
            "gridcolor": "#506784",
            "gridwidth": 2,
            "linecolor": "#506784",
            "showbackground": true,
            "ticks": "",
            "zerolinecolor": "#C8D4E3"
           }
          },
          "shapedefaults": {
           "line": {
            "color": "#f2f5fa"
           }
          },
          "sliderdefaults": {
           "bgcolor": "#C8D4E3",
           "bordercolor": "rgb(17,17,17)",
           "borderwidth": 1,
           "tickwidth": 0
          },
          "ternary": {
           "aaxis": {
            "gridcolor": "#506784",
            "linecolor": "#506784",
            "ticks": ""
           },
           "baxis": {
            "gridcolor": "#506784",
            "linecolor": "#506784",
            "ticks": ""
           },
           "bgcolor": "rgb(17,17,17)",
           "caxis": {
            "gridcolor": "#506784",
            "linecolor": "#506784",
            "ticks": ""
           }
          },
          "title": {
           "x": 0.05
          },
          "updatemenudefaults": {
           "bgcolor": "#506784",
           "borderwidth": 0
          },
          "xaxis": {
           "automargin": true,
           "gridcolor": "#283442",
           "linecolor": "#506784",
           "ticks": "",
           "title": {
            "standoff": 15
           },
           "zerolinecolor": "#283442",
           "zerolinewidth": 2
          },
          "yaxis": {
           "automargin": true,
           "gridcolor": "#283442",
           "linecolor": "#506784",
           "ticks": "",
           "title": {
            "standoff": 15
           },
           "zerolinecolor": "#283442",
           "zerolinewidth": 2
          }
         }
        },
        "title": {
         "text": "구별 총 충전량"
        },
        "xaxis": {
         "anchor": "y",
         "domain": [
          0.55,
          1
         ]
        },
        "yaxis": {
         "anchor": "x",
         "domain": [
          0,
          1
         ]
        }
       }
      }
     },
     "metadata": {},
     "output_type": "display_data"
    }
   ],
   "source": [
    "import plotly.graph_objects as go\n",
    "from plotly.subplots import make_subplots\n",
    "import pandas as pd\n",
    "\n",
    "subfig = make_subplots(\n",
    "    rows=1, cols=2,\n",
    "    column_widths=[10, 10],\n",
    "    row_heights=[10],\n",
    "    subplot_titles=(\"구별 총 충전량 비율\", \"구별 총 충전량\"),\n",
    "    specs=[[{\"type\": \"pie\"}, {\"type\": \"bar\"}]])\n",
    "\n",
    "# 'gwangju' 데이터프레임에서 '구'별 '충전량' 합계를 계산합니다.\n",
    "gwangju_gu = gwangju.groupby('구')['충전량'].sum().sort_values(ascending=False)\n",
    "\n",
    "# 'gwangju_gu' 데이터프레임을 subfig에 추가합니다.\n",
    "subfig.add_trace(\n",
    "    go.Pie(labels=gwangju_gu.index, values=gwangju_gu.values, showlegend=True), 1, 1)\n",
    "\n",
    "bar_trace = go.Bar(x=gwangju_gu.index, y=gwangju_gu.values, showlegend=False,\n",
    "                   marker=dict(color=['#636EFA', '#EF553B', '#00CC96', '#AB63FA', '#FFA15A']))\n",
    "subfig.add_trace(bar_trace, 1, 2)\n",
    "\n",
    "subfig.update_layout(template=\"plotly_dark\", title='구별 총 충전량')\n",
    "subfig.show()"
   ]
  },
  {
   "cell_type": "code",
   "execution_count": null,
   "id": "d12c142a",
   "metadata": {},
   "outputs": [
    {
     "data": {
      "text/html": [
       "<div>\n",
       "<style scoped>\n",
       "    .dataframe tbody tr th:only-of-type {\n",
       "        vertical-align: middle;\n",
       "    }\n",
       "\n",
       "    .dataframe tbody tr th {\n",
       "        vertical-align: top;\n",
       "    }\n",
       "\n",
       "    .dataframe thead th {\n",
       "        text-align: right;\n",
       "    }\n",
       "</style>\n",
       "<table border=\"1\" class=\"dataframe\">\n",
       "  <thead>\n",
       "    <tr style=\"text-align: right;\">\n",
       "      <th></th>\n",
       "      <th>본부</th>\n",
       "      <th>사업소</th>\n",
       "      <th>충전소명</th>\n",
       "      <th>충전기</th>\n",
       "      <th>주소</th>\n",
       "      <th>충전기구분</th>\n",
       "      <th>충전용량</th>\n",
       "      <th>충전량</th>\n",
       "      <th>충전시간</th>\n",
       "      <th>충전분</th>\n",
       "      <th>충전종료일자</th>\n",
       "      <th>충전시작시각</th>\n",
       "      <th>충전종료시각</th>\n",
       "      <th>시</th>\n",
       "      <th>구</th>\n",
       "      <th>도로명주소</th>\n",
       "    </tr>\n",
       "  </thead>\n",
       "  <tbody>\n",
       "    <tr>\n",
       "      <th>12</th>\n",
       "      <td>광주전남</td>\n",
       "      <td>광주전남직할</td>\n",
       "      <td>홈플러스 동광주점</td>\n",
       "      <td>급속01</td>\n",
       "      <td>광주광역시 북구 동문대로 200 (두암동, 삼성홈플러스)</td>\n",
       "      <td>급속</td>\n",
       "      <td>50.0</td>\n",
       "      <td>8.36</td>\n",
       "      <td>0</td>\n",
       "      <td>22</td>\n",
       "      <td>2020-01-01</td>\n",
       "      <td>2020-01-01 21:21:00</td>\n",
       "      <td>2020-01-01 21:44:00</td>\n",
       "      <td>광주광역시</td>\n",
       "      <td>북구</td>\n",
       "      <td>동문대로 200 (두암동, 삼성홈플러스)</td>\n",
       "    </tr>\n",
       "    <tr>\n",
       "      <th>16</th>\n",
       "      <td>광주전남</td>\n",
       "      <td>광주전남직할</td>\n",
       "      <td>홈플러스 광주계림점</td>\n",
       "      <td>급속01</td>\n",
       "      <td>광주광역시 동구 무등로 314 (계림동, 홈플러스 광주계림점)</td>\n",
       "      <td>급속</td>\n",
       "      <td>50.0</td>\n",
       "      <td>36.99</td>\n",
       "      <td>1</td>\n",
       "      <td>2</td>\n",
       "      <td>2020-01-01</td>\n",
       "      <td>2020-01-01 18:14:00</td>\n",
       "      <td>2020-01-01 19:17:00</td>\n",
       "      <td>광주광역시</td>\n",
       "      <td>동구</td>\n",
       "      <td>무등로 314 (계림동, 홈플러스 광주계림점)</td>\n",
       "    </tr>\n",
       "    <tr>\n",
       "      <th>20</th>\n",
       "      <td>환경부</td>\n",
       "      <td>환경부</td>\n",
       "      <td>롯데마트 상무점</td>\n",
       "      <td>급속01</td>\n",
       "      <td>광주광역시 서구 시청로 40, 1층 진입후 우측</td>\n",
       "      <td>급속</td>\n",
       "      <td>NaN</td>\n",
       "      <td>15.66</td>\n",
       "      <td>0</td>\n",
       "      <td>24</td>\n",
       "      <td>2020-01-01</td>\n",
       "      <td>2020-01-01 18:27:00</td>\n",
       "      <td>2020-01-01 18:51:00</td>\n",
       "      <td>광주광역시</td>\n",
       "      <td>서구</td>\n",
       "      <td>시청로 40, 1층 진입후 우측</td>\n",
       "    </tr>\n",
       "    <tr>\n",
       "      <th>38</th>\n",
       "      <td>광주전남</td>\n",
       "      <td>광주전남직할</td>\n",
       "      <td>이마트 동광주점</td>\n",
       "      <td>급속01</td>\n",
       "      <td>광주광역시 동구 중앙로 358 (계림동, 금호계림주상복합)</td>\n",
       "      <td>급속</td>\n",
       "      <td>50.0</td>\n",
       "      <td>13.99</td>\n",
       "      <td>0</td>\n",
       "      <td>40</td>\n",
       "      <td>2020-01-01</td>\n",
       "      <td>2020-01-01 20:18:00</td>\n",
       "      <td>2020-01-01 20:58:00</td>\n",
       "      <td>광주광역시</td>\n",
       "      <td>동구</td>\n",
       "      <td>중앙로 358 (계림동, 금호계림주상복합)</td>\n",
       "    </tr>\n",
       "    <tr>\n",
       "      <th>42</th>\n",
       "      <td>광주전남</td>\n",
       "      <td>광산</td>\n",
       "      <td>홈플러스 광주하남점</td>\n",
       "      <td>급속01</td>\n",
       "      <td>광주광역시 광산구 용아로 390 (하남동)</td>\n",
       "      <td>급속</td>\n",
       "      <td>50.0</td>\n",
       "      <td>37.59</td>\n",
       "      <td>0</td>\n",
       "      <td>54</td>\n",
       "      <td>2020-01-01</td>\n",
       "      <td>2020-01-01 17:58:00</td>\n",
       "      <td>2020-01-01 18:52:00</td>\n",
       "      <td>광주광역시</td>\n",
       "      <td>광산구</td>\n",
       "      <td>용아로 390 (하남동)</td>\n",
       "    </tr>\n",
       "    <tr>\n",
       "      <th>...</th>\n",
       "      <td>...</td>\n",
       "      <td>...</td>\n",
       "      <td>...</td>\n",
       "      <td>...</td>\n",
       "      <td>...</td>\n",
       "      <td>...</td>\n",
       "      <td>...</td>\n",
       "      <td>...</td>\n",
       "      <td>...</td>\n",
       "      <td>...</td>\n",
       "      <td>...</td>\n",
       "      <td>...</td>\n",
       "      <td>...</td>\n",
       "      <td>...</td>\n",
       "      <td>...</td>\n",
       "      <td>...</td>\n",
       "    </tr>\n",
       "    <tr>\n",
       "      <th>57079</th>\n",
       "      <td>광주전남</td>\n",
       "      <td>광주전남직할</td>\n",
       "      <td>홈플러스 동광주점</td>\n",
       "      <td>급속01</td>\n",
       "      <td>광주광역시 북구 동문대로 200 (두암동, 삼성홈플러스)</td>\n",
       "      <td>급속</td>\n",
       "      <td>50.0</td>\n",
       "      <td>62.55</td>\n",
       "      <td>2</td>\n",
       "      <td>0</td>\n",
       "      <td>2020-12-03</td>\n",
       "      <td>2020-12-03 15:28:00</td>\n",
       "      <td>2020-12-03 17:29</td>\n",
       "      <td>광주광역시</td>\n",
       "      <td>북구</td>\n",
       "      <td>동문대로 200 (두암동, 삼성홈플러스)</td>\n",
       "    </tr>\n",
       "    <tr>\n",
       "      <th>57080</th>\n",
       "      <td>광주전남</td>\n",
       "      <td>광주전남직할</td>\n",
       "      <td>이마트 동광주점</td>\n",
       "      <td>급속01</td>\n",
       "      <td>광주광역시 동구 중앙로 358 (계림동, 금호계림주상복합)</td>\n",
       "      <td>급속</td>\n",
       "      <td>50.0</td>\n",
       "      <td>31.84</td>\n",
       "      <td>0</td>\n",
       "      <td>49</td>\n",
       "      <td>2020-12-03</td>\n",
       "      <td>2020-12-03 18:15:00</td>\n",
       "      <td>2020-12-03 19:04</td>\n",
       "      <td>광주광역시</td>\n",
       "      <td>동구</td>\n",
       "      <td>중앙로 358 (계림동, 금호계림주상복합)</td>\n",
       "    </tr>\n",
       "    <tr>\n",
       "      <th>57153</th>\n",
       "      <td>광주전남</td>\n",
       "      <td>광산</td>\n",
       "      <td>홈플러스 광주하남점</td>\n",
       "      <td>급속01</td>\n",
       "      <td>광주광역시 광산구 용아로 390 (하남동)</td>\n",
       "      <td>급속</td>\n",
       "      <td>50.0</td>\n",
       "      <td>15.05</td>\n",
       "      <td>0</td>\n",
       "      <td>21</td>\n",
       "      <td>2020-12-03</td>\n",
       "      <td>2020-12-03 18:27:00</td>\n",
       "      <td>2020-12-03 18:49</td>\n",
       "      <td>광주광역시</td>\n",
       "      <td>광산구</td>\n",
       "      <td>용아로 390 (하남동)</td>\n",
       "    </tr>\n",
       "    <tr>\n",
       "      <th>57155</th>\n",
       "      <td>광주전남</td>\n",
       "      <td>광주전남직할</td>\n",
       "      <td>이마트 동광주점</td>\n",
       "      <td>급속01</td>\n",
       "      <td>광주광역시 동구 중앙로 358 (계림동, 금호계림주상복합)</td>\n",
       "      <td>급속</td>\n",
       "      <td>50.0</td>\n",
       "      <td>25.26</td>\n",
       "      <td>3</td>\n",
       "      <td>0</td>\n",
       "      <td>2020-12-03</td>\n",
       "      <td>2020-12-03 14:58:00</td>\n",
       "      <td>2020-12-03 17:59</td>\n",
       "      <td>광주광역시</td>\n",
       "      <td>동구</td>\n",
       "      <td>중앙로 358 (계림동, 금호계림주상복합)</td>\n",
       "    </tr>\n",
       "    <tr>\n",
       "      <th>57219</th>\n",
       "      <td>광주전남</td>\n",
       "      <td>광주전남직할</td>\n",
       "      <td>홈플러스 광주계림점</td>\n",
       "      <td>급속01</td>\n",
       "      <td>광주광역시 동구 무등로 314 (계림동, 홈플러스 광주계림점)</td>\n",
       "      <td>급속</td>\n",
       "      <td>50.0</td>\n",
       "      <td>47.94</td>\n",
       "      <td>2</td>\n",
       "      <td>41</td>\n",
       "      <td>2020-12-03</td>\n",
       "      <td>2020-12-03 10:25:00</td>\n",
       "      <td>2020-12-03 13:07</td>\n",
       "      <td>광주광역시</td>\n",
       "      <td>동구</td>\n",
       "      <td>무등로 314 (계림동, 홈플러스 광주계림점)</td>\n",
       "    </tr>\n",
       "  </tbody>\n",
       "</table>\n",
       "<p>3233 rows × 16 columns</p>\n",
       "</div>"
      ],
      "text/plain": [
       "         본부     사업소        충전소명   충전기                                  주소  \\\n",
       "12     광주전남  광주전남직할   홈플러스 동광주점  급속01     광주광역시 북구 동문대로 200 (두암동, 삼성홈플러스)   \n",
       "16     광주전남  광주전남직할  홈플러스 광주계림점  급속01  광주광역시 동구 무등로 314 (계림동, 홈플러스 광주계림점)   \n",
       "20      환경부     환경부    롯데마트 상무점  급속01          광주광역시 서구 시청로 40, 1층 진입후 우측   \n",
       "38     광주전남  광주전남직할    이마트 동광주점  급속01    광주광역시 동구 중앙로 358 (계림동, 금호계림주상복합)   \n",
       "42     광주전남      광산  홈플러스 광주하남점  급속01             광주광역시 광산구 용아로 390 (하남동)   \n",
       "...     ...     ...         ...   ...                                 ...   \n",
       "57079  광주전남  광주전남직할   홈플러스 동광주점  급속01     광주광역시 북구 동문대로 200 (두암동, 삼성홈플러스)   \n",
       "57080  광주전남  광주전남직할    이마트 동광주점  급속01    광주광역시 동구 중앙로 358 (계림동, 금호계림주상복합)   \n",
       "57153  광주전남      광산  홈플러스 광주하남점  급속01             광주광역시 광산구 용아로 390 (하남동)   \n",
       "57155  광주전남  광주전남직할    이마트 동광주점  급속01    광주광역시 동구 중앙로 358 (계림동, 금호계림주상복합)   \n",
       "57219  광주전남  광주전남직할  홈플러스 광주계림점  급속01  광주광역시 동구 무등로 314 (계림동, 홈플러스 광주계림점)   \n",
       "\n",
       "      충전기구분  충전용량    충전량  충전시간  충전분     충전종료일자              충전시작시각  \\\n",
       "12       급속  50.0   8.36     0   22 2020-01-01 2020-01-01 21:21:00   \n",
       "16       급속  50.0  36.99     1    2 2020-01-01 2020-01-01 18:14:00   \n",
       "20       급속   NaN  15.66     0   24 2020-01-01 2020-01-01 18:27:00   \n",
       "38       급속  50.0  13.99     0   40 2020-01-01 2020-01-01 20:18:00   \n",
       "42       급속  50.0  37.59     0   54 2020-01-01 2020-01-01 17:58:00   \n",
       "...     ...   ...    ...   ...  ...        ...                 ...   \n",
       "57079    급속  50.0  62.55     2    0 2020-12-03 2020-12-03 15:28:00   \n",
       "57080    급속  50.0  31.84     0   49 2020-12-03 2020-12-03 18:15:00   \n",
       "57153    급속  50.0  15.05     0   21 2020-12-03 2020-12-03 18:27:00   \n",
       "57155    급속  50.0  25.26     3    0 2020-12-03 2020-12-03 14:58:00   \n",
       "57219    급속  50.0  47.94     2   41 2020-12-03 2020-12-03 10:25:00   \n",
       "\n",
       "                    충전종료시각      시    구                      도로명주소  \n",
       "12     2020-01-01 21:44:00  광주광역시   북구     동문대로 200 (두암동, 삼성홈플러스)  \n",
       "16     2020-01-01 19:17:00  광주광역시   동구  무등로 314 (계림동, 홈플러스 광주계림점)  \n",
       "20     2020-01-01 18:51:00  광주광역시   서구          시청로 40, 1층 진입후 우측  \n",
       "38     2020-01-01 20:58:00  광주광역시   동구    중앙로 358 (계림동, 금호계림주상복합)  \n",
       "42     2020-01-01 18:52:00  광주광역시  광산구              용아로 390 (하남동)  \n",
       "...                    ...    ...  ...                        ...  \n",
       "57079     2020-12-03 17:29  광주광역시   북구     동문대로 200 (두암동, 삼성홈플러스)  \n",
       "57080     2020-12-03 19:04  광주광역시   동구    중앙로 358 (계림동, 금호계림주상복합)  \n",
       "57153     2020-12-03 18:49  광주광역시  광산구              용아로 390 (하남동)  \n",
       "57155     2020-12-03 17:59  광주광역시   동구    중앙로 358 (계림동, 금호계림주상복합)  \n",
       "57219     2020-12-03 13:07  광주광역시   동구  무등로 314 (계림동, 홈플러스 광주계림점)  \n",
       "\n",
       "[3233 rows x 16 columns]"
      ]
     },
     "execution_count": 55,
     "metadata": {},
     "output_type": "execute_result"
    }
   ],
   "source": [
    "mart = gwangju[gwangju['충전소명'].str.contains('마트|홈플러스')]\n",
    "mart"
   ]
  },
  {
   "cell_type": "code",
   "execution_count": null,
   "id": "0eb30277",
   "metadata": {},
   "outputs": [
    {
     "data": {
      "text/plain": [
       "충전시작시각               충전소명      \n",
       "2020-01-01 09:54:00  이마트 동광주점      39.05\n",
       "2020-01-01 10:06:00  홈플러스 광주계림점     7.36\n",
       "2020-01-01 10:49:00  홈플러스 동광주점     13.62\n",
       "2020-01-01 11:22:00  홈플러스 광주계림점    14.90\n",
       "2020-01-01 12:15:00  홈플러스 동광주점     39.46\n",
       "                                   ...  \n",
       "2020-12-03 15:28:00  홈플러스 동광주점     62.55\n",
       "2020-12-03 18:15:00  이마트 동광주점      31.84\n",
       "2020-12-03 18:27:00  홈플러스 광주하남점    15.05\n",
       "2020-12-03 20:32:00  홈플러스 광주계림점    18.70\n",
       "2020-12-03 22:15:00  홈플러스 광주계림점    18.21\n",
       "Name: 충전량, Length: 3233, dtype: float64"
      ]
     },
     "execution_count": 56,
     "metadata": {},
     "output_type": "execute_result"
    }
   ],
   "source": [
    "mart_time_charge = mart.groupby([mart['충전시작시각'], mart['충전소명']])['충전량'].sum()\n",
    "mart_time_charge"
   ]
  },
  {
   "cell_type": "code",
   "execution_count": null,
   "id": "1e1445fd",
   "metadata": {},
   "outputs": [
    {
     "data": {
      "text/html": [
       "<div>\n",
       "<style scoped>\n",
       "    .dataframe tbody tr th:only-of-type {\n",
       "        vertical-align: middle;\n",
       "    }\n",
       "\n",
       "    .dataframe tbody tr th {\n",
       "        vertical-align: top;\n",
       "    }\n",
       "\n",
       "    .dataframe thead th {\n",
       "        text-align: right;\n",
       "    }\n",
       "</style>\n",
       "<table border=\"1\" class=\"dataframe\">\n",
       "  <thead>\n",
       "    <tr style=\"text-align: right;\">\n",
       "      <th></th>\n",
       "      <th>충전시간</th>\n",
       "      <th>충전소명</th>\n",
       "      <th>충전량</th>\n",
       "    </tr>\n",
       "  </thead>\n",
       "  <tbody>\n",
       "    <tr>\n",
       "      <th>0</th>\n",
       "      <td>2020-01-01 09:54:00</td>\n",
       "      <td>이마트 동광주점</td>\n",
       "      <td>39.05</td>\n",
       "    </tr>\n",
       "    <tr>\n",
       "      <th>1</th>\n",
       "      <td>2020-01-01 10:06:00</td>\n",
       "      <td>홈플러스 광주계림점</td>\n",
       "      <td>7.36</td>\n",
       "    </tr>\n",
       "    <tr>\n",
       "      <th>2</th>\n",
       "      <td>2020-01-01 10:49:00</td>\n",
       "      <td>홈플러스 동광주점</td>\n",
       "      <td>13.62</td>\n",
       "    </tr>\n",
       "    <tr>\n",
       "      <th>3</th>\n",
       "      <td>2020-01-01 11:22:00</td>\n",
       "      <td>홈플러스 광주계림점</td>\n",
       "      <td>14.90</td>\n",
       "    </tr>\n",
       "    <tr>\n",
       "      <th>4</th>\n",
       "      <td>2020-01-01 12:15:00</td>\n",
       "      <td>홈플러스 동광주점</td>\n",
       "      <td>39.46</td>\n",
       "    </tr>\n",
       "    <tr>\n",
       "      <th>...</th>\n",
       "      <td>...</td>\n",
       "      <td>...</td>\n",
       "      <td>...</td>\n",
       "    </tr>\n",
       "    <tr>\n",
       "      <th>3228</th>\n",
       "      <td>2020-12-03 15:28:00</td>\n",
       "      <td>홈플러스 동광주점</td>\n",
       "      <td>62.55</td>\n",
       "    </tr>\n",
       "    <tr>\n",
       "      <th>3229</th>\n",
       "      <td>2020-12-03 18:15:00</td>\n",
       "      <td>이마트 동광주점</td>\n",
       "      <td>31.84</td>\n",
       "    </tr>\n",
       "    <tr>\n",
       "      <th>3230</th>\n",
       "      <td>2020-12-03 18:27:00</td>\n",
       "      <td>홈플러스 광주하남점</td>\n",
       "      <td>15.05</td>\n",
       "    </tr>\n",
       "    <tr>\n",
       "      <th>3231</th>\n",
       "      <td>2020-12-03 20:32:00</td>\n",
       "      <td>홈플러스 광주계림점</td>\n",
       "      <td>18.70</td>\n",
       "    </tr>\n",
       "    <tr>\n",
       "      <th>3232</th>\n",
       "      <td>2020-12-03 22:15:00</td>\n",
       "      <td>홈플러스 광주계림점</td>\n",
       "      <td>18.21</td>\n",
       "    </tr>\n",
       "  </tbody>\n",
       "</table>\n",
       "<p>3233 rows × 3 columns</p>\n",
       "</div>"
      ],
      "text/plain": [
       "                    충전시간        충전소명    충전량\n",
       "0    2020-01-01 09:54:00    이마트 동광주점  39.05\n",
       "1    2020-01-01 10:06:00  홈플러스 광주계림점   7.36\n",
       "2    2020-01-01 10:49:00   홈플러스 동광주점  13.62\n",
       "3    2020-01-01 11:22:00  홈플러스 광주계림점  14.90\n",
       "4    2020-01-01 12:15:00   홈플러스 동광주점  39.46\n",
       "...                  ...         ...    ...\n",
       "3228 2020-12-03 15:28:00   홈플러스 동광주점  62.55\n",
       "3229 2020-12-03 18:15:00    이마트 동광주점  31.84\n",
       "3230 2020-12-03 18:27:00  홈플러스 광주하남점  15.05\n",
       "3231 2020-12-03 20:32:00  홈플러스 광주계림점  18.70\n",
       "3232 2020-12-03 22:15:00  홈플러스 광주계림점  18.21\n",
       "\n",
       "[3233 rows x 3 columns]"
      ]
     },
     "execution_count": 57,
     "metadata": {},
     "output_type": "execute_result"
    }
   ],
   "source": [
    "# 충전시간별 충전소명 충전량\n",
    "mart_time_charge_df = pd.DataFrame({'충전시간': [i[0] for i in mart_time_charge.index],\n",
    "                                       '충전소명': [i[1] for i in mart_time_charge.index],\n",
    "                                       '충전량': mart_time_charge.values})\n",
    "mart_time_charge_df"
   ]
  },
  {
   "cell_type": "code",
   "execution_count": null,
   "id": "6fc78925",
   "metadata": {},
   "outputs": [],
   "source": [
    "# mart_time_charge_df.to_csv('1월부터12월마트충전.csv',encoding='cp949')"
   ]
  },
  {
   "cell_type": "code",
   "execution_count": null,
   "id": "5fb56eb3",
   "metadata": {},
   "outputs": [],
   "source": [
    "# 마트별 시간대별 충전량\n",
    "mart_time_charge_df['hour'] = mart_time_charge_df['충전시간'].dt.hour\n",
    "mart_hourly_charge = mart_time_charge_df.groupby(['충전소명', 'hour'])['충전량'].sum().reset_index()"
   ]
  },
  {
   "cell_type": "code",
   "execution_count": null,
   "id": "ae238a2f",
   "metadata": {},
   "outputs": [
    {
     "data": {
      "image/png": "[encoded data removed]",
      "text/plain": [
       "<Figure size 1200x600 with 1 Axes>"
      ]
     },
     "metadata": {},
     "output_type": "display_data"
    }
   ],
   "source": [
    "mart_hourly_pivot = mart_hourly_charge.pivot_table(values='충전량', index='hour', columns='충전소명', aggfunc='sum')\n",
    "mart_hourly_pivot.plot(kind='bar', figsize=(12,6))\n",
    "plt.xlabel('시간대')\n",
    "plt.ylabel('충전량')\n",
    "plt.title('마트별 시간대별 충전량')\n",
    "plt.show()"
   ]
  },
  {
   "cell_type": "code",
   "execution_count": null,
   "id": "6dc045ae",
   "metadata": {},
   "outputs": [
    {
     "data": {
      "text/html": [
       "<div>\n",
       "<style scoped>\n",
       "    .dataframe tbody tr th:only-of-type {\n",
       "        vertical-align: middle;\n",
       "    }\n",
       "\n",
       "    .dataframe tbody tr th {\n",
       "        vertical-align: top;\n",
       "    }\n",
       "\n",
       "    .dataframe thead th {\n",
       "        text-align: right;\n",
       "    }\n",
       "</style>\n",
       "<table border=\"1\" class=\"dataframe\">\n",
       "  <thead>\n",
       "    <tr style=\"text-align: right;\">\n",
       "      <th></th>\n",
       "      <th>충전소명</th>\n",
       "      <th>hour</th>\n",
       "      <th>충전량</th>\n",
       "    </tr>\n",
       "  </thead>\n",
       "  <tbody>\n",
       "    <tr>\n",
       "      <th>0</th>\n",
       "      <td>롯데마트 상무점</td>\n",
       "      <td>10</td>\n",
       "      <td>0.91</td>\n",
       "    </tr>\n",
       "    <tr>\n",
       "      <th>1</th>\n",
       "      <td>롯데마트 상무점</td>\n",
       "      <td>13</td>\n",
       "      <td>13.31</td>\n",
       "    </tr>\n",
       "    <tr>\n",
       "      <th>2</th>\n",
       "      <td>롯데마트 상무점</td>\n",
       "      <td>15</td>\n",
       "      <td>19.17</td>\n",
       "    </tr>\n",
       "    <tr>\n",
       "      <th>3</th>\n",
       "      <td>롯데마트 상무점</td>\n",
       "      <td>16</td>\n",
       "      <td>17.46</td>\n",
       "    </tr>\n",
       "    <tr>\n",
       "      <th>4</th>\n",
       "      <td>롯데마트 상무점</td>\n",
       "      <td>17</td>\n",
       "      <td>72.37</td>\n",
       "    </tr>\n",
       "    <tr>\n",
       "      <th>...</th>\n",
       "      <td>...</td>\n",
       "      <td>...</td>\n",
       "      <td>...</td>\n",
       "    </tr>\n",
       "    <tr>\n",
       "      <th>105</th>\n",
       "      <td>홈플러스 동광주점</td>\n",
       "      <td>18</td>\n",
       "      <td>2396.92</td>\n",
       "    </tr>\n",
       "    <tr>\n",
       "      <th>106</th>\n",
       "      <td>홈플러스 동광주점</td>\n",
       "      <td>19</td>\n",
       "      <td>1944.36</td>\n",
       "    </tr>\n",
       "    <tr>\n",
       "      <th>107</th>\n",
       "      <td>홈플러스 동광주점</td>\n",
       "      <td>20</td>\n",
       "      <td>2079.58</td>\n",
       "    </tr>\n",
       "    <tr>\n",
       "      <th>108</th>\n",
       "      <td>홈플러스 동광주점</td>\n",
       "      <td>21</td>\n",
       "      <td>1882.58</td>\n",
       "    </tr>\n",
       "    <tr>\n",
       "      <th>109</th>\n",
       "      <td>홈플러스 동광주점</td>\n",
       "      <td>22</td>\n",
       "      <td>486.09</td>\n",
       "    </tr>\n",
       "  </tbody>\n",
       "</table>\n",
       "<p>110 rows × 3 columns</p>\n",
       "</div>"
      ],
      "text/plain": [
       "          충전소명  hour      충전량\n",
       "0     롯데마트 상무점    10     0.91\n",
       "1     롯데마트 상무점    13    13.31\n",
       "2     롯데마트 상무점    15    19.17\n",
       "3     롯데마트 상무점    16    17.46\n",
       "4     롯데마트 상무점    17    72.37\n",
       "..         ...   ...      ...\n",
       "105  홈플러스 동광주점    18  2396.92\n",
       "106  홈플러스 동광주점    19  1944.36\n",
       "107  홈플러스 동광주점    20  2079.58\n",
       "108  홈플러스 동광주점    21  1882.58\n",
       "109  홈플러스 동광주점    22   486.09\n",
       "\n",
       "[110 rows x 3 columns]"
      ]
     },
     "execution_count": 84,
     "metadata": {},
     "output_type": "execute_result"
    }
   ],
   "source": [
    "mart_hourly_charge"
   ]
  },
  {
   "cell_type": "code",
   "execution_count": null,
   "id": "0cf17ea4",
   "metadata": {},
   "outputs": [
    {
     "data": {
      "text/plain": [
       "충전종료일자      충전소명      \n",
       "2020-01-01  롯데마트 상무점       15.66\n",
       "            이마트 동광주점       71.39\n",
       "            홈플러스 광주계림점     96.66\n",
       "            홈플러스 광주하남점    124.10\n",
       "            홈플러스 동광주점     157.60\n",
       "                           ...  \n",
       "2020-12-02  홈플러스 동광주점      23.80\n",
       "2020-12-03  이마트 동광주점       57.10\n",
       "            홈플러스 광주계림점     84.85\n",
       "            홈플러스 광주하남점     26.72\n",
       "            홈플러스 동광주점      62.55\n",
       "Name: 충전량, Length: 1260, dtype: float64"
      ]
     },
     "execution_count": 65,
     "metadata": {},
     "output_type": "execute_result"
    }
   ],
   "source": [
    "mart_month_charge = mart.groupby([mart['충전종료일자'], mart['충전소명']])['충전량'].sum()\n",
    "mart_month_charge"
   ]
  },
  {
   "cell_type": "code",
   "execution_count": null,
   "id": "5eb48a13",
   "metadata": {},
   "outputs": [
    {
     "data": {
      "text/html": [
       "<div>\n",
       "<style scoped>\n",
       "    .dataframe tbody tr th:only-of-type {\n",
       "        vertical-align: middle;\n",
       "    }\n",
       "\n",
       "    .dataframe tbody tr th {\n",
       "        vertical-align: top;\n",
       "    }\n",
       "\n",
       "    .dataframe thead th {\n",
       "        text-align: right;\n",
       "    }\n",
       "</style>\n",
       "<table border=\"1\" class=\"dataframe\">\n",
       "  <thead>\n",
       "    <tr style=\"text-align: right;\">\n",
       "      <th></th>\n",
       "      <th>충전날짜</th>\n",
       "      <th>충전소명</th>\n",
       "      <th>충전량</th>\n",
       "    </tr>\n",
       "  </thead>\n",
       "  <tbody>\n",
       "    <tr>\n",
       "      <th>0</th>\n",
       "      <td>2020-01-01</td>\n",
       "      <td>롯데마트 상무점</td>\n",
       "      <td>15.66</td>\n",
       "    </tr>\n",
       "    <tr>\n",
       "      <th>1</th>\n",
       "      <td>2020-01-01</td>\n",
       "      <td>이마트 동광주점</td>\n",
       "      <td>71.39</td>\n",
       "    </tr>\n",
       "    <tr>\n",
       "      <th>2</th>\n",
       "      <td>2020-01-01</td>\n",
       "      <td>홈플러스 광주계림점</td>\n",
       "      <td>96.66</td>\n",
       "    </tr>\n",
       "    <tr>\n",
       "      <th>3</th>\n",
       "      <td>2020-01-01</td>\n",
       "      <td>홈플러스 광주하남점</td>\n",
       "      <td>124.10</td>\n",
       "    </tr>\n",
       "    <tr>\n",
       "      <th>4</th>\n",
       "      <td>2020-01-01</td>\n",
       "      <td>홈플러스 동광주점</td>\n",
       "      <td>157.60</td>\n",
       "    </tr>\n",
       "    <tr>\n",
       "      <th>...</th>\n",
       "      <td>...</td>\n",
       "      <td>...</td>\n",
       "      <td>...</td>\n",
       "    </tr>\n",
       "    <tr>\n",
       "      <th>1255</th>\n",
       "      <td>2020-12-02</td>\n",
       "      <td>홈플러스 동광주점</td>\n",
       "      <td>23.80</td>\n",
       "    </tr>\n",
       "    <tr>\n",
       "      <th>1256</th>\n",
       "      <td>2020-12-03</td>\n",
       "      <td>이마트 동광주점</td>\n",
       "      <td>57.10</td>\n",
       "    </tr>\n",
       "    <tr>\n",
       "      <th>1257</th>\n",
       "      <td>2020-12-03</td>\n",
       "      <td>홈플러스 광주계림점</td>\n",
       "      <td>84.85</td>\n",
       "    </tr>\n",
       "    <tr>\n",
       "      <th>1258</th>\n",
       "      <td>2020-12-03</td>\n",
       "      <td>홈플러스 광주하남점</td>\n",
       "      <td>26.72</td>\n",
       "    </tr>\n",
       "    <tr>\n",
       "      <th>1259</th>\n",
       "      <td>2020-12-03</td>\n",
       "      <td>홈플러스 동광주점</td>\n",
       "      <td>62.55</td>\n",
       "    </tr>\n",
       "  </tbody>\n",
       "</table>\n",
       "<p>1260 rows × 3 columns</p>\n",
       "</div>"
      ],
      "text/plain": [
       "           충전날짜        충전소명     충전량\n",
       "0    2020-01-01    롯데마트 상무점   15.66\n",
       "1    2020-01-01    이마트 동광주점   71.39\n",
       "2    2020-01-01  홈플러스 광주계림점   96.66\n",
       "3    2020-01-01  홈플러스 광주하남점  124.10\n",
       "4    2020-01-01   홈플러스 동광주점  157.60\n",
       "...         ...         ...     ...\n",
       "1255 2020-12-02   홈플러스 동광주점   23.80\n",
       "1256 2020-12-03    이마트 동광주점   57.10\n",
       "1257 2020-12-03  홈플러스 광주계림점   84.85\n",
       "1258 2020-12-03  홈플러스 광주하남점   26.72\n",
       "1259 2020-12-03   홈플러스 동광주점   62.55\n",
       "\n",
       "[1260 rows x 3 columns]"
      ]
     },
     "execution_count": 85,
     "metadata": {},
     "output_type": "execute_result"
    }
   ],
   "source": [
    "# 충전시간별 충전소명 충전량\n",
    "mart_month_charge_df = pd.DataFrame({'충전날짜': [i[0] for i in mart_month_charge.index],\n",
    "                                       '충전소명': [i[1] for i in mart_month_charge.index],\n",
    "                                       '충전량': mart_month_charge.values})\n",
    "mart_month_charge_df"
   ]
  },
  {
   "cell_type": "code",
   "execution_count": null,
   "id": "419b2f7b",
   "metadata": {},
   "outputs": [],
   "source": [
    "# mart_month_charge.to_csv('마트별충전량.csv', encoding='cp949')"
   ]
  },
  {
   "cell_type": "code",
   "execution_count": null,
   "id": "ee090ae4",
   "metadata": {},
   "outputs": [
    {
     "data": {
      "image/png": "[encoded data removed]",
      "text/plain": [
       "<Figure size 1200x800 with 1 Axes>"
      ]
     },
     "metadata": {},
     "output_type": "display_data"
    }
   ],
   "source": [
    "# 마트별 월충전량\n",
    "mart_month_charge_df['월'] = pd.to_datetime(mart_month_charge_df['충전날짜']).dt.month\n",
    "mart_monthly_charge = mart_month_charge_df.groupby(['충전소명', '월'])['충전량'].sum().reset_index()\n",
    "\n",
    "# 시각화\n",
    "plt.figure(figsize=(12, 8))\n",
    "sns.barplot(data=mart_monthly_charge, x='월', y='충전량', hue='충전소명')\n",
    "plt.show()"
   ]
  },
  {
   "cell_type": "code",
   "execution_count": null,
   "id": "051ece82",
   "metadata": {},
   "outputs": [
    {
     "data": {
      "text/html": [
       "<div>\n",
       "<style scoped>\n",
       "    .dataframe tbody tr th:only-of-type {\n",
       "        vertical-align: middle;\n",
       "    }\n",
       "\n",
       "    .dataframe tbody tr th {\n",
       "        vertical-align: top;\n",
       "    }\n",
       "\n",
       "    .dataframe thead th {\n",
       "        text-align: right;\n",
       "    }\n",
       "</style>\n",
       "<table border=\"1\" class=\"dataframe\">\n",
       "  <thead>\n",
       "    <tr style=\"text-align: right;\">\n",
       "      <th></th>\n",
       "      <th>충전소명</th>\n",
       "      <th>월</th>\n",
       "      <th>충전량</th>\n",
       "    </tr>\n",
       "  </thead>\n",
       "  <tbody>\n",
       "    <tr>\n",
       "      <th>0</th>\n",
       "      <td>롯데마트 상무점</td>\n",
       "      <td>1</td>\n",
       "      <td>15.66</td>\n",
       "    </tr>\n",
       "    <tr>\n",
       "      <th>1</th>\n",
       "      <td>롯데마트 상무점</td>\n",
       "      <td>4</td>\n",
       "      <td>26.11</td>\n",
       "    </tr>\n",
       "    <tr>\n",
       "      <th>2</th>\n",
       "      <td>롯데마트 상무점</td>\n",
       "      <td>5</td>\n",
       "      <td>60.08</td>\n",
       "    </tr>\n",
       "    <tr>\n",
       "      <th>3</th>\n",
       "      <td>롯데마트 상무점</td>\n",
       "      <td>6</td>\n",
       "      <td>43.22</td>\n",
       "    </tr>\n",
       "    <tr>\n",
       "      <th>4</th>\n",
       "      <td>롯데마트 상무점</td>\n",
       "      <td>7</td>\n",
       "      <td>0.91</td>\n",
       "    </tr>\n",
       "    <tr>\n",
       "      <th>...</th>\n",
       "      <td>...</td>\n",
       "      <td>...</td>\n",
       "      <td>...</td>\n",
       "    </tr>\n",
       "    <tr>\n",
       "      <th>77</th>\n",
       "      <td>홈플러스 동광주점</td>\n",
       "      <td>8</td>\n",
       "      <td>2957.43</td>\n",
       "    </tr>\n",
       "    <tr>\n",
       "      <th>78</th>\n",
       "      <td>홈플러스 동광주점</td>\n",
       "      <td>9</td>\n",
       "      <td>2095.01</td>\n",
       "    </tr>\n",
       "    <tr>\n",
       "      <th>79</th>\n",
       "      <td>홈플러스 동광주점</td>\n",
       "      <td>10</td>\n",
       "      <td>1844.05</td>\n",
       "    </tr>\n",
       "    <tr>\n",
       "      <th>80</th>\n",
       "      <td>홈플러스 동광주점</td>\n",
       "      <td>11</td>\n",
       "      <td>1887.62</td>\n",
       "    </tr>\n",
       "    <tr>\n",
       "      <th>81</th>\n",
       "      <td>홈플러스 동광주점</td>\n",
       "      <td>12</td>\n",
       "      <td>86.35</td>\n",
       "    </tr>\n",
       "  </tbody>\n",
       "</table>\n",
       "<p>82 rows × 3 columns</p>\n",
       "</div>"
      ],
      "text/plain": [
       "         충전소명   월      충전량\n",
       "0    롯데마트 상무점   1    15.66\n",
       "1    롯데마트 상무점   4    26.11\n",
       "2    롯데마트 상무점   5    60.08\n",
       "3    롯데마트 상무점   6    43.22\n",
       "4    롯데마트 상무점   7     0.91\n",
       "..        ...  ..      ...\n",
       "77  홈플러스 동광주점   8  2957.43\n",
       "78  홈플러스 동광주점   9  2095.01\n",
       "79  홈플러스 동광주점  10  1844.05\n",
       "80  홈플러스 동광주점  11  1887.62\n",
       "81  홈플러스 동광주점  12    86.35\n",
       "\n",
       "[82 rows x 3 columns]"
      ]
     },
     "execution_count": 82,
     "metadata": {},
     "output_type": "execute_result"
    }
   ],
   "source": [
    "mart_monthly_charge"
   ]
  },
  {
   "cell_type": "code",
   "execution_count": null,
   "id": "0a3ac77a",
   "metadata": {},
   "outputs": [
    {
     "data": {
      "text/plain": [
       "홈플러스 동광주점     958\n",
       "홈플러스 광주계림점    831\n",
       "이마트 동광주점      778\n",
       "홈플러스 광주하남점    589\n",
       "롯데마트 수완점       25\n",
       "롯데마트 첨단점       20\n",
       "이마트 광산점        12\n",
       "롯데마트 상무점       11\n",
       "롯데마트 월드컵점       9\n",
       "Name: 충전소명, dtype: int64"
      ]
     },
     "execution_count": 88,
     "metadata": {},
     "output_type": "execute_result"
    }
   ],
   "source": [
    "mart['충전소명'].value_counts()"
   ]
  },
  {
   "cell_type": "code",
   "execution_count": null,
   "id": "85c42d9b",
   "metadata": {},
   "outputs": [],
   "source": []
  }
 ],
 "metadata": {
  "kernelspec": {
   "display_name": "Python 3 (ipykernel)",
   "language": "python",
   "name": "python3"
  },
  "language_info": {
   "codemirror_mode": {
    "name": "ipython",
    "version": 3
   },
   "file_extension": ".py",
   "mimetype": "text/x-python",
   "name": "python",
   "nbconvert_exporter": "python",
   "pygments_lexer": "ipython3",
   "version": "3.9.13"
  }
 },
 "nbformat": 4,
 "nbformat_minor": 5
}
