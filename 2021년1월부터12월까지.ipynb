{
 "cells": [
  {
   "cell_type": "code",
   "execution_count": 1,
   "metadata": {},
   "outputs": [],
   "source": [
    "import matplotlib.pyplot as plt\n",
    "import seaborn as sns\n",
    "import pandas as pd\n",
    "import numpy as np\n",
    "\n",
    "import warnings\n",
    "warnings.filterwarnings('ignore')"
   ]
  },
  {
   "cell_type": "code",
   "execution_count": 2,
   "metadata": {},
   "outputs": [
    {
     "ename": "FileNotFoundError",
     "evalue": "[Errno 2] No such file or directory: 'data/한국전력공사_전기차충전소충전량(202101_202106).csv'",
     "output_type": "error",
     "traceback": [
      "\u001b[1;31m---------------------------------------------------------------------------\u001b[0m",
      "\u001b[1;31mFileNotFoundError\u001b[0m                         Traceback (most recent call last)",
      "\u001b[1;32m~\\AppData\\Local\\Temp\\ipykernel_31288\\359390809.py\u001b[0m in \u001b[0;36m<module>\u001b[1;34m\u001b[0m\n\u001b[0;32m      1\u001b[0m \u001b[1;31m# 2021년 1월부터 6월까지 데이터\u001b[0m\u001b[1;33m\u001b[0m\u001b[1;33m\u001b[0m\u001b[0m\n\u001b[1;32m----> 2\u001b[1;33m \u001b[0mdf1\u001b[0m \u001b[1;33m=\u001b[0m \u001b[0mpd\u001b[0m\u001b[1;33m.\u001b[0m\u001b[0mread_csv\u001b[0m\u001b[1;33m(\u001b[0m\u001b[1;34m'data/한국전력공사_전기차충전소충전량(202101_202106).csv'\u001b[0m\u001b[1;33m,\u001b[0m \u001b[0mencoding\u001b[0m\u001b[1;33m=\u001b[0m\u001b[1;34m'cp949'\u001b[0m\u001b[1;33m)\u001b[0m\u001b[1;33m\u001b[0m\u001b[1;33m\u001b[0m\u001b[0m\n\u001b[0m\u001b[0;32m      3\u001b[0m \u001b[1;33m\u001b[0m\u001b[0m\n\u001b[0;32m      4\u001b[0m \u001b[1;31m# 2021년 7월부터 12월까지 데이터\u001b[0m\u001b[1;33m\u001b[0m\u001b[1;33m\u001b[0m\u001b[0m\n\u001b[0;32m      5\u001b[0m \u001b[0mdf2\u001b[0m \u001b[1;33m=\u001b[0m \u001b[0mpd\u001b[0m\u001b[1;33m.\u001b[0m\u001b[0mread_csv\u001b[0m\u001b[1;33m(\u001b[0m\u001b[1;34m'data/한국전력공사_전기차충전소충전량(202107_202112).csv'\u001b[0m\u001b[1;33m,\u001b[0m \u001b[0mencoding\u001b[0m\u001b[1;33m=\u001b[0m\u001b[1;34m'cp949'\u001b[0m\u001b[1;33m)\u001b[0m\u001b[1;33m\u001b[0m\u001b[1;33m\u001b[0m\u001b[0m\n",
      "\u001b[1;32mc:\\Users\\admin\\anaconda3\\lib\\site-packages\\pandas\\util\\_decorators.py\u001b[0m in \u001b[0;36mwrapper\u001b[1;34m(*args, **kwargs)\u001b[0m\n\u001b[0;32m    309\u001b[0m                     \u001b[0mstacklevel\u001b[0m\u001b[1;33m=\u001b[0m\u001b[0mstacklevel\u001b[0m\u001b[1;33m,\u001b[0m\u001b[1;33m\u001b[0m\u001b[1;33m\u001b[0m\u001b[0m\n\u001b[0;32m    310\u001b[0m                 )\n\u001b[1;32m--> 311\u001b[1;33m             \u001b[1;32mreturn\u001b[0m \u001b[0mfunc\u001b[0m\u001b[1;33m(\u001b[0m\u001b[1;33m*\u001b[0m\u001b[0margs\u001b[0m\u001b[1;33m,\u001b[0m \u001b[1;33m**\u001b[0m\u001b[0mkwargs\u001b[0m\u001b[1;33m)\u001b[0m\u001b[1;33m\u001b[0m\u001b[1;33m\u001b[0m\u001b[0m\n\u001b[0m\u001b[0;32m    312\u001b[0m \u001b[1;33m\u001b[0m\u001b[0m\n\u001b[0;32m    313\u001b[0m         \u001b[1;32mreturn\u001b[0m \u001b[0mwrapper\u001b[0m\u001b[1;33m\u001b[0m\u001b[1;33m\u001b[0m\u001b[0m\n",
      "\u001b[1;32mc:\\Users\\admin\\anaconda3\\lib\\site-packages\\pandas\\io\\parsers\\readers.py\u001b[0m in \u001b[0;36mread_csv\u001b[1;34m(filepath_or_buffer, sep, delimiter, header, names, index_col, usecols, squeeze, prefix, mangle_dupe_cols, dtype, engine, converters, true_values, false_values, skipinitialspace, skiprows, skipfooter, nrows, na_values, keep_default_na, na_filter, verbose, skip_blank_lines, parse_dates, infer_datetime_format, keep_date_col, date_parser, dayfirst, cache_dates, iterator, chunksize, compression, thousands, decimal, lineterminator, quotechar, quoting, doublequote, escapechar, comment, encoding, encoding_errors, dialect, error_bad_lines, warn_bad_lines, on_bad_lines, delim_whitespace, low_memory, memory_map, float_precision, storage_options)\u001b[0m\n\u001b[0;32m    676\u001b[0m     \u001b[0mkwds\u001b[0m\u001b[1;33m.\u001b[0m\u001b[0mupdate\u001b[0m\u001b[1;33m(\u001b[0m\u001b[0mkwds_defaults\u001b[0m\u001b[1;33m)\u001b[0m\u001b[1;33m\u001b[0m\u001b[1;33m\u001b[0m\u001b[0m\n\u001b[0;32m    677\u001b[0m \u001b[1;33m\u001b[0m\u001b[0m\n\u001b[1;32m--> 678\u001b[1;33m     \u001b[1;32mreturn\u001b[0m \u001b[0m_read\u001b[0m\u001b[1;33m(\u001b[0m\u001b[0mfilepath_or_buffer\u001b[0m\u001b[1;33m,\u001b[0m \u001b[0mkwds\u001b[0m\u001b[1;33m)\u001b[0m\u001b[1;33m\u001b[0m\u001b[1;33m\u001b[0m\u001b[0m\n\u001b[0m\u001b[0;32m    679\u001b[0m \u001b[1;33m\u001b[0m\u001b[0m\n\u001b[0;32m    680\u001b[0m \u001b[1;33m\u001b[0m\u001b[0m\n",
      "\u001b[1;32mc:\\Users\\admin\\anaconda3\\lib\\site-packages\\pandas\\io\\parsers\\readers.py\u001b[0m in \u001b[0;36m_read\u001b[1;34m(filepath_or_buffer, kwds)\u001b[0m\n\u001b[0;32m    573\u001b[0m \u001b[1;33m\u001b[0m\u001b[0m\n\u001b[0;32m    574\u001b[0m     \u001b[1;31m# Create the parser.\u001b[0m\u001b[1;33m\u001b[0m\u001b[1;33m\u001b[0m\u001b[0m\n\u001b[1;32m--> 575\u001b[1;33m     \u001b[0mparser\u001b[0m \u001b[1;33m=\u001b[0m \u001b[0mTextFileReader\u001b[0m\u001b[1;33m(\u001b[0m\u001b[0mfilepath_or_buffer\u001b[0m\u001b[1;33m,\u001b[0m \u001b[1;33m**\u001b[0m\u001b[0mkwds\u001b[0m\u001b[1;33m)\u001b[0m\u001b[1;33m\u001b[0m\u001b[1;33m\u001b[0m\u001b[0m\n\u001b[0m\u001b[0;32m    576\u001b[0m \u001b[1;33m\u001b[0m\u001b[0m\n\u001b[0;32m    577\u001b[0m     \u001b[1;32mif\u001b[0m \u001b[0mchunksize\u001b[0m \u001b[1;32mor\u001b[0m \u001b[0miterator\u001b[0m\u001b[1;33m:\u001b[0m\u001b[1;33m\u001b[0m\u001b[1;33m\u001b[0m\u001b[0m\n",
      "\u001b[1;32mc:\\Users\\admin\\anaconda3\\lib\\site-packages\\pandas\\io\\parsers\\readers.py\u001b[0m in \u001b[0;36m__init__\u001b[1;34m(self, f, engine, **kwds)\u001b[0m\n\u001b[0;32m    930\u001b[0m \u001b[1;33m\u001b[0m\u001b[0m\n\u001b[0;32m    931\u001b[0m         \u001b[0mself\u001b[0m\u001b[1;33m.\u001b[0m\u001b[0mhandles\u001b[0m\u001b[1;33m:\u001b[0m \u001b[0mIOHandles\u001b[0m \u001b[1;33m|\u001b[0m \u001b[1;32mNone\u001b[0m \u001b[1;33m=\u001b[0m \u001b[1;32mNone\u001b[0m\u001b[1;33m\u001b[0m\u001b[1;33m\u001b[0m\u001b[0m\n\u001b[1;32m--> 932\u001b[1;33m         \u001b[0mself\u001b[0m\u001b[1;33m.\u001b[0m\u001b[0m_engine\u001b[0m \u001b[1;33m=\u001b[0m \u001b[0mself\u001b[0m\u001b[1;33m.\u001b[0m\u001b[0m_make_engine\u001b[0m\u001b[1;33m(\u001b[0m\u001b[0mf\u001b[0m\u001b[1;33m,\u001b[0m \u001b[0mself\u001b[0m\u001b[1;33m.\u001b[0m\u001b[0mengine\u001b[0m\u001b[1;33m)\u001b[0m\u001b[1;33m\u001b[0m\u001b[1;33m\u001b[0m\u001b[0m\n\u001b[0m\u001b[0;32m    933\u001b[0m \u001b[1;33m\u001b[0m\u001b[0m\n\u001b[0;32m    934\u001b[0m     \u001b[1;32mdef\u001b[0m \u001b[0mclose\u001b[0m\u001b[1;33m(\u001b[0m\u001b[0mself\u001b[0m\u001b[1;33m)\u001b[0m\u001b[1;33m:\u001b[0m\u001b[1;33m\u001b[0m\u001b[1;33m\u001b[0m\u001b[0m\n",
      "\u001b[1;32mc:\\Users\\admin\\anaconda3\\lib\\site-packages\\pandas\\io\\parsers\\readers.py\u001b[0m in \u001b[0;36m_make_engine\u001b[1;34m(self, f, engine)\u001b[0m\n\u001b[0;32m   1214\u001b[0m             \u001b[1;31m# \"Union[str, PathLike[str], ReadCsvBuffer[bytes], ReadCsvBuffer[str]]\"\u001b[0m\u001b[1;33m\u001b[0m\u001b[1;33m\u001b[0m\u001b[0m\n\u001b[0;32m   1215\u001b[0m             \u001b[1;31m# , \"str\", \"bool\", \"Any\", \"Any\", \"Any\", \"Any\", \"Any\"\u001b[0m\u001b[1;33m\u001b[0m\u001b[1;33m\u001b[0m\u001b[0m\n\u001b[1;32m-> 1216\u001b[1;33m             self.handles = get_handle(  # type: ignore[call-overload]\n\u001b[0m\u001b[0;32m   1217\u001b[0m                 \u001b[0mf\u001b[0m\u001b[1;33m,\u001b[0m\u001b[1;33m\u001b[0m\u001b[1;33m\u001b[0m\u001b[0m\n\u001b[0;32m   1218\u001b[0m                 \u001b[0mmode\u001b[0m\u001b[1;33m,\u001b[0m\u001b[1;33m\u001b[0m\u001b[1;33m\u001b[0m\u001b[0m\n",
      "\u001b[1;32mc:\\Users\\admin\\anaconda3\\lib\\site-packages\\pandas\\io\\common.py\u001b[0m in \u001b[0;36mget_handle\u001b[1;34m(path_or_buf, mode, encoding, compression, memory_map, is_text, errors, storage_options)\u001b[0m\n\u001b[0;32m    784\u001b[0m         \u001b[1;32mif\u001b[0m \u001b[0mioargs\u001b[0m\u001b[1;33m.\u001b[0m\u001b[0mencoding\u001b[0m \u001b[1;32mand\u001b[0m \u001b[1;34m\"b\"\u001b[0m \u001b[1;32mnot\u001b[0m \u001b[1;32min\u001b[0m \u001b[0mioargs\u001b[0m\u001b[1;33m.\u001b[0m\u001b[0mmode\u001b[0m\u001b[1;33m:\u001b[0m\u001b[1;33m\u001b[0m\u001b[1;33m\u001b[0m\u001b[0m\n\u001b[0;32m    785\u001b[0m             \u001b[1;31m# Encoding\u001b[0m\u001b[1;33m\u001b[0m\u001b[1;33m\u001b[0m\u001b[0m\n\u001b[1;32m--> 786\u001b[1;33m             handle = open(\n\u001b[0m\u001b[0;32m    787\u001b[0m                 \u001b[0mhandle\u001b[0m\u001b[1;33m,\u001b[0m\u001b[1;33m\u001b[0m\u001b[1;33m\u001b[0m\u001b[0m\n\u001b[0;32m    788\u001b[0m                 \u001b[0mioargs\u001b[0m\u001b[1;33m.\u001b[0m\u001b[0mmode\u001b[0m\u001b[1;33m,\u001b[0m\u001b[1;33m\u001b[0m\u001b[1;33m\u001b[0m\u001b[0m\n",
      "\u001b[1;31mFileNotFoundError\u001b[0m: [Errno 2] No such file or directory: 'data/한국전력공사_전기차충전소충전량(202101_202106).csv'"
     ]
    }
   ],
   "source": [
    "# 2021년 1월부터 6월까지 데이터\n",
    "df1 = pd.read_csv('data/한국전력공사_전기차충전소충전량(202101_202106).csv', encoding='cp949')\n",
    "\n",
    "# 2021년 7월부터 12월까지 데이터\n",
    "df2 = pd.read_csv('data/한국전력공사_전기차충전소충전량(202107_202112).csv', encoding='cp949')\n",
    "\n",
    "# 두 데이터프레임을 병합\n",
    "df = pd.concat([df1, df2], ignore_index=True)\n",
    "\n",
    "# 병합된 데이터프레임 출력\n",
    "df"
   ]
  },
  {
   "cell_type": "code",
   "execution_count": null,
   "metadata": {},
   "outputs": [
    {
     "data": {
      "text/html": [
       "<div>\n",
       "<style scoped>\n",
       "    .dataframe tbody tr th:only-of-type {\n",
       "        vertical-align: middle;\n",
       "    }\n",
       "\n",
       "    .dataframe tbody tr th {\n",
       "        vertical-align: top;\n",
       "    }\n",
       "\n",
       "    .dataframe thead th {\n",
       "        text-align: right;\n",
       "    }\n",
       "</style>\n",
       "<table border=\"1\" class=\"dataframe\">\n",
       "  <thead>\n",
       "    <tr style=\"text-align: right;\">\n",
       "      <th></th>\n",
       "      <th>본부</th>\n",
       "      <th>사업소</th>\n",
       "      <th>충전소명</th>\n",
       "      <th>충전기</th>\n",
       "      <th>주소</th>\n",
       "      <th>충전기구분</th>\n",
       "      <th>충전용량</th>\n",
       "      <th>충전량</th>\n",
       "      <th>충전시간</th>\n",
       "      <th>충전분</th>\n",
       "      <th>충전종료일자</th>\n",
       "      <th>충전시작시각</th>\n",
       "      <th>충전종료시각</th>\n",
       "      <th>시</th>\n",
       "      <th>구</th>\n",
       "      <th>도로명주소</th>\n",
       "    </tr>\n",
       "  </thead>\n",
       "  <tbody>\n",
       "    <tr>\n",
       "      <th>0</th>\n",
       "      <td>인천</td>\n",
       "      <td>김포</td>\n",
       "      <td>운양동 전원마을월드2단지</td>\n",
       "      <td>급속01</td>\n",
       "      <td>경기도 김포시 전원로 44</td>\n",
       "      <td>급속</td>\n",
       "      <td>50.0</td>\n",
       "      <td>28.92</td>\n",
       "      <td>0</td>\n",
       "      <td>49</td>\n",
       "      <td>2021-01-01</td>\n",
       "      <td>2021-01-01 21:34:13</td>\n",
       "      <td>2021-01-01 22:23:44</td>\n",
       "      <td>경기도</td>\n",
       "      <td>김포시</td>\n",
       "      <td>전원로 44</td>\n",
       "    </tr>\n",
       "    <tr>\n",
       "      <th>1</th>\n",
       "      <td>인천</td>\n",
       "      <td>시흥</td>\n",
       "      <td>LH퍼스트리움 아파트</td>\n",
       "      <td>완속03</td>\n",
       "      <td>경기도 시흥시 동서로 1068 (조남동)</td>\n",
       "      <td>완속</td>\n",
       "      <td>7.0</td>\n",
       "      <td>12.51</td>\n",
       "      <td>3</td>\n",
       "      <td>55</td>\n",
       "      <td>2021-01-01</td>\n",
       "      <td>2021-01-01 18:28:55</td>\n",
       "      <td>2021-01-01 22:24:38</td>\n",
       "      <td>경기도</td>\n",
       "      <td>시흥시</td>\n",
       "      <td>동서로 1068 (조남동)</td>\n",
       "    </tr>\n",
       "    <tr>\n",
       "      <th>2</th>\n",
       "      <td>남서울</td>\n",
       "      <td>강남</td>\n",
       "      <td>LH강남힐스테이트</td>\n",
       "      <td>급속01</td>\n",
       "      <td>서울특별시 강남구 자곡동 자곡로3길 21</td>\n",
       "      <td>급속</td>\n",
       "      <td>50.0</td>\n",
       "      <td>26.37</td>\n",
       "      <td>0</td>\n",
       "      <td>38</td>\n",
       "      <td>2021-01-01</td>\n",
       "      <td>2021-01-01 21:46:05</td>\n",
       "      <td>2021-01-01 22:24:33</td>\n",
       "      <td>서울특별시</td>\n",
       "      <td>강남구</td>\n",
       "      <td>자곡동 자곡로3길 21</td>\n",
       "    </tr>\n",
       "  </tbody>\n",
       "</table>\n",
       "</div>"
      ],
      "text/plain": [
       "    본부 사업소           충전소명   충전기                      주소 충전기구분  충전용량    충전량  \\\n",
       "0   인천  김포  운양동 전원마을월드2단지  급속01          경기도 김포시 전원로 44    급속  50.0  28.92   \n",
       "1   인천  시흥    LH퍼스트리움 아파트  완속03  경기도 시흥시 동서로 1068 (조남동)    완속   7.0  12.51   \n",
       "2  남서울  강남      LH강남힐스테이트  급속01  서울특별시 강남구 자곡동 자곡로3길 21    급속  50.0  26.37   \n",
       "\n",
       "   충전시간  충전분      충전종료일자               충전시작시각               충전종료시각      시  \\\n",
       "0     0   49  2021-01-01  2021-01-01 21:34:13  2021-01-01 22:23:44    경기도   \n",
       "1     3   55  2021-01-01  2021-01-01 18:28:55  2021-01-01 22:24:38    경기도   \n",
       "2     0   38  2021-01-01  2021-01-01 21:46:05  2021-01-01 22:24:33  서울특별시   \n",
       "\n",
       "     구           도로명주소  \n",
       "0  김포시          전원로 44  \n",
       "1  시흥시  동서로 1068 (조남동)  \n",
       "2  강남구    자곡동 자곡로3길 21  "
      ]
     },
     "execution_count": 4,
     "metadata": {},
     "output_type": "execute_result"
    }
   ],
   "source": [
    "df = df.drop('충전기ID', axis=1)\n",
    "df[['시', '구', '도로명주소']] = df['주소'].str.split(' ', n=2, expand=True)\n",
    "df.head(3)"
   ]
  },
  {
   "cell_type": "code",
   "execution_count": null,
   "metadata": {},
   "outputs": [
    {
     "data": {
      "text/html": [
       "<div>\n",
       "<style scoped>\n",
       "    .dataframe tbody tr th:only-of-type {\n",
       "        vertical-align: middle;\n",
       "    }\n",
       "\n",
       "    .dataframe tbody tr th {\n",
       "        vertical-align: top;\n",
       "    }\n",
       "\n",
       "    .dataframe thead th {\n",
       "        text-align: right;\n",
       "    }\n",
       "</style>\n",
       "<table border=\"1\" class=\"dataframe\">\n",
       "  <thead>\n",
       "    <tr style=\"text-align: right;\">\n",
       "      <th></th>\n",
       "      <th>본부</th>\n",
       "      <th>사업소</th>\n",
       "      <th>충전소명</th>\n",
       "      <th>충전기</th>\n",
       "      <th>주소</th>\n",
       "      <th>충전기구분</th>\n",
       "      <th>충전용량</th>\n",
       "      <th>충전량</th>\n",
       "      <th>충전시간</th>\n",
       "      <th>충전분</th>\n",
       "      <th>충전종료일자</th>\n",
       "      <th>충전시작시각</th>\n",
       "      <th>충전종료시각</th>\n",
       "      <th>시</th>\n",
       "      <th>구</th>\n",
       "      <th>도로명주소</th>\n",
       "    </tr>\n",
       "  </thead>\n",
       "  <tbody>\n",
       "    <tr>\n",
       "      <th>0</th>\n",
       "      <td>광주전남</td>\n",
       "      <td>광산</td>\n",
       "      <td>수완 우미린 1차아파트</td>\n",
       "      <td>완속02</td>\n",
       "      <td>광주광역시 광산구 수완로33번길 22 (수완동, 수완1차우미린아파트)</td>\n",
       "      <td>완속</td>\n",
       "      <td>7.0</td>\n",
       "      <td>29.9500</td>\n",
       "      <td>5</td>\n",
       "      <td>10</td>\n",
       "      <td>2021-01-01</td>\n",
       "      <td>2021-01-01 18:44:57</td>\n",
       "      <td>2021-01-01 23:54:58</td>\n",
       "      <td>광주광역시</td>\n",
       "      <td>광산구</td>\n",
       "      <td>수완로33번길 22 (수완동, 수완1차우미린아파트)</td>\n",
       "    </tr>\n",
       "    <tr>\n",
       "      <th>1</th>\n",
       "      <td>광주전남</td>\n",
       "      <td>광주전남직할</td>\n",
       "      <td>장등공용차고지</td>\n",
       "      <td>급속03</td>\n",
       "      <td>광주광역시 북구 장운길 55 (장등동)</td>\n",
       "      <td>급속</td>\n",
       "      <td>200.0</td>\n",
       "      <td>14.3105</td>\n",
       "      <td>0</td>\n",
       "      <td>17</td>\n",
       "      <td>2021-01-01</td>\n",
       "      <td>2021-01-01 22:05:59</td>\n",
       "      <td>2021-01-01 22:23:37</td>\n",
       "      <td>광주광역시</td>\n",
       "      <td>북구</td>\n",
       "      <td>장운길 55 (장등동)</td>\n",
       "    </tr>\n",
       "    <tr>\n",
       "      <th>2</th>\n",
       "      <td>광주전남</td>\n",
       "      <td>서광주</td>\n",
       "      <td>보훈병원 주차장</td>\n",
       "      <td>급속01</td>\n",
       "      <td>광주광역시 남구 서문대로824번길 10 (주월동, (구)광주보훈병원)</td>\n",
       "      <td>급속</td>\n",
       "      <td>50.0</td>\n",
       "      <td>27.3800</td>\n",
       "      <td>1</td>\n",
       "      <td>41</td>\n",
       "      <td>2021-01-01</td>\n",
       "      <td>2021-01-01 18:42:59</td>\n",
       "      <td>2021-01-01 20:24:58</td>\n",
       "      <td>광주광역시</td>\n",
       "      <td>남구</td>\n",
       "      <td>서문대로824번길 10 (주월동, (구)광주보훈병원)</td>\n",
       "    </tr>\n",
       "    <tr>\n",
       "      <th>3</th>\n",
       "      <td>광주전남</td>\n",
       "      <td>광주전남직할</td>\n",
       "      <td>장등공용차고지</td>\n",
       "      <td>급속04</td>\n",
       "      <td>광주광역시 북구 장운길 55 (장등동)</td>\n",
       "      <td>급속</td>\n",
       "      <td>200.0</td>\n",
       "      <td>65.2295</td>\n",
       "      <td>0</td>\n",
       "      <td>40</td>\n",
       "      <td>2021-01-01</td>\n",
       "      <td>2021-01-01 21:46:13</td>\n",
       "      <td>2021-01-01 22:26:25</td>\n",
       "      <td>광주광역시</td>\n",
       "      <td>북구</td>\n",
       "      <td>장운길 55 (장등동)</td>\n",
       "    </tr>\n",
       "    <tr>\n",
       "      <th>4</th>\n",
       "      <td>광주전남</td>\n",
       "      <td>광주전남직할</td>\n",
       "      <td>일곡롯데아파트</td>\n",
       "      <td>완속02</td>\n",
       "      <td>광주광역시 북구 설죽로 595 (일곡동, 롯데아파트)</td>\n",
       "      <td>완속</td>\n",
       "      <td>7.0</td>\n",
       "      <td>20.4300</td>\n",
       "      <td>3</td>\n",
       "      <td>46</td>\n",
       "      <td>2021-01-01</td>\n",
       "      <td>2021-01-01 19:52:29</td>\n",
       "      <td>2021-01-01 23:38:58</td>\n",
       "      <td>광주광역시</td>\n",
       "      <td>북구</td>\n",
       "      <td>설죽로 595 (일곡동, 롯데아파트)</td>\n",
       "    </tr>\n",
       "    <tr>\n",
       "      <th>...</th>\n",
       "      <td>...</td>\n",
       "      <td>...</td>\n",
       "      <td>...</td>\n",
       "      <td>...</td>\n",
       "      <td>...</td>\n",
       "      <td>...</td>\n",
       "      <td>...</td>\n",
       "      <td>...</td>\n",
       "      <td>...</td>\n",
       "      <td>...</td>\n",
       "      <td>...</td>\n",
       "      <td>...</td>\n",
       "      <td>...</td>\n",
       "      <td>...</td>\n",
       "      <td>...</td>\n",
       "      <td>...</td>\n",
       "    </tr>\n",
       "    <tr>\n",
       "      <th>78656</th>\n",
       "      <td>광주전남</td>\n",
       "      <td>서광주</td>\n",
       "      <td>매월동 전기버스 충전소</td>\n",
       "      <td>급속02</td>\n",
       "      <td>광주광역시 서구 불암길 154 (매월동)</td>\n",
       "      <td>급속</td>\n",
       "      <td>200.0</td>\n",
       "      <td>35.5500</td>\n",
       "      <td>0</td>\n",
       "      <td>40</td>\n",
       "      <td>2021-10-17</td>\n",
       "      <td>2021-10-17 11:22:58</td>\n",
       "      <td>2021-10-17 12:03:47</td>\n",
       "      <td>광주광역시</td>\n",
       "      <td>서구</td>\n",
       "      <td>불암길 154 (매월동)</td>\n",
       "    </tr>\n",
       "    <tr>\n",
       "      <th>78657</th>\n",
       "      <td>광주전남</td>\n",
       "      <td>광주전남직할</td>\n",
       "      <td>장등공용차고지</td>\n",
       "      <td>급속02</td>\n",
       "      <td>광주광역시 북구 장운길 55 (장등동)</td>\n",
       "      <td>급속</td>\n",
       "      <td>200.0</td>\n",
       "      <td>28.4900</td>\n",
       "      <td>0</td>\n",
       "      <td>17</td>\n",
       "      <td>2021-10-17</td>\n",
       "      <td>2021-10-17 11:55:10</td>\n",
       "      <td>2021-10-17 12:12:11</td>\n",
       "      <td>광주광역시</td>\n",
       "      <td>북구</td>\n",
       "      <td>장운길 55 (장등동)</td>\n",
       "    </tr>\n",
       "    <tr>\n",
       "      <th>78658</th>\n",
       "      <td>광주전남</td>\n",
       "      <td>광산</td>\n",
       "      <td>수완동 행정복지센터</td>\n",
       "      <td>급속01</td>\n",
       "      <td>광주광역시 광산구 장덕로 158 (수완동, 수완동행정복지센터/수완보건지소)</td>\n",
       "      <td>급속</td>\n",
       "      <td>50.0</td>\n",
       "      <td>68.7800</td>\n",
       "      <td>2</td>\n",
       "      <td>14</td>\n",
       "      <td>2021-10-17</td>\n",
       "      <td>2021-10-17 10:19:13</td>\n",
       "      <td>2021-10-17 12:33:33</td>\n",
       "      <td>광주광역시</td>\n",
       "      <td>광산구</td>\n",
       "      <td>장덕로 158 (수완동, 수완동행정복지센터/수완보건지소)</td>\n",
       "    </tr>\n",
       "    <tr>\n",
       "      <th>78659</th>\n",
       "      <td>광주전남</td>\n",
       "      <td>서광주</td>\n",
       "      <td>매월동 전기버스 충전소</td>\n",
       "      <td>급속02</td>\n",
       "      <td>광주광역시 서구 불암길 154 (매월동)</td>\n",
       "      <td>급속</td>\n",
       "      <td>200.0</td>\n",
       "      <td>50.9900</td>\n",
       "      <td>0</td>\n",
       "      <td>59</td>\n",
       "      <td>2021-10-17</td>\n",
       "      <td>2021-10-17 07:22:48</td>\n",
       "      <td>2021-10-17 08:22:10</td>\n",
       "      <td>광주광역시</td>\n",
       "      <td>서구</td>\n",
       "      <td>불암길 154 (매월동)</td>\n",
       "    </tr>\n",
       "    <tr>\n",
       "      <th>78660</th>\n",
       "      <td>광주전남</td>\n",
       "      <td>광주전남직할</td>\n",
       "      <td>장등공용차고지</td>\n",
       "      <td>급속02</td>\n",
       "      <td>광주광역시 북구 장운길 55 (장등동)</td>\n",
       "      <td>급속</td>\n",
       "      <td>200.0</td>\n",
       "      <td>51.2500</td>\n",
       "      <td>0</td>\n",
       "      <td>30</td>\n",
       "      <td>2021-10-17</td>\n",
       "      <td>2021-10-17 11:17:48</td>\n",
       "      <td>2021-10-17 11:48:06</td>\n",
       "      <td>광주광역시</td>\n",
       "      <td>북구</td>\n",
       "      <td>장운길 55 (장등동)</td>\n",
       "    </tr>\n",
       "  </tbody>\n",
       "</table>\n",
       "<p>78661 rows × 16 columns</p>\n",
       "</div>"
      ],
      "text/plain": [
       "         본부     사업소          충전소명   충전기  \\\n",
       "0      광주전남      광산  수완 우미린 1차아파트  완속02   \n",
       "1      광주전남  광주전남직할       장등공용차고지  급속03   \n",
       "2      광주전남     서광주      보훈병원 주차장  급속01   \n",
       "3      광주전남  광주전남직할       장등공용차고지  급속04   \n",
       "4      광주전남  광주전남직할       일곡롯데아파트  완속02   \n",
       "...     ...     ...           ...   ...   \n",
       "78656  광주전남     서광주  매월동 전기버스 충전소  급속02   \n",
       "78657  광주전남  광주전남직할       장등공용차고지  급속02   \n",
       "78658  광주전남      광산    수완동 행정복지센터  급속01   \n",
       "78659  광주전남     서광주  매월동 전기버스 충전소  급속02   \n",
       "78660  광주전남  광주전남직할       장등공용차고지  급속02   \n",
       "\n",
       "                                              주소 충전기구분   충전용량      충전량  충전시간  \\\n",
       "0         광주광역시 광산구 수완로33번길 22 (수완동, 수완1차우미린아파트)    완속    7.0  29.9500     5   \n",
       "1                          광주광역시 북구 장운길 55 (장등동)    급속  200.0  14.3105     0   \n",
       "2         광주광역시 남구 서문대로824번길 10 (주월동, (구)광주보훈병원)    급속   50.0  27.3800     1   \n",
       "3                          광주광역시 북구 장운길 55 (장등동)    급속  200.0  65.2295     0   \n",
       "4                  광주광역시 북구 설죽로 595 (일곡동, 롯데아파트)    완속    7.0  20.4300     3   \n",
       "...                                          ...   ...    ...      ...   ...   \n",
       "78656                     광주광역시 서구 불암길 154 (매월동)    급속  200.0  35.5500     0   \n",
       "78657                      광주광역시 북구 장운길 55 (장등동)    급속  200.0  28.4900     0   \n",
       "78658  광주광역시 광산구 장덕로 158 (수완동, 수완동행정복지센터/수완보건지소)    급속   50.0  68.7800     2   \n",
       "78659                     광주광역시 서구 불암길 154 (매월동)    급속  200.0  50.9900     0   \n",
       "78660                      광주광역시 북구 장운길 55 (장등동)    급속  200.0  51.2500     0   \n",
       "\n",
       "       충전분      충전종료일자               충전시작시각               충전종료시각      시    구  \\\n",
       "0       10  2021-01-01  2021-01-01 18:44:57  2021-01-01 23:54:58  광주광역시  광산구   \n",
       "1       17  2021-01-01  2021-01-01 22:05:59  2021-01-01 22:23:37  광주광역시   북구   \n",
       "2       41  2021-01-01  2021-01-01 18:42:59  2021-01-01 20:24:58  광주광역시   남구   \n",
       "3       40  2021-01-01  2021-01-01 21:46:13  2021-01-01 22:26:25  광주광역시   북구   \n",
       "4       46  2021-01-01  2021-01-01 19:52:29  2021-01-01 23:38:58  광주광역시   북구   \n",
       "...    ...         ...                  ...                  ...    ...  ...   \n",
       "78656   40  2021-10-17  2021-10-17 11:22:58  2021-10-17 12:03:47  광주광역시   서구   \n",
       "78657   17  2021-10-17  2021-10-17 11:55:10  2021-10-17 12:12:11  광주광역시   북구   \n",
       "78658   14  2021-10-17  2021-10-17 10:19:13  2021-10-17 12:33:33  광주광역시  광산구   \n",
       "78659   59  2021-10-17  2021-10-17 07:22:48  2021-10-17 08:22:10  광주광역시   서구   \n",
       "78660   30  2021-10-17  2021-10-17 11:17:48  2021-10-17 11:48:06  광주광역시   북구   \n",
       "\n",
       "                                 도로명주소  \n",
       "0         수완로33번길 22 (수완동, 수완1차우미린아파트)  \n",
       "1                         장운길 55 (장등동)  \n",
       "2        서문대로824번길 10 (주월동, (구)광주보훈병원)  \n",
       "3                         장운길 55 (장등동)  \n",
       "4                 설죽로 595 (일곡동, 롯데아파트)  \n",
       "...                                ...  \n",
       "78656                    불암길 154 (매월동)  \n",
       "78657                     장운길 55 (장등동)  \n",
       "78658  장덕로 158 (수완동, 수완동행정복지센터/수완보건지소)  \n",
       "78659                    불암길 154 (매월동)  \n",
       "78660                     장운길 55 (장등동)  \n",
       "\n",
       "[78661 rows x 16 columns]"
      ]
     },
     "execution_count": 5,
     "metadata": {},
     "output_type": "execute_result"
    }
   ],
   "source": [
    "gwangju = df[df['시'] == '광주광역시']\n",
    "gwangju = gwangju.drop_duplicates().reset_index(drop=True)\n",
    "gwangju"
   ]
  },
  {
   "cell_type": "code",
   "execution_count": null,
   "metadata": {},
   "outputs": [],
   "source": [
    "# gwangju.to_csv('2021년1월부터10월까지광주데이터.csv', encoding='cp949')"
   ]
  },
  {
   "cell_type": "code",
   "execution_count": null,
   "metadata": {},
   "outputs": [
    {
     "data": {
      "text/plain": [
       "<AxesSubplot:xlabel='구', ylabel='충전량'>"
      ]
     },
     "execution_count": 7,
     "metadata": {},
     "output_type": "execute_result"
    },
    {
     "data": {
      "image/png": "[encoded data removed]",
      "text/plain": [
       "<Figure size 1000x300 with 1 Axes>"
      ]
     },
     "metadata": {},
     "output_type": "display_data"
    }
   ],
   "source": [
    "# 구별 충전량\n",
    "gwangju_gu = gwangju.groupby('구')['충전량'].sum().sort_values(ascending=False)\n",
    "gwangju_gu = gwangju_gu.reset_index()\n",
    "gwangju_gu\n",
    "plt.figure(figsize=(10,3))\n",
    "sns.barplot(data=gwangju_gu,x='구',y='충전량')"
   ]
  },
  {
   "cell_type": "code",
   "execution_count": null,
   "metadata": {},
   "outputs": [
    {
     "data": {
      "image/png": "[encoded data removed]",
      "text/plain": [
       "<Figure size 800x800 with 1 Axes>"
      ]
     },
     "metadata": {},
     "output_type": "display_data"
    }
   ],
   "source": [
    "# 구별 충전량 비율\n",
    "df_charge = gwangju[['구', '충전량']]\n",
    "df_charge_sum = df_charge.groupby('구').sum()\n",
    "\n",
    "df_charge_sum.plot(kind='pie', y='충전량', legend=False, autopct='%1.1f%%', figsize=(8,8))\n",
    "plt.title('구별 충전소별 충전량 비율')\n",
    "plt.ylabel('')\n",
    "plt.show()"
   ]
  },
  {
   "cell_type": "code",
   "execution_count": null,
   "metadata": {},
   "outputs": [
    {
     "data": {
      "text/html": [
       "<div>\n",
       "<style scoped>\n",
       "    .dataframe tbody tr th:only-of-type {\n",
       "        vertical-align: middle;\n",
       "    }\n",
       "\n",
       "    .dataframe tbody tr th {\n",
       "        vertical-align: top;\n",
       "    }\n",
       "\n",
       "    .dataframe thead th {\n",
       "        text-align: right;\n",
       "    }\n",
       "</style>\n",
       "<table border=\"1\" class=\"dataframe\">\n",
       "  <thead>\n",
       "    <tr style=\"text-align: right;\">\n",
       "      <th></th>\n",
       "      <th>시간</th>\n",
       "      <th>구</th>\n",
       "      <th>충전량</th>\n",
       "    </tr>\n",
       "  </thead>\n",
       "  <tbody>\n",
       "    <tr>\n",
       "      <th>0</th>\n",
       "      <td>0</td>\n",
       "      <td>광산구</td>\n",
       "      <td>7683.4170</td>\n",
       "    </tr>\n",
       "    <tr>\n",
       "      <th>1</th>\n",
       "      <td>0</td>\n",
       "      <td>남구</td>\n",
       "      <td>3031.3700</td>\n",
       "    </tr>\n",
       "    <tr>\n",
       "      <th>2</th>\n",
       "      <td>0</td>\n",
       "      <td>동구</td>\n",
       "      <td>1123.4200</td>\n",
       "    </tr>\n",
       "    <tr>\n",
       "      <th>3</th>\n",
       "      <td>0</td>\n",
       "      <td>북구</td>\n",
       "      <td>4641.7784</td>\n",
       "    </tr>\n",
       "    <tr>\n",
       "      <th>4</th>\n",
       "      <td>0</td>\n",
       "      <td>서구</td>\n",
       "      <td>3689.7190</td>\n",
       "    </tr>\n",
       "    <tr>\n",
       "      <th>...</th>\n",
       "      <td>...</td>\n",
       "      <td>...</td>\n",
       "      <td>...</td>\n",
       "    </tr>\n",
       "    <tr>\n",
       "      <th>115</th>\n",
       "      <td>23</td>\n",
       "      <td>광산구</td>\n",
       "      <td>14745.2238</td>\n",
       "    </tr>\n",
       "    <tr>\n",
       "      <th>116</th>\n",
       "      <td>23</td>\n",
       "      <td>남구</td>\n",
       "      <td>10170.0600</td>\n",
       "    </tr>\n",
       "    <tr>\n",
       "      <th>117</th>\n",
       "      <td>23</td>\n",
       "      <td>동구</td>\n",
       "      <td>2388.6500</td>\n",
       "    </tr>\n",
       "    <tr>\n",
       "      <th>118</th>\n",
       "      <td>23</td>\n",
       "      <td>북구</td>\n",
       "      <td>67200.2110</td>\n",
       "    </tr>\n",
       "    <tr>\n",
       "      <th>119</th>\n",
       "      <td>23</td>\n",
       "      <td>서구</td>\n",
       "      <td>4843.8240</td>\n",
       "    </tr>\n",
       "  </tbody>\n",
       "</table>\n",
       "<p>120 rows × 3 columns</p>\n",
       "</div>"
      ],
      "text/plain": [
       "     시간    구         충전량\n",
       "0     0  광산구   7683.4170\n",
       "1     0   남구   3031.3700\n",
       "2     0   동구   1123.4200\n",
       "3     0   북구   4641.7784\n",
       "4     0   서구   3689.7190\n",
       "..   ..  ...         ...\n",
       "115  23  광산구  14745.2238\n",
       "116  23   남구  10170.0600\n",
       "117  23   동구   2388.6500\n",
       "118  23   북구  67200.2110\n",
       "119  23   서구   4843.8240\n",
       "\n",
       "[120 rows x 3 columns]"
      ]
     },
     "execution_count": 9,
     "metadata": {},
     "output_type": "execute_result"
    }
   ],
   "source": [
    "# 시간별 구별 총충전량\n",
    "gwangju['충전시작시각'] = pd.to_datetime(gwangju['충전시작시각'])\n",
    "\n",
    "# 시간별, 구별 충전량 계산\n",
    "hourcharge = gwangju.groupby([gwangju['충전시작시각'].dt.hour, gwangju['구']])['충전량'].sum()\n",
    "\n",
    "hourcharge_df = pd.DataFrame({'시간': [i[0] for i in hourcharge.index],\n",
    "                                       '구': [i[1] for i in hourcharge.index],\n",
    "                                       '충전량': hourcharge.values})\n",
    "hourcharge_df"
   ]
  },
  {
   "cell_type": "code",
   "execution_count": null,
   "metadata": {},
   "outputs": [
    {
     "data": {
      "image/png": "[encoded data removed]",
      "text/plain": [
       "<Figure size 1200x600 with 1 Axes>"
      ]
     },
     "metadata": {},
     "output_type": "display_data"
    }
   ],
   "source": [
    "mart_hourly_pivot = hourcharge_df.pivot_table(values='충전량', index='시간', columns='구', aggfunc='sum')\n",
    "\n",
    "mart_hourly_pivot.plot(kind='line', figsize=(12,6))\n",
    "plt.xlabel('시간')\n",
    "plt.ylabel('충전량')\n",
    "plt.title('구별 시간대별 충전량')\n",
    "plt.show()"
   ]
  },
  {
   "cell_type": "code",
   "execution_count": null,
   "metadata": {},
   "outputs": [
    {
     "data": {
      "text/plain": [
       "<Figure size 1200x800 with 0 Axes>"
      ]
     },
     "metadata": {},
     "output_type": "display_data"
    },
    {
     "data": {
      "image/png": "[encoded data removed]",
      "text/plain": [
       "<Figure size 640x480 with 1 Axes>"
      ]
     },
     "metadata": {},
     "output_type": "display_data"
    }
   ],
   "source": [
    "mart_hourly_pivot = hourcharge_df.pivot_table(values='충전량', index='시간', columns='구', aggfunc='sum')\n",
    "\n",
    "plt.figure(figsize=(12, 8))\n",
    "ax = mart_hourly_pivot.plot(kind='line')\n",
    "ax.set_xticks(range(0, 24, 2))  # 2시간 간격으로 눈금 표시\n",
    "plt.xlabel('시간')\n",
    "plt.ylabel('충전량')\n",
    "plt.title('구별 시간대별 충전량')\n",
    "\n",
    "plt.show()"
   ]
  },
  {
   "cell_type": "code",
   "execution_count": null,
   "metadata": {},
   "outputs": [
    {
     "data": {
      "text/plain": [
       "충전종료일자      구  \n",
       "2021-01-01  광산구    2340.6109\n",
       "            남구      687.8100\n",
       "            동구     1493.4289\n",
       "            북구     6741.4101\n",
       "            서구     1575.4360\n",
       "                     ...    \n",
       "2021-10-17  광산구    2367.1260\n",
       "            남구      460.4400\n",
       "            동구     1010.5000\n",
       "            북구     5254.7100\n",
       "            서구     1719.7600\n",
       "Name: 충전량, Length: 1220, dtype: float64"
      ]
     },
     "execution_count": 12,
     "metadata": {},
     "output_type": "execute_result"
    }
   ],
   "source": [
    "# 구별충전량\n",
    "gu_charge = gwangju.groupby([gwangju['충전종료일자'], gwangju['구']])['충전량'].sum()\n",
    "gu_charge"
   ]
  },
  {
   "cell_type": "code",
   "execution_count": null,
   "metadata": {},
   "outputs": [
    {
     "data": {
      "text/html": [
       "<div>\n",
       "<style scoped>\n",
       "    .dataframe tbody tr th:only-of-type {\n",
       "        vertical-align: middle;\n",
       "    }\n",
       "\n",
       "    .dataframe tbody tr th {\n",
       "        vertical-align: top;\n",
       "    }\n",
       "\n",
       "    .dataframe thead th {\n",
       "        text-align: right;\n",
       "    }\n",
       "</style>\n",
       "<table border=\"1\" class=\"dataframe\">\n",
       "  <thead>\n",
       "    <tr style=\"text-align: right;\">\n",
       "      <th></th>\n",
       "      <th>충전종료일자</th>\n",
       "      <th>구</th>\n",
       "      <th>충전량</th>\n",
       "    </tr>\n",
       "  </thead>\n",
       "  <tbody>\n",
       "    <tr>\n",
       "      <th>0</th>\n",
       "      <td>2021-01-01</td>\n",
       "      <td>광산구</td>\n",
       "      <td>2340.6109</td>\n",
       "    </tr>\n",
       "    <tr>\n",
       "      <th>1</th>\n",
       "      <td>2021-01-01</td>\n",
       "      <td>남구</td>\n",
       "      <td>687.8100</td>\n",
       "    </tr>\n",
       "    <tr>\n",
       "      <th>2</th>\n",
       "      <td>2021-01-01</td>\n",
       "      <td>동구</td>\n",
       "      <td>1493.4289</td>\n",
       "    </tr>\n",
       "    <tr>\n",
       "      <th>3</th>\n",
       "      <td>2021-01-01</td>\n",
       "      <td>북구</td>\n",
       "      <td>6741.4101</td>\n",
       "    </tr>\n",
       "    <tr>\n",
       "      <th>4</th>\n",
       "      <td>2021-01-01</td>\n",
       "      <td>서구</td>\n",
       "      <td>1575.4360</td>\n",
       "    </tr>\n",
       "    <tr>\n",
       "      <th>...</th>\n",
       "      <td>...</td>\n",
       "      <td>...</td>\n",
       "      <td>...</td>\n",
       "    </tr>\n",
       "    <tr>\n",
       "      <th>1215</th>\n",
       "      <td>2021-10-17</td>\n",
       "      <td>광산구</td>\n",
       "      <td>2367.1260</td>\n",
       "    </tr>\n",
       "    <tr>\n",
       "      <th>1216</th>\n",
       "      <td>2021-10-17</td>\n",
       "      <td>남구</td>\n",
       "      <td>460.4400</td>\n",
       "    </tr>\n",
       "    <tr>\n",
       "      <th>1217</th>\n",
       "      <td>2021-10-17</td>\n",
       "      <td>동구</td>\n",
       "      <td>1010.5000</td>\n",
       "    </tr>\n",
       "    <tr>\n",
       "      <th>1218</th>\n",
       "      <td>2021-10-17</td>\n",
       "      <td>북구</td>\n",
       "      <td>5254.7100</td>\n",
       "    </tr>\n",
       "    <tr>\n",
       "      <th>1219</th>\n",
       "      <td>2021-10-17</td>\n",
       "      <td>서구</td>\n",
       "      <td>1719.7600</td>\n",
       "    </tr>\n",
       "  </tbody>\n",
       "</table>\n",
       "<p>1220 rows × 3 columns</p>\n",
       "</div>"
      ],
      "text/plain": [
       "          충전종료일자    구        충전량\n",
       "0     2021-01-01  광산구  2340.6109\n",
       "1     2021-01-01   남구   687.8100\n",
       "2     2021-01-01   동구  1493.4289\n",
       "3     2021-01-01   북구  6741.4101\n",
       "4     2021-01-01   서구  1575.4360\n",
       "...          ...  ...        ...\n",
       "1215  2021-10-17  광산구  2367.1260\n",
       "1216  2021-10-17   남구   460.4400\n",
       "1217  2021-10-17   동구  1010.5000\n",
       "1218  2021-10-17   북구  5254.7100\n",
       "1219  2021-10-17   서구  1719.7600\n",
       "\n",
       "[1220 rows x 3 columns]"
      ]
     },
     "execution_count": 13,
     "metadata": {},
     "output_type": "execute_result"
    }
   ],
   "source": [
    "# 충전시간별 충전소명 충전량\n",
    "gu_charge_df = pd.DataFrame({'충전종료일자': [i[0] for i in gu_charge.index],\n",
    "                                       '구': [i[1] for i in gu_charge.index],\n",
    "                                       '충전량': gu_charge.values})\n",
    "gu_charge_df"
   ]
  },
  {
   "cell_type": "code",
   "execution_count": null,
   "metadata": {},
   "outputs": [
    {
     "data": {
      "text/plain": [
       "[        충전종료일자    구        충전량  월\n",
       " 0   2021-01-01  광산구  2340.6109  1\n",
       " 1   2021-01-01   남구   687.8100  1\n",
       " 2   2021-01-01   동구  1493.4289  1\n",
       " 3   2021-01-01   북구  6741.4101  1\n",
       " 4   2021-01-01   서구  1575.4360  1\n",
       " ..         ...  ...        ... ..\n",
       " 150 2021-01-31  광산구  1897.3977  1\n",
       " 151 2021-01-31   남구   586.7800  1\n",
       " 152 2021-01-31   동구  1322.0971  1\n",
       " 153 2021-01-31   북구  5394.5612  1\n",
       " 154 2021-01-31   서구  1761.3820  1\n",
       " \n",
       " [155 rows x 4 columns],\n",
       "         충전종료일자    구        충전량  월\n",
       " 155 2021-02-01  광산구  1576.0621  2\n",
       " 156 2021-02-01   남구   403.9700  2\n",
       " 157 2021-02-01   동구  1473.3579  2\n",
       " 158 2021-02-01   북구  4919.9432  2\n",
       " 159 2021-02-01   서구  1750.2300  2\n",
       " ..         ...  ...        ... ..\n",
       " 290 2021-02-28  광산구  1684.1553  2\n",
       " 291 2021-02-28   남구   544.0200  2\n",
       " 292 2021-02-28   동구  1175.2944  2\n",
       " 293 2021-02-28   북구  5733.8728  2\n",
       " 294 2021-02-28   서구  1561.0200  2\n",
       " \n",
       " [140 rows x 4 columns],\n",
       "         충전종료일자    구        충전량  월\n",
       " 295 2021-03-01  광산구  1971.6537  3\n",
       " 296 2021-03-01   남구   308.1000  3\n",
       " 297 2021-03-01   동구  1463.8747  3\n",
       " 298 2021-03-01   북구  5764.4319  3\n",
       " 299 2021-03-01   서구  1827.8380  3\n",
       " ..         ...  ...        ... ..\n",
       " 445 2021-03-31  광산구  1905.8412  3\n",
       " 446 2021-03-31   남구   402.4300  3\n",
       " 447 2021-03-31   동구  1050.5699  3\n",
       " 448 2021-03-31   북구  5978.1347  3\n",
       " 449 2021-03-31   서구  1462.8000  3\n",
       " \n",
       " [155 rows x 4 columns],\n",
       "         충전종료일자    구        충전량  월\n",
       " 450 2021-04-01  광산구  2161.2883  4\n",
       " 451 2021-04-01   남구   444.7300  4\n",
       " 452 2021-04-01   동구   932.8056  4\n",
       " 453 2021-04-01   북구  5794.1107  4\n",
       " 454 2021-04-01   서구  1720.5380  4\n",
       " ..         ...  ...        ... ..\n",
       " 595 2021-04-30  광산구  1918.1409  4\n",
       " 596 2021-04-30   남구   353.6800  4\n",
       " 597 2021-04-30   동구   955.9304  4\n",
       " 598 2021-04-30   북구  5697.5284  4\n",
       " 599 2021-04-30   서구  1917.9840  4\n",
       " \n",
       " [150 rows x 4 columns],\n",
       "         충전종료일자    구        충전량  월\n",
       " 600 2021-05-01  광산구  2076.9895  5\n",
       " 601 2021-05-01   남구   423.4900  5\n",
       " 602 2021-05-01   동구  1053.7260  5\n",
       " 603 2021-05-01   북구  5067.9277  5\n",
       " 604 2021-05-01   서구  1493.3820  5\n",
       " ..         ...  ...        ... ..\n",
       " 670 2021-05-15  광산구  1676.2098  5\n",
       " 671 2021-05-15   남구   123.8900  5\n",
       " 672 2021-05-15   동구   846.1463  5\n",
       " 673 2021-05-15   북구  4419.4832  5\n",
       " 674 2021-05-15   서구  1334.8980  5\n",
       " \n",
       " [75 rows x 4 columns],\n",
       " Empty DataFrame\n",
       " Columns: [충전종료일자, 구, 충전량, 월]\n",
       " Index: [],\n",
       "         충전종료일자    구        충전량  월\n",
       " 675 2021-07-01  광산구  2635.1254  7\n",
       " 676 2021-07-01   남구   606.2700  7\n",
       " 677 2021-07-01   동구  1263.0916  7\n",
       " 678 2021-07-01   북구  6937.6795  7\n",
       " 679 2021-07-01   서구  2155.2300  7\n",
       " ..         ...  ...        ... ..\n",
       " 825 2021-07-31  광산구  2709.6255  7\n",
       " 826 2021-07-31   남구   429.6400  7\n",
       " 827 2021-07-31   동구  1412.7990  7\n",
       " 828 2021-07-31   북구  7267.7460  7\n",
       " 829 2021-07-31   서구  1564.8940  7\n",
       " \n",
       " [155 rows x 4 columns],\n",
       "         충전종료일자    구       충전량  월\n",
       " 830 2021-08-01  광산구  2790.262  8\n",
       " 831 2021-08-01   남구   634.760  8\n",
       " 832 2021-08-01   동구  1214.110  8\n",
       " 833 2021-08-01   북구  5851.560  8\n",
       " 834 2021-08-01   서구  1676.046  8\n",
       " ..         ...  ...       ... ..\n",
       " 980 2021-08-31  광산구  2638.776  8\n",
       " 981 2021-08-31   남구   351.130  8\n",
       " 982 2021-08-31   동구  1104.050  8\n",
       " 983 2021-08-31   북구  7061.870  8\n",
       " 984 2021-08-31   서구  1883.473  8\n",
       " \n",
       " [155 rows x 4 columns],\n",
       "          충전종료일자    구       충전량  월\n",
       " 985  2021-09-01  광산구  2747.333  9\n",
       " 986  2021-09-01   남구   451.080  9\n",
       " 987  2021-09-01   동구  1219.600  9\n",
       " 988  2021-09-01   북구  6577.624  9\n",
       " 989  2021-09-01   서구  1970.092  9\n",
       " ...         ...  ...       ... ..\n",
       " 1130 2021-09-30  광산구  2666.438  9\n",
       " 1131 2021-09-30   남구   347.330  9\n",
       " 1132 2021-09-30   동구   994.430  9\n",
       " 1133 2021-09-30   북구  5935.840  9\n",
       " 1134 2021-09-30   서구  1754.424  9\n",
       " \n",
       " [150 rows x 4 columns],\n",
       "          충전종료일자    구       충전량   월\n",
       " 1135 2021-10-01  광산구  3119.228  10\n",
       " 1136 2021-10-01   남구   602.850  10\n",
       " 1137 2021-10-01   동구  1034.650  10\n",
       " 1138 2021-10-01   북구  6538.400  10\n",
       " 1139 2021-10-01   서구  1877.867  10\n",
       " ...         ...  ...       ...  ..\n",
       " 1215 2021-10-17  광산구  2367.126  10\n",
       " 1216 2021-10-17   남구   460.440  10\n",
       " 1217 2021-10-17   동구  1010.500  10\n",
       " 1218 2021-10-17   북구  5254.710  10\n",
       " 1219 2021-10-17   서구  1719.760  10\n",
       " \n",
       " [85 rows x 4 columns]]"
      ]
     },
     "execution_count": 14,
     "metadata": {},
     "output_type": "execute_result"
    }
   ],
   "source": [
    "gu_charge_df['충전종료일자'] = pd.to_datetime(gu_charge_df['충전종료일자'])\n",
    "# '월' column 추가\n",
    "gu_charge_df['월'] = gu_charge_df['충전종료일자'].dt.month\n",
    "\n",
    "# 월별로 데이터프레임 분할\n",
    "gu_charge_by_month = [gu_charge_df.loc[gu_charge_df['월'] == i] for i in range(1, 11)]\n",
    "gu_charge_by_month"
   ]
  },
  {
   "cell_type": "code",
   "execution_count": null,
   "metadata": {},
   "outputs": [
    {
     "data": {
      "text/html": [
       "<div>\n",
       "<style scoped>\n",
       "    .dataframe tbody tr th:only-of-type {\n",
       "        vertical-align: middle;\n",
       "    }\n",
       "\n",
       "    .dataframe tbody tr th {\n",
       "        vertical-align: top;\n",
       "    }\n",
       "\n",
       "    .dataframe thead th {\n",
       "        text-align: right;\n",
       "    }\n",
       "</style>\n",
       "<table border=\"1\" class=\"dataframe\">\n",
       "  <thead>\n",
       "    <tr style=\"text-align: right;\">\n",
       "      <th>구</th>\n",
       "      <th>광산구</th>\n",
       "      <th>남구</th>\n",
       "      <th>동구</th>\n",
       "      <th>북구</th>\n",
       "      <th>서구</th>\n",
       "    </tr>\n",
       "    <tr>\n",
       "      <th>월</th>\n",
       "      <th></th>\n",
       "      <th></th>\n",
       "      <th></th>\n",
       "      <th></th>\n",
       "      <th></th>\n",
       "    </tr>\n",
       "  </thead>\n",
       "  <tbody>\n",
       "    <tr>\n",
       "      <th>1</th>\n",
       "      <td>78534.2958</td>\n",
       "      <td>13575.39</td>\n",
       "      <td>42836.7533</td>\n",
       "      <td>209974.4091</td>\n",
       "      <td>56789.580</td>\n",
       "    </tr>\n",
       "    <tr>\n",
       "      <th>2</th>\n",
       "      <td>57345.3260</td>\n",
       "      <td>13108.25</td>\n",
       "      <td>37168.4240</td>\n",
       "      <td>177832.5147</td>\n",
       "      <td>50526.030</td>\n",
       "    </tr>\n",
       "    <tr>\n",
       "      <th>3</th>\n",
       "      <td>61967.6272</td>\n",
       "      <td>15268.89</td>\n",
       "      <td>35947.3321</td>\n",
       "      <td>186133.9058</td>\n",
       "      <td>54902.292</td>\n",
       "    </tr>\n",
       "    <tr>\n",
       "      <th>4</th>\n",
       "      <td>61060.8065</td>\n",
       "      <td>13780.05</td>\n",
       "      <td>30558.7924</td>\n",
       "      <td>169055.4662</td>\n",
       "      <td>49813.840</td>\n",
       "    </tr>\n",
       "    <tr>\n",
       "      <th>5</th>\n",
       "      <td>29575.8884</td>\n",
       "      <td>5260.19</td>\n",
       "      <td>15064.4584</td>\n",
       "      <td>81796.5595</td>\n",
       "      <td>24457.560</td>\n",
       "    </tr>\n",
       "    <tr>\n",
       "      <th>7</th>\n",
       "      <td>82311.5086</td>\n",
       "      <td>18543.58</td>\n",
       "      <td>37721.7499</td>\n",
       "      <td>212763.2883</td>\n",
       "      <td>58839.817</td>\n",
       "    </tr>\n",
       "    <tr>\n",
       "      <th>8</th>\n",
       "      <td>83149.7335</td>\n",
       "      <td>15974.56</td>\n",
       "      <td>35708.2000</td>\n",
       "      <td>198688.1689</td>\n",
       "      <td>57510.343</td>\n",
       "    </tr>\n",
       "    <tr>\n",
       "      <th>9</th>\n",
       "      <td>80935.2428</td>\n",
       "      <td>12257.41</td>\n",
       "      <td>32595.4375</td>\n",
       "      <td>182617.3693</td>\n",
       "      <td>53021.389</td>\n",
       "    </tr>\n",
       "    <tr>\n",
       "      <th>10</th>\n",
       "      <td>47088.8510</td>\n",
       "      <td>7525.88</td>\n",
       "      <td>19389.1300</td>\n",
       "      <td>101491.0970</td>\n",
       "      <td>31629.893</td>\n",
       "    </tr>\n",
       "  </tbody>\n",
       "</table>\n",
       "</div>"
      ],
      "text/plain": [
       "구          광산구        남구          동구           북구         서구\n",
       "월                                                           \n",
       "1   78534.2958  13575.39  42836.7533  209974.4091  56789.580\n",
       "2   57345.3260  13108.25  37168.4240  177832.5147  50526.030\n",
       "3   61967.6272  15268.89  35947.3321  186133.9058  54902.292\n",
       "4   61060.8065  13780.05  30558.7924  169055.4662  49813.840\n",
       "5   29575.8884   5260.19  15064.4584   81796.5595  24457.560\n",
       "7   82311.5086  18543.58  37721.7499  212763.2883  58839.817\n",
       "8   83149.7335  15974.56  35708.2000  198688.1689  57510.343\n",
       "9   80935.2428  12257.41  32595.4375  182617.3693  53021.389\n",
       "10  47088.8510   7525.88  19389.1300  101491.0970  31629.893"
      ]
     },
     "execution_count": 15,
     "metadata": {},
     "output_type": "execute_result"
    }
   ],
   "source": [
    "# 일자별 총충전량\n",
    "gwangju['충전종료일자'] = pd.to_datetime(gwangju['충전종료일자'])\n",
    "\n",
    "# 일자별, 시간대별 충전량 계산\n",
    "daily_hourly_charge = gwangju.groupby([gwangju['충전종료일자'].dt.date, gwangju['구']])['충전량'].sum()\n",
    "\n",
    "# 일자 컬럼 추가\n",
    "daily_hourly_charge_df = pd.DataFrame({'일자': [i[0] for i in daily_hourly_charge.index],\n",
    "                                       '구': [i[1] for i in daily_hourly_charge.index],\n",
    "                                       '충전량': daily_hourly_charge.values})\n",
    "\n",
    "# 월별 컬럼 추가\n",
    "daily_hourly_charge_df['월'] = daily_hourly_charge_df['일자'].apply(lambda x: x.month)\n",
    "\n",
    "# 월별 컬럼에 일자별 충전량 매핑\n",
    "monthly_charge = daily_hourly_charge_df.groupby(['월', '구'])['충전량'].sum().unstack()\n",
    "\n",
    "monthly_charge\n",
    "# 월별 구별 총충전량"
   ]
  },
  {
   "cell_type": "code",
   "execution_count": null,
   "metadata": {},
   "outputs": [
    {
     "data": {
      "image/png": "[encoded data removed]",
      "text/plain": [
       "<Figure size 1000x600 with 1 Axes>"
      ]
     },
     "metadata": {},
     "output_type": "display_data"
    }
   ],
   "source": [
    "monthly_charge.plot(kind='bar', figsize=(10, 6))\n",
    "plt.title('월별 구별 총충전량')\n",
    "plt.xlabel('월')\n",
    "plt.ylabel('충전량')\n",
    "plt.legend(loc='best')\n",
    "plt.show()"
   ]
  },
  {
   "cell_type": "code",
   "execution_count": null,
   "metadata": {},
   "outputs": [
    {
     "data": {
      "application/vnd.plotly.v1+json": {
       "config": {
        "plotlyServerURL": "https://plot.ly"
       },
       "data": [
        {
         "domain": {
          "x": [
           0,
           0.45
          ],
          "y": [
           0,
           1
          ]
         },
         "labels": [
          "북구",
          "광산구",
          "서구",
          "동구",
          "남구"
         ],
         "showlegend": true,
         "type": "pie",
         "values": [
          1520352.7788,
          581969.2798,
          437490.744,
          286990.2776,
          115294.2
         ]
        },
        {
         "marker": {
          "color": [
           "#636EFA",
           "#EF553B",
           "#00CC96",
           "#AB63FA",
           "#FFA15A"
          ]
         },
         "showlegend": false,
         "type": "bar",
         "x": [
          "북구",
          "광산구",
          "서구",
          "동구",
          "남구"
         ],
         "xaxis": "x",
         "y": [
          1520352.7788,
          581969.2798,
          437490.744,
          286990.2776,
          115294.2
         ],
         "yaxis": "y"
        }
       ],
       "layout": {
        "annotations": [
         {
          "font": {
           "size": 16
          },
          "showarrow": false,
          "text": "구별 총 충전량 비율",
          "x": 0.225,
          "xanchor": "center",
          "xref": "paper",
          "y": 1,
          "yanchor": "bottom",
          "yref": "paper"
         },
         {
          "font": {
           "size": 16
          },
          "showarrow": false,
          "text": "구별 총 충전량",
          "x": 0.775,
          "xanchor": "center",
          "xref": "paper",
          "y": 1,
          "yanchor": "bottom",
          "yref": "paper"
         }
        ],
        "template": {
         "data": {
          "bar": [
           {
            "error_x": {
             "color": "#f2f5fa"
            },
            "error_y": {
             "color": "#f2f5fa"
            },
            "marker": {
             "line": {
              "color": "rgb(17,17,17)",
              "width": 0.5
             },
             "pattern": {
              "fillmode": "overlay",
              "size": 10,
              "solidity": 0.2
             }
            },
            "type": "bar"
           }
          ],
          "barpolar": [
           {
            "marker": {
             "line": {
              "color": "rgb(17,17,17)",
              "width": 0.5
             },
             "pattern": {
              "fillmode": "overlay",
              "size": 10,
              "solidity": 0.2
             }
            },
            "type": "barpolar"
           }
          ],
          "carpet": [
           {
            "aaxis": {
             "endlinecolor": "#A2B1C6",
             "gridcolor": "#506784",
             "linecolor": "#506784",
             "minorgridcolor": "#506784",
             "startlinecolor": "#A2B1C6"
            },
            "baxis": {
             "endlinecolor": "#A2B1C6",
             "gridcolor": "#506784",
             "linecolor": "#506784",
             "minorgridcolor": "#506784",
             "startlinecolor": "#A2B1C6"
            },
            "type": "carpet"
           }
          ],
          "choropleth": [
           {
            "colorbar": {
             "outlinewidth": 0,
             "ticks": ""
            },
            "type": "choropleth"
           }
          ],
          "contour": [
           {
            "colorbar": {
             "outlinewidth": 0,
             "ticks": ""
            },
            "colorscale": [
             [
              0,
              "#0d0887"
             ],
             [
              0.1111111111111111,
              "#46039f"
             ],
             [
              0.2222222222222222,
              "#7201a8"
             ],
             [
              0.3333333333333333,
              "#9c179e"
             ],
             [
              0.4444444444444444,
              "#bd3786"
             ],
             [
              0.5555555555555556,
              "#d8576b"
             ],
             [
              0.6666666666666666,
              "#ed7953"
             ],
             [
              0.7777777777777778,
              "#fb9f3a"
             ],
             [
              0.8888888888888888,
              "#fdca26"
             ],
             [
              1,
              "#f0f921"
             ]
            ],
            "type": "contour"
           }
          ],
          "contourcarpet": [
           {
            "colorbar": {
             "outlinewidth": 0,
             "ticks": ""
            },
            "type": "contourcarpet"
           }
          ],
          "heatmap": [
           {
            "colorbar": {
             "outlinewidth": 0,
             "ticks": ""
            },
            "colorscale": [
             [
              0,
              "#0d0887"
             ],
             [
              0.1111111111111111,
              "#46039f"
             ],
             [
              0.2222222222222222,
              "#7201a8"
             ],
             [
              0.3333333333333333,
              "#9c179e"
             ],
             [
              0.4444444444444444,
              "#bd3786"
             ],
             [
              0.5555555555555556,
              "#d8576b"
             ],
             [
              0.6666666666666666,
              "#ed7953"
             ],
             [
              0.7777777777777778,
              "#fb9f3a"
             ],
             [
              0.8888888888888888,
              "#fdca26"
             ],
             [
              1,
              "#f0f921"
             ]
            ],
            "type": "heatmap"
           }
          ],
          "heatmapgl": [
           {
            "colorbar": {
             "outlinewidth": 0,
             "ticks": ""
            },
            "colorscale": [
             [
              0,
              "#0d0887"
             ],
             [
              0.1111111111111111,
              "#46039f"
             ],
             [
              0.2222222222222222,
              "#7201a8"
             ],
             [
              0.3333333333333333,
              "#9c179e"
             ],
             [
              0.4444444444444444,
              "#bd3786"
             ],
             [
              0.5555555555555556,
              "#d8576b"
             ],
             [
              0.6666666666666666,
              "#ed7953"
             ],
             [
              0.7777777777777778,
              "#fb9f3a"
             ],
             [
              0.8888888888888888,
              "#fdca26"
             ],
             [
              1,
              "#f0f921"
             ]
            ],
            "type": "heatmapgl"
           }
          ],
          "histogram": [
           {
            "marker": {
             "pattern": {
              "fillmode": "overlay",
              "size": 10,
              "solidity": 0.2
             }
            },
            "type": "histogram"
           }
          ],
          "histogram2d": [
           {
            "colorbar": {
             "outlinewidth": 0,
             "ticks": ""
            },
            "colorscale": [
             [
              0,
              "#0d0887"
             ],
             [
              0.1111111111111111,
              "#46039f"
             ],
             [
              0.2222222222222222,
              "#7201a8"
             ],
             [
              0.3333333333333333,
              "#9c179e"
             ],
             [
              0.4444444444444444,
              "#bd3786"
             ],
             [
              0.5555555555555556,
              "#d8576b"
             ],
             [
              0.6666666666666666,
              "#ed7953"
             ],
             [
              0.7777777777777778,
              "#fb9f3a"
             ],
             [
              0.8888888888888888,
              "#fdca26"
             ],
             [
              1,
              "#f0f921"
             ]
            ],
            "type": "histogram2d"
           }
          ],
          "histogram2dcontour": [
           {
            "colorbar": {
             "outlinewidth": 0,
             "ticks": ""
            },
            "colorscale": [
             [
              0,
              "#0d0887"
             ],
             [
              0.1111111111111111,
              "#46039f"
             ],
             [
              0.2222222222222222,
              "#7201a8"
             ],
             [
              0.3333333333333333,
              "#9c179e"
             ],
             [
              0.4444444444444444,
              "#bd3786"
             ],
             [
              0.5555555555555556,
              "#d8576b"
             ],
             [
              0.6666666666666666,
              "#ed7953"
             ],
             [
              0.7777777777777778,
              "#fb9f3a"
             ],
             [
              0.8888888888888888,
              "#fdca26"
             ],
             [
              1,
              "#f0f921"
             ]
            ],
            "type": "histogram2dcontour"
           }
          ],
          "mesh3d": [
           {
            "colorbar": {
             "outlinewidth": 0,
             "ticks": ""
            },
            "type": "mesh3d"
           }
          ],
          "parcoords": [
           {
            "line": {
             "colorbar": {
              "outlinewidth": 0,
              "ticks": ""
             }
            },
            "type": "parcoords"
           }
          ],
          "pie": [
           {
            "automargin": true,
            "type": "pie"
           }
          ],
          "scatter": [
           {
            "marker": {
             "line": {
              "color": "#283442"
             }
            },
            "type": "scatter"
           }
          ],
          "scatter3d": [
           {
            "line": {
             "colorbar": {
              "outlinewidth": 0,
              "ticks": ""
             }
            },
            "marker": {
             "colorbar": {
              "outlinewidth": 0,
              "ticks": ""
             }
            },
            "type": "scatter3d"
           }
          ],
          "scattercarpet": [
           {
            "marker": {
             "colorbar": {
              "outlinewidth": 0,
              "ticks": ""
             }
            },
            "type": "scattercarpet"
           }
          ],
          "scattergeo": [
           {
            "marker": {
             "colorbar": {
              "outlinewidth": 0,
              "ticks": ""
             }
            },
            "type": "scattergeo"
           }
          ],
          "scattergl": [
           {
            "marker": {
             "line": {
              "color": "#283442"
             }
            },
            "type": "scattergl"
           }
          ],
          "scattermapbox": [
           {
            "marker": {
             "colorbar": {
              "outlinewidth": 0,
              "ticks": ""
             }
            },
            "type": "scattermapbox"
           }
          ],
          "scatterpolar": [
           {
            "marker": {
             "colorbar": {
              "outlinewidth": 0,
              "ticks": ""
             }
            },
            "type": "scatterpolar"
           }
          ],
          "scatterpolargl": [
           {
            "marker": {
             "colorbar": {
              "outlinewidth": 0,
              "ticks": ""
             }
            },
            "type": "scatterpolargl"
           }
          ],
          "scatterternary": [
           {
            "marker": {
             "colorbar": {
              "outlinewidth": 0,
              "ticks": ""
             }
            },
            "type": "scatterternary"
           }
          ],
          "surface": [
           {
            "colorbar": {
             "outlinewidth": 0,
             "ticks": ""
            },
            "colorscale": [
             [
              0,
              "#0d0887"
             ],
             [
              0.1111111111111111,
              "#46039f"
             ],
             [
              0.2222222222222222,
              "#7201a8"
             ],
             [
              0.3333333333333333,
              "#9c179e"
             ],
             [
              0.4444444444444444,
              "#bd3786"
             ],
             [
              0.5555555555555556,
              "#d8576b"
             ],
             [
              0.6666666666666666,
              "#ed7953"
             ],
             [
              0.7777777777777778,
              "#fb9f3a"
             ],
             [
              0.8888888888888888,
              "#fdca26"
             ],
             [
              1,
              "#f0f921"
             ]
            ],
            "type": "surface"
           }
          ],
          "table": [
           {
            "cells": {
             "fill": {
              "color": "#506784"
             },
             "line": {
              "color": "rgb(17,17,17)"
             }
            },
            "header": {
             "fill": {
              "color": "#2a3f5f"
             },
             "line": {
              "color": "rgb(17,17,17)"
             }
            },
            "type": "table"
           }
          ]
         },
         "layout": {
          "annotationdefaults": {
           "arrowcolor": "#f2f5fa",
           "arrowhead": 0,
           "arrowwidth": 1
          },
          "autotypenumbers": "strict",
          "coloraxis": {
           "colorbar": {
            "outlinewidth": 0,
            "ticks": ""
           }
          },
          "colorscale": {
           "diverging": [
            [
             0,
             "#8e0152"
            ],
            [
             0.1,
             "#c51b7d"
            ],
            [
             0.2,
             "#de77ae"
            ],
            [
             0.3,
             "#f1b6da"
            ],
            [
             0.4,
             "#fde0ef"
            ],
            [
             0.5,
             "#f7f7f7"
            ],
            [
             0.6,
             "#e6f5d0"
            ],
            [
             0.7,
             "#b8e186"
            ],
            [
             0.8,
             "#7fbc41"
            ],
            [
             0.9,
             "#4d9221"
            ],
            [
             1,
             "#276419"
            ]
           ],
           "sequential": [
            [
             0,
             "#0d0887"
            ],
            [
             0.1111111111111111,
             "#46039f"
            ],
            [
             0.2222222222222222,
             "#7201a8"
            ],
            [
             0.3333333333333333,
             "#9c179e"
            ],
            [
             0.4444444444444444,
             "#bd3786"
            ],
            [
             0.5555555555555556,
             "#d8576b"
            ],
            [
             0.6666666666666666,
             "#ed7953"
            ],
            [
             0.7777777777777778,
             "#fb9f3a"
            ],
            [
             0.8888888888888888,
             "#fdca26"
            ],
            [
             1,
             "#f0f921"
            ]
           ],
           "sequentialminus": [
            [
             0,
             "#0d0887"
            ],
            [
             0.1111111111111111,
             "#46039f"
            ],
            [
             0.2222222222222222,
             "#7201a8"
            ],
            [
             0.3333333333333333,
             "#9c179e"
            ],
            [
             0.4444444444444444,
             "#bd3786"
            ],
            [
             0.5555555555555556,
             "#d8576b"
            ],
            [
             0.6666666666666666,
             "#ed7953"
            ],
            [
             0.7777777777777778,
             "#fb9f3a"
            ],
            [
             0.8888888888888888,
             "#fdca26"
            ],
            [
             1,
             "#f0f921"
            ]
           ]
          },
          "colorway": [
           "#636efa",
           "#EF553B",
           "#00cc96",
           "#ab63fa",
           "#FFA15A",
           "#19d3f3",
           "#FF6692",
           "#B6E880",
           "#FF97FF",
           "#FECB52"
          ],
          "font": {
           "color": "#f2f5fa"
          },
          "geo": {
           "bgcolor": "rgb(17,17,17)",
           "lakecolor": "rgb(17,17,17)",
           "landcolor": "rgb(17,17,17)",
           "showlakes": true,
           "showland": true,
           "subunitcolor": "#506784"
          },
          "hoverlabel": {
           "align": "left"
          },
          "hovermode": "closest",
          "mapbox": {
           "style": "dark"
          },
          "paper_bgcolor": "rgb(17,17,17)",
          "plot_bgcolor": "rgb(17,17,17)",
          "polar": {
           "angularaxis": {
            "gridcolor": "#506784",
            "linecolor": "#506784",
            "ticks": ""
           },
           "bgcolor": "rgb(17,17,17)",
           "radialaxis": {
            "gridcolor": "#506784",
            "linecolor": "#506784",
            "ticks": ""
           }
          },
          "scene": {
           "xaxis": {
            "backgroundcolor": "rgb(17,17,17)",
            "gridcolor": "#506784",
            "gridwidth": 2,
            "linecolor": "#506784",
            "showbackground": true,
            "ticks": "",
            "zerolinecolor": "#C8D4E3"
           },
           "yaxis": {
            "backgroundcolor": "rgb(17,17,17)",
            "gridcolor": "#506784",
            "gridwidth": 2,
            "linecolor": "#506784",
            "showbackground": true,
            "ticks": "",
            "zerolinecolor": "#C8D4E3"
           },
           "zaxis": {
            "backgroundcolor": "rgb(17,17,17)",
            "gridcolor": "#506784",
            "gridwidth": 2,
            "linecolor": "#506784",
            "showbackground": true,
            "ticks": "",
            "zerolinecolor": "#C8D4E3"
           }
          },
          "shapedefaults": {
           "line": {
            "color": "#f2f5fa"
           }
          },
          "sliderdefaults": {
           "bgcolor": "#C8D4E3",
           "bordercolor": "rgb(17,17,17)",
           "borderwidth": 1,
           "tickwidth": 0
          },
          "ternary": {
           "aaxis": {
            "gridcolor": "#506784",
            "linecolor": "#506784",
            "ticks": ""
           },
           "baxis": {
            "gridcolor": "#506784",
            "linecolor": "#506784",
            "ticks": ""
           },
           "bgcolor": "rgb(17,17,17)",
           "caxis": {
            "gridcolor": "#506784",
            "linecolor": "#506784",
            "ticks": ""
           }
          },
          "title": {
           "x": 0.05
          },
          "updatemenudefaults": {
           "bgcolor": "#506784",
           "borderwidth": 0
          },
          "xaxis": {
           "automargin": true,
           "gridcolor": "#283442",
           "linecolor": "#506784",
           "ticks": "",
           "title": {
            "standoff": 15
           },
           "zerolinecolor": "#283442",
           "zerolinewidth": 2
          },
          "yaxis": {
           "automargin": true,
           "gridcolor": "#283442",
           "linecolor": "#506784",
           "ticks": "",
           "title": {
            "standoff": 15
           },
           "zerolinecolor": "#283442",
           "zerolinewidth": 2
          }
         }
        },
        "title": {
         "text": "구별 총 충전량"
        },
        "xaxis": {
         "anchor": "y",
         "domain": [
          0.55,
          1
         ]
        },
        "yaxis": {
         "anchor": "x",
         "domain": [
          0,
          1
         ]
        }
       }
      }
     },
     "metadata": {},
     "output_type": "display_data"
    }
   ],
   "source": [
    "import plotly.graph_objects as go\n",
    "from plotly.subplots import make_subplots\n",
    "import pandas as pd\n",
    "\n",
    "subfig = make_subplots(\n",
    "    rows=1, cols=2,\n",
    "    column_widths=[10, 10],\n",
    "    row_heights=[10],\n",
    "    subplot_titles=(\"구별 총 충전량 비율\", \"구별 총 충전량\"),\n",
    "    specs=[[{\"type\": \"pie\"}, {\"type\": \"bar\"}]])\n",
    "\n",
    "# 'gwangju' 데이터프레임에서 '구'별 '충전량' 합계를 계산합니다.\n",
    "gwangju_gu = gwangju.groupby('구')['충전량'].sum().sort_values(ascending=False)\n",
    "\n",
    "# 'gwangju_gu' 데이터프레임을 subfig에 추가합니다.\n",
    "subfig.add_trace(\n",
    "    go.Pie(labels=gwangju_gu.index, values=gwangju_gu.values, showlegend=True), 1, 1)\n",
    "\n",
    "bar_trace = go.Bar(x=gwangju_gu.index, y=gwangju_gu.values, showlegend=False,\n",
    "                   marker=dict(color=['#636EFA', '#EF553B', '#00CC96', '#AB63FA', '#FFA15A']))\n",
    "subfig.add_trace(bar_trace, 1, 2)\n",
    "\n",
    "subfig.update_layout(template=\"plotly_dark\", title='구별 총 충전량')\n",
    "subfig.show()"
   ]
  },
  {
   "cell_type": "code",
   "execution_count": null,
   "metadata": {},
   "outputs": [],
   "source": [
    "# '충전소명' 열에서 '롯데마트 첨단점 옥상(지상2층)주차장'을 '롯데마트 첨단점'으로 변경합니다.\n",
    "gwangju['충전소명'] = gwangju['충전소명'].replace('롯데마트 첨단점 옥상(지상2층)주차장', '롯데마트 첨단점')"
   ]
  },
  {
   "cell_type": "code",
   "execution_count": null,
   "metadata": {},
   "outputs": [
    {
     "data": {
      "text/html": [
       "<div>\n",
       "<style scoped>\n",
       "    .dataframe tbody tr th:only-of-type {\n",
       "        vertical-align: middle;\n",
       "    }\n",
       "\n",
       "    .dataframe tbody tr th {\n",
       "        vertical-align: top;\n",
       "    }\n",
       "\n",
       "    .dataframe thead th {\n",
       "        text-align: right;\n",
       "    }\n",
       "</style>\n",
       "<table border=\"1\" class=\"dataframe\">\n",
       "  <thead>\n",
       "    <tr style=\"text-align: right;\">\n",
       "      <th></th>\n",
       "      <th>본부</th>\n",
       "      <th>사업소</th>\n",
       "      <th>충전소명</th>\n",
       "      <th>충전기</th>\n",
       "      <th>주소</th>\n",
       "      <th>충전기구분</th>\n",
       "      <th>충전용량</th>\n",
       "      <th>충전량</th>\n",
       "      <th>충전시간</th>\n",
       "      <th>충전분</th>\n",
       "      <th>충전종료일자</th>\n",
       "      <th>충전시작시각</th>\n",
       "      <th>충전종료시각</th>\n",
       "      <th>시</th>\n",
       "      <th>구</th>\n",
       "      <th>도로명주소</th>\n",
       "    </tr>\n",
       "  </thead>\n",
       "  <tbody>\n",
       "    <tr>\n",
       "      <th>42</th>\n",
       "      <td>광주전남</td>\n",
       "      <td>광산</td>\n",
       "      <td>홈플러스 광주하남점</td>\n",
       "      <td>급속01</td>\n",
       "      <td>광주광역시 광산구 용아로 390 (하남동)</td>\n",
       "      <td>급속</td>\n",
       "      <td>50.0</td>\n",
       "      <td>13.48</td>\n",
       "      <td>0</td>\n",
       "      <td>29</td>\n",
       "      <td>2021-01-01</td>\n",
       "      <td>2021-01-01 21:27:55</td>\n",
       "      <td>2021-01-01 21:57:00</td>\n",
       "      <td>광주광역시</td>\n",
       "      <td>광산구</td>\n",
       "      <td>용아로 390 (하남동)</td>\n",
       "    </tr>\n",
       "    <tr>\n",
       "      <th>85</th>\n",
       "      <td>광주전남</td>\n",
       "      <td>광산</td>\n",
       "      <td>홈플러스 광주하남점</td>\n",
       "      <td>급속01</td>\n",
       "      <td>광주광역시 광산구 용아로 390 (하남동)</td>\n",
       "      <td>급속</td>\n",
       "      <td>50.0</td>\n",
       "      <td>19.35</td>\n",
       "      <td>0</td>\n",
       "      <td>54</td>\n",
       "      <td>2021-01-01</td>\n",
       "      <td>2021-01-01 17:48:32</td>\n",
       "      <td>2021-01-01 18:43:27</td>\n",
       "      <td>광주광역시</td>\n",
       "      <td>광산구</td>\n",
       "      <td>용아로 390 (하남동)</td>\n",
       "    </tr>\n",
       "    <tr>\n",
       "      <th>98</th>\n",
       "      <td>광주전남</td>\n",
       "      <td>광주전남직할</td>\n",
       "      <td>홈플러스 동광주점</td>\n",
       "      <td>급속01</td>\n",
       "      <td>광주광역시 북구 동문대로 200 (두암동, 삼성홈플러스)</td>\n",
       "      <td>급속</td>\n",
       "      <td>50.0</td>\n",
       "      <td>15.05</td>\n",
       "      <td>1</td>\n",
       "      <td>30</td>\n",
       "      <td>2021-01-01</td>\n",
       "      <td>2021-01-01 15:07:37</td>\n",
       "      <td>2021-01-01 16:38:20</td>\n",
       "      <td>광주광역시</td>\n",
       "      <td>북구</td>\n",
       "      <td>동문대로 200 (두암동, 삼성홈플러스)</td>\n",
       "    </tr>\n",
       "    <tr>\n",
       "      <th>104</th>\n",
       "      <td>광주전남</td>\n",
       "      <td>광주전남직할</td>\n",
       "      <td>이마트 동광주점</td>\n",
       "      <td>급속01</td>\n",
       "      <td>광주광역시 동구 중앙로 358 (계림동, 금호계림주상복합)</td>\n",
       "      <td>급속</td>\n",
       "      <td>50.0</td>\n",
       "      <td>30.12</td>\n",
       "      <td>0</td>\n",
       "      <td>41</td>\n",
       "      <td>2021-01-01</td>\n",
       "      <td>2021-01-01 14:37:08</td>\n",
       "      <td>2021-01-01 15:18:32</td>\n",
       "      <td>광주광역시</td>\n",
       "      <td>동구</td>\n",
       "      <td>중앙로 358 (계림동, 금호계림주상복합)</td>\n",
       "    </tr>\n",
       "    <tr>\n",
       "      <th>112</th>\n",
       "      <td>광주전남</td>\n",
       "      <td>광주전남직할</td>\n",
       "      <td>이마트 동광주점</td>\n",
       "      <td>급속01</td>\n",
       "      <td>광주광역시 동구 중앙로 358 (계림동, 금호계림주상복합)</td>\n",
       "      <td>급속</td>\n",
       "      <td>50.0</td>\n",
       "      <td>16.74</td>\n",
       "      <td>0</td>\n",
       "      <td>45</td>\n",
       "      <td>2021-01-01</td>\n",
       "      <td>2021-01-01 16:49:51</td>\n",
       "      <td>2021-01-01 17:35:32</td>\n",
       "      <td>광주광역시</td>\n",
       "      <td>동구</td>\n",
       "      <td>중앙로 358 (계림동, 금호계림주상복합)</td>\n",
       "    </tr>\n",
       "    <tr>\n",
       "      <th>...</th>\n",
       "      <td>...</td>\n",
       "      <td>...</td>\n",
       "      <td>...</td>\n",
       "      <td>...</td>\n",
       "      <td>...</td>\n",
       "      <td>...</td>\n",
       "      <td>...</td>\n",
       "      <td>...</td>\n",
       "      <td>...</td>\n",
       "      <td>...</td>\n",
       "      <td>...</td>\n",
       "      <td>...</td>\n",
       "      <td>...</td>\n",
       "      <td>...</td>\n",
       "      <td>...</td>\n",
       "      <td>...</td>\n",
       "    </tr>\n",
       "    <tr>\n",
       "      <th>78560</th>\n",
       "      <td>광주전남</td>\n",
       "      <td>광산</td>\n",
       "      <td>홈플러스 광주하남점</td>\n",
       "      <td>급속01</td>\n",
       "      <td>광주광역시 광산구 용아로 390 (하남동)</td>\n",
       "      <td>급속</td>\n",
       "      <td>50.0</td>\n",
       "      <td>51.21</td>\n",
       "      <td>1</td>\n",
       "      <td>12</td>\n",
       "      <td>2021-10-17</td>\n",
       "      <td>2021-10-17 21:22:28</td>\n",
       "      <td>2021-10-17 22:34:42</td>\n",
       "      <td>광주광역시</td>\n",
       "      <td>광산구</td>\n",
       "      <td>용아로 390 (하남동)</td>\n",
       "    </tr>\n",
       "    <tr>\n",
       "      <th>78561</th>\n",
       "      <td>광주전남</td>\n",
       "      <td>광산</td>\n",
       "      <td>홈플러스 광주하남점</td>\n",
       "      <td>급속01</td>\n",
       "      <td>광주광역시 광산구 용아로 390 (하남동)</td>\n",
       "      <td>급속</td>\n",
       "      <td>50.0</td>\n",
       "      <td>3.41</td>\n",
       "      <td>0</td>\n",
       "      <td>4</td>\n",
       "      <td>2021-10-17</td>\n",
       "      <td>2021-10-17 12:37:57</td>\n",
       "      <td>2021-10-17 12:42:34</td>\n",
       "      <td>광주광역시</td>\n",
       "      <td>광산구</td>\n",
       "      <td>용아로 390 (하남동)</td>\n",
       "    </tr>\n",
       "    <tr>\n",
       "      <th>78562</th>\n",
       "      <td>광주전남</td>\n",
       "      <td>광산</td>\n",
       "      <td>홈플러스 광주하남점</td>\n",
       "      <td>급속01</td>\n",
       "      <td>광주광역시 광산구 용아로 390 (하남동)</td>\n",
       "      <td>급속</td>\n",
       "      <td>50.0</td>\n",
       "      <td>17.07</td>\n",
       "      <td>0</td>\n",
       "      <td>22</td>\n",
       "      <td>2021-10-17</td>\n",
       "      <td>2021-10-17 12:46:09</td>\n",
       "      <td>2021-10-17 13:08:42</td>\n",
       "      <td>광주광역시</td>\n",
       "      <td>광산구</td>\n",
       "      <td>용아로 390 (하남동)</td>\n",
       "    </tr>\n",
       "    <tr>\n",
       "      <th>78601</th>\n",
       "      <td>광주전남</td>\n",
       "      <td>광산</td>\n",
       "      <td>홈플러스 광주하남점</td>\n",
       "      <td>급속01</td>\n",
       "      <td>광주광역시 광산구 용아로 390 (하남동)</td>\n",
       "      <td>급속</td>\n",
       "      <td>50.0</td>\n",
       "      <td>14.01</td>\n",
       "      <td>0</td>\n",
       "      <td>22</td>\n",
       "      <td>2021-10-17</td>\n",
       "      <td>2021-10-17 18:23:22</td>\n",
       "      <td>2021-10-17 18:46:13</td>\n",
       "      <td>광주광역시</td>\n",
       "      <td>광산구</td>\n",
       "      <td>용아로 390 (하남동)</td>\n",
       "    </tr>\n",
       "    <tr>\n",
       "      <th>78646</th>\n",
       "      <td>광주전남</td>\n",
       "      <td>광산</td>\n",
       "      <td>홈플러스 광주하남점</td>\n",
       "      <td>급속01</td>\n",
       "      <td>광주광역시 광산구 용아로 390 (하남동)</td>\n",
       "      <td>급속</td>\n",
       "      <td>50.0</td>\n",
       "      <td>17.07</td>\n",
       "      <td>0</td>\n",
       "      <td>22</td>\n",
       "      <td>2021-10-17</td>\n",
       "      <td>2021-10-17 13:13:31</td>\n",
       "      <td>2021-10-17 13:36:04</td>\n",
       "      <td>광주광역시</td>\n",
       "      <td>광산구</td>\n",
       "      <td>용아로 390 (하남동)</td>\n",
       "    </tr>\n",
       "  </tbody>\n",
       "</table>\n",
       "<p>2016 rows × 16 columns</p>\n",
       "</div>"
      ],
      "text/plain": [
       "         본부     사업소        충전소명   충전기                                주소 충전기구분  \\\n",
       "42     광주전남      광산  홈플러스 광주하남점  급속01           광주광역시 광산구 용아로 390 (하남동)    급속   \n",
       "85     광주전남      광산  홈플러스 광주하남점  급속01           광주광역시 광산구 용아로 390 (하남동)    급속   \n",
       "98     광주전남  광주전남직할   홈플러스 동광주점  급속01   광주광역시 북구 동문대로 200 (두암동, 삼성홈플러스)    급속   \n",
       "104    광주전남  광주전남직할    이마트 동광주점  급속01  광주광역시 동구 중앙로 358 (계림동, 금호계림주상복합)    급속   \n",
       "112    광주전남  광주전남직할    이마트 동광주점  급속01  광주광역시 동구 중앙로 358 (계림동, 금호계림주상복합)    급속   \n",
       "...     ...     ...         ...   ...                               ...   ...   \n",
       "78560  광주전남      광산  홈플러스 광주하남점  급속01           광주광역시 광산구 용아로 390 (하남동)    급속   \n",
       "78561  광주전남      광산  홈플러스 광주하남점  급속01           광주광역시 광산구 용아로 390 (하남동)    급속   \n",
       "78562  광주전남      광산  홈플러스 광주하남점  급속01           광주광역시 광산구 용아로 390 (하남동)    급속   \n",
       "78601  광주전남      광산  홈플러스 광주하남점  급속01           광주광역시 광산구 용아로 390 (하남동)    급속   \n",
       "78646  광주전남      광산  홈플러스 광주하남점  급속01           광주광역시 광산구 용아로 390 (하남동)    급속   \n",
       "\n",
       "       충전용량    충전량  충전시간  충전분     충전종료일자              충전시작시각  \\\n",
       "42     50.0  13.48     0   29 2021-01-01 2021-01-01 21:27:55   \n",
       "85     50.0  19.35     0   54 2021-01-01 2021-01-01 17:48:32   \n",
       "98     50.0  15.05     1   30 2021-01-01 2021-01-01 15:07:37   \n",
       "104    50.0  30.12     0   41 2021-01-01 2021-01-01 14:37:08   \n",
       "112    50.0  16.74     0   45 2021-01-01 2021-01-01 16:49:51   \n",
       "...     ...    ...   ...  ...        ...                 ...   \n",
       "78560  50.0  51.21     1   12 2021-10-17 2021-10-17 21:22:28   \n",
       "78561  50.0   3.41     0    4 2021-10-17 2021-10-17 12:37:57   \n",
       "78562  50.0  17.07     0   22 2021-10-17 2021-10-17 12:46:09   \n",
       "78601  50.0  14.01     0   22 2021-10-17 2021-10-17 18:23:22   \n",
       "78646  50.0  17.07     0   22 2021-10-17 2021-10-17 13:13:31   \n",
       "\n",
       "                    충전종료시각      시    구                    도로명주소  \n",
       "42     2021-01-01 21:57:00  광주광역시  광산구            용아로 390 (하남동)  \n",
       "85     2021-01-01 18:43:27  광주광역시  광산구            용아로 390 (하남동)  \n",
       "98     2021-01-01 16:38:20  광주광역시   북구   동문대로 200 (두암동, 삼성홈플러스)  \n",
       "104    2021-01-01 15:18:32  광주광역시   동구  중앙로 358 (계림동, 금호계림주상복합)  \n",
       "112    2021-01-01 17:35:32  광주광역시   동구  중앙로 358 (계림동, 금호계림주상복합)  \n",
       "...                    ...    ...  ...                      ...  \n",
       "78560  2021-10-17 22:34:42  광주광역시  광산구            용아로 390 (하남동)  \n",
       "78561  2021-10-17 12:42:34  광주광역시  광산구            용아로 390 (하남동)  \n",
       "78562  2021-10-17 13:08:42  광주광역시  광산구            용아로 390 (하남동)  \n",
       "78601  2021-10-17 18:46:13  광주광역시  광산구            용아로 390 (하남동)  \n",
       "78646  2021-10-17 13:36:04  광주광역시  광산구            용아로 390 (하남동)  \n",
       "\n",
       "[2016 rows x 16 columns]"
      ]
     },
     "execution_count": 19,
     "metadata": {},
     "output_type": "execute_result"
    }
   ],
   "source": [
    "mart = gwangju[gwangju['충전소명'].str.contains('마트|홈플러스|신세계')]\n",
    "mart"
   ]
  },
  {
   "cell_type": "code",
   "execution_count": null,
   "metadata": {},
   "outputs": [
    {
     "data": {
      "text/plain": [
       "홈플러스 동광주점     571\n",
       "홈플러스 광주계림점    563\n",
       "홈플러스 광주하남점    543\n",
       "이마트 동광주점      205\n",
       "롯데마트 상무점       47\n",
       "롯데마트 첨단점       27\n",
       "롯데마트 월드컵점      26\n",
       "이마트 광산점        21\n",
       "롯데마트 수완점       13\n",
       "Name: 충전소명, dtype: int64"
      ]
     },
     "execution_count": 20,
     "metadata": {},
     "output_type": "execute_result"
    }
   ],
   "source": [
    "mart['충전소명'].value_counts()"
   ]
  },
  {
   "cell_type": "code",
   "execution_count": null,
   "metadata": {},
   "outputs": [
    {
     "data": {
      "text/plain": [
       "충전시작시각               충전소명      \n",
       "2021-01-01 10:53:26  홈플러스 광주하남점    13.36\n",
       "2021-01-01 11:28:04  이마트 동광주점      15.46\n",
       "2021-01-01 11:57:36  홈플러스 광주하남점    21.79\n",
       "2021-01-01 12:11:47  이마트 동광주점       4.41\n",
       "2021-01-01 14:37:08  이마트 동광주점      30.12\n",
       "                                   ...  \n",
       "2021-10-17 13:53:52  홈플러스 광주하남점     5.86\n",
       "2021-10-17 18:23:22  홈플러스 광주하남점    14.01\n",
       "2021-10-17 19:31:02  홈플러스 동광주점     18.28\n",
       "2021-10-17 20:15:55  홈플러스 동광주점     35.70\n",
       "2021-10-17 21:22:28  홈플러스 광주하남점    51.21\n",
       "Name: 충전량, Length: 2016, dtype: float64"
      ]
     },
     "execution_count": 21,
     "metadata": {},
     "output_type": "execute_result"
    }
   ],
   "source": [
    "mart_time_charge = mart.groupby([mart['충전시작시각'], mart['충전소명']])['충전량'].sum()\n",
    "mart_time_charge"
   ]
  },
  {
   "cell_type": "code",
   "execution_count": null,
   "metadata": {},
   "outputs": [
    {
     "data": {
      "text/html": [
       "<div>\n",
       "<style scoped>\n",
       "    .dataframe tbody tr th:only-of-type {\n",
       "        vertical-align: middle;\n",
       "    }\n",
       "\n",
       "    .dataframe tbody tr th {\n",
       "        vertical-align: top;\n",
       "    }\n",
       "\n",
       "    .dataframe thead th {\n",
       "        text-align: right;\n",
       "    }\n",
       "</style>\n",
       "<table border=\"1\" class=\"dataframe\">\n",
       "  <thead>\n",
       "    <tr style=\"text-align: right;\">\n",
       "      <th></th>\n",
       "      <th>충전시간</th>\n",
       "      <th>충전소명</th>\n",
       "      <th>충전량</th>\n",
       "    </tr>\n",
       "  </thead>\n",
       "  <tbody>\n",
       "    <tr>\n",
       "      <th>0</th>\n",
       "      <td>2021-01-01 10:53:26</td>\n",
       "      <td>홈플러스 광주하남점</td>\n",
       "      <td>13.36</td>\n",
       "    </tr>\n",
       "    <tr>\n",
       "      <th>1</th>\n",
       "      <td>2021-01-01 11:28:04</td>\n",
       "      <td>이마트 동광주점</td>\n",
       "      <td>15.46</td>\n",
       "    </tr>\n",
       "    <tr>\n",
       "      <th>2</th>\n",
       "      <td>2021-01-01 11:57:36</td>\n",
       "      <td>홈플러스 광주하남점</td>\n",
       "      <td>21.79</td>\n",
       "    </tr>\n",
       "    <tr>\n",
       "      <th>3</th>\n",
       "      <td>2021-01-01 12:11:47</td>\n",
       "      <td>이마트 동광주점</td>\n",
       "      <td>4.41</td>\n",
       "    </tr>\n",
       "    <tr>\n",
       "      <th>4</th>\n",
       "      <td>2021-01-01 14:37:08</td>\n",
       "      <td>이마트 동광주점</td>\n",
       "      <td>30.12</td>\n",
       "    </tr>\n",
       "    <tr>\n",
       "      <th>...</th>\n",
       "      <td>...</td>\n",
       "      <td>...</td>\n",
       "      <td>...</td>\n",
       "    </tr>\n",
       "    <tr>\n",
       "      <th>2011</th>\n",
       "      <td>2021-10-17 13:53:52</td>\n",
       "      <td>홈플러스 광주하남점</td>\n",
       "      <td>5.86</td>\n",
       "    </tr>\n",
       "    <tr>\n",
       "      <th>2012</th>\n",
       "      <td>2021-10-17 18:23:22</td>\n",
       "      <td>홈플러스 광주하남점</td>\n",
       "      <td>14.01</td>\n",
       "    </tr>\n",
       "    <tr>\n",
       "      <th>2013</th>\n",
       "      <td>2021-10-17 19:31:02</td>\n",
       "      <td>홈플러스 동광주점</td>\n",
       "      <td>18.28</td>\n",
       "    </tr>\n",
       "    <tr>\n",
       "      <th>2014</th>\n",
       "      <td>2021-10-17 20:15:55</td>\n",
       "      <td>홈플러스 동광주점</td>\n",
       "      <td>35.70</td>\n",
       "    </tr>\n",
       "    <tr>\n",
       "      <th>2015</th>\n",
       "      <td>2021-10-17 21:22:28</td>\n",
       "      <td>홈플러스 광주하남점</td>\n",
       "      <td>51.21</td>\n",
       "    </tr>\n",
       "  </tbody>\n",
       "</table>\n",
       "<p>2016 rows × 3 columns</p>\n",
       "</div>"
      ],
      "text/plain": [
       "                    충전시간        충전소명    충전량\n",
       "0    2021-01-01 10:53:26  홈플러스 광주하남점  13.36\n",
       "1    2021-01-01 11:28:04    이마트 동광주점  15.46\n",
       "2    2021-01-01 11:57:36  홈플러스 광주하남점  21.79\n",
       "3    2021-01-01 12:11:47    이마트 동광주점   4.41\n",
       "4    2021-01-01 14:37:08    이마트 동광주점  30.12\n",
       "...                  ...         ...    ...\n",
       "2011 2021-10-17 13:53:52  홈플러스 광주하남점   5.86\n",
       "2012 2021-10-17 18:23:22  홈플러스 광주하남점  14.01\n",
       "2013 2021-10-17 19:31:02   홈플러스 동광주점  18.28\n",
       "2014 2021-10-17 20:15:55   홈플러스 동광주점  35.70\n",
       "2015 2021-10-17 21:22:28  홈플러스 광주하남점  51.21\n",
       "\n",
       "[2016 rows x 3 columns]"
      ]
     },
     "execution_count": 22,
     "metadata": {},
     "output_type": "execute_result"
    }
   ],
   "source": [
    "# 충전시간별 충전소명 충전량\n",
    "mart_time_charge_df = pd.DataFrame({'충전시간': [i[0] for i in mart_time_charge.index],\n",
    "                                       '충전소명': [i[1] for i in mart_time_charge.index],\n",
    "                                       '충전량': mart_time_charge.values})\n",
    "mart_time_charge_df"
   ]
  },
  {
   "cell_type": "code",
   "execution_count": null,
   "metadata": {},
   "outputs": [],
   "source": [
    "# 마트별 시간대별 충전량\n",
    "mart_time_charge_df['hour'] = mart_time_charge_df['충전시간'].dt.hour\n",
    "mart_hourly_charge = mart_time_charge_df.groupby(['충전소명', 'hour'])['충전량'].sum().reset_index()"
   ]
  },
  {
   "cell_type": "code",
   "execution_count": null,
   "metadata": {},
   "outputs": [
    {
     "data": {
      "image/png": "[encoded data removed]",
      "text/plain": [
       "<Figure size 1200x600 with 1 Axes>"
      ]
     },
     "metadata": {},
     "output_type": "display_data"
    }
   ],
   "source": [
    "mart_hourly_pivot = mart_hourly_charge.pivot_table(values='충전량', index='hour', columns='충전소명', aggfunc='sum')\n",
    "mart_hourly_pivot.plot(kind='bar', figsize=(12,6))\n",
    "plt.xlabel('시간대')\n",
    "plt.ylabel('충전량')\n",
    "plt.title('마트별 시간대별 충전량')\n",
    "plt.show()"
   ]
  },
  {
   "cell_type": "code",
   "execution_count": null,
   "metadata": {},
   "outputs": [
    {
     "data": {
      "text/html": [
       "<div>\n",
       "<style scoped>\n",
       "    .dataframe tbody tr th:only-of-type {\n",
       "        vertical-align: middle;\n",
       "    }\n",
       "\n",
       "    .dataframe tbody tr th {\n",
       "        vertical-align: top;\n",
       "    }\n",
       "\n",
       "    .dataframe thead th {\n",
       "        text-align: right;\n",
       "    }\n",
       "</style>\n",
       "<table border=\"1\" class=\"dataframe\">\n",
       "  <thead>\n",
       "    <tr style=\"text-align: right;\">\n",
       "      <th></th>\n",
       "      <th>충전소명</th>\n",
       "      <th>hour</th>\n",
       "      <th>충전량</th>\n",
       "    </tr>\n",
       "  </thead>\n",
       "  <tbody>\n",
       "    <tr>\n",
       "      <th>0</th>\n",
       "      <td>롯데마트 상무점</td>\n",
       "      <td>8</td>\n",
       "      <td>37.63</td>\n",
       "    </tr>\n",
       "    <tr>\n",
       "      <th>1</th>\n",
       "      <td>롯데마트 상무점</td>\n",
       "      <td>9</td>\n",
       "      <td>32.41</td>\n",
       "    </tr>\n",
       "    <tr>\n",
       "      <th>2</th>\n",
       "      <td>롯데마트 상무점</td>\n",
       "      <td>10</td>\n",
       "      <td>7.72</td>\n",
       "    </tr>\n",
       "    <tr>\n",
       "      <th>3</th>\n",
       "      <td>롯데마트 상무점</td>\n",
       "      <td>11</td>\n",
       "      <td>96.81</td>\n",
       "    </tr>\n",
       "    <tr>\n",
       "      <th>4</th>\n",
       "      <td>롯데마트 상무점</td>\n",
       "      <td>12</td>\n",
       "      <td>52.88</td>\n",
       "    </tr>\n",
       "    <tr>\n",
       "      <th>...</th>\n",
       "      <td>...</td>\n",
       "      <td>...</td>\n",
       "      <td>...</td>\n",
       "    </tr>\n",
       "    <tr>\n",
       "      <th>109</th>\n",
       "      <td>홈플러스 동광주점</td>\n",
       "      <td>18</td>\n",
       "      <td>1270.71</td>\n",
       "    </tr>\n",
       "    <tr>\n",
       "      <th>110</th>\n",
       "      <td>홈플러스 동광주점</td>\n",
       "      <td>19</td>\n",
       "      <td>2197.85</td>\n",
       "    </tr>\n",
       "    <tr>\n",
       "      <th>111</th>\n",
       "      <td>홈플러스 동광주점</td>\n",
       "      <td>20</td>\n",
       "      <td>985.32</td>\n",
       "    </tr>\n",
       "    <tr>\n",
       "      <th>112</th>\n",
       "      <td>홈플러스 동광주점</td>\n",
       "      <td>21</td>\n",
       "      <td>818.92</td>\n",
       "    </tr>\n",
       "    <tr>\n",
       "      <th>113</th>\n",
       "      <td>홈플러스 동광주점</td>\n",
       "      <td>22</td>\n",
       "      <td>295.30</td>\n",
       "    </tr>\n",
       "  </tbody>\n",
       "</table>\n",
       "<p>114 rows × 3 columns</p>\n",
       "</div>"
      ],
      "text/plain": [
       "          충전소명  hour      충전량\n",
       "0     롯데마트 상무점     8    37.63\n",
       "1     롯데마트 상무점     9    32.41\n",
       "2     롯데마트 상무점    10     7.72\n",
       "3     롯데마트 상무점    11    96.81\n",
       "4     롯데마트 상무점    12    52.88\n",
       "..         ...   ...      ...\n",
       "109  홈플러스 동광주점    18  1270.71\n",
       "110  홈플러스 동광주점    19  2197.85\n",
       "111  홈플러스 동광주점    20   985.32\n",
       "112  홈플러스 동광주점    21   818.92\n",
       "113  홈플러스 동광주점    22   295.30\n",
       "\n",
       "[114 rows x 3 columns]"
      ]
     },
     "execution_count": 25,
     "metadata": {},
     "output_type": "execute_result"
    }
   ],
   "source": [
    "mart_hourly_charge"
   ]
  },
  {
   "cell_type": "code",
   "execution_count": null,
   "metadata": {},
   "outputs": [
    {
     "data": {
      "text/html": [
       "<div>\n",
       "<style scoped>\n",
       "    .dataframe tbody tr th:only-of-type {\n",
       "        vertical-align: middle;\n",
       "    }\n",
       "\n",
       "    .dataframe tbody tr th {\n",
       "        vertical-align: top;\n",
       "    }\n",
       "\n",
       "    .dataframe thead th {\n",
       "        text-align: right;\n",
       "    }\n",
       "</style>\n",
       "<table border=\"1\" class=\"dataframe\">\n",
       "  <thead>\n",
       "    <tr style=\"text-align: right;\">\n",
       "      <th></th>\n",
       "      <th>충전날짜</th>\n",
       "      <th>충전소명</th>\n",
       "      <th>충전량</th>\n",
       "    </tr>\n",
       "  </thead>\n",
       "  <tbody>\n",
       "    <tr>\n",
       "      <th>0</th>\n",
       "      <td>2021-01-01</td>\n",
       "      <td>이마트 동광주점</td>\n",
       "      <td>77.54</td>\n",
       "    </tr>\n",
       "    <tr>\n",
       "      <th>1</th>\n",
       "      <td>2021-01-01</td>\n",
       "      <td>홈플러스 광주하남점</td>\n",
       "      <td>67.98</td>\n",
       "    </tr>\n",
       "    <tr>\n",
       "      <th>2</th>\n",
       "      <td>2021-01-01</td>\n",
       "      <td>홈플러스 동광주점</td>\n",
       "      <td>15.05</td>\n",
       "    </tr>\n",
       "    <tr>\n",
       "      <th>3</th>\n",
       "      <td>2021-01-02</td>\n",
       "      <td>이마트 동광주점</td>\n",
       "      <td>136.47</td>\n",
       "    </tr>\n",
       "    <tr>\n",
       "      <th>4</th>\n",
       "      <td>2021-01-02</td>\n",
       "      <td>홈플러스 광주하남점</td>\n",
       "      <td>38.60</td>\n",
       "    </tr>\n",
       "    <tr>\n",
       "      <th>...</th>\n",
       "      <td>...</td>\n",
       "      <td>...</td>\n",
       "      <td>...</td>\n",
       "    </tr>\n",
       "    <tr>\n",
       "      <th>832</th>\n",
       "      <td>2021-10-16</td>\n",
       "      <td>홈플러스 광주계림점</td>\n",
       "      <td>31.54</td>\n",
       "    </tr>\n",
       "    <tr>\n",
       "      <th>833</th>\n",
       "      <td>2021-10-16</td>\n",
       "      <td>홈플러스 광주하남점</td>\n",
       "      <td>41.37</td>\n",
       "    </tr>\n",
       "    <tr>\n",
       "      <th>834</th>\n",
       "      <td>2021-10-16</td>\n",
       "      <td>홈플러스 동광주점</td>\n",
       "      <td>122.66</td>\n",
       "    </tr>\n",
       "    <tr>\n",
       "      <th>835</th>\n",
       "      <td>2021-10-17</td>\n",
       "      <td>홈플러스 광주하남점</td>\n",
       "      <td>108.63</td>\n",
       "    </tr>\n",
       "    <tr>\n",
       "      <th>836</th>\n",
       "      <td>2021-10-17</td>\n",
       "      <td>홈플러스 동광주점</td>\n",
       "      <td>53.98</td>\n",
       "    </tr>\n",
       "  </tbody>\n",
       "</table>\n",
       "<p>837 rows × 3 columns</p>\n",
       "</div>"
      ],
      "text/plain": [
       "          충전날짜        충전소명     충전량\n",
       "0   2021-01-01    이마트 동광주점   77.54\n",
       "1   2021-01-01  홈플러스 광주하남점   67.98\n",
       "2   2021-01-01   홈플러스 동광주점   15.05\n",
       "3   2021-01-02    이마트 동광주점  136.47\n",
       "4   2021-01-02  홈플러스 광주하남점   38.60\n",
       "..         ...         ...     ...\n",
       "832 2021-10-16  홈플러스 광주계림점   31.54\n",
       "833 2021-10-16  홈플러스 광주하남점   41.37\n",
       "834 2021-10-16   홈플러스 동광주점  122.66\n",
       "835 2021-10-17  홈플러스 광주하남점  108.63\n",
       "836 2021-10-17   홈플러스 동광주점   53.98\n",
       "\n",
       "[837 rows x 3 columns]"
      ]
     },
     "execution_count": 26,
     "metadata": {},
     "output_type": "execute_result"
    }
   ],
   "source": [
    "# 마트별월충전량\n",
    "mart_month_charge = mart.groupby([mart['충전종료일자'], mart['충전소명']])['충전량'].sum()\n",
    "# 충전시간별 충전소명 충전량\n",
    "mart_month_charge_df = pd.DataFrame({'충전날짜': [i[0] for i in mart_month_charge.index],\n",
    "                                       '충전소명': [i[1] for i in mart_month_charge.index],\n",
    "                                       '충전량': mart_month_charge.values})\n",
    "mart_month_charge_df"
   ]
  },
  {
   "cell_type": "code",
   "execution_count": null,
   "metadata": {},
   "outputs": [
    {
     "data": {
      "image/png": "[encoded data removed]",
      "text/plain": [
       "<Figure size 1200x800 with 1 Axes>"
      ]
     },
     "metadata": {},
     "output_type": "display_data"
    }
   ],
   "source": [
    "# 마트별 월충전량\n",
    "mart_month_charge_df['월'] = pd.to_datetime(mart_month_charge_df['충전날짜']).dt.month\n",
    "mart_monthly_charge = mart_month_charge_df.groupby(['충전소명', '월'])['충전량'].sum().reset_index()\n",
    "\n",
    "# 시각화\n",
    "plt.figure(figsize=(12, 8))\n",
    "sns.barplot(data=mart_monthly_charge, x='월', y='충전량', hue='충전소명')\n",
    "plt.show()"
   ]
  },
  {
   "cell_type": "code",
   "execution_count": null,
   "metadata": {},
   "outputs": [],
   "source": [
    "# mart_month_charge_df.to_csv('2021년1월부터10월까지 마트별충전량.csv', encoding='cp949')"
   ]
  },
  {
   "cell_type": "code",
   "execution_count": null,
   "metadata": {},
   "outputs": [
    {
     "data": {
      "image/png": "[encoded data removed]",
      "text/plain": [
       "<Figure size 1200x800 with 1 Axes>"
      ]
     },
     "metadata": {},
     "output_type": "display_data"
    }
   ],
   "source": [
    "# 마트별 월충전량\n",
    "mart_month_charge_df['월'] = pd.to_datetime(mart_month_charge_df['충전날짜']).dt.month\n",
    "mart_monthly_charge = mart_month_charge_df.groupby(['충전소명', '월'])['충전량'].sum().reset_index()\n",
    "\n",
    "# 시각화\n",
    "plt.figure(figsize=(12, 8))\n",
    "sns.barplot(data=mart_monthly_charge, x='월', y='충전량', hue='충전소명')\n",
    "\n",
    "# xticks 설정\n",
    "plt.xticks(range(1, 11))  # 1월부터 10월까지 눈금 표시\n",
    "\n",
    "plt.show()"
   ]
  },
  {
   "cell_type": "code",
   "execution_count": null,
   "metadata": {},
   "outputs": [
    {
     "data": {
      "text/html": [
       "<div>\n",
       "<style scoped>\n",
       "    .dataframe tbody tr th:only-of-type {\n",
       "        vertical-align: middle;\n",
       "    }\n",
       "\n",
       "    .dataframe tbody tr th {\n",
       "        vertical-align: top;\n",
       "    }\n",
       "\n",
       "    .dataframe thead th {\n",
       "        text-align: right;\n",
       "    }\n",
       "</style>\n",
       "<table border=\"1\" class=\"dataframe\">\n",
       "  <thead>\n",
       "    <tr style=\"text-align: right;\">\n",
       "      <th>구</th>\n",
       "      <th>광산구</th>\n",
       "      <th>남구</th>\n",
       "      <th>동구</th>\n",
       "      <th>북구</th>\n",
       "      <th>서구</th>\n",
       "    </tr>\n",
       "    <tr>\n",
       "      <th>월</th>\n",
       "      <th></th>\n",
       "      <th></th>\n",
       "      <th></th>\n",
       "      <th></th>\n",
       "      <th></th>\n",
       "    </tr>\n",
       "  </thead>\n",
       "  <tbody>\n",
       "    <tr>\n",
       "      <th>1</th>\n",
       "      <td>78534.2958</td>\n",
       "      <td>13575.39</td>\n",
       "      <td>42836.7533</td>\n",
       "      <td>209974.4091</td>\n",
       "      <td>56789.580</td>\n",
       "    </tr>\n",
       "    <tr>\n",
       "      <th>2</th>\n",
       "      <td>57345.3260</td>\n",
       "      <td>13108.25</td>\n",
       "      <td>37168.4240</td>\n",
       "      <td>177832.5147</td>\n",
       "      <td>50526.030</td>\n",
       "    </tr>\n",
       "    <tr>\n",
       "      <th>3</th>\n",
       "      <td>61967.6272</td>\n",
       "      <td>15268.89</td>\n",
       "      <td>35947.3321</td>\n",
       "      <td>186133.9058</td>\n",
       "      <td>54902.292</td>\n",
       "    </tr>\n",
       "    <tr>\n",
       "      <th>4</th>\n",
       "      <td>61060.8065</td>\n",
       "      <td>13780.05</td>\n",
       "      <td>30558.7924</td>\n",
       "      <td>169055.4662</td>\n",
       "      <td>49813.840</td>\n",
       "    </tr>\n",
       "    <tr>\n",
       "      <th>5</th>\n",
       "      <td>29575.8884</td>\n",
       "      <td>5260.19</td>\n",
       "      <td>15064.4584</td>\n",
       "      <td>81796.5595</td>\n",
       "      <td>24457.560</td>\n",
       "    </tr>\n",
       "    <tr>\n",
       "      <th>7</th>\n",
       "      <td>82311.5086</td>\n",
       "      <td>18543.58</td>\n",
       "      <td>37721.7499</td>\n",
       "      <td>212763.2883</td>\n",
       "      <td>58839.817</td>\n",
       "    </tr>\n",
       "    <tr>\n",
       "      <th>8</th>\n",
       "      <td>83149.7335</td>\n",
       "      <td>15974.56</td>\n",
       "      <td>35708.2000</td>\n",
       "      <td>198688.1689</td>\n",
       "      <td>57510.343</td>\n",
       "    </tr>\n",
       "    <tr>\n",
       "      <th>9</th>\n",
       "      <td>80935.2428</td>\n",
       "      <td>12257.41</td>\n",
       "      <td>32595.4375</td>\n",
       "      <td>182617.3693</td>\n",
       "      <td>53021.389</td>\n",
       "    </tr>\n",
       "    <tr>\n",
       "      <th>10</th>\n",
       "      <td>47088.8510</td>\n",
       "      <td>7525.88</td>\n",
       "      <td>19389.1300</td>\n",
       "      <td>101491.0970</td>\n",
       "      <td>31629.893</td>\n",
       "    </tr>\n",
       "  </tbody>\n",
       "</table>\n",
       "</div>"
      ],
      "text/plain": [
       "구          광산구        남구          동구           북구         서구\n",
       "월                                                           \n",
       "1   78534.2958  13575.39  42836.7533  209974.4091  56789.580\n",
       "2   57345.3260  13108.25  37168.4240  177832.5147  50526.030\n",
       "3   61967.6272  15268.89  35947.3321  186133.9058  54902.292\n",
       "4   61060.8065  13780.05  30558.7924  169055.4662  49813.840\n",
       "5   29575.8884   5260.19  15064.4584   81796.5595  24457.560\n",
       "7   82311.5086  18543.58  37721.7499  212763.2883  58839.817\n",
       "8   83149.7335  15974.56  35708.2000  198688.1689  57510.343\n",
       "9   80935.2428  12257.41  32595.4375  182617.3693  53021.389\n",
       "10  47088.8510   7525.88  19389.1300  101491.0970  31629.893"
      ]
     },
     "execution_count": 39,
     "metadata": {},
     "output_type": "execute_result"
    }
   ],
   "source": [
    "monthly_charge"
   ]
  },
  {
   "cell_type": "code",
   "execution_count": null,
   "metadata": {},
   "outputs": [],
   "source": []
  }
 ],
 "metadata": {
  "kernelspec": {
   "display_name": "base",
   "language": "python",
   "name": "python3"
  },
  "language_info": {
   "codemirror_mode": {
    "name": "ipython",
    "version": 3
   },
   "file_extension": ".py",
   "mimetype": "text/x-python",
   "name": "python",
   "nbconvert_exporter": "python",
   "pygments_lexer": "ipython3",
   "version": "3.9.13"
  },
  "orig_nbformat": 4
 },
 "nbformat": 4,
 "nbformat_minor": 2
}
